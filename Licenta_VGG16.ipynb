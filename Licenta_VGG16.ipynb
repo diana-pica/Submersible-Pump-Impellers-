{
  "cells": [
    {
      "cell_type": "markdown",
      "metadata": {
        "id": "view-in-github",
        "colab_type": "text"
      },
      "source": [
        "<a href=\"https://colab.research.google.com/github/diana-pica/Submersible-Pump-Impellers-/blob/main/Licenta_VGG16.ipynb\" target=\"_parent\"><img src=\"https://colab.research.google.com/assets/colab-badge.svg\" alt=\"Open In Colab\"/></a>"
      ]
    },
    {
      "cell_type": "code",
      "execution_count": null,
      "metadata": {
        "colab": {
          "base_uri": "https://localhost:8080/"
        },
        "id": "G7NAyim_OGo3",
        "outputId": "85231145-b80d-4f73-bb69-ad5744aa8b78"
      },
      "outputs": [
        {
          "output_type": "stream",
          "name": "stdout",
          "text": [
            "Collecting jupyter\n",
            "  Downloading jupyter-1.1.1-py2.py3-none-any.whl.metadata (2.0 kB)\n",
            "Requirement already satisfied: notebook in /usr/local/lib/python3.11/dist-packages (from jupyter) (6.5.5)\n",
            "Requirement already satisfied: jupyter-console in /usr/local/lib/python3.11/dist-packages (from jupyter) (6.1.0)\n",
            "Requirement already satisfied: nbconvert in /usr/local/lib/python3.11/dist-packages (from jupyter) (7.16.5)\n",
            "Requirement already satisfied: ipykernel in /usr/local/lib/python3.11/dist-packages (from jupyter) (5.5.6)\n",
            "Requirement already satisfied: ipywidgets in /usr/local/lib/python3.11/dist-packages (from jupyter) (7.7.1)\n",
            "Collecting jupyterlab (from jupyter)\n",
            "  Downloading jupyterlab-4.3.4-py3-none-any.whl.metadata (16 kB)\n",
            "Requirement already satisfied: ipython-genutils in /usr/local/lib/python3.11/dist-packages (from ipykernel->jupyter) (0.2.0)\n",
            "Requirement already satisfied: ipython>=5.0.0 in /usr/local/lib/python3.11/dist-packages (from ipykernel->jupyter) (7.34.0)\n",
            "Requirement already satisfied: traitlets>=4.1.0 in /usr/local/lib/python3.11/dist-packages (from ipykernel->jupyter) (5.7.1)\n",
            "Requirement already satisfied: jupyter-client in /usr/local/lib/python3.11/dist-packages (from ipykernel->jupyter) (6.1.12)\n",
            "Requirement already satisfied: tornado>=4.2 in /usr/local/lib/python3.11/dist-packages (from ipykernel->jupyter) (6.3.3)\n",
            "Requirement already satisfied: widgetsnbextension~=3.6.0 in /usr/local/lib/python3.11/dist-packages (from ipywidgets->jupyter) (3.6.10)\n",
            "Requirement already satisfied: jupyterlab-widgets>=1.0.0 in /usr/local/lib/python3.11/dist-packages (from ipywidgets->jupyter) (3.0.13)\n",
            "Requirement already satisfied: prompt-toolkit!=3.0.0,!=3.0.1,<3.1.0,>=2.0.0 in /usr/local/lib/python3.11/dist-packages (from jupyter-console->jupyter) (3.0.48)\n",
            "Requirement already satisfied: pygments in /usr/local/lib/python3.11/dist-packages (from jupyter-console->jupyter) (2.18.0)\n",
            "Collecting async-lru>=1.0.0 (from jupyterlab->jupyter)\n",
            "  Downloading async_lru-2.0.4-py3-none-any.whl.metadata (4.5 kB)\n",
            "Requirement already satisfied: httpx>=0.25.0 in /usr/local/lib/python3.11/dist-packages (from jupyterlab->jupyter) (0.28.1)\n",
            "Collecting ipykernel (from jupyter)\n",
            "  Downloading ipykernel-6.29.5-py3-none-any.whl.metadata (6.3 kB)\n",
            "Requirement already satisfied: jinja2>=3.0.3 in /usr/local/lib/python3.11/dist-packages (from jupyterlab->jupyter) (3.1.5)\n",
            "Requirement already satisfied: jupyter-core in /usr/local/lib/python3.11/dist-packages (from jupyterlab->jupyter) (5.7.2)\n",
            "Collecting jupyter-lsp>=2.0.0 (from jupyterlab->jupyter)\n",
            "  Downloading jupyter_lsp-2.2.5-py3-none-any.whl.metadata (1.8 kB)\n",
            "Collecting jupyter-server<3,>=2.4.0 (from jupyterlab->jupyter)\n",
            "  Downloading jupyter_server-2.15.0-py3-none-any.whl.metadata (8.4 kB)\n",
            "Collecting jupyterlab-server<3,>=2.27.1 (from jupyterlab->jupyter)\n",
            "  Downloading jupyterlab_server-2.27.3-py3-none-any.whl.metadata (5.9 kB)\n",
            "Requirement already satisfied: notebook-shim>=0.2 in /usr/local/lib/python3.11/dist-packages (from jupyterlab->jupyter) (0.2.4)\n",
            "Requirement already satisfied: packaging in /usr/local/lib/python3.11/dist-packages (from jupyterlab->jupyter) (24.2)\n",
            "Requirement already satisfied: setuptools>=40.8.0 in /usr/local/lib/python3.11/dist-packages (from jupyterlab->jupyter) (75.1.0)\n",
            "Collecting comm>=0.1.1 (from ipykernel->jupyter)\n",
            "  Downloading comm-0.2.2-py3-none-any.whl.metadata (3.7 kB)\n",
            "Requirement already satisfied: debugpy>=1.6.5 in /usr/local/lib/python3.11/dist-packages (from ipykernel->jupyter) (1.8.0)\n",
            "Requirement already satisfied: matplotlib-inline>=0.1 in /usr/local/lib/python3.11/dist-packages (from ipykernel->jupyter) (0.1.7)\n",
            "Requirement already satisfied: nest-asyncio in /usr/local/lib/python3.11/dist-packages (from ipykernel->jupyter) (1.6.0)\n",
            "Requirement already satisfied: psutil in /usr/local/lib/python3.11/dist-packages (from ipykernel->jupyter) (5.9.5)\n",
            "Requirement already satisfied: pyzmq>=24 in /usr/local/lib/python3.11/dist-packages (from ipykernel->jupyter) (24.0.1)\n",
            "Requirement already satisfied: beautifulsoup4 in /usr/local/lib/python3.11/dist-packages (from nbconvert->jupyter) (4.12.3)\n",
            "Requirement already satisfied: bleach!=5.0.0 in /usr/local/lib/python3.11/dist-packages (from bleach[css]!=5.0.0->nbconvert->jupyter) (6.2.0)\n",
            "Requirement already satisfied: defusedxml in /usr/local/lib/python3.11/dist-packages (from nbconvert->jupyter) (0.7.1)\n",
            "Requirement already satisfied: jupyterlab-pygments in /usr/local/lib/python3.11/dist-packages (from nbconvert->jupyter) (0.3.0)\n",
            "Requirement already satisfied: markupsafe>=2.0 in /usr/local/lib/python3.11/dist-packages (from nbconvert->jupyter) (3.0.2)\n",
            "Requirement already satisfied: mistune<4,>=2.0.3 in /usr/local/lib/python3.11/dist-packages (from nbconvert->jupyter) (3.1.0)\n",
            "Requirement already satisfied: nbclient>=0.5.0 in /usr/local/lib/python3.11/dist-packages (from nbconvert->jupyter) (0.10.2)\n",
            "Requirement already satisfied: nbformat>=5.7 in /usr/local/lib/python3.11/dist-packages (from nbconvert->jupyter) (5.10.4)\n",
            "Requirement already satisfied: pandocfilters>=1.4.1 in /usr/local/lib/python3.11/dist-packages (from nbconvert->jupyter) (1.5.1)\n",
            "Requirement already satisfied: argon2-cffi in /usr/local/lib/python3.11/dist-packages (from notebook->jupyter) (23.1.0)\n",
            "Requirement already satisfied: Send2Trash>=1.8.0 in /usr/local/lib/python3.11/dist-packages (from notebook->jupyter) (1.8.3)\n",
            "Requirement already satisfied: terminado>=0.8.3 in /usr/local/lib/python3.11/dist-packages (from notebook->jupyter) (0.18.1)\n",
            "Requirement already satisfied: prometheus-client in /usr/local/lib/python3.11/dist-packages (from notebook->jupyter) (0.21.1)\n",
            "Requirement already satisfied: nbclassic>=0.4.7 in /usr/local/lib/python3.11/dist-packages (from notebook->jupyter) (1.1.0)\n",
            "Requirement already satisfied: webencodings in /usr/local/lib/python3.11/dist-packages (from bleach!=5.0.0->bleach[css]!=5.0.0->nbconvert->jupyter) (0.5.1)\n",
            "Requirement already satisfied: tinycss2<1.5,>=1.1.0 in /usr/local/lib/python3.11/dist-packages (from bleach[css]!=5.0.0->nbconvert->jupyter) (1.4.0)\n",
            "Requirement already satisfied: anyio in /usr/local/lib/python3.11/dist-packages (from httpx>=0.25.0->jupyterlab->jupyter) (3.7.1)\n",
            "Requirement already satisfied: certifi in /usr/local/lib/python3.11/dist-packages (from httpx>=0.25.0->jupyterlab->jupyter) (2024.12.14)\n",
            "Requirement already satisfied: httpcore==1.* in /usr/local/lib/python3.11/dist-packages (from httpx>=0.25.0->jupyterlab->jupyter) (1.0.7)\n",
            "Requirement already satisfied: idna in /usr/local/lib/python3.11/dist-packages (from httpx>=0.25.0->jupyterlab->jupyter) (3.10)\n",
            "Requirement already satisfied: h11<0.15,>=0.13 in /usr/local/lib/python3.11/dist-packages (from httpcore==1.*->httpx>=0.25.0->jupyterlab->jupyter) (0.14.0)\n",
            "Collecting jedi>=0.16 (from ipython>=5.0.0->ipykernel->jupyter)\n",
            "  Downloading jedi-0.19.2-py2.py3-none-any.whl.metadata (22 kB)\n",
            "Requirement already satisfied: decorator in /usr/local/lib/python3.11/dist-packages (from ipython>=5.0.0->ipykernel->jupyter) (4.4.2)\n",
            "Requirement already satisfied: pickleshare in /usr/local/lib/python3.11/dist-packages (from ipython>=5.0.0->ipykernel->jupyter) (0.7.5)\n",
            "Requirement already satisfied: backcall in /usr/local/lib/python3.11/dist-packages (from ipython>=5.0.0->ipykernel->jupyter) (0.2.0)\n",
            "Requirement already satisfied: pexpect>4.3 in /usr/local/lib/python3.11/dist-packages (from ipython>=5.0.0->ipykernel->jupyter) (4.9.0)\n",
            "Requirement already satisfied: python-dateutil>=2.1 in /usr/local/lib/python3.11/dist-packages (from jupyter-client->ipykernel->jupyter) (2.8.2)\n",
            "Requirement already satisfied: platformdirs>=2.5 in /usr/local/lib/python3.11/dist-packages (from jupyter-core->jupyterlab->jupyter) (4.3.6)\n",
            "Collecting jupyter-client (from jupyter-console->jupyter)\n",
            "  Downloading jupyter_client-7.4.9-py3-none-any.whl.metadata (8.5 kB)\n",
            "Collecting jupyter-events>=0.11.0 (from jupyter-server<3,>=2.4.0->jupyterlab->jupyter)\n",
            "  Downloading jupyter_events-0.11.0-py3-none-any.whl.metadata (5.8 kB)\n",
            "Collecting jupyter-server-terminals>=0.4.4 (from jupyter-server<3,>=2.4.0->jupyterlab->jupyter)\n",
            "  Downloading jupyter_server_terminals-0.5.3-py3-none-any.whl.metadata (5.6 kB)\n",
            "Collecting overrides>=5.0 (from jupyter-server<3,>=2.4.0->jupyterlab->jupyter)\n",
            "  Downloading overrides-7.7.0-py3-none-any.whl.metadata (5.8 kB)\n",
            "Requirement already satisfied: websocket-client>=1.7 in /usr/local/lib/python3.11/dist-packages (from jupyter-server<3,>=2.4.0->jupyterlab->jupyter) (1.8.0)\n",
            "Requirement already satisfied: argon2-cffi-bindings in /usr/local/lib/python3.11/dist-packages (from argon2-cffi->notebook->jupyter) (21.2.0)\n",
            "Requirement already satisfied: entrypoints in /usr/local/lib/python3.11/dist-packages (from jupyter-client->jupyter-console->jupyter) (0.4)\n",
            "Requirement already satisfied: babel>=2.10 in /usr/local/lib/python3.11/dist-packages (from jupyterlab-server<3,>=2.27.1->jupyterlab->jupyter) (2.16.0)\n",
            "Collecting json5>=0.9.0 (from jupyterlab-server<3,>=2.27.1->jupyterlab->jupyter)\n",
            "  Downloading json5-0.10.0-py3-none-any.whl.metadata (34 kB)\n",
            "Requirement already satisfied: jsonschema>=4.18.0 in /usr/local/lib/python3.11/dist-packages (from jupyterlab-server<3,>=2.27.1->jupyterlab->jupyter) (4.23.0)\n",
            "Requirement already satisfied: requests>=2.31 in /usr/local/lib/python3.11/dist-packages (from jupyterlab-server<3,>=2.27.1->jupyterlab->jupyter) (2.32.3)\n",
            "Requirement already satisfied: fastjsonschema>=2.15 in /usr/local/lib/python3.11/dist-packages (from nbformat>=5.7->nbconvert->jupyter) (2.21.1)\n",
            "Requirement already satisfied: wcwidth in /usr/local/lib/python3.11/dist-packages (from prompt-toolkit!=3.0.0,!=3.0.1,<3.1.0,>=2.0.0->jupyter-console->jupyter) (0.2.13)\n",
            "Requirement already satisfied: ptyprocess in /usr/local/lib/python3.11/dist-packages (from terminado>=0.8.3->notebook->jupyter) (0.7.0)\n",
            "Requirement already satisfied: soupsieve>1.2 in /usr/local/lib/python3.11/dist-packages (from beautifulsoup4->nbconvert->jupyter) (2.6)\n",
            "Requirement already satisfied: sniffio>=1.1 in /usr/local/lib/python3.11/dist-packages (from anyio->httpx>=0.25.0->jupyterlab->jupyter) (1.3.1)\n",
            "Requirement already satisfied: parso<0.9.0,>=0.8.4 in /usr/local/lib/python3.11/dist-packages (from jedi>=0.16->ipython>=5.0.0->ipykernel->jupyter) (0.8.4)\n",
            "Requirement already satisfied: attrs>=22.2.0 in /usr/local/lib/python3.11/dist-packages (from jsonschema>=4.18.0->jupyterlab-server<3,>=2.27.1->jupyterlab->jupyter) (24.3.0)\n",
            "Requirement already satisfied: jsonschema-specifications>=2023.03.6 in /usr/local/lib/python3.11/dist-packages (from jsonschema>=4.18.0->jupyterlab-server<3,>=2.27.1->jupyterlab->jupyter) (2024.10.1)\n",
            "Requirement already satisfied: referencing>=0.28.4 in /usr/local/lib/python3.11/dist-packages (from jsonschema>=4.18.0->jupyterlab-server<3,>=2.27.1->jupyterlab->jupyter) (0.35.1)\n",
            "Requirement already satisfied: rpds-py>=0.7.1 in /usr/local/lib/python3.11/dist-packages (from jsonschema>=4.18.0->jupyterlab-server<3,>=2.27.1->jupyterlab->jupyter) (0.22.3)\n",
            "Collecting python-json-logger>=2.0.4 (from jupyter-events>=0.11.0->jupyter-server<3,>=2.4.0->jupyterlab->jupyter)\n",
            "  Downloading python_json_logger-3.2.1-py3-none-any.whl.metadata (4.1 kB)\n",
            "Requirement already satisfied: pyyaml>=5.3 in /usr/local/lib/python3.11/dist-packages (from jupyter-events>=0.11.0->jupyter-server<3,>=2.4.0->jupyterlab->jupyter) (6.0.2)\n",
            "Collecting rfc3339-validator (from jupyter-events>=0.11.0->jupyter-server<3,>=2.4.0->jupyterlab->jupyter)\n",
            "  Downloading rfc3339_validator-0.1.4-py2.py3-none-any.whl.metadata (1.5 kB)\n",
            "Collecting rfc3986-validator>=0.1.1 (from jupyter-events>=0.11.0->jupyter-server<3,>=2.4.0->jupyterlab->jupyter)\n",
            "  Downloading rfc3986_validator-0.1.1-py2.py3-none-any.whl.metadata (1.7 kB)\n",
            "Requirement already satisfied: six>=1.5 in /usr/local/lib/python3.11/dist-packages (from python-dateutil>=2.1->jupyter-client->ipykernel->jupyter) (1.17.0)\n",
            "Requirement already satisfied: charset-normalizer<4,>=2 in /usr/local/lib/python3.11/dist-packages (from requests>=2.31->jupyterlab-server<3,>=2.27.1->jupyterlab->jupyter) (3.4.1)\n",
            "Requirement already satisfied: urllib3<3,>=1.21.1 in /usr/local/lib/python3.11/dist-packages (from requests>=2.31->jupyterlab-server<3,>=2.27.1->jupyterlab->jupyter) (2.3.0)\n",
            "Requirement already satisfied: cffi>=1.0.1 in /usr/local/lib/python3.11/dist-packages (from argon2-cffi-bindings->argon2-cffi->notebook->jupyter) (1.17.1)\n",
            "Requirement already satisfied: pycparser in /usr/local/lib/python3.11/dist-packages (from cffi>=1.0.1->argon2-cffi-bindings->argon2-cffi->notebook->jupyter) (2.22)\n",
            "Collecting fqdn (from jsonschema[format-nongpl]>=4.18.0->jupyter-events>=0.11.0->jupyter-server<3,>=2.4.0->jupyterlab->jupyter)\n",
            "  Downloading fqdn-1.5.1-py3-none-any.whl.metadata (1.4 kB)\n",
            "Collecting isoduration (from jsonschema[format-nongpl]>=4.18.0->jupyter-events>=0.11.0->jupyter-server<3,>=2.4.0->jupyterlab->jupyter)\n",
            "  Downloading isoduration-20.11.0-py3-none-any.whl.metadata (5.7 kB)\n",
            "Requirement already satisfied: jsonpointer>1.13 in /usr/local/lib/python3.11/dist-packages (from jsonschema[format-nongpl]>=4.18.0->jupyter-events>=0.11.0->jupyter-server<3,>=2.4.0->jupyterlab->jupyter) (3.0.0)\n",
            "Collecting uri-template (from jsonschema[format-nongpl]>=4.18.0->jupyter-events>=0.11.0->jupyter-server<3,>=2.4.0->jupyterlab->jupyter)\n",
            "  Downloading uri_template-1.3.0-py3-none-any.whl.metadata (8.8 kB)\n",
            "Requirement already satisfied: webcolors>=24.6.0 in /usr/local/lib/python3.11/dist-packages (from jsonschema[format-nongpl]>=4.18.0->jupyter-events>=0.11.0->jupyter-server<3,>=2.4.0->jupyterlab->jupyter) (24.11.1)\n",
            "Collecting arrow>=0.15.0 (from isoduration->jsonschema[format-nongpl]>=4.18.0->jupyter-events>=0.11.0->jupyter-server<3,>=2.4.0->jupyterlab->jupyter)\n",
            "  Downloading arrow-1.3.0-py3-none-any.whl.metadata (7.5 kB)\n",
            "Collecting types-python-dateutil>=2.8.10 (from arrow>=0.15.0->isoduration->jsonschema[format-nongpl]>=4.18.0->jupyter-events>=0.11.0->jupyter-server<3,>=2.4.0->jupyterlab->jupyter)\n",
            "  Downloading types_python_dateutil-2.9.0.20241206-py3-none-any.whl.metadata (2.1 kB)\n",
            "Downloading jupyter-1.1.1-py2.py3-none-any.whl (2.7 kB)\n",
            "Downloading jupyterlab-4.3.4-py3-none-any.whl (11.7 MB)\n",
            "\u001b[2K   \u001b[90m━━━━━━━━━━━━━━━━━━━━━━━━━━━━━━━━━━━━━━━━\u001b[0m \u001b[32m11.7/11.7 MB\u001b[0m \u001b[31m95.5 MB/s\u001b[0m eta \u001b[36m0:00:00\u001b[0m\n",
            "\u001b[?25hDownloading ipykernel-6.29.5-py3-none-any.whl (117 kB)\n",
            "\u001b[2K   \u001b[90m━━━━━━━━━━━━━━━━━━━━━━━━━━━━━━━━━━━━━━━━\u001b[0m \u001b[32m117.2/117.2 kB\u001b[0m \u001b[31m10.0 MB/s\u001b[0m eta \u001b[36m0:00:00\u001b[0m\n",
            "\u001b[?25hDownloading async_lru-2.0.4-py3-none-any.whl (6.1 kB)\n",
            "Downloading comm-0.2.2-py3-none-any.whl (7.2 kB)\n",
            "Downloading jupyter_lsp-2.2.5-py3-none-any.whl (69 kB)\n",
            "\u001b[2K   \u001b[90m━━━━━━━━━━━━━━━━━━━━━━━━━━━━━━━━━━━━━━━━\u001b[0m \u001b[32m69.1/69.1 kB\u001b[0m \u001b[31m6.9 MB/s\u001b[0m eta \u001b[36m0:00:00\u001b[0m\n",
            "\u001b[?25hDownloading jupyter_server-2.15.0-py3-none-any.whl (385 kB)\n",
            "\u001b[2K   \u001b[90m━━━━━━━━━━━━━━━━━━━━━━━━━━━━━━━━━━━━━━━━\u001b[0m \u001b[32m385.8/385.8 kB\u001b[0m \u001b[31m31.4 MB/s\u001b[0m eta \u001b[36m0:00:00\u001b[0m\n",
            "\u001b[?25hDownloading jupyter_client-7.4.9-py3-none-any.whl (133 kB)\n",
            "\u001b[2K   \u001b[90m━━━━━━━━━━━━━━━━━━━━━━━━━━━━━━━━━━━━━━━━\u001b[0m \u001b[32m133.5/133.5 kB\u001b[0m \u001b[31m12.7 MB/s\u001b[0m eta \u001b[36m0:00:00\u001b[0m\n",
            "\u001b[?25hDownloading jupyterlab_server-2.27.3-py3-none-any.whl (59 kB)\n",
            "\u001b[2K   \u001b[90m━━━━━━━━━━━━━━━━━━━━━━━━━━━━━━━━━━━━━━━━\u001b[0m \u001b[32m59.7/59.7 kB\u001b[0m \u001b[31m5.5 MB/s\u001b[0m eta \u001b[36m0:00:00\u001b[0m\n",
            "\u001b[?25hDownloading jedi-0.19.2-py2.py3-none-any.whl (1.6 MB)\n",
            "\u001b[2K   \u001b[90m━━━━━━━━━━━━━━━━━━━━━━━━━━━━━━━━━━━━━━━━\u001b[0m \u001b[32m1.6/1.6 MB\u001b[0m \u001b[31m50.4 MB/s\u001b[0m eta \u001b[36m0:00:00\u001b[0m\n",
            "\u001b[?25hDownloading json5-0.10.0-py3-none-any.whl (34 kB)\n",
            "Downloading jupyter_events-0.11.0-py3-none-any.whl (19 kB)\n",
            "Downloading jupyter_server_terminals-0.5.3-py3-none-any.whl (13 kB)\n",
            "Downloading overrides-7.7.0-py3-none-any.whl (17 kB)\n",
            "Downloading python_json_logger-3.2.1-py3-none-any.whl (14 kB)\n",
            "Downloading rfc3986_validator-0.1.1-py2.py3-none-any.whl (4.2 kB)\n",
            "Downloading rfc3339_validator-0.1.4-py2.py3-none-any.whl (3.5 kB)\n",
            "Downloading fqdn-1.5.1-py3-none-any.whl (9.1 kB)\n",
            "Downloading isoduration-20.11.0-py3-none-any.whl (11 kB)\n",
            "Downloading uri_template-1.3.0-py3-none-any.whl (11 kB)\n",
            "Downloading arrow-1.3.0-py3-none-any.whl (66 kB)\n",
            "\u001b[2K   \u001b[90m━━━━━━━━━━━━━━━━━━━━━━━━━━━━━━━━━━━━━━━━\u001b[0m \u001b[32m66.4/66.4 kB\u001b[0m \u001b[31m6.0 MB/s\u001b[0m eta \u001b[36m0:00:00\u001b[0m\n",
            "\u001b[?25hDownloading types_python_dateutil-2.9.0.20241206-py3-none-any.whl (14 kB)\n",
            "Installing collected packages: uri-template, types-python-dateutil, rfc3986-validator, rfc3339-validator, python-json-logger, overrides, json5, jedi, fqdn, comm, async-lru, jupyter-server-terminals, jupyter-client, arrow, isoduration, ipykernel, jupyter-events, jupyter-server, jupyterlab-server, jupyter-lsp, jupyterlab, jupyter\n",
            "  Attempting uninstall: jupyter-client\n",
            "    Found existing installation: jupyter-client 6.1.12\n",
            "    Uninstalling jupyter-client-6.1.12:\n",
            "      Successfully uninstalled jupyter-client-6.1.12\n",
            "  Attempting uninstall: ipykernel\n",
            "    Found existing installation: ipykernel 5.5.6\n",
            "    Uninstalling ipykernel-5.5.6:\n",
            "      Successfully uninstalled ipykernel-5.5.6\n",
            "  Attempting uninstall: jupyter-server\n",
            "    Found existing installation: jupyter-server 1.24.0\n",
            "    Uninstalling jupyter-server-1.24.0:\n",
            "      Successfully uninstalled jupyter-server-1.24.0\n",
            "\u001b[31mERROR: pip's dependency resolver does not currently take into account all the packages that are installed. This behaviour is the source of the following dependency conflicts.\n",
            "google-colab 1.0.0 requires ipykernel==5.5.6, but you have ipykernel 6.29.5 which is incompatible.\u001b[0m\u001b[31m\n",
            "\u001b[0mSuccessfully installed arrow-1.3.0 async-lru-2.0.4 comm-0.2.2 fqdn-1.5.1 ipykernel-6.29.5 isoduration-20.11.0 jedi-0.19.2 json5-0.10.0 jupyter-1.1.1 jupyter-client-7.4.9 jupyter-events-0.11.0 jupyter-lsp-2.2.5 jupyter-server-2.15.0 jupyter-server-terminals-0.5.3 jupyterlab-4.3.4 jupyterlab-server-2.27.3 overrides-7.7.0 python-json-logger-3.2.1 rfc3339-validator-0.1.4 rfc3986-validator-0.1.1 types-python-dateutil-2.9.0.20241206 uri-template-1.3.0\n"
          ]
        }
      ],
      "source": [
        "!pip install jupyter\n"
      ]
    },
    {
      "cell_type": "code",
      "execution_count": null,
      "metadata": {
        "colab": {
          "base_uri": "https://localhost:8080/"
        },
        "id": "XfXZVQpgWIz6",
        "outputId": "43510646-2f2a-460d-87d3-2214ce13f59a"
      },
      "outputs": [
        {
          "output_type": "stream",
          "name": "stdout",
          "text": [
            "Requirement already satisfied: matplotlib in /usr/local/lib/python3.11/dist-packages (3.10.0)\n",
            "Requirement already satisfied: contourpy>=1.0.1 in /usr/local/lib/python3.11/dist-packages (from matplotlib) (1.3.1)\n",
            "Requirement already satisfied: cycler>=0.10 in /usr/local/lib/python3.11/dist-packages (from matplotlib) (0.12.1)\n",
            "Requirement already satisfied: fonttools>=4.22.0 in /usr/local/lib/python3.11/dist-packages (from matplotlib) (4.55.3)\n",
            "Requirement already satisfied: kiwisolver>=1.3.1 in /usr/local/lib/python3.11/dist-packages (from matplotlib) (1.4.8)\n",
            "Requirement already satisfied: numpy>=1.23 in /usr/local/lib/python3.11/dist-packages (from matplotlib) (1.26.4)\n",
            "Requirement already satisfied: packaging>=20.0 in /usr/local/lib/python3.11/dist-packages (from matplotlib) (24.2)\n",
            "Requirement already satisfied: pillow>=8 in /usr/local/lib/python3.11/dist-packages (from matplotlib) (11.1.0)\n",
            "Requirement already satisfied: pyparsing>=2.3.1 in /usr/local/lib/python3.11/dist-packages (from matplotlib) (3.2.1)\n",
            "Requirement already satisfied: python-dateutil>=2.7 in /usr/local/lib/python3.11/dist-packages (from matplotlib) (2.8.2)\n",
            "Requirement already satisfied: six>=1.5 in /usr/local/lib/python3.11/dist-packages (from python-dateutil>=2.7->matplotlib) (1.17.0)\n"
          ]
        }
      ],
      "source": [
        "!pip install matplotlib\n"
      ]
    },
    {
      "cell_type": "code",
      "execution_count": null,
      "metadata": {
        "colab": {
          "base_uri": "https://localhost:8080/"
        },
        "id": "oUHkNyk3WTXl",
        "outputId": "caf11ede-4560-49b6-d684-c8bac780f983"
      },
      "outputs": [
        {
          "output_type": "stream",
          "name": "stdout",
          "text": [
            "Requirement already satisfied: numpy in /usr/local/lib/python3.10/dist-packages (1.26.4)\n"
          ]
        }
      ],
      "source": [
        "!pip install numpy\n"
      ]
    },
    {
      "cell_type": "code",
      "execution_count": null,
      "metadata": {
        "colab": {
          "base_uri": "https://localhost:8080/"
        },
        "id": "i9sD8vqUWX8j",
        "outputId": "2455e757-3e7f-432f-c9f4-d8b01ed1ca2e"
      },
      "outputs": [
        {
          "output_type": "stream",
          "name": "stdout",
          "text": [
            "Requirement already satisfied: opencv-python in /usr/local/lib/python3.10/dist-packages (4.10.0.84)\n",
            "Requirement already satisfied: numpy>=1.21.2 in /usr/local/lib/python3.10/dist-packages (from opencv-python) (1.26.4)\n"
          ]
        }
      ],
      "source": [
        "!pip install opencv-python\n"
      ]
    },
    {
      "cell_type": "code",
      "execution_count": null,
      "metadata": {
        "id": "fH6KaPTWJnN9",
        "colab": {
          "base_uri": "https://localhost:8080/"
        },
        "outputId": "e7454034-3578-4fc0-bc79-0780f5767ff9"
      },
      "outputs": [
        {
          "output_type": "stream",
          "name": "stdout",
          "text": [
            "Requirement already satisfied: tensorflow in /usr/local/lib/python3.11/dist-packages (2.17.1)\n",
            "Requirement already satisfied: opencv-python in /usr/local/lib/python3.11/dist-packages (4.10.0.84)\n",
            "Requirement already satisfied: numpy in /usr/local/lib/python3.11/dist-packages (1.26.4)\n",
            "Requirement already satisfied: absl-py>=1.0.0 in /usr/local/lib/python3.11/dist-packages (from tensorflow) (1.4.0)\n",
            "Requirement already satisfied: astunparse>=1.6.0 in /usr/local/lib/python3.11/dist-packages (from tensorflow) (1.6.3)\n",
            "Requirement already satisfied: flatbuffers>=24.3.25 in /usr/local/lib/python3.11/dist-packages (from tensorflow) (24.12.23)\n",
            "Requirement already satisfied: gast!=0.5.0,!=0.5.1,!=0.5.2,>=0.2.1 in /usr/local/lib/python3.11/dist-packages (from tensorflow) (0.6.0)\n",
            "Requirement already satisfied: google-pasta>=0.1.1 in /usr/local/lib/python3.11/dist-packages (from tensorflow) (0.2.0)\n",
            "Requirement already satisfied: h5py>=3.10.0 in /usr/local/lib/python3.11/dist-packages (from tensorflow) (3.12.1)\n",
            "Requirement already satisfied: libclang>=13.0.0 in /usr/local/lib/python3.11/dist-packages (from tensorflow) (18.1.1)\n",
            "Requirement already satisfied: ml-dtypes<0.5.0,>=0.3.1 in /usr/local/lib/python3.11/dist-packages (from tensorflow) (0.4.1)\n",
            "Requirement already satisfied: opt-einsum>=2.3.2 in /usr/local/lib/python3.11/dist-packages (from tensorflow) (3.4.0)\n",
            "Requirement already satisfied: packaging in /usr/local/lib/python3.11/dist-packages (from tensorflow) (24.2)\n",
            "Requirement already satisfied: protobuf!=4.21.0,!=4.21.1,!=4.21.2,!=4.21.3,!=4.21.4,!=4.21.5,<5.0.0dev,>=3.20.3 in /usr/local/lib/python3.11/dist-packages (from tensorflow) (4.25.5)\n",
            "Requirement already satisfied: requests<3,>=2.21.0 in /usr/local/lib/python3.11/dist-packages (from tensorflow) (2.32.3)\n",
            "Requirement already satisfied: setuptools in /usr/local/lib/python3.11/dist-packages (from tensorflow) (75.1.0)\n",
            "Requirement already satisfied: six>=1.12.0 in /usr/local/lib/python3.11/dist-packages (from tensorflow) (1.17.0)\n",
            "Requirement already satisfied: termcolor>=1.1.0 in /usr/local/lib/python3.11/dist-packages (from tensorflow) (2.5.0)\n",
            "Requirement already satisfied: typing-extensions>=3.6.6 in /usr/local/lib/python3.11/dist-packages (from tensorflow) (4.12.2)\n",
            "Requirement already satisfied: wrapt>=1.11.0 in /usr/local/lib/python3.11/dist-packages (from tensorflow) (1.17.0)\n",
            "Requirement already satisfied: grpcio<2.0,>=1.24.3 in /usr/local/lib/python3.11/dist-packages (from tensorflow) (1.69.0)\n",
            "Requirement already satisfied: tensorboard<2.18,>=2.17 in /usr/local/lib/python3.11/dist-packages (from tensorflow) (2.17.1)\n",
            "Requirement already satisfied: keras>=3.2.0 in /usr/local/lib/python3.11/dist-packages (from tensorflow) (3.5.0)\n",
            "Requirement already satisfied: tensorflow-io-gcs-filesystem>=0.23.1 in /usr/local/lib/python3.11/dist-packages (from tensorflow) (0.37.1)\n",
            "Requirement already satisfied: wheel<1.0,>=0.23.0 in /usr/local/lib/python3.11/dist-packages (from astunparse>=1.6.0->tensorflow) (0.45.1)\n",
            "Requirement already satisfied: rich in /usr/local/lib/python3.11/dist-packages (from keras>=3.2.0->tensorflow) (13.9.4)\n",
            "Requirement already satisfied: namex in /usr/local/lib/python3.11/dist-packages (from keras>=3.2.0->tensorflow) (0.0.8)\n",
            "Requirement already satisfied: optree in /usr/local/lib/python3.11/dist-packages (from keras>=3.2.0->tensorflow) (0.13.1)\n",
            "Requirement already satisfied: charset-normalizer<4,>=2 in /usr/local/lib/python3.11/dist-packages (from requests<3,>=2.21.0->tensorflow) (3.4.1)\n",
            "Requirement already satisfied: idna<4,>=2.5 in /usr/local/lib/python3.11/dist-packages (from requests<3,>=2.21.0->tensorflow) (3.10)\n",
            "Requirement already satisfied: urllib3<3,>=1.21.1 in /usr/local/lib/python3.11/dist-packages (from requests<3,>=2.21.0->tensorflow) (2.3.0)\n",
            "Requirement already satisfied: certifi>=2017.4.17 in /usr/local/lib/python3.11/dist-packages (from requests<3,>=2.21.0->tensorflow) (2024.12.14)\n",
            "Requirement already satisfied: markdown>=2.6.8 in /usr/local/lib/python3.11/dist-packages (from tensorboard<2.18,>=2.17->tensorflow) (3.7)\n",
            "Requirement already satisfied: tensorboard-data-server<0.8.0,>=0.7.0 in /usr/local/lib/python3.11/dist-packages (from tensorboard<2.18,>=2.17->tensorflow) (0.7.2)\n",
            "Requirement already satisfied: werkzeug>=1.0.1 in /usr/local/lib/python3.11/dist-packages (from tensorboard<2.18,>=2.17->tensorflow) (3.1.3)\n",
            "Requirement already satisfied: MarkupSafe>=2.1.1 in /usr/local/lib/python3.11/dist-packages (from werkzeug>=1.0.1->tensorboard<2.18,>=2.17->tensorflow) (3.0.2)\n",
            "Requirement already satisfied: markdown-it-py>=2.2.0 in /usr/local/lib/python3.11/dist-packages (from rich->keras>=3.2.0->tensorflow) (3.0.0)\n",
            "Requirement already satisfied: pygments<3.0.0,>=2.13.0 in /usr/local/lib/python3.11/dist-packages (from rich->keras>=3.2.0->tensorflow) (2.18.0)\n",
            "Requirement already satisfied: mdurl~=0.1 in /usr/local/lib/python3.11/dist-packages (from markdown-it-py>=2.2.0->rich->keras>=3.2.0->tensorflow) (0.1.2)\n"
          ]
        }
      ],
      "source": [
        "!pip install tensorflow opencv-python numpy"
      ]
    },
    {
      "cell_type": "code",
      "execution_count": null,
      "metadata": {
        "id": "SbeHlv4dYi73",
        "colab": {
          "base_uri": "https://localhost:8080/"
        },
        "outputId": "6e51064c-2068-453a-f56c-1c113405e758"
      },
      "outputs": [
        {
          "output_type": "stream",
          "name": "stdout",
          "text": [
            "Collecting ultralytics\n",
            "  Downloading ultralytics-8.3.61-py3-none-any.whl.metadata (35 kB)\n",
            "Requirement already satisfied: numpy>=1.23.0 in /usr/local/lib/python3.11/dist-packages (from ultralytics) (1.26.4)\n",
            "Requirement already satisfied: matplotlib>=3.3.0 in /usr/local/lib/python3.11/dist-packages (from ultralytics) (3.10.0)\n",
            "Requirement already satisfied: opencv-python>=4.6.0 in /usr/local/lib/python3.11/dist-packages (from ultralytics) (4.10.0.84)\n",
            "Requirement already satisfied: pillow>=7.1.2 in /usr/local/lib/python3.11/dist-packages (from ultralytics) (11.1.0)\n",
            "Requirement already satisfied: pyyaml>=5.3.1 in /usr/local/lib/python3.11/dist-packages (from ultralytics) (6.0.2)\n",
            "Requirement already satisfied: requests>=2.23.0 in /usr/local/lib/python3.11/dist-packages (from ultralytics) (2.32.3)\n",
            "Requirement already satisfied: scipy>=1.4.1 in /usr/local/lib/python3.11/dist-packages (from ultralytics) (1.13.1)\n",
            "Requirement already satisfied: torch>=1.8.0 in /usr/local/lib/python3.11/dist-packages (from ultralytics) (2.5.1+cu121)\n",
            "Requirement already satisfied: torchvision>=0.9.0 in /usr/local/lib/python3.11/dist-packages (from ultralytics) (0.20.1+cu121)\n",
            "Requirement already satisfied: tqdm>=4.64.0 in /usr/local/lib/python3.11/dist-packages (from ultralytics) (4.67.1)\n",
            "Requirement already satisfied: psutil in /usr/local/lib/python3.11/dist-packages (from ultralytics) (5.9.5)\n",
            "Requirement already satisfied: py-cpuinfo in /usr/local/lib/python3.11/dist-packages (from ultralytics) (9.0.0)\n",
            "Requirement already satisfied: pandas>=1.1.4 in /usr/local/lib/python3.11/dist-packages (from ultralytics) (2.2.2)\n",
            "Requirement already satisfied: seaborn>=0.11.0 in /usr/local/lib/python3.11/dist-packages (from ultralytics) (0.13.2)\n",
            "Collecting ultralytics-thop>=2.0.0 (from ultralytics)\n",
            "  Downloading ultralytics_thop-2.0.13-py3-none-any.whl.metadata (9.4 kB)\n",
            "Requirement already satisfied: contourpy>=1.0.1 in /usr/local/lib/python3.11/dist-packages (from matplotlib>=3.3.0->ultralytics) (1.3.1)\n",
            "Requirement already satisfied: cycler>=0.10 in /usr/local/lib/python3.11/dist-packages (from matplotlib>=3.3.0->ultralytics) (0.12.1)\n",
            "Requirement already satisfied: fonttools>=4.22.0 in /usr/local/lib/python3.11/dist-packages (from matplotlib>=3.3.0->ultralytics) (4.55.3)\n",
            "Requirement already satisfied: kiwisolver>=1.3.1 in /usr/local/lib/python3.11/dist-packages (from matplotlib>=3.3.0->ultralytics) (1.4.8)\n",
            "Requirement already satisfied: packaging>=20.0 in /usr/local/lib/python3.11/dist-packages (from matplotlib>=3.3.0->ultralytics) (24.2)\n",
            "Requirement already satisfied: pyparsing>=2.3.1 in /usr/local/lib/python3.11/dist-packages (from matplotlib>=3.3.0->ultralytics) (3.2.1)\n",
            "Requirement already satisfied: python-dateutil>=2.7 in /usr/local/lib/python3.11/dist-packages (from matplotlib>=3.3.0->ultralytics) (2.8.2)\n",
            "Requirement already satisfied: pytz>=2020.1 in /usr/local/lib/python3.11/dist-packages (from pandas>=1.1.4->ultralytics) (2024.2)\n",
            "Requirement already satisfied: tzdata>=2022.7 in /usr/local/lib/python3.11/dist-packages (from pandas>=1.1.4->ultralytics) (2024.2)\n",
            "Requirement already satisfied: charset-normalizer<4,>=2 in /usr/local/lib/python3.11/dist-packages (from requests>=2.23.0->ultralytics) (3.4.1)\n",
            "Requirement already satisfied: idna<4,>=2.5 in /usr/local/lib/python3.11/dist-packages (from requests>=2.23.0->ultralytics) (3.10)\n",
            "Requirement already satisfied: urllib3<3,>=1.21.1 in /usr/local/lib/python3.11/dist-packages (from requests>=2.23.0->ultralytics) (2.3.0)\n",
            "Requirement already satisfied: certifi>=2017.4.17 in /usr/local/lib/python3.11/dist-packages (from requests>=2.23.0->ultralytics) (2024.12.14)\n",
            "Requirement already satisfied: filelock in /usr/local/lib/python3.11/dist-packages (from torch>=1.8.0->ultralytics) (3.16.1)\n",
            "Requirement already satisfied: typing-extensions>=4.8.0 in /usr/local/lib/python3.11/dist-packages (from torch>=1.8.0->ultralytics) (4.12.2)\n",
            "Requirement already satisfied: networkx in /usr/local/lib/python3.11/dist-packages (from torch>=1.8.0->ultralytics) (3.4.2)\n",
            "Requirement already satisfied: jinja2 in /usr/local/lib/python3.11/dist-packages (from torch>=1.8.0->ultralytics) (3.1.5)\n",
            "Requirement already satisfied: fsspec in /usr/local/lib/python3.11/dist-packages (from torch>=1.8.0->ultralytics) (2024.10.0)\n",
            "Requirement already satisfied: nvidia-cuda-nvrtc-cu12==12.1.105 in /usr/local/lib/python3.11/dist-packages (from torch>=1.8.0->ultralytics) (12.1.105)\n",
            "Requirement already satisfied: nvidia-cuda-runtime-cu12==12.1.105 in /usr/local/lib/python3.11/dist-packages (from torch>=1.8.0->ultralytics) (12.1.105)\n",
            "Requirement already satisfied: nvidia-cuda-cupti-cu12==12.1.105 in /usr/local/lib/python3.11/dist-packages (from torch>=1.8.0->ultralytics) (12.1.105)\n",
            "Requirement already satisfied: nvidia-cudnn-cu12==9.1.0.70 in /usr/local/lib/python3.11/dist-packages (from torch>=1.8.0->ultralytics) (9.1.0.70)\n",
            "Requirement already satisfied: nvidia-cublas-cu12==12.1.3.1 in /usr/local/lib/python3.11/dist-packages (from torch>=1.8.0->ultralytics) (12.1.3.1)\n",
            "Requirement already satisfied: nvidia-cufft-cu12==11.0.2.54 in /usr/local/lib/python3.11/dist-packages (from torch>=1.8.0->ultralytics) (11.0.2.54)\n",
            "Requirement already satisfied: nvidia-curand-cu12==10.3.2.106 in /usr/local/lib/python3.11/dist-packages (from torch>=1.8.0->ultralytics) (10.3.2.106)\n",
            "Requirement already satisfied: nvidia-cusolver-cu12==11.4.5.107 in /usr/local/lib/python3.11/dist-packages (from torch>=1.8.0->ultralytics) (11.4.5.107)\n",
            "Requirement already satisfied: nvidia-cusparse-cu12==12.1.0.106 in /usr/local/lib/python3.11/dist-packages (from torch>=1.8.0->ultralytics) (12.1.0.106)\n",
            "Requirement already satisfied: nvidia-nccl-cu12==2.21.5 in /usr/local/lib/python3.11/dist-packages (from torch>=1.8.0->ultralytics) (2.21.5)\n",
            "Requirement already satisfied: nvidia-nvtx-cu12==12.1.105 in /usr/local/lib/python3.11/dist-packages (from torch>=1.8.0->ultralytics) (12.1.105)\n",
            "Requirement already satisfied: triton==3.1.0 in /usr/local/lib/python3.11/dist-packages (from torch>=1.8.0->ultralytics) (3.1.0)\n",
            "Requirement already satisfied: sympy==1.13.1 in /usr/local/lib/python3.11/dist-packages (from torch>=1.8.0->ultralytics) (1.13.1)\n",
            "Requirement already satisfied: nvidia-nvjitlink-cu12 in /usr/local/lib/python3.11/dist-packages (from nvidia-cusolver-cu12==11.4.5.107->torch>=1.8.0->ultralytics) (12.6.85)\n",
            "Requirement already satisfied: mpmath<1.4,>=1.1.0 in /usr/local/lib/python3.11/dist-packages (from sympy==1.13.1->torch>=1.8.0->ultralytics) (1.3.0)\n",
            "Requirement already satisfied: six>=1.5 in /usr/local/lib/python3.11/dist-packages (from python-dateutil>=2.7->matplotlib>=3.3.0->ultralytics) (1.17.0)\n",
            "Requirement already satisfied: MarkupSafe>=2.0 in /usr/local/lib/python3.11/dist-packages (from jinja2->torch>=1.8.0->ultralytics) (3.0.2)\n",
            "Downloading ultralytics-8.3.61-py3-none-any.whl (906 kB)\n",
            "\u001b[2K   \u001b[90m━━━━━━━━━━━━━━━━━━━━━━━━━━━━━━━━━━━━━━━━\u001b[0m \u001b[32m906.9/906.9 kB\u001b[0m \u001b[31m17.8 MB/s\u001b[0m eta \u001b[36m0:00:00\u001b[0m\n",
            "\u001b[?25hDownloading ultralytics_thop-2.0.13-py3-none-any.whl (26 kB)\n",
            "Installing collected packages: ultralytics-thop, ultralytics\n",
            "Successfully installed ultralytics-8.3.61 ultralytics-thop-2.0.13\n"
          ]
        }
      ],
      "source": [
        "!pip install ultralytics"
      ]
    },
    {
      "cell_type": "markdown",
      "metadata": {
        "id": "vcJy53OF0Bjs"
      },
      "source": [
        "# Yolo section"
      ]
    },
    {
      "cell_type": "code",
      "execution_count": null,
      "metadata": {
        "id": "bbpXufi-zHAd",
        "colab": {
          "base_uri": "https://localhost:8080/"
        },
        "outputId": "28493afe-e905-45f4-f7ae-f15b8bdf5cb6"
      },
      "outputs": [
        {
          "output_type": "stream",
          "name": "stdout",
          "text": [
            "Mounted at /content/gdrive\n"
          ]
        }
      ],
      "source": [
        "from google.colab import drive\n",
        "drive.mount('/content/gdrive')"
      ]
    },
    {
      "cell_type": "code",
      "execution_count": null,
      "metadata": {
        "id": "A3XKR3qYz0vD"
      },
      "outputs": [],
      "source": [
        "ROOT_DIR = \"/content/gdrive/MyDrive/Colab Notebooks/Yolo/Data\""
      ]
    },
    {
      "cell_type": "code",
      "execution_count": null,
      "metadata": {
        "id": "IN22mHqCZL78",
        "colab": {
          "base_uri": "https://localhost:8080/"
        },
        "outputId": "3385b50b-3dc8-441d-a768-a429113ac090"
      },
      "outputs": [
        {
          "output_type": "stream",
          "name": "stdout",
          "text": [
            "Ultralytics YOLOv8.2.87 🚀 Python-3.10.12 torch-2.4.0+cu121 CUDA:0 (NVIDIA L4, 22700MiB)\n",
            "\u001b[34m\u001b[1mengine/trainer: \u001b[0mtask=detect, mode=train, model=yolov8n.pt, data=/content/gdrive/MyDrive/Colab Notebooks/Yolo/Data/colab_file.yaml, epochs=28, time=None, patience=100, batch=16, imgsz=640, save=True, save_period=-1, cache=False, device=None, workers=8, project=None, name=train6, exist_ok=False, pretrained=True, optimizer=auto, verbose=True, seed=0, deterministic=True, single_cls=False, rect=False, cos_lr=False, close_mosaic=10, resume=False, amp=True, fraction=1.0, profile=False, freeze=None, multi_scale=False, overlap_mask=True, mask_ratio=4, dropout=0.0, val=True, split=val, save_json=False, save_hybrid=False, conf=None, iou=0.7, max_det=300, half=False, dnn=False, plots=True, source=None, vid_stride=1, stream_buffer=False, visualize=False, augment=False, agnostic_nms=False, classes=None, retina_masks=False, embed=None, show=False, save_frames=False, save_txt=False, save_conf=False, save_crop=False, show_labels=True, show_conf=True, show_boxes=True, line_width=None, format=torchscript, keras=False, optimize=False, int8=False, dynamic=False, simplify=False, opset=None, workspace=4, nms=False, lr0=0.01, lrf=0.01, momentum=0.937, weight_decay=0.0005, warmup_epochs=3.0, warmup_momentum=0.8, warmup_bias_lr=0.1, box=7.5, cls=0.5, dfl=1.5, pose=12.0, kobj=1.0, label_smoothing=0.0, nbs=64, hsv_h=0.015, hsv_s=0.7, hsv_v=0.4, degrees=0.0, translate=0.1, scale=0.5, shear=0.0, perspective=0.0, flipud=0.0, fliplr=0.5, bgr=0.0, mosaic=1.0, mixup=0.0, copy_paste=0.0, auto_augment=randaugment, erasing=0.4, crop_fraction=1.0, cfg=None, tracker=botsort.yaml, save_dir=runs/detect/train6\n",
            "Overriding model.yaml nc=80 with nc=2\n",
            "\n",
            "                   from  n    params  module                                       arguments                     \n",
            "  0                  -1  1       464  ultralytics.nn.modules.conv.Conv             [3, 16, 3, 2]                 \n",
            "  1                  -1  1      4672  ultralytics.nn.modules.conv.Conv             [16, 32, 3, 2]                \n",
            "  2                  -1  1      7360  ultralytics.nn.modules.block.C2f             [32, 32, 1, True]             \n",
            "  3                  -1  1     18560  ultralytics.nn.modules.conv.Conv             [32, 64, 3, 2]                \n",
            "  4                  -1  2     49664  ultralytics.nn.modules.block.C2f             [64, 64, 2, True]             \n",
            "  5                  -1  1     73984  ultralytics.nn.modules.conv.Conv             [64, 128, 3, 2]               \n",
            "  6                  -1  2    197632  ultralytics.nn.modules.block.C2f             [128, 128, 2, True]           \n",
            "  7                  -1  1    295424  ultralytics.nn.modules.conv.Conv             [128, 256, 3, 2]              \n",
            "  8                  -1  1    460288  ultralytics.nn.modules.block.C2f             [256, 256, 1, True]           \n",
            "  9                  -1  1    164608  ultralytics.nn.modules.block.SPPF            [256, 256, 5]                 \n",
            " 10                  -1  1         0  torch.nn.modules.upsampling.Upsample         [None, 2, 'nearest']          \n",
            " 11             [-1, 6]  1         0  ultralytics.nn.modules.conv.Concat           [1]                           \n",
            " 12                  -1  1    148224  ultralytics.nn.modules.block.C2f             [384, 128, 1]                 \n",
            " 13                  -1  1         0  torch.nn.modules.upsampling.Upsample         [None, 2, 'nearest']          \n",
            " 14             [-1, 4]  1         0  ultralytics.nn.modules.conv.Concat           [1]                           \n",
            " 15                  -1  1     37248  ultralytics.nn.modules.block.C2f             [192, 64, 1]                  \n",
            " 16                  -1  1     36992  ultralytics.nn.modules.conv.Conv             [64, 64, 3, 2]                \n",
            " 17            [-1, 12]  1         0  ultralytics.nn.modules.conv.Concat           [1]                           \n",
            " 18                  -1  1    123648  ultralytics.nn.modules.block.C2f             [192, 128, 1]                 \n",
            " 19                  -1  1    147712  ultralytics.nn.modules.conv.Conv             [128, 128, 3, 2]              \n",
            " 20             [-1, 9]  1         0  ultralytics.nn.modules.conv.Concat           [1]                           \n",
            " 21                  -1  1    493056  ultralytics.nn.modules.block.C2f             [384, 256, 1]                 \n",
            " 22        [15, 18, 21]  1    751702  ultralytics.nn.modules.head.Detect           [2, [64, 128, 256]]           \n",
            "Model summary: 225 layers, 3,011,238 parameters, 3,011,222 gradients, 8.2 GFLOPs\n",
            "\n",
            "Transferred 319/355 items from pretrained weights\n",
            "\u001b[34m\u001b[1mTensorBoard: \u001b[0mStart with 'tensorboard --logdir runs/detect/train6', view at http://localhost:6006/\n",
            "Freezing layer 'model.22.dfl.conv.weight'\n",
            "\u001b[34m\u001b[1mAMP: \u001b[0mrunning Automatic Mixed Precision (AMP) checks with YOLOv8n...\n",
            "\u001b[34m\u001b[1mAMP: \u001b[0mchecks passed ✅\n"
          ]
        },
        {
          "output_type": "stream",
          "name": "stderr",
          "text": [
            "\u001b[34m\u001b[1mtrain: \u001b[0mScanning /content/gdrive/MyDrive/Colab Notebooks/Yolo/Data/labels/train.cache... 1094 images, 2 backgrounds, 0 corrupt: 100%|██████████| 1096/1096 [00:00<?, ?it/s]\n"
          ]
        },
        {
          "output_type": "stream",
          "name": "stdout",
          "text": [
            "\u001b[34m\u001b[1malbumentations: \u001b[0mBlur(p=0.01, blur_limit=(3, 7)), MedianBlur(p=0.01, blur_limit=(3, 7)), ToGray(p=0.01), CLAHE(p=0.01, clip_limit=(1, 4.0), tile_grid_size=(8, 8))\n"
          ]
        },
        {
          "output_type": "stream",
          "name": "stderr",
          "text": [
            "/usr/lib/python3.10/multiprocessing/popen_fork.py:66: RuntimeWarning: os.fork() was called. os.fork() is incompatible with multithreaded code, and JAX is multithreaded, so this will likely lead to a deadlock.\n",
            "  self.pid = os.fork()\n",
            "\u001b[34m\u001b[1mval: \u001b[0mScanning /content/gdrive/MyDrive/Colab Notebooks/Yolo/Data/labels/val.cache... 300 images, 0 backgrounds, 0 corrupt: 100%|██████████| 300/300 [00:00<?, ?it/s]\n"
          ]
        },
        {
          "output_type": "stream",
          "name": "stdout",
          "text": [
            "Plotting labels to runs/detect/train6/labels.jpg... \n",
            "\u001b[34m\u001b[1moptimizer:\u001b[0m 'optimizer=auto' found, ignoring 'lr0=0.01' and 'momentum=0.937' and determining best 'optimizer', 'lr0' and 'momentum' automatically... \n",
            "\u001b[34m\u001b[1moptimizer:\u001b[0m AdamW(lr=0.001667, momentum=0.9) with parameter groups 57 weight(decay=0.0), 64 weight(decay=0.0005), 63 bias(decay=0.0)\n",
            "\u001b[34m\u001b[1mTensorBoard: \u001b[0mmodel graph visualization added ✅\n",
            "Image sizes 640 train, 640 val\n",
            "Using 8 dataloader workers\n",
            "Logging results to \u001b[1mruns/detect/train6\u001b[0m\n",
            "Starting training for 28 epochs...\n",
            "\n",
            "      Epoch    GPU_mem   box_loss   cls_loss   dfl_loss  Instances       Size\n"
          ]
        },
        {
          "output_type": "stream",
          "name": "stderr",
          "text": [
            "       1/28      2.28G      1.723       2.66      1.529         31        640: 100%|██████████| 69/69 [00:10<00:00,  6.89it/s]\n",
            "                 Class     Images  Instances      Box(P          R      mAP50  mAP50-95): 100%|██████████| 10/10 [00:02<00:00,  4.53it/s]\n"
          ]
        },
        {
          "output_type": "stream",
          "name": "stdout",
          "text": [
            "                   all        300        829      0.692      0.312       0.54      0.362\n",
            "\n",
            "      Epoch    GPU_mem   box_loss   cls_loss   dfl_loss  Instances       Size\n"
          ]
        },
        {
          "output_type": "stream",
          "name": "stderr",
          "text": [
            "       2/28      2.11G      1.696      2.064      1.475         31        640: 100%|██████████| 69/69 [00:07<00:00,  9.12it/s]\n",
            "                 Class     Images  Instances      Box(P          R      mAP50  mAP50-95): 100%|██████████| 10/10 [00:01<00:00,  5.97it/s]"
          ]
        },
        {
          "output_type": "stream",
          "name": "stdout",
          "text": [
            "                   all        300        829      0.595      0.549      0.575      0.438\n"
          ]
        },
        {
          "output_type": "stream",
          "name": "stderr",
          "text": [
            "\n"
          ]
        },
        {
          "output_type": "stream",
          "name": "stdout",
          "text": [
            "\n",
            "      Epoch    GPU_mem   box_loss   cls_loss   dfl_loss  Instances       Size\n"
          ]
        },
        {
          "output_type": "stream",
          "name": "stderr",
          "text": [
            "       3/28      2.13G      1.696      1.897      1.451         36        640: 100%|██████████| 69/69 [00:07<00:00,  9.51it/s]\n",
            "                 Class     Images  Instances      Box(P          R      mAP50  mAP50-95): 100%|██████████| 10/10 [00:01<00:00,  6.01it/s]"
          ]
        },
        {
          "output_type": "stream",
          "name": "stdout",
          "text": [
            "                   all        300        829      0.436       0.53      0.461      0.232\n"
          ]
        },
        {
          "output_type": "stream",
          "name": "stderr",
          "text": [
            "\n"
          ]
        },
        {
          "output_type": "stream",
          "name": "stdout",
          "text": [
            "\n",
            "      Epoch    GPU_mem   box_loss   cls_loss   dfl_loss  Instances       Size\n"
          ]
        },
        {
          "output_type": "stream",
          "name": "stderr",
          "text": [
            "       4/28      2.19G      1.668      1.797      1.447         52        640: 100%|██████████| 69/69 [00:07<00:00,  9.58it/s]\n",
            "                 Class     Images  Instances      Box(P          R      mAP50  mAP50-95): 100%|██████████| 10/10 [00:01<00:00,  6.65it/s]"
          ]
        },
        {
          "output_type": "stream",
          "name": "stdout",
          "text": [
            "                   all        300        829      0.409      0.658      0.585      0.456\n"
          ]
        },
        {
          "output_type": "stream",
          "name": "stderr",
          "text": [
            "\n"
          ]
        },
        {
          "output_type": "stream",
          "name": "stdout",
          "text": [
            "\n",
            "      Epoch    GPU_mem   box_loss   cls_loss   dfl_loss  Instances       Size\n"
          ]
        },
        {
          "output_type": "stream",
          "name": "stderr",
          "text": [
            "       5/28      2.11G       1.67      1.654      1.456         34        640: 100%|██████████| 69/69 [00:07<00:00,  9.29it/s]\n",
            "                 Class     Images  Instances      Box(P          R      mAP50  mAP50-95): 100%|██████████| 10/10 [00:01<00:00,  6.52it/s]"
          ]
        },
        {
          "output_type": "stream",
          "name": "stdout",
          "text": [
            "                   all        300        829      0.636      0.674      0.695      0.524\n"
          ]
        },
        {
          "output_type": "stream",
          "name": "stderr",
          "text": [
            "\n"
          ]
        },
        {
          "output_type": "stream",
          "name": "stdout",
          "text": [
            "\n",
            "      Epoch    GPU_mem   box_loss   cls_loss   dfl_loss  Instances       Size\n"
          ]
        },
        {
          "output_type": "stream",
          "name": "stderr",
          "text": [
            "       6/28      2.17G      1.604      1.551      1.387         21        640: 100%|██████████| 69/69 [00:06<00:00,  9.86it/s]\n",
            "                 Class     Images  Instances      Box(P          R      mAP50  mAP50-95): 100%|██████████| 10/10 [00:01<00:00,  6.72it/s]"
          ]
        },
        {
          "output_type": "stream",
          "name": "stdout",
          "text": [
            "                   all        300        829      0.449      0.711      0.691      0.509\n"
          ]
        },
        {
          "output_type": "stream",
          "name": "stderr",
          "text": [
            "\n"
          ]
        },
        {
          "output_type": "stream",
          "name": "stdout",
          "text": [
            "\n",
            "      Epoch    GPU_mem   box_loss   cls_loss   dfl_loss  Instances       Size\n"
          ]
        },
        {
          "output_type": "stream",
          "name": "stderr",
          "text": [
            "       7/28      2.11G      1.641      1.545      1.397         38        640: 100%|██████████| 69/69 [00:07<00:00,  9.33it/s]\n",
            "                 Class     Images  Instances      Box(P          R      mAP50  mAP50-95): 100%|██████████| 10/10 [00:01<00:00,  6.89it/s]"
          ]
        },
        {
          "output_type": "stream",
          "name": "stdout",
          "text": [
            "                   all        300        829       0.71      0.724      0.732      0.559\n"
          ]
        },
        {
          "output_type": "stream",
          "name": "stderr",
          "text": [
            "\n"
          ]
        },
        {
          "output_type": "stream",
          "name": "stdout",
          "text": [
            "\n",
            "      Epoch    GPU_mem   box_loss   cls_loss   dfl_loss  Instances       Size\n"
          ]
        },
        {
          "output_type": "stream",
          "name": "stderr",
          "text": [
            "       8/28      2.13G      1.539      1.423      1.357         42        640: 100%|██████████| 69/69 [00:07<00:00,  9.76it/s]\n",
            "                 Class     Images  Instances      Box(P          R      mAP50  mAP50-95): 100%|██████████| 10/10 [00:01<00:00,  6.67it/s]"
          ]
        },
        {
          "output_type": "stream",
          "name": "stdout",
          "text": [
            "                   all        300        829      0.745      0.778      0.749      0.559\n"
          ]
        },
        {
          "output_type": "stream",
          "name": "stderr",
          "text": [
            "\n"
          ]
        },
        {
          "output_type": "stream",
          "name": "stdout",
          "text": [
            "\n",
            "      Epoch    GPU_mem   box_loss   cls_loss   dfl_loss  Instances       Size\n"
          ]
        },
        {
          "output_type": "stream",
          "name": "stderr",
          "text": [
            "       9/28      2.11G      1.552      1.399      1.355         41        640: 100%|██████████| 69/69 [00:07<00:00,  9.36it/s]\n",
            "                 Class     Images  Instances      Box(P          R      mAP50  mAP50-95): 100%|██████████| 10/10 [00:01<00:00,  6.80it/s]"
          ]
        },
        {
          "output_type": "stream",
          "name": "stdout",
          "text": [
            "                   all        300        829      0.766      0.762      0.768      0.569\n"
          ]
        },
        {
          "output_type": "stream",
          "name": "stderr",
          "text": [
            "\n"
          ]
        },
        {
          "output_type": "stream",
          "name": "stdout",
          "text": [
            "\n",
            "      Epoch    GPU_mem   box_loss   cls_loss   dfl_loss  Instances       Size\n"
          ]
        },
        {
          "output_type": "stream",
          "name": "stderr",
          "text": [
            "      10/28      2.11G      1.541      1.363      1.354         30        640: 100%|██████████| 69/69 [00:07<00:00,  9.77it/s]\n",
            "                 Class     Images  Instances      Box(P          R      mAP50  mAP50-95): 100%|██████████| 10/10 [00:01<00:00,  6.35it/s]"
          ]
        },
        {
          "output_type": "stream",
          "name": "stdout",
          "text": [
            "                   all        300        829      0.431      0.752      0.726      0.532\n"
          ]
        },
        {
          "output_type": "stream",
          "name": "stderr",
          "text": [
            "\n"
          ]
        },
        {
          "output_type": "stream",
          "name": "stdout",
          "text": [
            "\n",
            "      Epoch    GPU_mem   box_loss   cls_loss   dfl_loss  Instances       Size\n"
          ]
        },
        {
          "output_type": "stream",
          "name": "stderr",
          "text": [
            "      11/28      2.11G      1.499      1.319      1.324         65        640: 100%|██████████| 69/69 [00:07<00:00,  9.49it/s]\n",
            "                 Class     Images  Instances      Box(P          R      mAP50  mAP50-95): 100%|██████████| 10/10 [00:01<00:00,  6.64it/s]"
          ]
        },
        {
          "output_type": "stream",
          "name": "stdout",
          "text": [
            "                   all        300        829      0.764       0.74      0.761      0.568\n"
          ]
        },
        {
          "output_type": "stream",
          "name": "stderr",
          "text": [
            "\n"
          ]
        },
        {
          "output_type": "stream",
          "name": "stdout",
          "text": [
            "\n",
            "      Epoch    GPU_mem   box_loss   cls_loss   dfl_loss  Instances       Size\n"
          ]
        },
        {
          "output_type": "stream",
          "name": "stderr",
          "text": [
            "      12/28       2.1G      1.528      1.337      1.337         42        640: 100%|██████████| 69/69 [00:07<00:00,  9.70it/s]\n",
            "                 Class     Images  Instances      Box(P          R      mAP50  mAP50-95): 100%|██████████| 10/10 [00:01<00:00,  6.55it/s]"
          ]
        },
        {
          "output_type": "stream",
          "name": "stdout",
          "text": [
            "                   all        300        829      0.681      0.757      0.778      0.582\n"
          ]
        },
        {
          "output_type": "stream",
          "name": "stderr",
          "text": [
            "\n"
          ]
        },
        {
          "output_type": "stream",
          "name": "stdout",
          "text": [
            "\n",
            "      Epoch    GPU_mem   box_loss   cls_loss   dfl_loss  Instances       Size\n"
          ]
        },
        {
          "output_type": "stream",
          "name": "stderr",
          "text": [
            "      13/28      2.17G      1.506      1.279      1.338         34        640: 100%|██████████| 69/69 [00:07<00:00,  9.51it/s]\n",
            "                 Class     Images  Instances      Box(P          R      mAP50  mAP50-95): 100%|██████████| 10/10 [00:01<00:00,  6.77it/s]"
          ]
        },
        {
          "output_type": "stream",
          "name": "stdout",
          "text": [
            "                   all        300        829      0.782      0.775      0.783      0.572\n"
          ]
        },
        {
          "output_type": "stream",
          "name": "stderr",
          "text": [
            "\n"
          ]
        },
        {
          "output_type": "stream",
          "name": "stdout",
          "text": [
            "\n",
            "      Epoch    GPU_mem   box_loss   cls_loss   dfl_loss  Instances       Size\n"
          ]
        },
        {
          "output_type": "stream",
          "name": "stderr",
          "text": [
            "      14/28      2.16G      1.528      1.305      1.347         40        640: 100%|██████████| 69/69 [00:07<00:00,  9.54it/s]\n",
            "                 Class     Images  Instances      Box(P          R      mAP50  mAP50-95): 100%|██████████| 10/10 [00:01<00:00,  6.39it/s]"
          ]
        },
        {
          "output_type": "stream",
          "name": "stdout",
          "text": [
            "                   all        300        829      0.619      0.774      0.802       0.59\n"
          ]
        },
        {
          "output_type": "stream",
          "name": "stderr",
          "text": [
            "\n"
          ]
        },
        {
          "output_type": "stream",
          "name": "stdout",
          "text": [
            "\n",
            "      Epoch    GPU_mem   box_loss   cls_loss   dfl_loss  Instances       Size\n"
          ]
        },
        {
          "output_type": "stream",
          "name": "stderr",
          "text": [
            "      15/28      2.14G      1.485      1.235      1.337         35        640: 100%|██████████| 69/69 [00:07<00:00,  9.77it/s]\n",
            "                 Class     Images  Instances      Box(P          R      mAP50  mAP50-95): 100%|██████████| 10/10 [00:01<00:00,  6.75it/s]"
          ]
        },
        {
          "output_type": "stream",
          "name": "stdout",
          "text": [
            "                   all        300        829      0.756      0.765      0.779      0.593\n"
          ]
        },
        {
          "output_type": "stream",
          "name": "stderr",
          "text": [
            "\n"
          ]
        },
        {
          "output_type": "stream",
          "name": "stdout",
          "text": [
            "\n",
            "      Epoch    GPU_mem   box_loss   cls_loss   dfl_loss  Instances       Size\n"
          ]
        },
        {
          "output_type": "stream",
          "name": "stderr",
          "text": [
            "      16/28      2.11G      1.444      1.206      1.296         28        640: 100%|██████████| 69/69 [00:07<00:00,  9.53it/s]\n",
            "                 Class     Images  Instances      Box(P          R      mAP50  mAP50-95): 100%|██████████| 10/10 [00:01<00:00,  6.91it/s]"
          ]
        },
        {
          "output_type": "stream",
          "name": "stdout",
          "text": [
            "                   all        300        829      0.748      0.797      0.783      0.596\n"
          ]
        },
        {
          "output_type": "stream",
          "name": "stderr",
          "text": [
            "\n"
          ]
        },
        {
          "output_type": "stream",
          "name": "stdout",
          "text": [
            "\n",
            "      Epoch    GPU_mem   box_loss   cls_loss   dfl_loss  Instances       Size\n"
          ]
        },
        {
          "output_type": "stream",
          "name": "stderr",
          "text": [
            "      17/28      2.19G      1.438      1.201      1.306         42        640: 100%|██████████| 69/69 [00:06<00:00,  9.94it/s]\n",
            "                 Class     Images  Instances      Box(P          R      mAP50  mAP50-95): 100%|██████████| 10/10 [00:01<00:00,  7.18it/s]"
          ]
        },
        {
          "output_type": "stream",
          "name": "stdout",
          "text": [
            "                   all        300        829      0.803      0.795      0.804      0.604\n"
          ]
        },
        {
          "output_type": "stream",
          "name": "stderr",
          "text": [
            "\n"
          ]
        },
        {
          "output_type": "stream",
          "name": "stdout",
          "text": [
            "\n",
            "      Epoch    GPU_mem   box_loss   cls_loss   dfl_loss  Instances       Size\n"
          ]
        },
        {
          "output_type": "stream",
          "name": "stderr",
          "text": [
            "      18/28      2.19G      1.464      1.211      1.302         17        640: 100%|██████████| 69/69 [00:07<00:00,  9.31it/s]\n",
            "                 Class     Images  Instances      Box(P          R      mAP50  mAP50-95): 100%|██████████| 10/10 [00:01<00:00,  7.09it/s]"
          ]
        },
        {
          "output_type": "stream",
          "name": "stdout",
          "text": [
            "                   all        300        829      0.801      0.789      0.799      0.594\n"
          ]
        },
        {
          "output_type": "stream",
          "name": "stderr",
          "text": [
            "\n"
          ]
        },
        {
          "output_type": "stream",
          "name": "stdout",
          "text": [
            "Closing dataloader mosaic\n",
            "\u001b[34m\u001b[1malbumentations: \u001b[0mBlur(p=0.01, blur_limit=(3, 7)), MedianBlur(p=0.01, blur_limit=(3, 7)), ToGray(p=0.01), CLAHE(p=0.01, clip_limit=(1, 4.0), tile_grid_size=(8, 8))\n"
          ]
        },
        {
          "output_type": "stream",
          "name": "stderr",
          "text": [
            "/usr/lib/python3.10/multiprocessing/popen_fork.py:66: RuntimeWarning: os.fork() was called. os.fork() is incompatible with multithreaded code, and JAX is multithreaded, so this will likely lead to a deadlock.\n",
            "  self.pid = os.fork()\n",
            "/usr/lib/python3.10/multiprocessing/popen_fork.py:66: RuntimeWarning: os.fork() was called. os.fork() is incompatible with multithreaded code, and JAX is multithreaded, so this will likely lead to a deadlock.\n",
            "  self.pid = os.fork()\n"
          ]
        },
        {
          "output_type": "stream",
          "name": "stdout",
          "text": [
            "\n",
            "      Epoch    GPU_mem   box_loss   cls_loss   dfl_loss  Instances       Size\n"
          ]
        },
        {
          "output_type": "stream",
          "name": "stderr",
          "text": [
            "      19/28      2.28G      1.628      1.276      1.404         23        640: 100%|██████████| 69/69 [00:08<00:00,  7.68it/s]\n",
            "                 Class     Images  Instances      Box(P          R      mAP50  mAP50-95): 100%|██████████| 10/10 [00:01<00:00,  6.43it/s]"
          ]
        },
        {
          "output_type": "stream",
          "name": "stdout",
          "text": [
            "                   all        300        829      0.726      0.773      0.793      0.604\n"
          ]
        },
        {
          "output_type": "stream",
          "name": "stderr",
          "text": [
            "\n"
          ]
        },
        {
          "output_type": "stream",
          "name": "stdout",
          "text": [
            "\n",
            "      Epoch    GPU_mem   box_loss   cls_loss   dfl_loss  Instances       Size\n"
          ]
        },
        {
          "output_type": "stream",
          "name": "stderr",
          "text": [
            "      20/28      2.11G      1.608      1.238      1.396         13        640: 100%|██████████| 69/69 [00:07<00:00,  9.74it/s]\n",
            "                 Class     Images  Instances      Box(P          R      mAP50  mAP50-95): 100%|██████████| 10/10 [00:01<00:00,  6.71it/s]"
          ]
        },
        {
          "output_type": "stream",
          "name": "stdout",
          "text": [
            "                   all        300        829      0.769      0.803      0.796      0.605\n"
          ]
        },
        {
          "output_type": "stream",
          "name": "stderr",
          "text": [
            "\n"
          ]
        },
        {
          "output_type": "stream",
          "name": "stdout",
          "text": [
            "\n",
            "      Epoch    GPU_mem   box_loss   cls_loss   dfl_loss  Instances       Size\n"
          ]
        },
        {
          "output_type": "stream",
          "name": "stderr",
          "text": [
            "      21/28      2.11G      1.571      1.206      1.365         12        640: 100%|██████████| 69/69 [00:07<00:00,  9.75it/s]\n",
            "                 Class     Images  Instances      Box(P          R      mAP50  mAP50-95): 100%|██████████| 10/10 [00:01<00:00,  6.57it/s]"
          ]
        },
        {
          "output_type": "stream",
          "name": "stdout",
          "text": [
            "                   all        300        829      0.808       0.81      0.823      0.617\n"
          ]
        },
        {
          "output_type": "stream",
          "name": "stderr",
          "text": [
            "\n"
          ]
        },
        {
          "output_type": "stream",
          "name": "stdout",
          "text": [
            "\n",
            "      Epoch    GPU_mem   box_loss   cls_loss   dfl_loss  Instances       Size\n"
          ]
        },
        {
          "output_type": "stream",
          "name": "stderr",
          "text": [
            "      22/28       2.1G       1.56      1.202      1.368         25        640: 100%|██████████| 69/69 [00:07<00:00,  9.84it/s]\n",
            "                 Class     Images  Instances      Box(P          R      mAP50  mAP50-95): 100%|██████████| 10/10 [00:01<00:00,  6.81it/s]"
          ]
        },
        {
          "output_type": "stream",
          "name": "stdout",
          "text": [
            "                   all        300        829      0.759      0.797      0.815      0.616\n"
          ]
        },
        {
          "output_type": "stream",
          "name": "stderr",
          "text": [
            "\n"
          ]
        },
        {
          "output_type": "stream",
          "name": "stdout",
          "text": [
            "\n",
            "      Epoch    GPU_mem   box_loss   cls_loss   dfl_loss  Instances       Size\n"
          ]
        },
        {
          "output_type": "stream",
          "name": "stderr",
          "text": [
            "      23/28      2.08G       1.56      1.175      1.355         27        640: 100%|██████████| 69/69 [00:07<00:00,  9.78it/s]\n",
            "                 Class     Images  Instances      Box(P          R      mAP50  mAP50-95): 100%|██████████| 10/10 [00:01<00:00,  6.29it/s]"
          ]
        },
        {
          "output_type": "stream",
          "name": "stdout",
          "text": [
            "                   all        300        829      0.809      0.815      0.809      0.613\n"
          ]
        },
        {
          "output_type": "stream",
          "name": "stderr",
          "text": [
            "\n"
          ]
        },
        {
          "output_type": "stream",
          "name": "stdout",
          "text": [
            "\n",
            "      Epoch    GPU_mem   box_loss   cls_loss   dfl_loss  Instances       Size\n"
          ]
        },
        {
          "output_type": "stream",
          "name": "stderr",
          "text": [
            "      24/28      2.11G      1.545      1.147      1.348         15        640: 100%|██████████| 69/69 [00:07<00:00,  9.76it/s]\n",
            "                 Class     Images  Instances      Box(P          R      mAP50  mAP50-95): 100%|██████████| 10/10 [00:01<00:00,  7.09it/s]"
          ]
        },
        {
          "output_type": "stream",
          "name": "stdout",
          "text": [
            "                   all        300        829      0.794      0.815      0.808      0.612\n"
          ]
        },
        {
          "output_type": "stream",
          "name": "stderr",
          "text": [
            "\n"
          ]
        },
        {
          "output_type": "stream",
          "name": "stdout",
          "text": [
            "\n",
            "      Epoch    GPU_mem   box_loss   cls_loss   dfl_loss  Instances       Size\n"
          ]
        },
        {
          "output_type": "stream",
          "name": "stderr",
          "text": [
            "      25/28      2.08G      1.533      1.106      1.342         21        640: 100%|██████████| 69/69 [00:07<00:00,  9.70it/s]\n",
            "                 Class     Images  Instances      Box(P          R      mAP50  mAP50-95): 100%|██████████| 10/10 [00:01<00:00,  6.61it/s]"
          ]
        },
        {
          "output_type": "stream",
          "name": "stdout",
          "text": [
            "                   all        300        829      0.797      0.831      0.821      0.618\n"
          ]
        },
        {
          "output_type": "stream",
          "name": "stderr",
          "text": [
            "\n"
          ]
        },
        {
          "output_type": "stream",
          "name": "stdout",
          "text": [
            "\n",
            "      Epoch    GPU_mem   box_loss   cls_loss   dfl_loss  Instances       Size\n"
          ]
        },
        {
          "output_type": "stream",
          "name": "stderr",
          "text": [
            "      26/28      2.08G      1.516      1.088      1.339         31        640: 100%|██████████| 69/69 [00:06<00:00, 10.04it/s]\n",
            "                 Class     Images  Instances      Box(P          R      mAP50  mAP50-95): 100%|██████████| 10/10 [00:01<00:00,  6.93it/s]"
          ]
        },
        {
          "output_type": "stream",
          "name": "stdout",
          "text": [
            "                   all        300        829      0.826      0.835      0.828      0.622\n"
          ]
        },
        {
          "output_type": "stream",
          "name": "stderr",
          "text": [
            "\n"
          ]
        },
        {
          "output_type": "stream",
          "name": "stdout",
          "text": [
            "\n",
            "      Epoch    GPU_mem   box_loss   cls_loss   dfl_loss  Instances       Size\n"
          ]
        },
        {
          "output_type": "stream",
          "name": "stderr",
          "text": [
            "      27/28      2.11G      1.498      1.073       1.33         14        640: 100%|██████████| 69/69 [00:07<00:00,  9.77it/s]\n",
            "                 Class     Images  Instances      Box(P          R      mAP50  mAP50-95): 100%|██████████| 10/10 [00:01<00:00,  6.26it/s]"
          ]
        },
        {
          "output_type": "stream",
          "name": "stdout",
          "text": [
            "                   all        300        829      0.808      0.822      0.822      0.624\n"
          ]
        },
        {
          "output_type": "stream",
          "name": "stderr",
          "text": [
            "\n"
          ]
        },
        {
          "output_type": "stream",
          "name": "stdout",
          "text": [
            "\n",
            "      Epoch    GPU_mem   box_loss   cls_loss   dfl_loss  Instances       Size\n"
          ]
        },
        {
          "output_type": "stream",
          "name": "stderr",
          "text": [
            "      28/28      2.11G      1.497      1.054      1.324         26        640: 100%|██████████| 69/69 [00:07<00:00,  9.78it/s]\n",
            "                 Class     Images  Instances      Box(P          R      mAP50  mAP50-95): 100%|██████████| 10/10 [00:01<00:00,  6.95it/s]"
          ]
        },
        {
          "output_type": "stream",
          "name": "stdout",
          "text": [
            "                   all        300        829      0.818      0.826      0.823      0.623\n"
          ]
        },
        {
          "output_type": "stream",
          "name": "stderr",
          "text": [
            "\n"
          ]
        },
        {
          "output_type": "stream",
          "name": "stdout",
          "text": [
            "\n",
            "28 epochs completed in 0.076 hours.\n",
            "Optimizer stripped from runs/detect/train6/weights/last.pt, 6.2MB\n",
            "Optimizer stripped from runs/detect/train6/weights/best.pt, 6.2MB\n",
            "\n",
            "Validating runs/detect/train6/weights/best.pt...\n",
            "Ultralytics YOLOv8.2.87 🚀 Python-3.10.12 torch-2.4.0+cu121 CUDA:0 (NVIDIA L4, 22700MiB)\n",
            "Model summary (fused): 168 layers, 3,006,038 parameters, 0 gradients, 8.1 GFLOPs\n"
          ]
        },
        {
          "output_type": "stream",
          "name": "stderr",
          "text": [
            "                 Class     Images  Instances      Box(P          R      mAP50  mAP50-95): 100%|██████████| 10/10 [00:03<00:00,  2.65it/s]\n"
          ]
        },
        {
          "output_type": "stream",
          "name": "stdout",
          "text": [
            "                   all        300        829      0.811      0.822      0.822      0.625\n",
            "                defect        197        726      0.654      0.643      0.654      0.268\n",
            "                    ok        103        103      0.968          1       0.99      0.981\n",
            "Speed: 0.2ms preprocess, 0.9ms inference, 0.0ms loss, 4.9ms postprocess per image\n",
            "Results saved to \u001b[1mruns/detect/train6\u001b[0m\n",
            "Precision: 0.8111\n"
          ]
        }
      ],
      "source": [
        "import os\n",
        "from ultralytics import YOLO\n",
        "\n",
        "# Define paths\n",
        "config_file = os.path.join(ROOT_DIR, \"colab_file.yaml\")\n",
        "model_path = \"yolov8n.pt\"\n",
        "\n",
        "# Load the model\n",
        "model = YOLO(model_path)\n",
        "\n",
        "# Train the model with valid parameters\n",
        "results = model.train(\n",
        "    data=config_file,\n",
        "    epochs=28,       # Number of epochs\n",
        "    batch=16,        # Batch size\n",
        "    imgsz=640,       # Image size\n",
        "    lr0=0.01,        # Initial learning rate\n",
        "    lrf=0.01,        # Final learning rate\n",
        ")\n",
        "metrics_dict = results.results_dict\n",
        "print(f\"Precision: {metrics_dict['metrics/precision(B)']:.4f}\")"
      ]
    },
    {
      "cell_type": "code",
      "execution_count": null,
      "metadata": {
        "id": "eL-NiQqX_5j8"
      },
      "outputs": [],
      "source": [
        "import locale\n",
        "locale.getpreferredencoding = lambda: \"UTF-8\""
      ]
    },
    {
      "cell_type": "markdown",
      "source": [
        "Prediction with a test dataset"
      ],
      "metadata": {
        "id": "AIVPeZhZB_W5"
      }
    },
    {
      "cell_type": "code",
      "source": [
        "results = model.predict(source='/content/gdrive/MyDrive/Colab Notebooks/Yolo/Data/images/test', imgsz=640, save=True)\n"
      ],
      "metadata": {
        "id": "GHaTWYjGbOqt",
        "colab": {
          "base_uri": "https://localhost:8080/"
        },
        "outputId": "6d21ab66-a2dc-4130-e936-ffae1d4c1850"
      },
      "execution_count": null,
      "outputs": [
        {
          "output_type": "stream",
          "name": "stdout",
          "text": [
            "\n",
            "image 1/129 /content/gdrive/MyDrive/Colab Notebooks/Yolo/Data/images/test/cast_def_0_9520.jpeg: 640x640 2 defects, 7.1ms\n",
            "image 2/129 /content/gdrive/MyDrive/Colab Notebooks/Yolo/Data/images/test/cast_def_0_9613.jpeg: 640x640 (no detections), 9.5ms\n",
            "image 3/129 /content/gdrive/MyDrive/Colab Notebooks/Yolo/Data/images/test/cast_def_0_9637.jpeg: 640x640 1 defect, 8.2ms\n",
            "image 4/129 /content/gdrive/MyDrive/Colab Notebooks/Yolo/Data/images/test/cast_def_0_9640.jpeg: 640x640 (no detections), 7.6ms\n",
            "image 5/129 /content/gdrive/MyDrive/Colab Notebooks/Yolo/Data/images/test/cast_def_0_9643.jpeg: 640x640 1 defect, 7.7ms\n",
            "image 6/129 /content/gdrive/MyDrive/Colab Notebooks/Yolo/Data/images/test/cast_def_0_9644.jpeg: 640x640 5 defects, 7.7ms\n",
            "image 7/129 /content/gdrive/MyDrive/Colab Notebooks/Yolo/Data/images/test/cast_def_0_966.jpeg: 640x640 1 defect, 7.7ms\n",
            "image 8/129 /content/gdrive/MyDrive/Colab Notebooks/Yolo/Data/images/test/cast_def_0_9669.jpeg: 640x640 8 defects, 7.4ms\n",
            "image 9/129 /content/gdrive/MyDrive/Colab Notebooks/Yolo/Data/images/test/cast_def_0_9683.jpeg: 640x640 8 defects, 8.0ms\n",
            "image 10/129 /content/gdrive/MyDrive/Colab Notebooks/Yolo/Data/images/test/cast_def_0_9687.jpeg: 640x640 1 defect, 7.8ms\n",
            "image 11/129 /content/gdrive/MyDrive/Colab Notebooks/Yolo/Data/images/test/cast_def_0_9737.jpeg: 640x640 1 defect, 7.4ms\n",
            "image 12/129 /content/gdrive/MyDrive/Colab Notebooks/Yolo/Data/images/test/cast_def_0_9750.jpeg: 640x640 (no detections), 7.3ms\n",
            "image 13/129 /content/gdrive/MyDrive/Colab Notebooks/Yolo/Data/images/test/cast_def_0_9755.jpeg: 640x640 1 defect, 7.3ms\n",
            "image 14/129 /content/gdrive/MyDrive/Colab Notebooks/Yolo/Data/images/test/cast_def_0_976.jpeg: 640x640 3 defects, 7.6ms\n",
            "image 15/129 /content/gdrive/MyDrive/Colab Notebooks/Yolo/Data/images/test/cast_def_0_9780.jpeg: 640x640 8 defects, 7.4ms\n",
            "image 16/129 /content/gdrive/MyDrive/Colab Notebooks/Yolo/Data/images/test/cast_def_0_9817.jpeg: 640x640 10 defects, 7.2ms\n",
            "image 17/129 /content/gdrive/MyDrive/Colab Notebooks/Yolo/Data/images/test/cast_def_0_9836.jpeg: 640x640 10 defects, 7.3ms\n",
            "image 18/129 /content/gdrive/MyDrive/Colab Notebooks/Yolo/Data/images/test/cast_def_0_9854.jpeg: 640x640 1 defect, 1 ok, 7.3ms\n",
            "image 19/129 /content/gdrive/MyDrive/Colab Notebooks/Yolo/Data/images/test/cast_def_0_9857.jpeg: 640x640 1 defect, 7.3ms\n",
            "image 20/129 /content/gdrive/MyDrive/Colab Notebooks/Yolo/Data/images/test/cast_def_0_9872.jpeg: 640x640 1 defect, 7.1ms\n",
            "image 21/129 /content/gdrive/MyDrive/Colab Notebooks/Yolo/Data/images/test/cast_def_0_9873.jpeg: 640x640 1 defect, 7.7ms\n",
            "image 22/129 /content/gdrive/MyDrive/Colab Notebooks/Yolo/Data/images/test/cast_def_0_9877.jpeg: 640x640 1 defect, 1 ok, 7.5ms\n",
            "image 23/129 /content/gdrive/MyDrive/Colab Notebooks/Yolo/Data/images/test/cast_def_0_9879.jpeg: 640x640 1 defect, 7.9ms\n",
            "image 24/129 /content/gdrive/MyDrive/Colab Notebooks/Yolo/Data/images/test/cast_def_0_994.jpeg: 640x640 9 defects, 7.4ms\n",
            "image 25/129 /content/gdrive/MyDrive/Colab Notebooks/Yolo/Data/images/test/cast_def_0_9963.jpeg: 640x640 1 defect, 7.5ms\n",
            "image 26/129 /content/gdrive/MyDrive/Colab Notebooks/Yolo/Data/images/test/cast_def_0_9980.jpeg: 640x640 5 defects, 7.5ms\n",
            "image 27/129 /content/gdrive/MyDrive/Colab Notebooks/Yolo/Data/images/test/cast_def_0_9995.jpeg: 640x640 1 defect, 7.9ms\n",
            "image 28/129 /content/gdrive/MyDrive/Colab Notebooks/Yolo/Data/images/test/cast_ok_0_9270.jpeg: 640x640 1 ok, 7.3ms\n",
            "image 29/129 /content/gdrive/MyDrive/Colab Notebooks/Yolo/Data/images/test/cast_ok_0_9277.jpeg: 640x640 1 ok, 9.6ms\n",
            "image 30/129 /content/gdrive/MyDrive/Colab Notebooks/Yolo/Data/images/test/cast_ok_0_93.jpeg: 640x640 (no detections), 7.6ms\n",
            "image 31/129 /content/gdrive/MyDrive/Colab Notebooks/Yolo/Data/images/test/cast_ok_0_9341.jpeg: 640x640 1 ok, 7.6ms\n",
            "image 32/129 /content/gdrive/MyDrive/Colab Notebooks/Yolo/Data/images/test/cast_ok_0_9360.jpeg: 640x640 1 ok, 7.6ms\n",
            "image 33/129 /content/gdrive/MyDrive/Colab Notebooks/Yolo/Data/images/test/cast_ok_0_9366.jpeg: 640x640 1 defect, 7.7ms\n",
            "image 34/129 /content/gdrive/MyDrive/Colab Notebooks/Yolo/Data/images/test/cast_ok_0_9367.jpeg: 640x640 1 ok, 9.0ms\n",
            "image 35/129 /content/gdrive/MyDrive/Colab Notebooks/Yolo/Data/images/test/cast_ok_0_9389.jpeg: 640x640 (no detections), 7.3ms\n",
            "image 36/129 /content/gdrive/MyDrive/Colab Notebooks/Yolo/Data/images/test/cast_ok_0_9411.jpeg: 640x640 1 ok, 7.4ms\n",
            "image 37/129 /content/gdrive/MyDrive/Colab Notebooks/Yolo/Data/images/test/cast_ok_0_9464.jpeg: 640x640 1 ok, 7.3ms\n",
            "image 38/129 /content/gdrive/MyDrive/Colab Notebooks/Yolo/Data/images/test/cast_ok_0_9494.jpeg: 640x640 1 ok, 7.2ms\n",
            "image 39/129 /content/gdrive/MyDrive/Colab Notebooks/Yolo/Data/images/test/cast_ok_0_9516.jpeg: 640x640 (no detections), 7.3ms\n",
            "image 40/129 /content/gdrive/MyDrive/Colab Notebooks/Yolo/Data/images/test/cast_ok_0_9584.jpeg: 640x640 1 ok, 8.2ms\n",
            "image 41/129 /content/gdrive/MyDrive/Colab Notebooks/Yolo/Data/images/test/cast_ok_0_9634.jpeg: 640x640 1 ok, 7.6ms\n",
            "image 42/129 /content/gdrive/MyDrive/Colab Notebooks/Yolo/Data/images/test/cast_ok_0_9667.jpeg: 640x640 1 ok, 7.8ms\n",
            "image 43/129 /content/gdrive/MyDrive/Colab Notebooks/Yolo/Data/images/test/cast_ok_0_9732.jpeg: 640x640 1 ok, 7.5ms\n",
            "image 44/129 /content/gdrive/MyDrive/Colab Notebooks/Yolo/Data/images/test/cast_ok_0_9734.jpeg: 640x640 1 ok, 7.6ms\n",
            "image 45/129 /content/gdrive/MyDrive/Colab Notebooks/Yolo/Data/images/test/cast_ok_0_9741.jpeg: 640x640 1 ok, 7.4ms\n",
            "image 46/129 /content/gdrive/MyDrive/Colab Notebooks/Yolo/Data/images/test/cast_ok_0_9771.jpeg: 640x640 1 ok, 7.4ms\n",
            "image 47/129 /content/gdrive/MyDrive/Colab Notebooks/Yolo/Data/images/test/cast_ok_0_9791.jpeg: 640x640 1 ok, 7.3ms\n",
            "image 48/129 /content/gdrive/MyDrive/Colab Notebooks/Yolo/Data/images/test/cast_ok_0_9818.jpeg: 640x640 1 ok, 7.3ms\n",
            "image 49/129 /content/gdrive/MyDrive/Colab Notebooks/Yolo/Data/images/test/cast_ok_0_9840.jpeg: 640x640 1 ok, 7.5ms\n",
            "image 50/129 /content/gdrive/MyDrive/Colab Notebooks/Yolo/Data/images/test/cast_ok_0_9843.jpeg: 640x640 1 ok, 7.7ms\n",
            "image 51/129 /content/gdrive/MyDrive/Colab Notebooks/Yolo/Data/images/test/cast_ok_0_9850.jpeg: 640x640 1 ok, 7.5ms\n",
            "image 52/129 /content/gdrive/MyDrive/Colab Notebooks/Yolo/Data/images/test/cast_ok_0_9959.jpeg: 640x640 1 ok, 7.7ms\n",
            "image 53/129 /content/gdrive/MyDrive/Colab Notebooks/Yolo/Data/images/test/cast_ok_0_9966.jpeg: 640x640 1 ok, 7.4ms\n",
            "image 54/129 /content/gdrive/MyDrive/Colab Notebooks/Yolo/Data/images/test/cast_ok_0_9990.jpeg: 640x640 1 ok, 7.9ms\n",
            "image 55/129 /content/gdrive/MyDrive/Colab Notebooks/Yolo/Data/images/test/median_cast_def_0_314.jpeg: 640x640 (no detections), 7.6ms\n",
            "image 56/129 /content/gdrive/MyDrive/Colab Notebooks/Yolo/Data/images/test/median_cast_def_0_315.jpeg: 640x640 1 defect, 7.4ms\n",
            "image 57/129 /content/gdrive/MyDrive/Colab Notebooks/Yolo/Data/images/test/median_cast_def_0_317.jpeg: 640x640 (no detections), 8.2ms\n",
            "image 58/129 /content/gdrive/MyDrive/Colab Notebooks/Yolo/Data/images/test/median_cast_def_0_319.jpeg: 640x640 6 defects, 7.5ms\n",
            "image 59/129 /content/gdrive/MyDrive/Colab Notebooks/Yolo/Data/images/test/median_cast_def_0_320.jpeg: 640x640 9 defects, 7.6ms\n",
            "image 60/129 /content/gdrive/MyDrive/Colab Notebooks/Yolo/Data/images/test/median_cast_def_0_321.jpeg: 640x640 1 defect, 7.4ms\n",
            "image 61/129 /content/gdrive/MyDrive/Colab Notebooks/Yolo/Data/images/test/median_cast_def_0_323.jpeg: 640x640 1 defect, 7.7ms\n",
            "image 62/129 /content/gdrive/MyDrive/Colab Notebooks/Yolo/Data/images/test/median_cast_def_0_324.jpeg: 640x640 7 defects, 7.8ms\n",
            "image 63/129 /content/gdrive/MyDrive/Colab Notebooks/Yolo/Data/images/test/median_cast_def_0_327.jpeg: 640x640 1 defect, 8.1ms\n",
            "image 64/129 /content/gdrive/MyDrive/Colab Notebooks/Yolo/Data/images/test/median_cast_def_0_330.jpeg: 640x640 (no detections), 7.5ms\n",
            "image 65/129 /content/gdrive/MyDrive/Colab Notebooks/Yolo/Data/images/test/median_cast_def_0_331.jpeg: 640x640 3 defects, 7.4ms\n",
            "image 66/129 /content/gdrive/MyDrive/Colab Notebooks/Yolo/Data/images/test/median_cast_def_0_333.jpeg: 640x640 (no detections), 7.8ms\n",
            "image 67/129 /content/gdrive/MyDrive/Colab Notebooks/Yolo/Data/images/test/median_cast_def_0_335.jpeg: 640x640 1 defect, 7.3ms\n",
            "image 68/129 /content/gdrive/MyDrive/Colab Notebooks/Yolo/Data/images/test/median_cast_def_0_337.jpeg: 640x640 3 defects, 7.4ms\n",
            "image 69/129 /content/gdrive/MyDrive/Colab Notebooks/Yolo/Data/images/test/median_cast_def_0_339.jpeg: 640x640 1 defect, 7.3ms\n",
            "image 70/129 /content/gdrive/MyDrive/Colab Notebooks/Yolo/Data/images/test/median_cast_def_0_347.jpeg: 640x640 1 defect, 7.6ms\n",
            "image 71/129 /content/gdrive/MyDrive/Colab Notebooks/Yolo/Data/images/test/median_cast_def_0_348.jpeg: 640x640 1 defect, 7.4ms\n",
            "image 72/129 /content/gdrive/MyDrive/Colab Notebooks/Yolo/Data/images/test/median_cast_def_0_350.jpeg: 640x640 7 defects, 7.5ms\n",
            "image 73/129 /content/gdrive/MyDrive/Colab Notebooks/Yolo/Data/images/test/median_cast_def_0_354.jpeg: 640x640 3 defects, 7.5ms\n",
            "image 74/129 /content/gdrive/MyDrive/Colab Notebooks/Yolo/Data/images/test/median_cast_def_0_355.jpeg: 640x640 3 defects, 7.6ms\n",
            "image 75/129 /content/gdrive/MyDrive/Colab Notebooks/Yolo/Data/images/test/median_cast_def_0_357.jpeg: 640x640 (no detections), 7.7ms\n",
            "image 76/129 /content/gdrive/MyDrive/Colab Notebooks/Yolo/Data/images/test/median_cast_def_0_359.jpeg: 640x640 3 defects, 7.5ms\n",
            "image 77/129 /content/gdrive/MyDrive/Colab Notebooks/Yolo/Data/images/test/median_cast_def_0_360.jpeg: 640x640 5 defects, 7.8ms\n",
            "image 78/129 /content/gdrive/MyDrive/Colab Notebooks/Yolo/Data/images/test/median_cast_def_0_363.jpeg: 640x640 2 defects, 7.5ms\n",
            "image 79/129 /content/gdrive/MyDrive/Colab Notebooks/Yolo/Data/images/test/median_cast_def_0_372.jpeg: 640x640 6 defects, 7.6ms\n",
            "image 80/129 /content/gdrive/MyDrive/Colab Notebooks/Yolo/Data/images/test/poisson_cast_def_0_357.jpeg: 640x640 1 ok, 7.5ms\n",
            "image 81/129 /content/gdrive/MyDrive/Colab Notebooks/Yolo/Data/images/test/poisson_cast_def_0_359.jpeg: 640x640 1 ok, 7.6ms\n",
            "image 82/129 /content/gdrive/MyDrive/Colab Notebooks/Yolo/Data/images/test/poisson_cast_def_0_360.jpeg: 640x640 1 ok, 7.8ms\n",
            "image 83/129 /content/gdrive/MyDrive/Colab Notebooks/Yolo/Data/images/test/poisson_cast_def_0_363.jpeg: 640x640 1 ok, 7.5ms\n",
            "image 84/129 /content/gdrive/MyDrive/Colab Notebooks/Yolo/Data/images/test/poisson_cast_def_0_372.jpeg: 640x640 1 ok, 7.6ms\n",
            "image 85/129 /content/gdrive/MyDrive/Colab Notebooks/Yolo/Data/images/test/poisson_cast_def_0_374.jpeg: 640x640 1 ok, 7.3ms\n",
            "image 86/129 /content/gdrive/MyDrive/Colab Notebooks/Yolo/Data/images/test/poisson_cast_def_0_376.jpeg: 640x640 1 ok, 7.9ms\n",
            "image 87/129 /content/gdrive/MyDrive/Colab Notebooks/Yolo/Data/images/test/poisson_cast_def_0_377.jpeg: 640x640 1 ok, 7.4ms\n",
            "image 88/129 /content/gdrive/MyDrive/Colab Notebooks/Yolo/Data/images/test/poisson_cast_def_0_378.jpeg: 640x640 1 ok, 7.5ms\n",
            "image 89/129 /content/gdrive/MyDrive/Colab Notebooks/Yolo/Data/images/test/poisson_cast_def_0_379.jpeg: 640x640 1 ok, 7.3ms\n",
            "image 90/129 /content/gdrive/MyDrive/Colab Notebooks/Yolo/Data/images/test/poisson_cast_def_0_380.jpeg: 640x640 1 ok, 7.5ms\n",
            "image 91/129 /content/gdrive/MyDrive/Colab Notebooks/Yolo/Data/images/test/poisson_cast_def_0_387.jpeg: 640x640 1 ok, 8.0ms\n",
            "image 92/129 /content/gdrive/MyDrive/Colab Notebooks/Yolo/Data/images/test/poisson_cast_def_0_396.jpeg: 640x640 1 ok, 7.2ms\n",
            "image 93/129 /content/gdrive/MyDrive/Colab Notebooks/Yolo/Data/images/test/poisson_cast_def_0_399.jpeg: 640x640 1 ok, 7.7ms\n",
            "image 94/129 /content/gdrive/MyDrive/Colab Notebooks/Yolo/Data/images/test/poisson_cast_def_0_401.jpeg: 640x640 1 ok, 7.5ms\n",
            "image 95/129 /content/gdrive/MyDrive/Colab Notebooks/Yolo/Data/images/test/poisson_cast_def_0_402.jpeg: 640x640 1 ok, 7.3ms\n",
            "image 96/129 /content/gdrive/MyDrive/Colab Notebooks/Yolo/Data/images/test/poisson_cast_def_0_404.jpeg: 640x640 1 ok, 7.3ms\n",
            "image 97/129 /content/gdrive/MyDrive/Colab Notebooks/Yolo/Data/images/test/poisson_cast_def_0_409.jpeg: 640x640 1 ok, 7.5ms\n",
            "image 98/129 /content/gdrive/MyDrive/Colab Notebooks/Yolo/Data/images/test/poisson_cast_def_0_411.jpeg: 640x640 2 oks, 7.4ms\n",
            "image 99/129 /content/gdrive/MyDrive/Colab Notebooks/Yolo/Data/images/test/poisson_cast_def_0_415.jpeg: 640x640 1 ok, 7.3ms\n",
            "image 100/129 /content/gdrive/MyDrive/Colab Notebooks/Yolo/Data/images/test/poisson_cast_def_0_417.jpeg: 640x640 1 ok, 7.3ms\n",
            "image 101/129 /content/gdrive/MyDrive/Colab Notebooks/Yolo/Data/images/test/poisson_cast_def_0_421.jpeg: 640x640 1 ok, 7.4ms\n",
            "image 102/129 /content/gdrive/MyDrive/Colab Notebooks/Yolo/Data/images/test/poisson_cast_def_0_422.jpeg: 640x640 1 ok, 7.6ms\n",
            "image 103/129 /content/gdrive/MyDrive/Colab Notebooks/Yolo/Data/images/test/poisson_cast_def_0_423.jpeg: 640x640 1 ok, 8.1ms\n",
            "image 104/129 /content/gdrive/MyDrive/Colab Notebooks/Yolo/Data/images/test/poisson_cast_def_0_425.jpeg: 640x640 2 oks, 7.6ms\n",
            "image 105/129 /content/gdrive/MyDrive/Colab Notebooks/Yolo/Data/images/test/salt_pepper_cast_def_0_103.jpeg: 640x640 1 ok, 7.3ms\n",
            "image 106/129 /content/gdrive/MyDrive/Colab Notebooks/Yolo/Data/images/test/salt_pepper_cast_def_0_105.jpeg: 640x640 1 ok, 7.8ms\n",
            "image 107/129 /content/gdrive/MyDrive/Colab Notebooks/Yolo/Data/images/test/salt_pepper_cast_def_0_107.jpeg: 640x640 1 ok, 7.7ms\n",
            "image 108/129 /content/gdrive/MyDrive/Colab Notebooks/Yolo/Data/images/test/salt_pepper_cast_def_0_109.jpeg: 640x640 1 ok, 9.6ms\n",
            "image 109/129 /content/gdrive/MyDrive/Colab Notebooks/Yolo/Data/images/test/salt_pepper_cast_def_0_110.jpeg: 640x640 2 oks, 8.5ms\n",
            "image 110/129 /content/gdrive/MyDrive/Colab Notebooks/Yolo/Data/images/test/salt_pepper_cast_def_0_116.jpeg: 640x640 1 ok, 7.4ms\n",
            "image 111/129 /content/gdrive/MyDrive/Colab Notebooks/Yolo/Data/images/test/salt_pepper_cast_def_0_120.jpeg: 640x640 1 ok, 7.7ms\n",
            "image 112/129 /content/gdrive/MyDrive/Colab Notebooks/Yolo/Data/images/test/salt_pepper_cast_def_0_122.jpeg: 640x640 1 ok, 7.6ms\n",
            "image 113/129 /content/gdrive/MyDrive/Colab Notebooks/Yolo/Data/images/test/salt_pepper_cast_def_0_126.jpeg: 640x640 1 ok, 7.5ms\n",
            "image 114/129 /content/gdrive/MyDrive/Colab Notebooks/Yolo/Data/images/test/salt_pepper_cast_def_0_130.jpeg: 640x640 1 ok, 7.3ms\n",
            "image 115/129 /content/gdrive/MyDrive/Colab Notebooks/Yolo/Data/images/test/salt_pepper_cast_def_0_131.jpeg: 640x640 1 ok, 7.3ms\n",
            "image 116/129 /content/gdrive/MyDrive/Colab Notebooks/Yolo/Data/images/test/salt_pepper_cast_def_0_133.jpeg: 640x640 1 ok, 7.3ms\n",
            "image 117/129 /content/gdrive/MyDrive/Colab Notebooks/Yolo/Data/images/test/salt_pepper_cast_def_0_135.jpeg: 640x640 1 ok, 7.4ms\n",
            "image 118/129 /content/gdrive/MyDrive/Colab Notebooks/Yolo/Data/images/test/salt_pepper_cast_def_0_136.jpeg: 640x640 1 ok, 7.3ms\n",
            "image 119/129 /content/gdrive/MyDrive/Colab Notebooks/Yolo/Data/images/test/salt_pepper_cast_def_0_148.jpeg: 640x640 1 ok, 7.7ms\n",
            "image 120/129 /content/gdrive/MyDrive/Colab Notebooks/Yolo/Data/images/test/salt_pepper_cast_def_0_163.jpeg: 640x640 1 ok, 7.2ms\n",
            "image 121/129 /content/gdrive/MyDrive/Colab Notebooks/Yolo/Data/images/test/salt_pepper_cast_def_0_175.jpeg: 640x640 1 ok, 7.7ms\n",
            "image 122/129 /content/gdrive/MyDrive/Colab Notebooks/Yolo/Data/images/test/salt_pepper_cast_def_0_186.jpeg: 640x640 1 ok, 7.7ms\n",
            "image 123/129 /content/gdrive/MyDrive/Colab Notebooks/Yolo/Data/images/test/salt_pepper_cast_def_0_191.jpeg: 640x640 1 ok, 7.5ms\n",
            "image 124/129 /content/gdrive/MyDrive/Colab Notebooks/Yolo/Data/images/test/salt_pepper_cast_def_0_91.jpeg: 640x640 1 ok, 7.7ms\n",
            "image 125/129 /content/gdrive/MyDrive/Colab Notebooks/Yolo/Data/images/test/salt_pepper_cast_def_0_92.jpeg: 640x640 1 ok, 7.8ms\n",
            "image 126/129 /content/gdrive/MyDrive/Colab Notebooks/Yolo/Data/images/test/salt_pepper_cast_def_0_95.jpeg: 640x640 1 ok, 7.9ms\n",
            "image 127/129 /content/gdrive/MyDrive/Colab Notebooks/Yolo/Data/images/test/salt_pepper_cast_def_0_97.jpeg: 640x640 1 ok, 7.5ms\n",
            "image 128/129 /content/gdrive/MyDrive/Colab Notebooks/Yolo/Data/images/test/salt_pepper_cast_def_0_98.jpeg: 640x640 1 ok, 7.5ms\n",
            "image 129/129 /content/gdrive/MyDrive/Colab Notebooks/Yolo/Data/images/test/salt_pepper_cast_def_0_99.jpeg: 640x640 1 ok, 7.3ms\n",
            "Speed: 2.3ms preprocess, 7.6ms inference, 1.3ms postprocess per image at shape (1, 3, 640, 640)\n",
            "Results saved to \u001b[1mruns/detect/train62\u001b[0m\n"
          ]
        }
      ]
    },
    {
      "cell_type": "markdown",
      "metadata": {
        "id": "_PrWpgLFMHxT"
      },
      "source": [
        "\n",
        "\n",
        "Adding noise to the datasets"
      ]
    },
    {
      "cell_type": "code",
      "execution_count": null,
      "metadata": {
        "id": "Th617ETCUvfp"
      },
      "outputs": [],
      "source": [
        "import os\n",
        "import cv2\n",
        "import numpy as np\n",
        "from glob import glob\n",
        "from tqdm import tqdm\n",
        "import os\n",
        "import random\n",
        "import shutil\n",
        "\n",
        "\n",
        "def salt_and_pepper_noise(image, salt_prob = 0.05, pepper_prob = 0.05):\n",
        "    noisy_image = np.copy(image)\n",
        "    total_pixels = image.shape[0] * image.shape[1]\n",
        "\n",
        "    # Add salt noise\n",
        "    num_salt = np.ceil(salt_prob * total_pixels)\n",
        "    coords = [np.random.randint(0, i - 1, int(num_salt)) for i in image.shape]\n",
        "    noisy_image[coords[0], coords[1], :] = 255\n",
        "\n",
        "    # Add pepper noise\n",
        "    num_pepper = np.ceil(pepper_prob * total_pixels)\n",
        "    coords = [np.random.randint(0, i - 1, int(num_pepper)) for i in image.shape]\n",
        "    noisy_image[coords[0], coords[1], :] = 0\n",
        "\n",
        "    return noisy_image\n",
        "\n",
        "\n",
        "def poisson_noise(image, noise_intensity=0.01):\n",
        "    image = image / 255.0\n",
        "    noisy_image = np.random.poisson(image * 255 * noise_intensity) / (255 * noise_intensity)\n",
        "    noisy_image = np.clip(noisy_image, 0, 1) * 255\n",
        "    return noisy_image.astype(np.uint8)\n",
        "\n",
        "\n",
        "def median_filter(image):\n",
        "    kernel_size = random.choice([3, 5, 7])\n",
        "    filtered_image = cv2.medianBlur(image, kernel_size)\n",
        "    return filtered_image\n"
      ]
    },
    {
      "cell_type": "code",
      "execution_count": null,
      "metadata": {
        "id": "7BdMcVH29rzZ"
      },
      "outputs": [],
      "source": [
        "# Paths\n",
        "image_path_training = sorted(glob(\"/content/gdrive/MyDrive/Colab Notebooks/Yolo/Data/images/train/*\"))\n",
        "label_path_training = sorted(glob(\"/content/gdrive/MyDrive/Colab Notebooks/Yolo/Data/labels/train/*\"))\n",
        "\n",
        "# Create directories for noisy/filtered images\n",
        "\n",
        "os.makedirs('/content/gdrive/MyDrive/Colab Notebooks/Yolo/Data/images/train_aug', exist_ok=True);\n",
        "os.makedirs('/content/gdrive/MyDrive/Colab Notebooks/Yolo/Data/labels/train_aug', exist_ok=True);\n",
        "\n",
        "# Calculate the number of images for each portions of augmentation\n",
        "n = len(image_path_training)\n",
        "train_augment_size = n // 5\n",
        "\n",
        "# Check if  labels and images are matching in name\n",
        "def check_label_match(img_path, lbl_path):\n",
        "    img_name = os.path.splitext(os.path.basename(img_path))[0]\n",
        "    lbl_name = os.path.splitext(os.path.basename(lbl_path))[0]\n",
        "    return img_name == lbl_name\n",
        "\n",
        "    # Apply Salt and Pepper Noise to the first 1/5 of the dataset\n",
        "for img_path, lbl_path in tqdm(zip(image_path_training[:train_augment_size], label_path_training[:train_augment_size]), total=train_augment_size):\n",
        "\n",
        "    #Verify the pairing between images and their label\n",
        "    if not check_label_match(img_path, lbl_path):\n",
        "        print(f\"Warning: Label {lbl_path} does not match image {img_path}. Skipping.\")\n",
        "        continue\n",
        "\n",
        "    #Load the image and its corresponding name\n",
        "    img = cv2.imread(img_path)\n",
        "    img_name = os.path.basename(img_path)\n",
        "\n",
        "    # Apply salt and pepper noise\n",
        "    noisy_img_salt_pepper = salt_and_pepper_noise(img)\n",
        "    cv2.imwrite(f\"/content/gdrive/MyDrive/Colab Notebooks/Yolo/Data/images/train_aug/salt_pepper_{img_name}\", noisy_img_salt_pepper)\n",
        "\n",
        "    # Check if label file exists before copying\n",
        "    label_dst_path = f\"/content/gdrive/MyDrive/Colab Notebooks/Yolo/Data/labels/train_aug/salt_pepper_{os.path.basename(lbl_path)}\"\n",
        "    if os.path.exists(lbl_path):\n",
        "        shutil.copy(lbl_path, label_dst_path)\n",
        "    else:\n",
        "        print(f\"Warning: Label file {lbl_path} does not exist\")\n",
        "\n",
        "\n",
        "    # Apply Poisson Noise to the second 1/5 of the dataset\n",
        "for img_path, lbl_path in tqdm(zip(image_path_training[train_augment_size:2*train_augment_size], label_path_training[train_augment_size:2*train_augment_size]), total=train_augment_size):\n",
        "\n",
        "    #Verify the pairing between images and their label\n",
        "    if not check_label_match(img_path, lbl_path):\n",
        "        print(f\"Warning: Label {lbl_path} does not match image {img_path}. Skipping.\")\n",
        "        continue\n",
        "\n",
        "    #Load the image and its corresponding name\n",
        "    img = cv2.imread(img_path)\n",
        "    img_name = os.path.basename(img_path)\n",
        "\n",
        "    # Apply Poisson noise\n",
        "    noisy_img_poisson = poisson_noise(img)\n",
        "    cv2.imwrite(f\"/content/gdrive/MyDrive/Colab Notebooks/Yolo/Data/images/train_aug/poisson_{img_name}\", noisy_img_poisson)\n",
        "\n",
        "    # Check if label file exists before copying\n",
        "    label_dst_path = f\"/content/gdrive/MyDrive/Colab Notebooks/Yolo/Data/labels/train_aug/poisson_{os.path.basename(lbl_path)}\"\n",
        "    if os.path.exists(lbl_path):\n",
        "        shutil.copy(lbl_path, label_dst_path)\n",
        "    else:\n",
        "        print(f\"Warning: Label file {lbl_path} does not exist\")\n",
        "\n",
        "\n",
        "# Apply Median Filter to the third 1/5 of the dataset\n",
        "for img_path, lbl_path in tqdm(zip(image_path_training[2*train_augment_size:3*train_augment_size], label_path_training[2*train_augment_size:3*train_augment_size]), total=train_augment_size):\n",
        "\n",
        "    #Verify the pairing between images and their label\n",
        "    if not check_label_match(img_path, lbl_path):\n",
        "        print(f\"Warning: Label {lbl_path} does not match image {img_path}. Skipping.\")\n",
        "        continue\n",
        "\n",
        "    #Load the image and its corresponding name\n",
        "    img = cv2.imread(img_path)\n",
        "    img_name = os.path.basename(img_path)\n",
        "\n",
        "    # Apply median filter\n",
        "    filtered_img_median = median_filter(img)\n",
        "    cv2.imwrite(f\"/content/gdrive/MyDrive/Colab Notebooks/Yolo/Data/images/train_aug/median_{img_name}\", filtered_img_median)\n",
        "\n",
        "    # Check if label file exists before copying\n",
        "    label_dst_path = f\"/content/gdrive/MyDrive/Colab Notebooks/Yolo/Data/labels/train_aug/median_{os.path.basename(lbl_path)}\"\n",
        "    if os.path.exists(lbl_path):\n",
        "        shutil.copy(lbl_path, label_dst_path)\n",
        "    else:\n",
        "        print(f\"Warning: Label file {lbl_path} does not exist\")"
      ]
    },
    {
      "cell_type": "code",
      "execution_count": null,
      "metadata": {
        "id": "Ir1aM370lPbH"
      },
      "outputs": [],
      "source": [
        "# Paths\n",
        "image_path_val = sorted(glob(\"/content/gdrive/MyDrive/Colab Notebooks/Yolo/Data/images/val/*\"))\n",
        "label_path_val = sorted(glob(\"/content/gdrive/MyDrive/Colab Notebooks/Yolo/Data/labels/val/*\"))\n",
        "\n",
        "# Create directories for noisy/filtered images\n",
        "\n",
        "os.makedirs('/content/gdrive/MyDrive/Colab Notebooks/Yolo/Data/images/val_aug', exist_ok=True);\n",
        "os.makedirs('/content/gdrive/MyDrive/Colab Notebooks/Yolo/Data/labels/val_aug', exist_ok=True);\n",
        "\n",
        "# Calculate the number of images for each portions of augmentation\n",
        "n = len(image_path_val)\n",
        "val_augment_size = n // 3\n",
        "\n",
        "#Randomize the dataset for a much more diverse augmentation\n",
        "image_label_pairs = list(zip(image_path_val, label_path_val))\n",
        "np.random.shuffle(image_label_pairs)\n",
        "image_path_val, label_path_val = zip(*image_label_pairs)\n",
        "\n",
        "# Check if  labels and images are matching in name\n",
        "def check_label_match(img_path, lbl_path):\n",
        "    img_name = os.path.splitext(os.path.basename(img_path))[0]\n",
        "    lbl_name = os.path.splitext(os.path.basename(lbl_path))[0]\n",
        "    return img_name == lbl_name\n",
        "\n",
        "# Apply filters to different segments of the dataset\n",
        "for img_path, lbl_path in tqdm(zip(image_path_val[:val_augment_size], label_path_val[:val_augment_size]), total=val_augment_size):\n",
        "\n",
        "    #Verify the pairing between images and their label\n",
        "    if not check_label_match(img_path, lbl_path):\n",
        "        print(f\"Warning: Label {lbl_path} does not match image {img_path}. Skipping.\")\n",
        "        continue\n",
        "\n",
        "    #Load the image and its corresponding name\n",
        "    img = cv2.imread(img_path)\n",
        "    img_name = os.path.basename(img_path)\n",
        "\n",
        "    # Apply salt and pepper noise\n",
        "    noisy_img_salt_pepper = salt_and_pepper_noise(img)\n",
        "    cv2.imwrite(f\"/content/gdrive/MyDrive/Colab Notebooks/Yolo/Data/images/val_aug/val_salt_pepper_{img_name}\", noisy_img_salt_pepper)\n",
        "    label_dst_path = f\"/content/gdrive/MyDrive/Colab Notebooks/Yolo/Data/labels/val_aug/val_salt_pepper_{os.path.basename(lbl_path)}\"\n",
        "\n",
        "    # Check if label file exists before copying\n",
        "    if os.path.exists(lbl_path):\n",
        "        shutil.copy(lbl_path, label_dst_path)\n",
        "    else:\n",
        "        print(f\"Warning: Label file {lbl_path} does not exist\")\n",
        "\n",
        "# Apply Poisson Noise to the second split\n",
        "for img_path, lbl_path in tqdm(zip(image_path_val[val_augment_size:2*val_augment_size], label_path_val[val_augment_size:2*val_augment_size]), total=val_augment_size):\n",
        "\n",
        "    #Verify the pairing between images and their label\n",
        "    if not check_label_match(img_path, lbl_path):\n",
        "        print(f\"Warning: Label {lbl_path} does not match image {img_path}. Skipping.\")\n",
        "        continue\n",
        "\n",
        "    #Load the image and its corresponding name\n",
        "    img = cv2.imread(img_path)\n",
        "    img_name = os.path.basename(img_path)\n",
        "\n",
        "    # Apply Poisson noise\n",
        "    noisy_img_poisson = poisson_noise(img)\n",
        "    cv2.imwrite(f\"/content/gdrive/MyDrive/Colab Notebooks/Yolo/Data/images/val_aug/val_poisson_{img_name}\", noisy_img_poisson)\n",
        "    label_dst_path = f\"/content/gdrive/MyDrive/Colab Notebooks/Yolo/Data/labels/val_aug/val_poisson_{os.path.basename(lbl_path)}\"\n",
        "\n",
        "    # Check if label file exists before copying\n",
        "    if os.path.exists(lbl_path):\n",
        "        shutil.copy(lbl_path, label_dst_path)\n",
        "    else:\n",
        "        print(f\"Warning: Label file {lbl_path} does not exist\")\n",
        "\n",
        "# Apply Median Filter to the third split\n",
        "for img_path, lbl_path in tqdm(zip(image_path_val[2*val_augment_size:], label_path_val[2*val_augment_size:]), total=val_augment_size):\n",
        "\n",
        "    #Verify the pairing between images and their label\n",
        "    if not check_label_match(img_path, lbl_path):\n",
        "        print(f\"Warning: Label {lbl_path} does not match image {img_path}. Skipping.\")\n",
        "        continue\n",
        "\n",
        "    #Load the image and its corresponding name\n",
        "    img = cv2.imread(img_path)\n",
        "    img_name = os.path.basename(img_path)\n",
        "\n",
        "    # Apply median filter\n",
        "    filtered_img_median = median_filter(img)\n",
        "    cv2.imwrite(f\"/content/gdrive/MyDrive/Colab Notebooks/Yolo/Data/images/val_aug/val_median_{img_name}\", filtered_img_median)\n",
        "    label_dst_path = f\"/content/gdrive/MyDrive/Colab Notebooks/Yolo/Data/labels/val_aug/val_median_{os.path.basename(lbl_path)}\"\n",
        "\n",
        "    # Check if label file exists before copying\n",
        "    if os.path.exists(lbl_path):\n",
        "        shutil.copy(lbl_path, label_dst_path)\n",
        "    else:\n",
        "        print(f\"Warning: Label file {lbl_path} does not exist\")"
      ]
    },
    {
      "cell_type": "markdown",
      "metadata": {
        "id": "phd7tSabM14n"
      },
      "source": [
        "Merging the original folder and the augmentated folder in a combined folder"
      ]
    },
    {
      "cell_type": "code",
      "execution_count": null,
      "metadata": {
        "id": "n2KNeco7M2O-"
      },
      "outputs": [],
      "source": [
        "import os\n",
        "import shutil\n",
        "\n",
        "# Paths for training dataset\n",
        "train_img_aug = '/content/gdrive/MyDrive/Colab Notebooks/Yolo/Data/images/train_aug'\n",
        "train_img_original = '/content/gdrive/MyDrive/Colab Notebooks/Yolo/Data/images/train'\n",
        "train_label_aug = '/content/gdrive/MyDrive/Colab Notebooks/Yolo/Data/labels/train_aug'\n",
        "train_label_original = '/content/gdrive/MyDrive/Colab Notebooks/Yolo/Data/labels/train'\n",
        "\n",
        "# Paths for validation dataset\n",
        "val_img_aug = '/content/gdrive/MyDrive/Colab Notebooks/Yolo/Data/images/val_aug'\n",
        "val_img_original = '/content/gdrive/MyDrive/Colab Notebooks/Yolo/Data/images/val'\n",
        "val_label_aug = '/content/gdrive/MyDrive/Colab Notebooks/Yolo/Data/labels/val_aug'\n",
        "val_label_original = '/content/gdrive/MyDrive/Colab Notebooks/Yolo/Data/labels/val'\n",
        "\n",
        "# Destination directories\n",
        "train_img_mix = '/content/gdrive/MyDrive/Colab Notebooks/Yolo/Data/images/train_mix'\n",
        "train_label_mix = '/content/gdrive/MyDrive/Colab Notebooks/Yolo/Data/labels/train_mix'\n",
        "val_img_mix = '/content/gdrive/MyDrive/Colab Notebooks/Yolo/Data/images/val_mix'\n",
        "val_label_mix = '/content/gdrive/MyDrive/Colab Notebooks/Yolo/Data/labels/val_mix'\n",
        "\n",
        "# Create destination directories if they do not exist\n",
        "os.makedirs(train_img_mix, exist_ok=True)\n",
        "os.makedirs(train_label_mix, exist_ok=True)\n",
        "os.makedirs(val_img_mix, exist_ok=True)\n",
        "os.makedirs(val_label_mix, exist_ok=True)\n",
        "\n",
        "#\n",
        "def copy_files(src_dir, dst_dir):\n",
        "    for file_name in os.listdir(src_dir):\n",
        "        src_path = os.path.join(src_dir, file_name)\n",
        "        dst_path = os.path.join(dst_dir, file_name)\n",
        "        if os.path.isfile(src_path):\n",
        "            shutil.copy(src_path, dst_path)\n",
        "            print(f\"Copied {src_path} to {dst_path}\")\n",
        "        else:\n",
        "            print(f\"Skipped {src_path}, not a file\")\n",
        "\n",
        "# Copy images and labels for the new datasets\n",
        "print(\"Copying training images...\")\n",
        "copy_files(train_img_original, train_img_mix)\n",
        "copy_files(train_img_aug, train_img_mix)\n",
        "\n",
        "print(\"Copying training labels...\")\n",
        "copy_files(train_label_original, train_label_mix)\n",
        "copy_files(train_label_aug, train_label_mix)\n",
        "\n",
        "print(\"Copying validation images...\")\n",
        "copy_files(val_img_original, val_img_mix)\n",
        "copy_files(val_img_aug, val_img_mix)\n",
        "\n",
        "print(\"Copying validation labels...\")\n",
        "copy_files(val_label_original, val_label_mix)\n",
        "copy_files(val_label_aug, val_label_mix)\n"
      ]
    },
    {
      "cell_type": "markdown",
      "metadata": {
        "id": "AAPZVCE_tktP"
      },
      "source": [
        "Creating a new class for the images where the object is unrecognisable due to the filter applied or the unexistance of label"
      ]
    },
    {
      "cell_type": "code",
      "execution_count": null,
      "metadata": {
        "id": "D_lDU7-BtvFz"
      },
      "outputs": [],
      "source": [
        "# Paths for augmentation dataset\n",
        "augmentet_train_img = '/content/gdrive/MyDrive/Colab Notebooks/Yolo/Data/images/train_mix'\n",
        "augmentet_train_label = '/content/gdrive/MyDrive/Colab Notebooks/Yolo/Data/labels/train_mix'\n",
        "augmentet_val_img = '/content/gdrive/MyDrive/Colab Notebooks/Yolo/Data/images/val_mix'\n",
        "augmentet_val_label = '/content/gdrive/MyDrive/Colab Notebooks/Yolo/Data/labels/val_mix'\n",
        "\n",
        "#Predefined unrecognisable class with bonding box which is covering the whole image\n",
        "class_id = 2\n",
        "x_center, y_center = 0.5, 0.5\n",
        "label_width, label_height = 1.0, 1.0\n",
        "\n",
        "#Images from the training dataset\n",
        "for image_name in os.listdir(augmentet_train_img):\n",
        "        # Create a label file with the same name as the image\n",
        "        label_name = os.path.splitext(image_name)[0] + \".txt\"\n",
        "        label_path = os.path.join(augmentet_train_label, label_name)\n",
        "\n",
        "        # Only create the label file if it doesn't already exist\n",
        "        if not os.path.exists(label_path):\n",
        "            with open(label_path, \"w\") as label_file:\n",
        "                label_file.write(f\"{class_id} {x_center} {y_center} {label_width} {label_height}\\n\")\n",
        "                print(\"Created label file at:\", label_path)\n",
        "\n",
        "#Images from the validating dataset\n",
        "for image_name in os.listdir(augmentet_val_img):\n",
        "        # Create a label file with the same name as the image\n",
        "        label_name = os.path.splitext(image_name)[0] + \".txt\"\n",
        "        label_path = os.path.join(augmentet_val_label, label_name)\n",
        "\n",
        "        # Only create the label file if it doesn't already exist\n",
        "        if not os.path.exists(label_path):\n",
        "\n",
        "            with open(label_path, \"w\") as label_file:\n",
        "                label_file.write(f\"{class_id} {x_center} {y_center} {label_width} {label_height}\\n\")\n",
        "                print(\"Created label file at:\", label_path)\n",
        "\n"
      ]
    },
    {
      "cell_type": "markdown",
      "metadata": {
        "id": "Q4UbQZhLaH2Z"
      },
      "source": [
        "Retraining the model"
      ]
    },
    {
      "cell_type": "code",
      "execution_count": null,
      "metadata": {
        "id": "8JVO1K3-aFQg",
        "colab": {
          "base_uri": "https://localhost:8080/"
        },
        "outputId": "326add2c-ab50-4755-e10e-6569f734fe2b"
      },
      "outputs": [
        {
          "output_type": "stream",
          "name": "stdout",
          "text": [
            "Ultralytics YOLOv8.2.87 🚀 Python-3.10.12 torch-2.4.0+cu121 CUDA:0 (NVIDIA L4, 22700MiB)\n",
            "\u001b[34m\u001b[1mengine/trainer: \u001b[0mtask=detect, mode=train, model=yolov8n.pt, data=/content/gdrive/MyDrive/Colab Notebooks/Yolo/Data/colab_file.yaml, epochs=29, time=None, patience=100, batch=14, imgsz=640, save=True, save_period=-1, cache=False, device=None, workers=8, project=None, name=train7, exist_ok=False, pretrained=True, optimizer=auto, verbose=True, seed=0, deterministic=True, single_cls=False, rect=False, cos_lr=False, close_mosaic=10, resume=False, amp=True, fraction=1.0, profile=False, freeze=None, multi_scale=False, overlap_mask=True, mask_ratio=4, dropout=0.0, val=True, split=val, save_json=False, save_hybrid=False, conf=None, iou=0.7, max_det=300, half=False, dnn=False, plots=True, source=None, vid_stride=1, stream_buffer=False, visualize=False, augment=False, agnostic_nms=False, classes=None, retina_masks=False, embed=None, show=False, save_frames=False, save_txt=False, save_conf=False, save_crop=False, show_labels=True, show_conf=True, show_boxes=True, line_width=None, format=torchscript, keras=False, optimize=False, int8=False, dynamic=False, simplify=False, opset=None, workspace=4, nms=False, lr0=5e-05, lrf=0.001, momentum=0.937, weight_decay=0.0005, warmup_epochs=3.0, warmup_momentum=0.8, warmup_bias_lr=0.1, box=7.5, cls=0.5, dfl=1.5, pose=12.0, kobj=1.0, label_smoothing=0.0, nbs=64, hsv_h=0.015, hsv_s=0.7, hsv_v=0.4, degrees=0.0, translate=0.1, scale=0.5, shear=0.0, perspective=0.0, flipud=0.0, fliplr=0.5, bgr=0.0, mosaic=1.0, mixup=0.0, copy_paste=0.0, auto_augment=randaugment, erasing=0.4, crop_fraction=1.0, cfg=None, tracker=botsort.yaml, save_dir=runs/detect/train7\n",
            "Overriding model.yaml nc=80 with nc=2\n",
            "\n",
            "                   from  n    params  module                                       arguments                     \n",
            "  0                  -1  1       464  ultralytics.nn.modules.conv.Conv             [3, 16, 3, 2]                 \n",
            "  1                  -1  1      4672  ultralytics.nn.modules.conv.Conv             [16, 32, 3, 2]                \n",
            "  2                  -1  1      7360  ultralytics.nn.modules.block.C2f             [32, 32, 1, True]             \n",
            "  3                  -1  1     18560  ultralytics.nn.modules.conv.Conv             [32, 64, 3, 2]                \n",
            "  4                  -1  2     49664  ultralytics.nn.modules.block.C2f             [64, 64, 2, True]             \n",
            "  5                  -1  1     73984  ultralytics.nn.modules.conv.Conv             [64, 128, 3, 2]               \n",
            "  6                  -1  2    197632  ultralytics.nn.modules.block.C2f             [128, 128, 2, True]           \n",
            "  7                  -1  1    295424  ultralytics.nn.modules.conv.Conv             [128, 256, 3, 2]              \n",
            "  8                  -1  1    460288  ultralytics.nn.modules.block.C2f             [256, 256, 1, True]           \n",
            "  9                  -1  1    164608  ultralytics.nn.modules.block.SPPF            [256, 256, 5]                 \n",
            " 10                  -1  1         0  torch.nn.modules.upsampling.Upsample         [None, 2, 'nearest']          \n",
            " 11             [-1, 6]  1         0  ultralytics.nn.modules.conv.Concat           [1]                           \n",
            " 12                  -1  1    148224  ultralytics.nn.modules.block.C2f             [384, 128, 1]                 \n",
            " 13                  -1  1         0  torch.nn.modules.upsampling.Upsample         [None, 2, 'nearest']          \n",
            " 14             [-1, 4]  1         0  ultralytics.nn.modules.conv.Concat           [1]                           \n",
            " 15                  -1  1     37248  ultralytics.nn.modules.block.C2f             [192, 64, 1]                  \n",
            " 16                  -1  1     36992  ultralytics.nn.modules.conv.Conv             [64, 64, 3, 2]                \n",
            " 17            [-1, 12]  1         0  ultralytics.nn.modules.conv.Concat           [1]                           \n",
            " 18                  -1  1    123648  ultralytics.nn.modules.block.C2f             [192, 128, 1]                 \n",
            " 19                  -1  1    147712  ultralytics.nn.modules.conv.Conv             [128, 128, 3, 2]              \n",
            " 20             [-1, 9]  1         0  ultralytics.nn.modules.conv.Concat           [1]                           \n",
            " 21                  -1  1    493056  ultralytics.nn.modules.block.C2f             [384, 256, 1]                 \n",
            " 22        [15, 18, 21]  1    751702  ultralytics.nn.modules.head.Detect           [2, [64, 128, 256]]           \n",
            "Model summary: 225 layers, 3,011,238 parameters, 3,011,222 gradients, 8.2 GFLOPs\n",
            "\n",
            "Transferred 319/355 items from pretrained weights\n",
            "\u001b[34m\u001b[1mTensorBoard: \u001b[0mStart with 'tensorboard --logdir runs/detect/train7', view at http://localhost:6006/\n",
            "Freezing layer 'model.22.dfl.conv.weight'\n",
            "\u001b[34m\u001b[1mAMP: \u001b[0mrunning Automatic Mixed Precision (AMP) checks with YOLOv8n...\n",
            "\u001b[34m\u001b[1mAMP: \u001b[0mchecks passed ✅\n"
          ]
        },
        {
          "output_type": "stream",
          "name": "stderr",
          "text": [
            "\u001b[34m\u001b[1mtrain: \u001b[0mScanning /content/gdrive/MyDrive/Colab Notebooks/Yolo/Data/labels/train.cache... 1094 images, 2 backgrounds, 0 corrupt: 100%|██████████| 1096/1096 [00:00<?, ?it/s]"
          ]
        },
        {
          "output_type": "stream",
          "name": "stdout",
          "text": [
            "\u001b[34m\u001b[1malbumentations: \u001b[0mBlur(p=0.01, blur_limit=(3, 7)), MedianBlur(p=0.01, blur_limit=(3, 7)), ToGray(p=0.01), CLAHE(p=0.01, clip_limit=(1, 4.0), tile_grid_size=(8, 8))\n"
          ]
        },
        {
          "output_type": "stream",
          "name": "stderr",
          "text": [
            "\n",
            "/usr/lib/python3.10/multiprocessing/popen_fork.py:66: RuntimeWarning: os.fork() was called. os.fork() is incompatible with multithreaded code, and JAX is multithreaded, so this will likely lead to a deadlock.\n",
            "  self.pid = os.fork()\n",
            "\u001b[34m\u001b[1mval: \u001b[0mScanning /content/gdrive/MyDrive/Colab Notebooks/Yolo/Data/labels/val.cache... 300 images, 0 backgrounds, 0 corrupt: 100%|██████████| 300/300 [00:00<?, ?it/s]\n"
          ]
        },
        {
          "output_type": "stream",
          "name": "stdout",
          "text": [
            "Plotting labels to runs/detect/train7/labels.jpg... \n",
            "\u001b[34m\u001b[1moptimizer:\u001b[0m 'optimizer=auto' found, ignoring 'lr0=5e-05' and 'momentum=0.937' and determining best 'optimizer', 'lr0' and 'momentum' automatically... \n",
            "\u001b[34m\u001b[1moptimizer:\u001b[0m AdamW(lr=0.001667, momentum=0.9) with parameter groups 57 weight(decay=0.0), 64 weight(decay=0.000546875), 63 bias(decay=0.0)\n",
            "\u001b[34m\u001b[1mTensorBoard: \u001b[0mmodel graph visualization added ✅\n",
            "Image sizes 640 train, 640 val\n",
            "Using 8 dataloader workers\n",
            "Logging results to \u001b[1mruns/detect/train7\u001b[0m\n",
            "Starting training for 29 epochs...\n",
            "\n",
            "      Epoch    GPU_mem   box_loss   cls_loss   dfl_loss  Instances       Size\n"
          ]
        },
        {
          "output_type": "stream",
          "name": "stderr",
          "text": [
            "       1/29      2.03G      1.788      2.719      1.558         20        640: 100%|██████████| 79/79 [00:09<00:00,  7.92it/s]\n",
            "                 Class     Images  Instances      Box(P          R      mAP50  mAP50-95): 100%|██████████| 11/11 [00:01<00:00,  5.53it/s]\n"
          ]
        },
        {
          "output_type": "stream",
          "name": "stdout",
          "text": [
            "                   all        300        829      0.707      0.446      0.556      0.334\n",
            "\n",
            "      Epoch    GPU_mem   box_loss   cls_loss   dfl_loss  Instances       Size\n"
          ]
        },
        {
          "output_type": "stream",
          "name": "stderr",
          "text": [
            "       2/29      1.97G      1.747      2.119      1.499          8        640: 100%|██████████| 79/79 [00:08<00:00,  9.63it/s]\n",
            "                 Class     Images  Instances      Box(P          R      mAP50  mAP50-95): 100%|██████████| 11/11 [00:01<00:00,  7.04it/s]"
          ]
        },
        {
          "output_type": "stream",
          "name": "stdout",
          "text": [
            "                   all        300        829      0.296      0.591      0.354      0.145\n"
          ]
        },
        {
          "output_type": "stream",
          "name": "stderr",
          "text": [
            "\n"
          ]
        },
        {
          "output_type": "stream",
          "name": "stdout",
          "text": [
            "\n",
            "      Epoch    GPU_mem   box_loss   cls_loss   dfl_loss  Instances       Size\n"
          ]
        },
        {
          "output_type": "stream",
          "name": "stderr",
          "text": [
            "       3/29      1.95G      1.719      1.891      1.488         17        640: 100%|██████████| 79/79 [00:07<00:00, 10.12it/s]\n",
            "                 Class     Images  Instances      Box(P          R      mAP50  mAP50-95): 100%|██████████| 11/11 [00:01<00:00,  6.81it/s]"
          ]
        },
        {
          "output_type": "stream",
          "name": "stdout",
          "text": [
            "                   all        300        829      0.568      0.584      0.595      0.388\n"
          ]
        },
        {
          "output_type": "stream",
          "name": "stderr",
          "text": [
            "\n"
          ]
        },
        {
          "output_type": "stream",
          "name": "stdout",
          "text": [
            "\n",
            "      Epoch    GPU_mem   box_loss   cls_loss   dfl_loss  Instances       Size\n"
          ]
        },
        {
          "output_type": "stream",
          "name": "stderr",
          "text": [
            "       4/29      1.95G      1.701      1.772      1.449         17        640: 100%|██████████| 79/79 [00:07<00:00, 10.28it/s]\n",
            "                 Class     Images  Instances      Box(P          R      mAP50  mAP50-95): 100%|██████████| 11/11 [00:01<00:00,  7.11it/s]"
          ]
        },
        {
          "output_type": "stream",
          "name": "stdout",
          "text": [
            "                   all        300        829      0.631      0.706      0.678      0.508\n"
          ]
        },
        {
          "output_type": "stream",
          "name": "stderr",
          "text": [
            "\n"
          ]
        },
        {
          "output_type": "stream",
          "name": "stdout",
          "text": [
            "\n",
            "      Epoch    GPU_mem   box_loss   cls_loss   dfl_loss  Instances       Size\n"
          ]
        },
        {
          "output_type": "stream",
          "name": "stderr",
          "text": [
            "       5/29      1.93G      1.677      1.662      1.453         20        640: 100%|██████████| 79/79 [00:07<00:00, 10.19it/s]\n",
            "                 Class     Images  Instances      Box(P          R      mAP50  mAP50-95): 100%|██████████| 11/11 [00:01<00:00,  6.95it/s]"
          ]
        },
        {
          "output_type": "stream",
          "name": "stdout",
          "text": [
            "                   all        300        829      0.668        0.7      0.703       0.51\n"
          ]
        },
        {
          "output_type": "stream",
          "name": "stderr",
          "text": [
            "\n"
          ]
        },
        {
          "output_type": "stream",
          "name": "stdout",
          "text": [
            "\n",
            "      Epoch    GPU_mem   box_loss   cls_loss   dfl_loss  Instances       Size\n"
          ]
        },
        {
          "output_type": "stream",
          "name": "stderr",
          "text": [
            "       6/29      1.95G      1.589      1.557        1.4         10        640: 100%|██████████| 79/79 [00:07<00:00, 10.55it/s]\n",
            "                 Class     Images  Instances      Box(P          R      mAP50  mAP50-95): 100%|██████████| 11/11 [00:01<00:00,  7.70it/s]"
          ]
        },
        {
          "output_type": "stream",
          "name": "stdout",
          "text": [
            "                   all        300        829       0.56      0.705      0.717      0.526\n"
          ]
        },
        {
          "output_type": "stream",
          "name": "stderr",
          "text": [
            "\n"
          ]
        },
        {
          "output_type": "stream",
          "name": "stdout",
          "text": [
            "\n",
            "      Epoch    GPU_mem   box_loss   cls_loss   dfl_loss  Instances       Size\n"
          ]
        },
        {
          "output_type": "stream",
          "name": "stderr",
          "text": [
            "       7/29      1.95G      1.591      1.486      1.402         33        640: 100%|██████████| 79/79 [00:07<00:00, 10.08it/s]\n",
            "                 Class     Images  Instances      Box(P          R      mAP50  mAP50-95): 100%|██████████| 11/11 [00:01<00:00,  7.17it/s]"
          ]
        },
        {
          "output_type": "stream",
          "name": "stdout",
          "text": [
            "                   all        300        829       0.65      0.733      0.722      0.543\n"
          ]
        },
        {
          "output_type": "stream",
          "name": "stderr",
          "text": [
            "\n"
          ]
        },
        {
          "output_type": "stream",
          "name": "stdout",
          "text": [
            "\n",
            "      Epoch    GPU_mem   box_loss   cls_loss   dfl_loss  Instances       Size\n"
          ]
        },
        {
          "output_type": "stream",
          "name": "stderr",
          "text": [
            "       8/29      1.95G      1.552       1.46      1.364         18        640: 100%|██████████| 79/79 [00:07<00:00, 10.29it/s]\n",
            "                 Class     Images  Instances      Box(P          R      mAP50  mAP50-95): 100%|██████████| 11/11 [00:01<00:00,  7.75it/s]"
          ]
        },
        {
          "output_type": "stream",
          "name": "stdout",
          "text": [
            "                   all        300        829       0.61      0.731      0.725       0.56\n"
          ]
        },
        {
          "output_type": "stream",
          "name": "stderr",
          "text": [
            "\n"
          ]
        },
        {
          "output_type": "stream",
          "name": "stdout",
          "text": [
            "\n",
            "      Epoch    GPU_mem   box_loss   cls_loss   dfl_loss  Instances       Size\n"
          ]
        },
        {
          "output_type": "stream",
          "name": "stderr",
          "text": [
            "       9/29      1.95G      1.515      1.394      1.348         23        640: 100%|██████████| 79/79 [00:07<00:00,  9.93it/s]\n",
            "                 Class     Images  Instances      Box(P          R      mAP50  mAP50-95): 100%|██████████| 11/11 [00:01<00:00,  7.85it/s]"
          ]
        },
        {
          "output_type": "stream",
          "name": "stdout",
          "text": [
            "                   all        300        829      0.682       0.74      0.752      0.562\n"
          ]
        },
        {
          "output_type": "stream",
          "name": "stderr",
          "text": [
            "\n"
          ]
        },
        {
          "output_type": "stream",
          "name": "stdout",
          "text": [
            "\n",
            "      Epoch    GPU_mem   box_loss   cls_loss   dfl_loss  Instances       Size\n"
          ]
        },
        {
          "output_type": "stream",
          "name": "stderr",
          "text": [
            "      10/29      1.98G      1.473      1.352      1.322         21        640: 100%|██████████| 79/79 [00:07<00:00, 10.60it/s]\n",
            "                 Class     Images  Instances      Box(P          R      mAP50  mAP50-95): 100%|██████████| 11/11 [00:01<00:00,  7.28it/s]"
          ]
        },
        {
          "output_type": "stream",
          "name": "stdout",
          "text": [
            "                   all        300        829      0.789      0.731      0.775      0.575\n"
          ]
        },
        {
          "output_type": "stream",
          "name": "stderr",
          "text": [
            "\n"
          ]
        },
        {
          "output_type": "stream",
          "name": "stdout",
          "text": [
            "\n",
            "      Epoch    GPU_mem   box_loss   cls_loss   dfl_loss  Instances       Size\n"
          ]
        },
        {
          "output_type": "stream",
          "name": "stderr",
          "text": [
            "      11/29      1.95G      1.506      1.333      1.349         22        640: 100%|██████████| 79/79 [00:07<00:00, 10.13it/s]\n",
            "                 Class     Images  Instances      Box(P          R      mAP50  mAP50-95): 100%|██████████| 11/11 [00:01<00:00,  7.46it/s]"
          ]
        },
        {
          "output_type": "stream",
          "name": "stdout",
          "text": [
            "                   all        300        829      0.732      0.709      0.764       0.57\n"
          ]
        },
        {
          "output_type": "stream",
          "name": "stderr",
          "text": [
            "\n"
          ]
        },
        {
          "output_type": "stream",
          "name": "stdout",
          "text": [
            "\n",
            "      Epoch    GPU_mem   box_loss   cls_loss   dfl_loss  Instances       Size\n"
          ]
        },
        {
          "output_type": "stream",
          "name": "stderr",
          "text": [
            "      12/29      1.93G      1.508      1.296      1.354         11        640: 100%|██████████| 79/79 [00:07<00:00, 10.42it/s]\n",
            "                 Class     Images  Instances      Box(P          R      mAP50  mAP50-95): 100%|██████████| 11/11 [00:01<00:00,  7.24it/s]"
          ]
        },
        {
          "output_type": "stream",
          "name": "stdout",
          "text": [
            "                   all        300        829      0.657      0.778      0.779      0.578\n"
          ]
        },
        {
          "output_type": "stream",
          "name": "stderr",
          "text": [
            "\n"
          ]
        },
        {
          "output_type": "stream",
          "name": "stdout",
          "text": [
            "\n",
            "      Epoch    GPU_mem   box_loss   cls_loss   dfl_loss  Instances       Size\n"
          ]
        },
        {
          "output_type": "stream",
          "name": "stderr",
          "text": [
            "      13/29      1.96G      1.496      1.322      1.331         17        640: 100%|██████████| 79/79 [00:07<00:00, 10.18it/s]\n",
            "                 Class     Images  Instances      Box(P          R      mAP50  mAP50-95): 100%|██████████| 11/11 [00:01<00:00,  7.70it/s]"
          ]
        },
        {
          "output_type": "stream",
          "name": "stdout",
          "text": [
            "                   all        300        829      0.786      0.765      0.776      0.588\n"
          ]
        },
        {
          "output_type": "stream",
          "name": "stderr",
          "text": [
            "\n"
          ]
        },
        {
          "output_type": "stream",
          "name": "stdout",
          "text": [
            "\n",
            "      Epoch    GPU_mem   box_loss   cls_loss   dfl_loss  Instances       Size\n"
          ]
        },
        {
          "output_type": "stream",
          "name": "stderr",
          "text": [
            "      14/29      1.95G      1.479       1.29      1.331         10        640: 100%|██████████| 79/79 [00:07<00:00, 10.23it/s]\n",
            "                 Class     Images  Instances      Box(P          R      mAP50  mAP50-95): 100%|██████████| 11/11 [00:01<00:00,  7.34it/s]"
          ]
        },
        {
          "output_type": "stream",
          "name": "stdout",
          "text": [
            "                   all        300        829      0.718      0.767      0.795      0.598\n"
          ]
        },
        {
          "output_type": "stream",
          "name": "stderr",
          "text": [
            "\n"
          ]
        },
        {
          "output_type": "stream",
          "name": "stdout",
          "text": [
            "\n",
            "      Epoch    GPU_mem   box_loss   cls_loss   dfl_loss  Instances       Size\n"
          ]
        },
        {
          "output_type": "stream",
          "name": "stderr",
          "text": [
            "      15/29      1.93G      1.453      1.237      1.308         12        640: 100%|██████████| 79/79 [00:07<00:00, 10.09it/s]\n",
            "                 Class     Images  Instances      Box(P          R      mAP50  mAP50-95): 100%|██████████| 11/11 [00:01<00:00,  7.55it/s]"
          ]
        },
        {
          "output_type": "stream",
          "name": "stdout",
          "text": [
            "                   all        300        829      0.799        0.8      0.805      0.595\n"
          ]
        },
        {
          "output_type": "stream",
          "name": "stderr",
          "text": [
            "\n"
          ]
        },
        {
          "output_type": "stream",
          "name": "stdout",
          "text": [
            "\n",
            "      Epoch    GPU_mem   box_loss   cls_loss   dfl_loss  Instances       Size\n"
          ]
        },
        {
          "output_type": "stream",
          "name": "stderr",
          "text": [
            "      16/29      1.93G      1.486       1.25      1.318         26        640: 100%|██████████| 79/79 [00:07<00:00, 10.08it/s]\n",
            "                 Class     Images  Instances      Box(P          R      mAP50  mAP50-95): 100%|██████████| 11/11 [00:01<00:00,  7.30it/s]"
          ]
        },
        {
          "output_type": "stream",
          "name": "stdout",
          "text": [
            "                   all        300        829      0.766      0.777      0.788      0.585\n"
          ]
        },
        {
          "output_type": "stream",
          "name": "stderr",
          "text": [
            "\n"
          ]
        },
        {
          "output_type": "stream",
          "name": "stdout",
          "text": [
            "\n",
            "      Epoch    GPU_mem   box_loss   cls_loss   dfl_loss  Instances       Size\n"
          ]
        },
        {
          "output_type": "stream",
          "name": "stderr",
          "text": [
            "      17/29      1.91G      1.488      1.244      1.334          9        640: 100%|██████████| 79/79 [00:07<00:00, 10.58it/s]\n",
            "                 Class     Images  Instances      Box(P          R      mAP50  mAP50-95): 100%|██████████| 11/11 [00:01<00:00,  7.70it/s]"
          ]
        },
        {
          "output_type": "stream",
          "name": "stdout",
          "text": [
            "                   all        300        829      0.622      0.786      0.778      0.599\n"
          ]
        },
        {
          "output_type": "stream",
          "name": "stderr",
          "text": [
            "\n"
          ]
        },
        {
          "output_type": "stream",
          "name": "stdout",
          "text": [
            "\n",
            "      Epoch    GPU_mem   box_loss   cls_loss   dfl_loss  Instances       Size\n"
          ]
        },
        {
          "output_type": "stream",
          "name": "stderr",
          "text": [
            "      18/29      1.92G      1.455      1.208      1.306         15        640: 100%|██████████| 79/79 [00:07<00:00,  9.92it/s]\n",
            "                 Class     Images  Instances      Box(P          R      mAP50  mAP50-95): 100%|██████████| 11/11 [00:01<00:00,  7.14it/s]"
          ]
        },
        {
          "output_type": "stream",
          "name": "stdout",
          "text": [
            "                   all        300        829      0.813      0.798      0.809      0.604\n"
          ]
        },
        {
          "output_type": "stream",
          "name": "stderr",
          "text": [
            "\n"
          ]
        },
        {
          "output_type": "stream",
          "name": "stdout",
          "text": [
            "\n",
            "      Epoch    GPU_mem   box_loss   cls_loss   dfl_loss  Instances       Size\n"
          ]
        },
        {
          "output_type": "stream",
          "name": "stderr",
          "text": [
            "      19/29      1.94G      1.418      1.159      1.295          7        640: 100%|██████████| 79/79 [00:07<00:00, 10.32it/s]\n",
            "                 Class     Images  Instances      Box(P          R      mAP50  mAP50-95): 100%|██████████| 11/11 [00:01<00:00,  7.55it/s]"
          ]
        },
        {
          "output_type": "stream",
          "name": "stdout",
          "text": [
            "                   all        300        829      0.738       0.81      0.798      0.611\n"
          ]
        },
        {
          "output_type": "stream",
          "name": "stderr",
          "text": [
            "\n"
          ]
        },
        {
          "output_type": "stream",
          "name": "stdout",
          "text": [
            "Closing dataloader mosaic\n",
            "\u001b[34m\u001b[1malbumentations: \u001b[0mBlur(p=0.01, blur_limit=(3, 7)), MedianBlur(p=0.01, blur_limit=(3, 7)), ToGray(p=0.01), CLAHE(p=0.01, clip_limit=(1, 4.0), tile_grid_size=(8, 8))\n"
          ]
        },
        {
          "output_type": "stream",
          "name": "stderr",
          "text": [
            "/usr/lib/python3.10/multiprocessing/popen_fork.py:66: RuntimeWarning: os.fork() was called. os.fork() is incompatible with multithreaded code, and JAX is multithreaded, so this will likely lead to a deadlock.\n",
            "  self.pid = os.fork()\n",
            "/usr/lib/python3.10/multiprocessing/popen_fork.py:66: RuntimeWarning: os.fork() was called. os.fork() is incompatible with multithreaded code, and JAX is multithreaded, so this will likely lead to a deadlock.\n",
            "  self.pid = os.fork()\n"
          ]
        },
        {
          "output_type": "stream",
          "name": "stdout",
          "text": [
            "\n",
            "      Epoch    GPU_mem   box_loss   cls_loss   dfl_loss  Instances       Size\n"
          ]
        },
        {
          "output_type": "stream",
          "name": "stderr",
          "text": [
            "      20/29      1.95G      1.588      1.257      1.378          4        640: 100%|██████████| 79/79 [00:09<00:00,  8.41it/s]\n",
            "                 Class     Images  Instances      Box(P          R      mAP50  mAP50-95): 100%|██████████| 11/11 [00:01<00:00,  7.40it/s]"
          ]
        },
        {
          "output_type": "stream",
          "name": "stdout",
          "text": [
            "                   all        300        829      0.732      0.774      0.785      0.602\n"
          ]
        },
        {
          "output_type": "stream",
          "name": "stderr",
          "text": [
            "\n"
          ]
        },
        {
          "output_type": "stream",
          "name": "stdout",
          "text": [
            "\n",
            "      Epoch    GPU_mem   box_loss   cls_loss   dfl_loss  Instances       Size\n"
          ]
        },
        {
          "output_type": "stream",
          "name": "stderr",
          "text": [
            "      21/29      1.95G      1.558      1.203      1.362          4        640: 100%|██████████| 79/79 [00:07<00:00, 10.44it/s]\n",
            "                 Class     Images  Instances      Box(P          R      mAP50  mAP50-95): 100%|██████████| 11/11 [00:01<00:00,  7.37it/s]"
          ]
        },
        {
          "output_type": "stream",
          "name": "stdout",
          "text": [
            "                   all        300        829       0.81      0.806      0.816      0.613\n"
          ]
        },
        {
          "output_type": "stream",
          "name": "stderr",
          "text": [
            "\n"
          ]
        },
        {
          "output_type": "stream",
          "name": "stdout",
          "text": [
            "\n",
            "      Epoch    GPU_mem   box_loss   cls_loss   dfl_loss  Instances       Size\n"
          ]
        },
        {
          "output_type": "stream",
          "name": "stderr",
          "text": [
            "      22/29      1.95G      1.571      1.203      1.369         19        640: 100%|██████████| 79/79 [00:07<00:00, 10.37it/s]\n",
            "                 Class     Images  Instances      Box(P          R      mAP50  mAP50-95): 100%|██████████| 11/11 [00:01<00:00,  7.80it/s]"
          ]
        },
        {
          "output_type": "stream",
          "name": "stdout",
          "text": [
            "                   all        300        829      0.763      0.791      0.819      0.615\n"
          ]
        },
        {
          "output_type": "stream",
          "name": "stderr",
          "text": [
            "\n"
          ]
        },
        {
          "output_type": "stream",
          "name": "stdout",
          "text": [
            "\n",
            "      Epoch    GPU_mem   box_loss   cls_loss   dfl_loss  Instances       Size\n"
          ]
        },
        {
          "output_type": "stream",
          "name": "stderr",
          "text": [
            "      23/29      1.91G      1.556      1.177      1.351          6        640: 100%|██████████| 79/79 [00:07<00:00, 10.25it/s]\n",
            "                 Class     Images  Instances      Box(P          R      mAP50  mAP50-95): 100%|██████████| 11/11 [00:01<00:00,  7.36it/s]"
          ]
        },
        {
          "output_type": "stream",
          "name": "stdout",
          "text": [
            "                   all        300        829      0.792      0.821      0.819      0.619\n"
          ]
        },
        {
          "output_type": "stream",
          "name": "stderr",
          "text": [
            "\n"
          ]
        },
        {
          "output_type": "stream",
          "name": "stdout",
          "text": [
            "\n",
            "      Epoch    GPU_mem   box_loss   cls_loss   dfl_loss  Instances       Size\n"
          ]
        },
        {
          "output_type": "stream",
          "name": "stderr",
          "text": [
            "      24/29      1.94G      1.539      1.124      1.348          4        640: 100%|██████████| 79/79 [00:07<00:00, 10.49it/s]\n",
            "                 Class     Images  Instances      Box(P          R      mAP50  mAP50-95): 100%|██████████| 11/11 [00:01<00:00,  7.69it/s]"
          ]
        },
        {
          "output_type": "stream",
          "name": "stdout",
          "text": [
            "                   all        300        829      0.803      0.811      0.822      0.618\n"
          ]
        },
        {
          "output_type": "stream",
          "name": "stderr",
          "text": [
            "\n"
          ]
        },
        {
          "output_type": "stream",
          "name": "stdout",
          "text": [
            "\n",
            "      Epoch    GPU_mem   box_loss   cls_loss   dfl_loss  Instances       Size\n"
          ]
        },
        {
          "output_type": "stream",
          "name": "stderr",
          "text": [
            "      25/29      1.93G      1.532      1.107      1.349          4        640: 100%|██████████| 79/79 [00:07<00:00, 10.28it/s]\n",
            "                 Class     Images  Instances      Box(P          R      mAP50  mAP50-95): 100%|██████████| 11/11 [00:01<00:00,  7.34it/s]"
          ]
        },
        {
          "output_type": "stream",
          "name": "stdout",
          "text": [
            "                   all        300        829      0.818       0.81      0.818      0.618\n"
          ]
        },
        {
          "output_type": "stream",
          "name": "stderr",
          "text": [
            "\n"
          ]
        },
        {
          "output_type": "stream",
          "name": "stdout",
          "text": [
            "\n",
            "      Epoch    GPU_mem   box_loss   cls_loss   dfl_loss  Instances       Size\n"
          ]
        },
        {
          "output_type": "stream",
          "name": "stderr",
          "text": [
            "      26/29      1.92G       1.53      1.102      1.345         20        640: 100%|██████████| 79/79 [00:07<00:00, 10.62it/s]\n",
            "                 Class     Images  Instances      Box(P          R      mAP50  mAP50-95): 100%|██████████| 11/11 [00:01<00:00,  7.71it/s]"
          ]
        },
        {
          "output_type": "stream",
          "name": "stdout",
          "text": [
            "                   all        300        829      0.831      0.818      0.831      0.625\n"
          ]
        },
        {
          "output_type": "stream",
          "name": "stderr",
          "text": [
            "\n"
          ]
        },
        {
          "output_type": "stream",
          "name": "stdout",
          "text": [
            "\n",
            "      Epoch    GPU_mem   box_loss   cls_loss   dfl_loss  Instances       Size\n"
          ]
        },
        {
          "output_type": "stream",
          "name": "stderr",
          "text": [
            "      27/29      1.95G      1.491      1.073      1.337          3        640: 100%|██████████| 79/79 [00:07<00:00, 10.04it/s]\n",
            "                 Class     Images  Instances      Box(P          R      mAP50  mAP50-95): 100%|██████████| 11/11 [00:01<00:00,  7.25it/s]"
          ]
        },
        {
          "output_type": "stream",
          "name": "stdout",
          "text": [
            "                   all        300        829       0.82      0.815      0.826      0.622\n"
          ]
        },
        {
          "output_type": "stream",
          "name": "stderr",
          "text": [
            "\n"
          ]
        },
        {
          "output_type": "stream",
          "name": "stdout",
          "text": [
            "\n",
            "      Epoch    GPU_mem   box_loss   cls_loss   dfl_loss  Instances       Size\n"
          ]
        },
        {
          "output_type": "stream",
          "name": "stderr",
          "text": [
            "      28/29      1.93G      1.516      1.077      1.336         21        640: 100%|██████████| 79/79 [00:07<00:00, 10.66it/s]\n",
            "                 Class     Images  Instances      Box(P          R      mAP50  mAP50-95): 100%|██████████| 11/11 [00:01<00:00,  7.34it/s]"
          ]
        },
        {
          "output_type": "stream",
          "name": "stdout",
          "text": [
            "                   all        300        829      0.834      0.826      0.836      0.632\n"
          ]
        },
        {
          "output_type": "stream",
          "name": "stderr",
          "text": [
            "\n"
          ]
        },
        {
          "output_type": "stream",
          "name": "stdout",
          "text": [
            "\n",
            "      Epoch    GPU_mem   box_loss   cls_loss   dfl_loss  Instances       Size\n"
          ]
        },
        {
          "output_type": "stream",
          "name": "stderr",
          "text": [
            "      29/29      1.94G      1.487      1.055      1.327         24        640: 100%|██████████| 79/79 [00:07<00:00, 10.15it/s]\n",
            "                 Class     Images  Instances      Box(P          R      mAP50  mAP50-95): 100%|██████████| 11/11 [00:01<00:00,  7.83it/s]"
          ]
        },
        {
          "output_type": "stream",
          "name": "stdout",
          "text": [
            "                   all        300        829      0.816       0.81      0.826      0.624\n"
          ]
        },
        {
          "output_type": "stream",
          "name": "stderr",
          "text": [
            "\n"
          ]
        },
        {
          "output_type": "stream",
          "name": "stdout",
          "text": [
            "\n",
            "29 epochs completed in 0.110 hours.\n",
            "Optimizer stripped from runs/detect/train7/weights/last.pt, 6.2MB\n",
            "Optimizer stripped from runs/detect/train7/weights/best.pt, 6.2MB\n",
            "\n",
            "Validating runs/detect/train7/weights/best.pt...\n",
            "Ultralytics YOLOv8.2.87 🚀 Python-3.10.12 torch-2.4.0+cu121 CUDA:0 (NVIDIA L4, 22700MiB)\n",
            "Model summary (fused): 168 layers, 3,006,038 parameters, 0 gradients, 8.1 GFLOPs\n"
          ]
        },
        {
          "output_type": "stream",
          "name": "stderr",
          "text": [
            "                 Class     Images  Instances      Box(P          R      mAP50  mAP50-95): 100%|██████████| 11/11 [00:03<00:00,  2.98it/s]\n"
          ]
        },
        {
          "output_type": "stream",
          "name": "stdout",
          "text": [
            "                   all        300        829      0.833      0.825      0.835      0.631\n",
            "                defect        197        726      0.689       0.65      0.683      0.288\n",
            "                    ok        103        103      0.978          1      0.987      0.974\n",
            "Speed: 0.2ms preprocess, 0.9ms inference, 0.0ms loss, 4.5ms postprocess per image\n",
            "Results saved to \u001b[1mruns/detect/train7\u001b[0m\n",
            "Precision: 0.8334\n"
          ]
        }
      ],
      "source": [
        "import os\n",
        "\n",
        "from ultralytics import YOLO\n",
        "\n",
        "config_file = os.path.join(ROOT_DIR, \"colab_file.yaml\")\n",
        "model_path = \"yolov8n.pt\"\n",
        "\n",
        "# Load the model\n",
        "model = YOLO(model_path)\n",
        "\n",
        "# Train the model with valid parameters\n",
        "results = model.train(\n",
        "    data=config_file,\n",
        "    epochs=29,       # Number of epochs\n",
        "    batch=14,        # Batch size\n",
        "    imgsz=640,       # Image size\n",
        "    lr0=0.00005,        # Initial learning rate\n",
        "    lrf=0.001        # Final learning rate\n",
        ")\n",
        "\n",
        "#Print the precision of the model\n",
        "metrics_dict = results.results_dict\n",
        "print(f\"Precision: {metrics_dict['metrics/precision(B)']:.4f}\")"
      ]
    },
    {
      "cell_type": "markdown",
      "source": [
        "Creating labels for the testing dataset for the division of the images in images with defects, ok images and unrecognisable defects"
      ],
      "metadata": {
        "id": "GTBIo0EnI7Hv"
      }
    },
    {
      "cell_type": "code",
      "source": [
        "import os\n",
        "\n",
        "from ultralytics import YOLO\n",
        "\n",
        "os.makedirs('/content/gdrive/MyDrive/Colab Notebooks/Yolo/Data/labels/test', exist_ok=True);\n",
        "\n",
        "results = model.predict(source='/content/gdrive/MyDrive/Colab Notebooks/Yolo/Data/images/test', save=True)\n",
        "\n",
        "\n",
        "for result in results:\n",
        "    labels = [result.names[int(cls)] for cls in result.boxes.cls]\n",
        "    # Create a text file for labels\n",
        "    image_filename = os.path.basename(result.path)\n",
        "    label_filename = os.path.splitext(image_filename)[0] + \".txt\"  #\n",
        "    output_filepath = os.path.join('/content/gdrive/MyDrive/Colab Notebooks/Yolo/Data/labels/test', label_filename)\n",
        "\n",
        "    with open(output_filepath, \"w\") as f:\n",
        "        for label in labels:\n",
        "          f.write(label + \"\\n\")\n",
        "\n",
        "    print(f\"Labels for image {image_filename} saved to {output_filepath}\")"
      ],
      "metadata": {
        "colab": {
          "base_uri": "https://localhost:8080/"
        },
        "outputId": "3104ea66-6f46-46fb-ed09-7b7ec0e47e34",
        "id": "qwzYigxEYBNN"
      },
      "execution_count": null,
      "outputs": [
        {
          "output_type": "stream",
          "name": "stdout",
          "text": [
            "\n",
            "image 1/129 /content/gdrive/MyDrive/Colab Notebooks/Yolo/Data/images/test/cast_def_0_9520.jpeg: 640x640 2 defects, 10.6ms\n",
            "image 2/129 /content/gdrive/MyDrive/Colab Notebooks/Yolo/Data/images/test/cast_def_0_9613.jpeg: 640x640 1 defect, 12.4ms\n",
            "image 3/129 /content/gdrive/MyDrive/Colab Notebooks/Yolo/Data/images/test/cast_def_0_9637.jpeg: 640x640 1 defect, 8.0ms\n",
            "image 4/129 /content/gdrive/MyDrive/Colab Notebooks/Yolo/Data/images/test/cast_def_0_9640.jpeg: 640x640 (no detections), 7.7ms\n",
            "image 5/129 /content/gdrive/MyDrive/Colab Notebooks/Yolo/Data/images/test/cast_def_0_9643.jpeg: 640x640 1 defect, 7.7ms\n",
            "image 6/129 /content/gdrive/MyDrive/Colab Notebooks/Yolo/Data/images/test/cast_def_0_9644.jpeg: 640x640 7 defects, 10.0ms\n",
            "image 7/129 /content/gdrive/MyDrive/Colab Notebooks/Yolo/Data/images/test/cast_def_0_966.jpeg: 640x640 (no detections), 8.9ms\n",
            "image 8/129 /content/gdrive/MyDrive/Colab Notebooks/Yolo/Data/images/test/cast_def_0_9669.jpeg: 640x640 8 defects, 8.1ms\n",
            "image 9/129 /content/gdrive/MyDrive/Colab Notebooks/Yolo/Data/images/test/cast_def_0_9683.jpeg: 640x640 8 defects, 8.5ms\n",
            "image 10/129 /content/gdrive/MyDrive/Colab Notebooks/Yolo/Data/images/test/cast_def_0_9687.jpeg: 640x640 2 defects, 10.1ms\n",
            "image 11/129 /content/gdrive/MyDrive/Colab Notebooks/Yolo/Data/images/test/cast_def_0_9737.jpeg: 640x640 (no detections), 8.1ms\n",
            "image 12/129 /content/gdrive/MyDrive/Colab Notebooks/Yolo/Data/images/test/cast_def_0_9750.jpeg: 640x640 1 defect, 1 ok, 10.7ms\n",
            "image 13/129 /content/gdrive/MyDrive/Colab Notebooks/Yolo/Data/images/test/cast_def_0_9755.jpeg: 640x640 1 defect, 8.3ms\n",
            "image 14/129 /content/gdrive/MyDrive/Colab Notebooks/Yolo/Data/images/test/cast_def_0_976.jpeg: 640x640 3 defects, 7.4ms\n",
            "image 15/129 /content/gdrive/MyDrive/Colab Notebooks/Yolo/Data/images/test/cast_def_0_9780.jpeg: 640x640 10 defects, 8.8ms\n",
            "image 16/129 /content/gdrive/MyDrive/Colab Notebooks/Yolo/Data/images/test/cast_def_0_9817.jpeg: 640x640 14 defects, 8.0ms\n",
            "image 17/129 /content/gdrive/MyDrive/Colab Notebooks/Yolo/Data/images/test/cast_def_0_9836.jpeg: 640x640 5 defects, 9.6ms\n",
            "image 18/129 /content/gdrive/MyDrive/Colab Notebooks/Yolo/Data/images/test/cast_def_0_9854.jpeg: 640x640 1 defect, 7.7ms\n",
            "image 19/129 /content/gdrive/MyDrive/Colab Notebooks/Yolo/Data/images/test/cast_def_0_9857.jpeg: 640x640 1 defect, 7.6ms\n",
            "image 20/129 /content/gdrive/MyDrive/Colab Notebooks/Yolo/Data/images/test/cast_def_0_9872.jpeg: 640x640 1 defect, 7.4ms\n",
            "image 21/129 /content/gdrive/MyDrive/Colab Notebooks/Yolo/Data/images/test/cast_def_0_9873.jpeg: 640x640 1 defect, 1 ok, 7.5ms\n",
            "image 22/129 /content/gdrive/MyDrive/Colab Notebooks/Yolo/Data/images/test/cast_def_0_9877.jpeg: 640x640 1 defect, 7.3ms\n",
            "image 23/129 /content/gdrive/MyDrive/Colab Notebooks/Yolo/Data/images/test/cast_def_0_9879.jpeg: 640x640 1 defect, 7.5ms\n",
            "image 24/129 /content/gdrive/MyDrive/Colab Notebooks/Yolo/Data/images/test/cast_def_0_994.jpeg: 640x640 9 defects, 8.5ms\n",
            "image 25/129 /content/gdrive/MyDrive/Colab Notebooks/Yolo/Data/images/test/cast_def_0_9963.jpeg: 640x640 1 defect, 7.5ms\n",
            "image 26/129 /content/gdrive/MyDrive/Colab Notebooks/Yolo/Data/images/test/cast_def_0_9980.jpeg: 640x640 6 defects, 7.7ms\n",
            "image 27/129 /content/gdrive/MyDrive/Colab Notebooks/Yolo/Data/images/test/cast_def_0_9995.jpeg: 640x640 1 defect, 7.6ms\n",
            "image 28/129 /content/gdrive/MyDrive/Colab Notebooks/Yolo/Data/images/test/cast_ok_0_9270.jpeg: 640x640 1 ok, 7.2ms\n",
            "image 29/129 /content/gdrive/MyDrive/Colab Notebooks/Yolo/Data/images/test/cast_ok_0_9277.jpeg: 640x640 1 ok, 7.1ms\n",
            "image 30/129 /content/gdrive/MyDrive/Colab Notebooks/Yolo/Data/images/test/cast_ok_0_93.jpeg: 640x640 (no detections), 7.6ms\n",
            "image 31/129 /content/gdrive/MyDrive/Colab Notebooks/Yolo/Data/images/test/cast_ok_0_9341.jpeg: 640x640 1 ok, 7.1ms\n",
            "image 32/129 /content/gdrive/MyDrive/Colab Notebooks/Yolo/Data/images/test/cast_ok_0_9360.jpeg: 640x640 1 ok, 7.7ms\n",
            "image 33/129 /content/gdrive/MyDrive/Colab Notebooks/Yolo/Data/images/test/cast_ok_0_9366.jpeg: 640x640 1 ok, 8.3ms\n",
            "image 34/129 /content/gdrive/MyDrive/Colab Notebooks/Yolo/Data/images/test/cast_ok_0_9367.jpeg: 640x640 1 ok, 7.9ms\n",
            "image 35/129 /content/gdrive/MyDrive/Colab Notebooks/Yolo/Data/images/test/cast_ok_0_9389.jpeg: 640x640 (no detections), 7.7ms\n",
            "image 36/129 /content/gdrive/MyDrive/Colab Notebooks/Yolo/Data/images/test/cast_ok_0_9411.jpeg: 640x640 1 defect, 1 ok, 7.8ms\n",
            "image 37/129 /content/gdrive/MyDrive/Colab Notebooks/Yolo/Data/images/test/cast_ok_0_9464.jpeg: 640x640 1 ok, 7.7ms\n",
            "image 38/129 /content/gdrive/MyDrive/Colab Notebooks/Yolo/Data/images/test/cast_ok_0_9494.jpeg: 640x640 1 ok, 7.5ms\n",
            "image 39/129 /content/gdrive/MyDrive/Colab Notebooks/Yolo/Data/images/test/cast_ok_0_9516.jpeg: 640x640 (no detections), 7.7ms\n",
            "image 40/129 /content/gdrive/MyDrive/Colab Notebooks/Yolo/Data/images/test/cast_ok_0_9584.jpeg: 640x640 1 ok, 7.6ms\n",
            "image 41/129 /content/gdrive/MyDrive/Colab Notebooks/Yolo/Data/images/test/cast_ok_0_9634.jpeg: 640x640 1 ok, 11.6ms\n",
            "image 42/129 /content/gdrive/MyDrive/Colab Notebooks/Yolo/Data/images/test/cast_ok_0_9667.jpeg: 640x640 1 ok, 7.9ms\n",
            "image 43/129 /content/gdrive/MyDrive/Colab Notebooks/Yolo/Data/images/test/cast_ok_0_9732.jpeg: 640x640 (no detections), 7.6ms\n",
            "image 44/129 /content/gdrive/MyDrive/Colab Notebooks/Yolo/Data/images/test/cast_ok_0_9734.jpeg: 640x640 1 ok, 7.9ms\n",
            "image 45/129 /content/gdrive/MyDrive/Colab Notebooks/Yolo/Data/images/test/cast_ok_0_9741.jpeg: 640x640 1 ok, 7.6ms\n",
            "image 46/129 /content/gdrive/MyDrive/Colab Notebooks/Yolo/Data/images/test/cast_ok_0_9771.jpeg: 640x640 1 ok, 7.8ms\n",
            "image 47/129 /content/gdrive/MyDrive/Colab Notebooks/Yolo/Data/images/test/cast_ok_0_9791.jpeg: 640x640 1 ok, 7.3ms\n",
            "image 48/129 /content/gdrive/MyDrive/Colab Notebooks/Yolo/Data/images/test/cast_ok_0_9818.jpeg: 640x640 1 ok, 7.2ms\n",
            "image 49/129 /content/gdrive/MyDrive/Colab Notebooks/Yolo/Data/images/test/cast_ok_0_9840.jpeg: 640x640 1 ok, 7.1ms\n",
            "image 50/129 /content/gdrive/MyDrive/Colab Notebooks/Yolo/Data/images/test/cast_ok_0_9843.jpeg: 640x640 1 ok, 7.5ms\n",
            "image 51/129 /content/gdrive/MyDrive/Colab Notebooks/Yolo/Data/images/test/cast_ok_0_9850.jpeg: 640x640 1 ok, 7.2ms\n",
            "image 52/129 /content/gdrive/MyDrive/Colab Notebooks/Yolo/Data/images/test/cast_ok_0_9959.jpeg: 640x640 1 ok, 7.2ms\n",
            "image 53/129 /content/gdrive/MyDrive/Colab Notebooks/Yolo/Data/images/test/cast_ok_0_9966.jpeg: 640x640 1 ok, 7.5ms\n",
            "image 54/129 /content/gdrive/MyDrive/Colab Notebooks/Yolo/Data/images/test/cast_ok_0_9990.jpeg: 640x640 1 ok, 7.4ms\n",
            "image 55/129 /content/gdrive/MyDrive/Colab Notebooks/Yolo/Data/images/test/median_cast_def_0_314.jpeg: 640x640 (no detections), 7.3ms\n",
            "image 56/129 /content/gdrive/MyDrive/Colab Notebooks/Yolo/Data/images/test/median_cast_def_0_315.jpeg: 640x640 1 defect, 7.3ms\n",
            "image 57/129 /content/gdrive/MyDrive/Colab Notebooks/Yolo/Data/images/test/median_cast_def_0_317.jpeg: 640x640 (no detections), 7.3ms\n",
            "image 58/129 /content/gdrive/MyDrive/Colab Notebooks/Yolo/Data/images/test/median_cast_def_0_319.jpeg: 640x640 5 defects, 7.7ms\n",
            "image 59/129 /content/gdrive/MyDrive/Colab Notebooks/Yolo/Data/images/test/median_cast_def_0_320.jpeg: 640x640 8 defects, 7.3ms\n",
            "image 60/129 /content/gdrive/MyDrive/Colab Notebooks/Yolo/Data/images/test/median_cast_def_0_321.jpeg: 640x640 1 defect, 7.2ms\n",
            "image 61/129 /content/gdrive/MyDrive/Colab Notebooks/Yolo/Data/images/test/median_cast_def_0_323.jpeg: 640x640 1 defect, 7.4ms\n",
            "image 62/129 /content/gdrive/MyDrive/Colab Notebooks/Yolo/Data/images/test/median_cast_def_0_324.jpeg: 640x640 8 defects, 7.4ms\n",
            "image 63/129 /content/gdrive/MyDrive/Colab Notebooks/Yolo/Data/images/test/median_cast_def_0_327.jpeg: 640x640 1 defect, 7.7ms\n",
            "image 64/129 /content/gdrive/MyDrive/Colab Notebooks/Yolo/Data/images/test/median_cast_def_0_330.jpeg: 640x640 1 defect, 7.5ms\n",
            "image 65/129 /content/gdrive/MyDrive/Colab Notebooks/Yolo/Data/images/test/median_cast_def_0_331.jpeg: 640x640 2 defects, 7.3ms\n",
            "image 66/129 /content/gdrive/MyDrive/Colab Notebooks/Yolo/Data/images/test/median_cast_def_0_333.jpeg: 640x640 1 defect, 7.0ms\n",
            "image 67/129 /content/gdrive/MyDrive/Colab Notebooks/Yolo/Data/images/test/median_cast_def_0_335.jpeg: 640x640 1 defect, 7.0ms\n",
            "image 68/129 /content/gdrive/MyDrive/Colab Notebooks/Yolo/Data/images/test/median_cast_def_0_337.jpeg: 640x640 3 defects, 8.0ms\n",
            "image 69/129 /content/gdrive/MyDrive/Colab Notebooks/Yolo/Data/images/test/median_cast_def_0_339.jpeg: 640x640 1 defect, 7.4ms\n",
            "image 70/129 /content/gdrive/MyDrive/Colab Notebooks/Yolo/Data/images/test/median_cast_def_0_347.jpeg: 640x640 (no detections), 7.2ms\n",
            "image 71/129 /content/gdrive/MyDrive/Colab Notebooks/Yolo/Data/images/test/median_cast_def_0_348.jpeg: 640x640 2 defects, 7.5ms\n",
            "image 72/129 /content/gdrive/MyDrive/Colab Notebooks/Yolo/Data/images/test/median_cast_def_0_350.jpeg: 640x640 9 defects, 8.0ms\n",
            "image 73/129 /content/gdrive/MyDrive/Colab Notebooks/Yolo/Data/images/test/median_cast_def_0_354.jpeg: 640x640 2 defects, 7.0ms\n",
            "image 74/129 /content/gdrive/MyDrive/Colab Notebooks/Yolo/Data/images/test/median_cast_def_0_355.jpeg: 640x640 6 defects, 7.1ms\n",
            "image 75/129 /content/gdrive/MyDrive/Colab Notebooks/Yolo/Data/images/test/median_cast_def_0_357.jpeg: 640x640 1 ok, 7.5ms\n",
            "image 76/129 /content/gdrive/MyDrive/Colab Notebooks/Yolo/Data/images/test/median_cast_def_0_359.jpeg: 640x640 4 defects, 7.6ms\n",
            "image 77/129 /content/gdrive/MyDrive/Colab Notebooks/Yolo/Data/images/test/median_cast_def_0_360.jpeg: 640x640 8 defects, 7.1ms\n",
            "image 78/129 /content/gdrive/MyDrive/Colab Notebooks/Yolo/Data/images/test/median_cast_def_0_363.jpeg: 640x640 2 defects, 7.2ms\n",
            "image 79/129 /content/gdrive/MyDrive/Colab Notebooks/Yolo/Data/images/test/median_cast_def_0_372.jpeg: 640x640 5 defects, 7.8ms\n",
            "image 80/129 /content/gdrive/MyDrive/Colab Notebooks/Yolo/Data/images/test/poisson_cast_def_0_357.jpeg: 640x640 3 oks, 7.7ms\n",
            "image 81/129 /content/gdrive/MyDrive/Colab Notebooks/Yolo/Data/images/test/poisson_cast_def_0_359.jpeg: 640x640 3 oks, 7.7ms\n",
            "image 82/129 /content/gdrive/MyDrive/Colab Notebooks/Yolo/Data/images/test/poisson_cast_def_0_360.jpeg: 640x640 2 oks, 7.4ms\n",
            "image 83/129 /content/gdrive/MyDrive/Colab Notebooks/Yolo/Data/images/test/poisson_cast_def_0_363.jpeg: 640x640 2 oks, 7.2ms\n",
            "image 84/129 /content/gdrive/MyDrive/Colab Notebooks/Yolo/Data/images/test/poisson_cast_def_0_372.jpeg: 640x640 2 oks, 7.6ms\n",
            "image 85/129 /content/gdrive/MyDrive/Colab Notebooks/Yolo/Data/images/test/poisson_cast_def_0_374.jpeg: 640x640 3 oks, 7.1ms\n",
            "image 86/129 /content/gdrive/MyDrive/Colab Notebooks/Yolo/Data/images/test/poisson_cast_def_0_376.jpeg: 640x640 2 oks, 7.3ms\n",
            "image 87/129 /content/gdrive/MyDrive/Colab Notebooks/Yolo/Data/images/test/poisson_cast_def_0_377.jpeg: 640x640 3 oks, 7.7ms\n",
            "image 88/129 /content/gdrive/MyDrive/Colab Notebooks/Yolo/Data/images/test/poisson_cast_def_0_378.jpeg: 640x640 2 oks, 7.7ms\n",
            "image 89/129 /content/gdrive/MyDrive/Colab Notebooks/Yolo/Data/images/test/poisson_cast_def_0_379.jpeg: 640x640 3 oks, 7.5ms\n",
            "image 90/129 /content/gdrive/MyDrive/Colab Notebooks/Yolo/Data/images/test/poisson_cast_def_0_380.jpeg: 640x640 3 oks, 7.2ms\n",
            "image 91/129 /content/gdrive/MyDrive/Colab Notebooks/Yolo/Data/images/test/poisson_cast_def_0_387.jpeg: 640x640 2 oks, 7.2ms\n",
            "image 92/129 /content/gdrive/MyDrive/Colab Notebooks/Yolo/Data/images/test/poisson_cast_def_0_396.jpeg: 640x640 3 oks, 7.2ms\n",
            "image 93/129 /content/gdrive/MyDrive/Colab Notebooks/Yolo/Data/images/test/poisson_cast_def_0_399.jpeg: 640x640 2 oks, 10.0ms\n",
            "image 94/129 /content/gdrive/MyDrive/Colab Notebooks/Yolo/Data/images/test/poisson_cast_def_0_401.jpeg: 640x640 3 oks, 7.6ms\n",
            "image 95/129 /content/gdrive/MyDrive/Colab Notebooks/Yolo/Data/images/test/poisson_cast_def_0_402.jpeg: 640x640 3 oks, 7.7ms\n",
            "image 96/129 /content/gdrive/MyDrive/Colab Notebooks/Yolo/Data/images/test/poisson_cast_def_0_404.jpeg: 640x640 2 oks, 7.5ms\n",
            "image 97/129 /content/gdrive/MyDrive/Colab Notebooks/Yolo/Data/images/test/poisson_cast_def_0_409.jpeg: 640x640 2 oks, 7.4ms\n",
            "image 98/129 /content/gdrive/MyDrive/Colab Notebooks/Yolo/Data/images/test/poisson_cast_def_0_411.jpeg: 640x640 2 oks, 7.2ms\n",
            "image 99/129 /content/gdrive/MyDrive/Colab Notebooks/Yolo/Data/images/test/poisson_cast_def_0_415.jpeg: 640x640 3 oks, 13.1ms\n",
            "image 100/129 /content/gdrive/MyDrive/Colab Notebooks/Yolo/Data/images/test/poisson_cast_def_0_417.jpeg: 640x640 2 oks, 8.3ms\n",
            "image 101/129 /content/gdrive/MyDrive/Colab Notebooks/Yolo/Data/images/test/poisson_cast_def_0_421.jpeg: 640x640 3 oks, 7.7ms\n",
            "image 102/129 /content/gdrive/MyDrive/Colab Notebooks/Yolo/Data/images/test/poisson_cast_def_0_422.jpeg: 640x640 2 oks, 7.8ms\n",
            "image 103/129 /content/gdrive/MyDrive/Colab Notebooks/Yolo/Data/images/test/poisson_cast_def_0_423.jpeg: 640x640 3 oks, 7.9ms\n",
            "image 104/129 /content/gdrive/MyDrive/Colab Notebooks/Yolo/Data/images/test/poisson_cast_def_0_425.jpeg: 640x640 3 oks, 7.7ms\n",
            "image 105/129 /content/gdrive/MyDrive/Colab Notebooks/Yolo/Data/images/test/salt_pepper_cast_def_0_103.jpeg: 640x640 (no detections), 7.6ms\n",
            "image 106/129 /content/gdrive/MyDrive/Colab Notebooks/Yolo/Data/images/test/salt_pepper_cast_def_0_105.jpeg: 640x640 (no detections), 7.5ms\n",
            "image 107/129 /content/gdrive/MyDrive/Colab Notebooks/Yolo/Data/images/test/salt_pepper_cast_def_0_107.jpeg: 640x640 (no detections), 7.5ms\n",
            "image 108/129 /content/gdrive/MyDrive/Colab Notebooks/Yolo/Data/images/test/salt_pepper_cast_def_0_109.jpeg: 640x640 (no detections), 7.4ms\n",
            "image 109/129 /content/gdrive/MyDrive/Colab Notebooks/Yolo/Data/images/test/salt_pepper_cast_def_0_110.jpeg: 640x640 (no detections), 7.4ms\n",
            "image 110/129 /content/gdrive/MyDrive/Colab Notebooks/Yolo/Data/images/test/salt_pepper_cast_def_0_116.jpeg: 640x640 (no detections), 7.0ms\n",
            "image 111/129 /content/gdrive/MyDrive/Colab Notebooks/Yolo/Data/images/test/salt_pepper_cast_def_0_120.jpeg: 640x640 (no detections), 8.8ms\n",
            "image 112/129 /content/gdrive/MyDrive/Colab Notebooks/Yolo/Data/images/test/salt_pepper_cast_def_0_122.jpeg: 640x640 (no detections), 8.7ms\n",
            "image 113/129 /content/gdrive/MyDrive/Colab Notebooks/Yolo/Data/images/test/salt_pepper_cast_def_0_126.jpeg: 640x640 1 ok, 9.4ms\n",
            "image 114/129 /content/gdrive/MyDrive/Colab Notebooks/Yolo/Data/images/test/salt_pepper_cast_def_0_130.jpeg: 640x640 (no detections), 9.0ms\n",
            "image 115/129 /content/gdrive/MyDrive/Colab Notebooks/Yolo/Data/images/test/salt_pepper_cast_def_0_131.jpeg: 640x640 (no detections), 8.7ms\n",
            "image 116/129 /content/gdrive/MyDrive/Colab Notebooks/Yolo/Data/images/test/salt_pepper_cast_def_0_133.jpeg: 640x640 (no detections), 8.5ms\n",
            "image 117/129 /content/gdrive/MyDrive/Colab Notebooks/Yolo/Data/images/test/salt_pepper_cast_def_0_135.jpeg: 640x640 (no detections), 8.2ms\n",
            "image 118/129 /content/gdrive/MyDrive/Colab Notebooks/Yolo/Data/images/test/salt_pepper_cast_def_0_136.jpeg: 640x640 (no detections), 10.0ms\n",
            "image 119/129 /content/gdrive/MyDrive/Colab Notebooks/Yolo/Data/images/test/salt_pepper_cast_def_0_148.jpeg: 640x640 (no detections), 7.8ms\n",
            "image 120/129 /content/gdrive/MyDrive/Colab Notebooks/Yolo/Data/images/test/salt_pepper_cast_def_0_163.jpeg: 640x640 (no detections), 7.3ms\n",
            "image 121/129 /content/gdrive/MyDrive/Colab Notebooks/Yolo/Data/images/test/salt_pepper_cast_def_0_175.jpeg: 640x640 (no detections), 7.3ms\n",
            "image 122/129 /content/gdrive/MyDrive/Colab Notebooks/Yolo/Data/images/test/salt_pepper_cast_def_0_186.jpeg: 640x640 (no detections), 7.4ms\n",
            "image 123/129 /content/gdrive/MyDrive/Colab Notebooks/Yolo/Data/images/test/salt_pepper_cast_def_0_191.jpeg: 640x640 (no detections), 7.7ms\n",
            "image 124/129 /content/gdrive/MyDrive/Colab Notebooks/Yolo/Data/images/test/salt_pepper_cast_def_0_91.jpeg: 640x640 (no detections), 7.5ms\n",
            "image 125/129 /content/gdrive/MyDrive/Colab Notebooks/Yolo/Data/images/test/salt_pepper_cast_def_0_92.jpeg: 640x640 (no detections), 7.5ms\n",
            "image 126/129 /content/gdrive/MyDrive/Colab Notebooks/Yolo/Data/images/test/salt_pepper_cast_def_0_95.jpeg: 640x640 (no detections), 7.5ms\n",
            "image 127/129 /content/gdrive/MyDrive/Colab Notebooks/Yolo/Data/images/test/salt_pepper_cast_def_0_97.jpeg: 640x640 (no detections), 7.6ms\n",
            "image 128/129 /content/gdrive/MyDrive/Colab Notebooks/Yolo/Data/images/test/salt_pepper_cast_def_0_98.jpeg: 640x640 (no detections), 7.4ms\n",
            "image 129/129 /content/gdrive/MyDrive/Colab Notebooks/Yolo/Data/images/test/salt_pepper_cast_def_0_99.jpeg: 640x640 1 defect, 7.3ms\n",
            "Speed: 2.5ms preprocess, 7.9ms inference, 1.2ms postprocess per image at shape (1, 3, 640, 640)\n",
            "Results saved to \u001b[1mruns/detect/train72\u001b[0m\n",
            "Labels for image cast_def_0_9520.jpeg saved to /content/gdrive/MyDrive/Colab Notebooks/Yolo/Data/labels/test/cast_def_0_9520.txt\n",
            "Labels for image cast_def_0_9613.jpeg saved to /content/gdrive/MyDrive/Colab Notebooks/Yolo/Data/labels/test/cast_def_0_9613.txt\n",
            "Labels for image cast_def_0_9637.jpeg saved to /content/gdrive/MyDrive/Colab Notebooks/Yolo/Data/labels/test/cast_def_0_9637.txt\n",
            "Labels for image cast_def_0_9640.jpeg saved to /content/gdrive/MyDrive/Colab Notebooks/Yolo/Data/labels/test/cast_def_0_9640.txt\n",
            "Labels for image cast_def_0_9643.jpeg saved to /content/gdrive/MyDrive/Colab Notebooks/Yolo/Data/labels/test/cast_def_0_9643.txt\n",
            "Labels for image cast_def_0_9644.jpeg saved to /content/gdrive/MyDrive/Colab Notebooks/Yolo/Data/labels/test/cast_def_0_9644.txt\n",
            "Labels for image cast_def_0_966.jpeg saved to /content/gdrive/MyDrive/Colab Notebooks/Yolo/Data/labels/test/cast_def_0_966.txt\n",
            "Labels for image cast_def_0_9669.jpeg saved to /content/gdrive/MyDrive/Colab Notebooks/Yolo/Data/labels/test/cast_def_0_9669.txt\n",
            "Labels for image cast_def_0_9683.jpeg saved to /content/gdrive/MyDrive/Colab Notebooks/Yolo/Data/labels/test/cast_def_0_9683.txt\n",
            "Labels for image cast_def_0_9687.jpeg saved to /content/gdrive/MyDrive/Colab Notebooks/Yolo/Data/labels/test/cast_def_0_9687.txt\n",
            "Labels for image cast_def_0_9737.jpeg saved to /content/gdrive/MyDrive/Colab Notebooks/Yolo/Data/labels/test/cast_def_0_9737.txt\n",
            "Labels for image cast_def_0_9750.jpeg saved to /content/gdrive/MyDrive/Colab Notebooks/Yolo/Data/labels/test/cast_def_0_9750.txt\n",
            "Labels for image cast_def_0_9755.jpeg saved to /content/gdrive/MyDrive/Colab Notebooks/Yolo/Data/labels/test/cast_def_0_9755.txt\n",
            "Labels for image cast_def_0_976.jpeg saved to /content/gdrive/MyDrive/Colab Notebooks/Yolo/Data/labels/test/cast_def_0_976.txt\n",
            "Labels for image cast_def_0_9780.jpeg saved to /content/gdrive/MyDrive/Colab Notebooks/Yolo/Data/labels/test/cast_def_0_9780.txt\n",
            "Labels for image cast_def_0_9817.jpeg saved to /content/gdrive/MyDrive/Colab Notebooks/Yolo/Data/labels/test/cast_def_0_9817.txt\n",
            "Labels for image cast_def_0_9836.jpeg saved to /content/gdrive/MyDrive/Colab Notebooks/Yolo/Data/labels/test/cast_def_0_9836.txt\n",
            "Labels for image cast_def_0_9854.jpeg saved to /content/gdrive/MyDrive/Colab Notebooks/Yolo/Data/labels/test/cast_def_0_9854.txt\n",
            "Labels for image cast_def_0_9857.jpeg saved to /content/gdrive/MyDrive/Colab Notebooks/Yolo/Data/labels/test/cast_def_0_9857.txt\n",
            "Labels for image cast_def_0_9872.jpeg saved to /content/gdrive/MyDrive/Colab Notebooks/Yolo/Data/labels/test/cast_def_0_9872.txt\n",
            "Labels for image cast_def_0_9873.jpeg saved to /content/gdrive/MyDrive/Colab Notebooks/Yolo/Data/labels/test/cast_def_0_9873.txt\n",
            "Labels for image cast_def_0_9877.jpeg saved to /content/gdrive/MyDrive/Colab Notebooks/Yolo/Data/labels/test/cast_def_0_9877.txt\n",
            "Labels for image cast_def_0_9879.jpeg saved to /content/gdrive/MyDrive/Colab Notebooks/Yolo/Data/labels/test/cast_def_0_9879.txt\n",
            "Labels for image cast_def_0_994.jpeg saved to /content/gdrive/MyDrive/Colab Notebooks/Yolo/Data/labels/test/cast_def_0_994.txt\n",
            "Labels for image cast_def_0_9963.jpeg saved to /content/gdrive/MyDrive/Colab Notebooks/Yolo/Data/labels/test/cast_def_0_9963.txt\n",
            "Labels for image cast_def_0_9980.jpeg saved to /content/gdrive/MyDrive/Colab Notebooks/Yolo/Data/labels/test/cast_def_0_9980.txt\n",
            "Labels for image cast_def_0_9995.jpeg saved to /content/gdrive/MyDrive/Colab Notebooks/Yolo/Data/labels/test/cast_def_0_9995.txt\n",
            "Labels for image cast_ok_0_9270.jpeg saved to /content/gdrive/MyDrive/Colab Notebooks/Yolo/Data/labels/test/cast_ok_0_9270.txt\n",
            "Labels for image cast_ok_0_9277.jpeg saved to /content/gdrive/MyDrive/Colab Notebooks/Yolo/Data/labels/test/cast_ok_0_9277.txt\n",
            "Labels for image cast_ok_0_93.jpeg saved to /content/gdrive/MyDrive/Colab Notebooks/Yolo/Data/labels/test/cast_ok_0_93.txt\n",
            "Labels for image cast_ok_0_9341.jpeg saved to /content/gdrive/MyDrive/Colab Notebooks/Yolo/Data/labels/test/cast_ok_0_9341.txt\n",
            "Labels for image cast_ok_0_9360.jpeg saved to /content/gdrive/MyDrive/Colab Notebooks/Yolo/Data/labels/test/cast_ok_0_9360.txt\n",
            "Labels for image cast_ok_0_9366.jpeg saved to /content/gdrive/MyDrive/Colab Notebooks/Yolo/Data/labels/test/cast_ok_0_9366.txt\n",
            "Labels for image cast_ok_0_9367.jpeg saved to /content/gdrive/MyDrive/Colab Notebooks/Yolo/Data/labels/test/cast_ok_0_9367.txt\n",
            "Labels for image cast_ok_0_9389.jpeg saved to /content/gdrive/MyDrive/Colab Notebooks/Yolo/Data/labels/test/cast_ok_0_9389.txt\n",
            "Labels for image cast_ok_0_9411.jpeg saved to /content/gdrive/MyDrive/Colab Notebooks/Yolo/Data/labels/test/cast_ok_0_9411.txt\n",
            "Labels for image cast_ok_0_9464.jpeg saved to /content/gdrive/MyDrive/Colab Notebooks/Yolo/Data/labels/test/cast_ok_0_9464.txt\n",
            "Labels for image cast_ok_0_9494.jpeg saved to /content/gdrive/MyDrive/Colab Notebooks/Yolo/Data/labels/test/cast_ok_0_9494.txt\n",
            "Labels for image cast_ok_0_9516.jpeg saved to /content/gdrive/MyDrive/Colab Notebooks/Yolo/Data/labels/test/cast_ok_0_9516.txt\n",
            "Labels for image cast_ok_0_9584.jpeg saved to /content/gdrive/MyDrive/Colab Notebooks/Yolo/Data/labels/test/cast_ok_0_9584.txt\n",
            "Labels for image cast_ok_0_9634.jpeg saved to /content/gdrive/MyDrive/Colab Notebooks/Yolo/Data/labels/test/cast_ok_0_9634.txt\n",
            "Labels for image cast_ok_0_9667.jpeg saved to /content/gdrive/MyDrive/Colab Notebooks/Yolo/Data/labels/test/cast_ok_0_9667.txt\n",
            "Labels for image cast_ok_0_9732.jpeg saved to /content/gdrive/MyDrive/Colab Notebooks/Yolo/Data/labels/test/cast_ok_0_9732.txt\n",
            "Labels for image cast_ok_0_9734.jpeg saved to /content/gdrive/MyDrive/Colab Notebooks/Yolo/Data/labels/test/cast_ok_0_9734.txt\n",
            "Labels for image cast_ok_0_9741.jpeg saved to /content/gdrive/MyDrive/Colab Notebooks/Yolo/Data/labels/test/cast_ok_0_9741.txt\n",
            "Labels for image cast_ok_0_9771.jpeg saved to /content/gdrive/MyDrive/Colab Notebooks/Yolo/Data/labels/test/cast_ok_0_9771.txt\n",
            "Labels for image cast_ok_0_9791.jpeg saved to /content/gdrive/MyDrive/Colab Notebooks/Yolo/Data/labels/test/cast_ok_0_9791.txt\n",
            "Labels for image cast_ok_0_9818.jpeg saved to /content/gdrive/MyDrive/Colab Notebooks/Yolo/Data/labels/test/cast_ok_0_9818.txt\n",
            "Labels for image cast_ok_0_9840.jpeg saved to /content/gdrive/MyDrive/Colab Notebooks/Yolo/Data/labels/test/cast_ok_0_9840.txt\n",
            "Labels for image cast_ok_0_9843.jpeg saved to /content/gdrive/MyDrive/Colab Notebooks/Yolo/Data/labels/test/cast_ok_0_9843.txt\n",
            "Labels for image cast_ok_0_9850.jpeg saved to /content/gdrive/MyDrive/Colab Notebooks/Yolo/Data/labels/test/cast_ok_0_9850.txt\n",
            "Labels for image cast_ok_0_9959.jpeg saved to /content/gdrive/MyDrive/Colab Notebooks/Yolo/Data/labels/test/cast_ok_0_9959.txt\n",
            "Labels for image cast_ok_0_9966.jpeg saved to /content/gdrive/MyDrive/Colab Notebooks/Yolo/Data/labels/test/cast_ok_0_9966.txt\n",
            "Labels for image cast_ok_0_9990.jpeg saved to /content/gdrive/MyDrive/Colab Notebooks/Yolo/Data/labels/test/cast_ok_0_9990.txt\n",
            "Labels for image median_cast_def_0_314.jpeg saved to /content/gdrive/MyDrive/Colab Notebooks/Yolo/Data/labels/test/median_cast_def_0_314.txt\n",
            "Labels for image median_cast_def_0_315.jpeg saved to /content/gdrive/MyDrive/Colab Notebooks/Yolo/Data/labels/test/median_cast_def_0_315.txt\n",
            "Labels for image median_cast_def_0_317.jpeg saved to /content/gdrive/MyDrive/Colab Notebooks/Yolo/Data/labels/test/median_cast_def_0_317.txt\n",
            "Labels for image median_cast_def_0_319.jpeg saved to /content/gdrive/MyDrive/Colab Notebooks/Yolo/Data/labels/test/median_cast_def_0_319.txt\n",
            "Labels for image median_cast_def_0_320.jpeg saved to /content/gdrive/MyDrive/Colab Notebooks/Yolo/Data/labels/test/median_cast_def_0_320.txt\n",
            "Labels for image median_cast_def_0_321.jpeg saved to /content/gdrive/MyDrive/Colab Notebooks/Yolo/Data/labels/test/median_cast_def_0_321.txt\n",
            "Labels for image median_cast_def_0_323.jpeg saved to /content/gdrive/MyDrive/Colab Notebooks/Yolo/Data/labels/test/median_cast_def_0_323.txt\n",
            "Labels for image median_cast_def_0_324.jpeg saved to /content/gdrive/MyDrive/Colab Notebooks/Yolo/Data/labels/test/median_cast_def_0_324.txt\n",
            "Labels for image median_cast_def_0_327.jpeg saved to /content/gdrive/MyDrive/Colab Notebooks/Yolo/Data/labels/test/median_cast_def_0_327.txt\n",
            "Labels for image median_cast_def_0_330.jpeg saved to /content/gdrive/MyDrive/Colab Notebooks/Yolo/Data/labels/test/median_cast_def_0_330.txt\n",
            "Labels for image median_cast_def_0_331.jpeg saved to /content/gdrive/MyDrive/Colab Notebooks/Yolo/Data/labels/test/median_cast_def_0_331.txt\n",
            "Labels for image median_cast_def_0_333.jpeg saved to /content/gdrive/MyDrive/Colab Notebooks/Yolo/Data/labels/test/median_cast_def_0_333.txt\n",
            "Labels for image median_cast_def_0_335.jpeg saved to /content/gdrive/MyDrive/Colab Notebooks/Yolo/Data/labels/test/median_cast_def_0_335.txt\n",
            "Labels for image median_cast_def_0_337.jpeg saved to /content/gdrive/MyDrive/Colab Notebooks/Yolo/Data/labels/test/median_cast_def_0_337.txt\n",
            "Labels for image median_cast_def_0_339.jpeg saved to /content/gdrive/MyDrive/Colab Notebooks/Yolo/Data/labels/test/median_cast_def_0_339.txt\n",
            "Labels for image median_cast_def_0_347.jpeg saved to /content/gdrive/MyDrive/Colab Notebooks/Yolo/Data/labels/test/median_cast_def_0_347.txt\n",
            "Labels for image median_cast_def_0_348.jpeg saved to /content/gdrive/MyDrive/Colab Notebooks/Yolo/Data/labels/test/median_cast_def_0_348.txt\n",
            "Labels for image median_cast_def_0_350.jpeg saved to /content/gdrive/MyDrive/Colab Notebooks/Yolo/Data/labels/test/median_cast_def_0_350.txt\n",
            "Labels for image median_cast_def_0_354.jpeg saved to /content/gdrive/MyDrive/Colab Notebooks/Yolo/Data/labels/test/median_cast_def_0_354.txt\n",
            "Labels for image median_cast_def_0_355.jpeg saved to /content/gdrive/MyDrive/Colab Notebooks/Yolo/Data/labels/test/median_cast_def_0_355.txt\n",
            "Labels for image median_cast_def_0_357.jpeg saved to /content/gdrive/MyDrive/Colab Notebooks/Yolo/Data/labels/test/median_cast_def_0_357.txt\n",
            "Labels for image median_cast_def_0_359.jpeg saved to /content/gdrive/MyDrive/Colab Notebooks/Yolo/Data/labels/test/median_cast_def_0_359.txt\n",
            "Labels for image median_cast_def_0_360.jpeg saved to /content/gdrive/MyDrive/Colab Notebooks/Yolo/Data/labels/test/median_cast_def_0_360.txt\n",
            "Labels for image median_cast_def_0_363.jpeg saved to /content/gdrive/MyDrive/Colab Notebooks/Yolo/Data/labels/test/median_cast_def_0_363.txt\n",
            "Labels for image median_cast_def_0_372.jpeg saved to /content/gdrive/MyDrive/Colab Notebooks/Yolo/Data/labels/test/median_cast_def_0_372.txt\n",
            "Labels for image poisson_cast_def_0_357.jpeg saved to /content/gdrive/MyDrive/Colab Notebooks/Yolo/Data/labels/test/poisson_cast_def_0_357.txt\n",
            "Labels for image poisson_cast_def_0_359.jpeg saved to /content/gdrive/MyDrive/Colab Notebooks/Yolo/Data/labels/test/poisson_cast_def_0_359.txt\n",
            "Labels for image poisson_cast_def_0_360.jpeg saved to /content/gdrive/MyDrive/Colab Notebooks/Yolo/Data/labels/test/poisson_cast_def_0_360.txt\n",
            "Labels for image poisson_cast_def_0_363.jpeg saved to /content/gdrive/MyDrive/Colab Notebooks/Yolo/Data/labels/test/poisson_cast_def_0_363.txt\n",
            "Labels for image poisson_cast_def_0_372.jpeg saved to /content/gdrive/MyDrive/Colab Notebooks/Yolo/Data/labels/test/poisson_cast_def_0_372.txt\n",
            "Labels for image poisson_cast_def_0_374.jpeg saved to /content/gdrive/MyDrive/Colab Notebooks/Yolo/Data/labels/test/poisson_cast_def_0_374.txt\n",
            "Labels for image poisson_cast_def_0_376.jpeg saved to /content/gdrive/MyDrive/Colab Notebooks/Yolo/Data/labels/test/poisson_cast_def_0_376.txt\n",
            "Labels for image poisson_cast_def_0_377.jpeg saved to /content/gdrive/MyDrive/Colab Notebooks/Yolo/Data/labels/test/poisson_cast_def_0_377.txt\n",
            "Labels for image poisson_cast_def_0_378.jpeg saved to /content/gdrive/MyDrive/Colab Notebooks/Yolo/Data/labels/test/poisson_cast_def_0_378.txt\n",
            "Labels for image poisson_cast_def_0_379.jpeg saved to /content/gdrive/MyDrive/Colab Notebooks/Yolo/Data/labels/test/poisson_cast_def_0_379.txt\n",
            "Labels for image poisson_cast_def_0_380.jpeg saved to /content/gdrive/MyDrive/Colab Notebooks/Yolo/Data/labels/test/poisson_cast_def_0_380.txt\n",
            "Labels for image poisson_cast_def_0_387.jpeg saved to /content/gdrive/MyDrive/Colab Notebooks/Yolo/Data/labels/test/poisson_cast_def_0_387.txt\n",
            "Labels for image poisson_cast_def_0_396.jpeg saved to /content/gdrive/MyDrive/Colab Notebooks/Yolo/Data/labels/test/poisson_cast_def_0_396.txt\n",
            "Labels for image poisson_cast_def_0_399.jpeg saved to /content/gdrive/MyDrive/Colab Notebooks/Yolo/Data/labels/test/poisson_cast_def_0_399.txt\n",
            "Labels for image poisson_cast_def_0_401.jpeg saved to /content/gdrive/MyDrive/Colab Notebooks/Yolo/Data/labels/test/poisson_cast_def_0_401.txt\n",
            "Labels for image poisson_cast_def_0_402.jpeg saved to /content/gdrive/MyDrive/Colab Notebooks/Yolo/Data/labels/test/poisson_cast_def_0_402.txt\n",
            "Labels for image poisson_cast_def_0_404.jpeg saved to /content/gdrive/MyDrive/Colab Notebooks/Yolo/Data/labels/test/poisson_cast_def_0_404.txt\n",
            "Labels for image poisson_cast_def_0_409.jpeg saved to /content/gdrive/MyDrive/Colab Notebooks/Yolo/Data/labels/test/poisson_cast_def_0_409.txt\n",
            "Labels for image poisson_cast_def_0_411.jpeg saved to /content/gdrive/MyDrive/Colab Notebooks/Yolo/Data/labels/test/poisson_cast_def_0_411.txt\n",
            "Labels for image poisson_cast_def_0_415.jpeg saved to /content/gdrive/MyDrive/Colab Notebooks/Yolo/Data/labels/test/poisson_cast_def_0_415.txt\n",
            "Labels for image poisson_cast_def_0_417.jpeg saved to /content/gdrive/MyDrive/Colab Notebooks/Yolo/Data/labels/test/poisson_cast_def_0_417.txt\n",
            "Labels for image poisson_cast_def_0_421.jpeg saved to /content/gdrive/MyDrive/Colab Notebooks/Yolo/Data/labels/test/poisson_cast_def_0_421.txt\n",
            "Labels for image poisson_cast_def_0_422.jpeg saved to /content/gdrive/MyDrive/Colab Notebooks/Yolo/Data/labels/test/poisson_cast_def_0_422.txt\n",
            "Labels for image poisson_cast_def_0_423.jpeg saved to /content/gdrive/MyDrive/Colab Notebooks/Yolo/Data/labels/test/poisson_cast_def_0_423.txt\n",
            "Labels for image poisson_cast_def_0_425.jpeg saved to /content/gdrive/MyDrive/Colab Notebooks/Yolo/Data/labels/test/poisson_cast_def_0_425.txt\n",
            "Labels for image salt_pepper_cast_def_0_103.jpeg saved to /content/gdrive/MyDrive/Colab Notebooks/Yolo/Data/labels/test/salt_pepper_cast_def_0_103.txt\n",
            "Labels for image salt_pepper_cast_def_0_105.jpeg saved to /content/gdrive/MyDrive/Colab Notebooks/Yolo/Data/labels/test/salt_pepper_cast_def_0_105.txt\n",
            "Labels for image salt_pepper_cast_def_0_107.jpeg saved to /content/gdrive/MyDrive/Colab Notebooks/Yolo/Data/labels/test/salt_pepper_cast_def_0_107.txt\n",
            "Labels for image salt_pepper_cast_def_0_109.jpeg saved to /content/gdrive/MyDrive/Colab Notebooks/Yolo/Data/labels/test/salt_pepper_cast_def_0_109.txt\n",
            "Labels for image salt_pepper_cast_def_0_110.jpeg saved to /content/gdrive/MyDrive/Colab Notebooks/Yolo/Data/labels/test/salt_pepper_cast_def_0_110.txt\n",
            "Labels for image salt_pepper_cast_def_0_116.jpeg saved to /content/gdrive/MyDrive/Colab Notebooks/Yolo/Data/labels/test/salt_pepper_cast_def_0_116.txt\n",
            "Labels for image salt_pepper_cast_def_0_120.jpeg saved to /content/gdrive/MyDrive/Colab Notebooks/Yolo/Data/labels/test/salt_pepper_cast_def_0_120.txt\n",
            "Labels for image salt_pepper_cast_def_0_122.jpeg saved to /content/gdrive/MyDrive/Colab Notebooks/Yolo/Data/labels/test/salt_pepper_cast_def_0_122.txt\n",
            "Labels for image salt_pepper_cast_def_0_126.jpeg saved to /content/gdrive/MyDrive/Colab Notebooks/Yolo/Data/labels/test/salt_pepper_cast_def_0_126.txt\n",
            "Labels for image salt_pepper_cast_def_0_130.jpeg saved to /content/gdrive/MyDrive/Colab Notebooks/Yolo/Data/labels/test/salt_pepper_cast_def_0_130.txt\n",
            "Labels for image salt_pepper_cast_def_0_131.jpeg saved to /content/gdrive/MyDrive/Colab Notebooks/Yolo/Data/labels/test/salt_pepper_cast_def_0_131.txt\n",
            "Labels for image salt_pepper_cast_def_0_133.jpeg saved to /content/gdrive/MyDrive/Colab Notebooks/Yolo/Data/labels/test/salt_pepper_cast_def_0_133.txt\n",
            "Labels for image salt_pepper_cast_def_0_135.jpeg saved to /content/gdrive/MyDrive/Colab Notebooks/Yolo/Data/labels/test/salt_pepper_cast_def_0_135.txt\n",
            "Labels for image salt_pepper_cast_def_0_136.jpeg saved to /content/gdrive/MyDrive/Colab Notebooks/Yolo/Data/labels/test/salt_pepper_cast_def_0_136.txt\n",
            "Labels for image salt_pepper_cast_def_0_148.jpeg saved to /content/gdrive/MyDrive/Colab Notebooks/Yolo/Data/labels/test/salt_pepper_cast_def_0_148.txt\n",
            "Labels for image salt_pepper_cast_def_0_163.jpeg saved to /content/gdrive/MyDrive/Colab Notebooks/Yolo/Data/labels/test/salt_pepper_cast_def_0_163.txt\n",
            "Labels for image salt_pepper_cast_def_0_175.jpeg saved to /content/gdrive/MyDrive/Colab Notebooks/Yolo/Data/labels/test/salt_pepper_cast_def_0_175.txt\n",
            "Labels for image salt_pepper_cast_def_0_186.jpeg saved to /content/gdrive/MyDrive/Colab Notebooks/Yolo/Data/labels/test/salt_pepper_cast_def_0_186.txt\n",
            "Labels for image salt_pepper_cast_def_0_191.jpeg saved to /content/gdrive/MyDrive/Colab Notebooks/Yolo/Data/labels/test/salt_pepper_cast_def_0_191.txt\n",
            "Labels for image salt_pepper_cast_def_0_91.jpeg saved to /content/gdrive/MyDrive/Colab Notebooks/Yolo/Data/labels/test/salt_pepper_cast_def_0_91.txt\n",
            "Labels for image salt_pepper_cast_def_0_92.jpeg saved to /content/gdrive/MyDrive/Colab Notebooks/Yolo/Data/labels/test/salt_pepper_cast_def_0_92.txt\n",
            "Labels for image salt_pepper_cast_def_0_95.jpeg saved to /content/gdrive/MyDrive/Colab Notebooks/Yolo/Data/labels/test/salt_pepper_cast_def_0_95.txt\n",
            "Labels for image salt_pepper_cast_def_0_97.jpeg saved to /content/gdrive/MyDrive/Colab Notebooks/Yolo/Data/labels/test/salt_pepper_cast_def_0_97.txt\n",
            "Labels for image salt_pepper_cast_def_0_98.jpeg saved to /content/gdrive/MyDrive/Colab Notebooks/Yolo/Data/labels/test/salt_pepper_cast_def_0_98.txt\n",
            "Labels for image salt_pepper_cast_def_0_99.jpeg saved to /content/gdrive/MyDrive/Colab Notebooks/Yolo/Data/labels/test/salt_pepper_cast_def_0_99.txt\n"
          ]
        }
      ]
    },
    {
      "cell_type": "markdown",
      "source": [
        "Dividing the images according to the labels"
      ],
      "metadata": {
        "id": "vgwQcJB7d58t"
      }
    },
    {
      "cell_type": "code",
      "source": [
        "import os\n",
        "from ultralytics import YOLO\n",
        "\n",
        "# Ensure the directory for labels exists\n",
        "os.makedirs('/content/gdrive/MyDrive/Colab Notebooks/Yolo/Data/labels/test', exist_ok=True)\n",
        "\n",
        "# Set up YOLO model\n",
        "results = model.predict(source='/content/gdrive/MyDrive/Colab Notebooks/Yolo/Data/images/test', save=True)\n",
        "\n",
        "for result in results:\n",
        "    # Extract labels and bounding box information\n",
        "    labels = [result.names[int(cls)] for cls in result.boxes.cls]\n",
        "    boxes = result.boxes.xywh  # YOLO format (x_center, y_center, width, height)\n",
        "\n",
        "    # Create a text file for labels and coordinates\n",
        "    image_filename = os.path.basename(result.path)\n",
        "    label_filename = os.path.splitext(image_filename)[0] + \".txt\"\n",
        "    output_filepath = os.path.join('/content/gdrive/MyDrive/Colab Notebooks/Yolo/Data/labels/test', label_filename)\n",
        "\n",
        "    with open(output_filepath, \"w\") as f:\n",
        "        for label, box in zip(labels, boxes):\n",
        "            x_center, y_center, width, height = box\n",
        "            # Normalize the coordinates to the image size\n",
        "            img_height, img_width = result.orig_shape[:2]\n",
        "            x_center /= img_width\n",
        "            y_center /= img_height\n",
        "            width /= img_width\n",
        "            height /= img_height\n",
        "            # Write label and normalized coordinates to the file\n",
        "            f.write(f\"{label} {x_center:.6f} {y_center:.6f} {width:.6f} {height:.6f}\\n\")\n",
        "\n",
        "    print(f\"Labels and coordinates for image {image_filename} saved to {output_filepath}\")\n"
      ],
      "metadata": {
        "id": "jfVWqNz3d2d4",
        "colab": {
          "base_uri": "https://localhost:8080/"
        },
        "outputId": "83bcad07-ede6-4826-d4f2-a405cac9cac1"
      },
      "execution_count": null,
      "outputs": [
        {
          "output_type": "stream",
          "name": "stdout",
          "text": [
            "\n",
            "image 1/129 /content/gdrive/MyDrive/Colab Notebooks/Yolo/Data/images/test/cast_def_0_9520.jpeg: 640x640 2 defects, 11.7ms\n",
            "image 2/129 /content/gdrive/MyDrive/Colab Notebooks/Yolo/Data/images/test/cast_def_0_9613.jpeg: 640x640 1 defect, 7.7ms\n",
            "image 3/129 /content/gdrive/MyDrive/Colab Notebooks/Yolo/Data/images/test/cast_def_0_9637.jpeg: 640x640 1 defect, 7.9ms\n",
            "image 4/129 /content/gdrive/MyDrive/Colab Notebooks/Yolo/Data/images/test/cast_def_0_9640.jpeg: 640x640 (no detections), 7.6ms\n",
            "image 5/129 /content/gdrive/MyDrive/Colab Notebooks/Yolo/Data/images/test/cast_def_0_9643.jpeg: 640x640 1 defect, 8.0ms\n",
            "image 6/129 /content/gdrive/MyDrive/Colab Notebooks/Yolo/Data/images/test/cast_def_0_9644.jpeg: 640x640 7 defects, 7.5ms\n",
            "image 7/129 /content/gdrive/MyDrive/Colab Notebooks/Yolo/Data/images/test/cast_def_0_966.jpeg: 640x640 (no detections), 7.7ms\n",
            "image 8/129 /content/gdrive/MyDrive/Colab Notebooks/Yolo/Data/images/test/cast_def_0_9669.jpeg: 640x640 8 defects, 10.5ms\n",
            "image 9/129 /content/gdrive/MyDrive/Colab Notebooks/Yolo/Data/images/test/cast_def_0_9683.jpeg: 640x640 8 defects, 7.6ms\n",
            "image 10/129 /content/gdrive/MyDrive/Colab Notebooks/Yolo/Data/images/test/cast_def_0_9687.jpeg: 640x640 2 defects, 7.4ms\n",
            "image 11/129 /content/gdrive/MyDrive/Colab Notebooks/Yolo/Data/images/test/cast_def_0_9737.jpeg: 640x640 (no detections), 7.6ms\n",
            "image 12/129 /content/gdrive/MyDrive/Colab Notebooks/Yolo/Data/images/test/cast_def_0_9750.jpeg: 640x640 1 defect, 1 ok, 7.3ms\n",
            "image 13/129 /content/gdrive/MyDrive/Colab Notebooks/Yolo/Data/images/test/cast_def_0_9755.jpeg: 640x640 1 defect, 7.4ms\n",
            "image 14/129 /content/gdrive/MyDrive/Colab Notebooks/Yolo/Data/images/test/cast_def_0_976.jpeg: 640x640 3 defects, 7.3ms\n",
            "image 15/129 /content/gdrive/MyDrive/Colab Notebooks/Yolo/Data/images/test/cast_def_0_9780.jpeg: 640x640 10 defects, 7.4ms\n",
            "image 16/129 /content/gdrive/MyDrive/Colab Notebooks/Yolo/Data/images/test/cast_def_0_9817.jpeg: 640x640 14 defects, 7.7ms\n",
            "image 17/129 /content/gdrive/MyDrive/Colab Notebooks/Yolo/Data/images/test/cast_def_0_9836.jpeg: 640x640 5 defects, 7.4ms\n",
            "image 18/129 /content/gdrive/MyDrive/Colab Notebooks/Yolo/Data/images/test/cast_def_0_9854.jpeg: 640x640 1 defect, 7.4ms\n",
            "image 19/129 /content/gdrive/MyDrive/Colab Notebooks/Yolo/Data/images/test/cast_def_0_9857.jpeg: 640x640 1 defect, 7.4ms\n",
            "image 20/129 /content/gdrive/MyDrive/Colab Notebooks/Yolo/Data/images/test/cast_def_0_9872.jpeg: 640x640 1 defect, 7.5ms\n",
            "image 21/129 /content/gdrive/MyDrive/Colab Notebooks/Yolo/Data/images/test/cast_def_0_9873.jpeg: 640x640 1 defect, 1 ok, 7.5ms\n",
            "image 22/129 /content/gdrive/MyDrive/Colab Notebooks/Yolo/Data/images/test/cast_def_0_9877.jpeg: 640x640 1 defect, 7.3ms\n",
            "image 23/129 /content/gdrive/MyDrive/Colab Notebooks/Yolo/Data/images/test/cast_def_0_9879.jpeg: 640x640 1 defect, 7.6ms\n",
            "image 24/129 /content/gdrive/MyDrive/Colab Notebooks/Yolo/Data/images/test/cast_def_0_994.jpeg: 640x640 9 defects, 8.9ms\n",
            "image 25/129 /content/gdrive/MyDrive/Colab Notebooks/Yolo/Data/images/test/cast_def_0_9963.jpeg: 640x640 1 defect, 7.3ms\n",
            "image 26/129 /content/gdrive/MyDrive/Colab Notebooks/Yolo/Data/images/test/cast_def_0_9980.jpeg: 640x640 6 defects, 7.7ms\n",
            "image 27/129 /content/gdrive/MyDrive/Colab Notebooks/Yolo/Data/images/test/cast_def_0_9995.jpeg: 640x640 1 defect, 7.5ms\n",
            "image 28/129 /content/gdrive/MyDrive/Colab Notebooks/Yolo/Data/images/test/cast_ok_0_9270.jpeg: 640x640 1 ok, 7.2ms\n",
            "image 29/129 /content/gdrive/MyDrive/Colab Notebooks/Yolo/Data/images/test/cast_ok_0_9277.jpeg: 640x640 1 ok, 7.2ms\n",
            "image 30/129 /content/gdrive/MyDrive/Colab Notebooks/Yolo/Data/images/test/cast_ok_0_93.jpeg: 640x640 (no detections), 7.6ms\n",
            "image 31/129 /content/gdrive/MyDrive/Colab Notebooks/Yolo/Data/images/test/cast_ok_0_9341.jpeg: 640x640 1 ok, 7.6ms\n",
            "image 32/129 /content/gdrive/MyDrive/Colab Notebooks/Yolo/Data/images/test/cast_ok_0_9360.jpeg: 640x640 1 ok, 7.2ms\n",
            "image 33/129 /content/gdrive/MyDrive/Colab Notebooks/Yolo/Data/images/test/cast_ok_0_9366.jpeg: 640x640 1 ok, 7.2ms\n",
            "image 34/129 /content/gdrive/MyDrive/Colab Notebooks/Yolo/Data/images/test/cast_ok_0_9367.jpeg: 640x640 1 ok, 7.6ms\n",
            "image 35/129 /content/gdrive/MyDrive/Colab Notebooks/Yolo/Data/images/test/cast_ok_0_9389.jpeg: 640x640 (no detections), 7.3ms\n",
            "image 36/129 /content/gdrive/MyDrive/Colab Notebooks/Yolo/Data/images/test/cast_ok_0_9411.jpeg: 640x640 1 defect, 1 ok, 7.4ms\n",
            "image 37/129 /content/gdrive/MyDrive/Colab Notebooks/Yolo/Data/images/test/cast_ok_0_9464.jpeg: 640x640 1 ok, 7.6ms\n",
            "image 38/129 /content/gdrive/MyDrive/Colab Notebooks/Yolo/Data/images/test/cast_ok_0_9494.jpeg: 640x640 1 ok, 7.3ms\n",
            "image 39/129 /content/gdrive/MyDrive/Colab Notebooks/Yolo/Data/images/test/cast_ok_0_9516.jpeg: 640x640 (no detections), 8.3ms\n",
            "image 40/129 /content/gdrive/MyDrive/Colab Notebooks/Yolo/Data/images/test/cast_ok_0_9584.jpeg: 640x640 1 ok, 7.4ms\n",
            "image 41/129 /content/gdrive/MyDrive/Colab Notebooks/Yolo/Data/images/test/cast_ok_0_9634.jpeg: 640x640 1 ok, 7.4ms\n",
            "image 42/129 /content/gdrive/MyDrive/Colab Notebooks/Yolo/Data/images/test/cast_ok_0_9667.jpeg: 640x640 1 ok, 7.3ms\n",
            "image 43/129 /content/gdrive/MyDrive/Colab Notebooks/Yolo/Data/images/test/cast_ok_0_9732.jpeg: 640x640 (no detections), 7.0ms\n",
            "image 44/129 /content/gdrive/MyDrive/Colab Notebooks/Yolo/Data/images/test/cast_ok_0_9734.jpeg: 640x640 1 ok, 7.0ms\n",
            "image 45/129 /content/gdrive/MyDrive/Colab Notebooks/Yolo/Data/images/test/cast_ok_0_9741.jpeg: 640x640 1 ok, 10.0ms\n",
            "image 46/129 /content/gdrive/MyDrive/Colab Notebooks/Yolo/Data/images/test/cast_ok_0_9771.jpeg: 640x640 1 ok, 7.7ms\n",
            "image 47/129 /content/gdrive/MyDrive/Colab Notebooks/Yolo/Data/images/test/cast_ok_0_9791.jpeg: 640x640 1 ok, 7.4ms\n",
            "image 48/129 /content/gdrive/MyDrive/Colab Notebooks/Yolo/Data/images/test/cast_ok_0_9818.jpeg: 640x640 1 ok, 8.8ms\n",
            "image 49/129 /content/gdrive/MyDrive/Colab Notebooks/Yolo/Data/images/test/cast_ok_0_9840.jpeg: 640x640 1 ok, 7.6ms\n",
            "image 50/129 /content/gdrive/MyDrive/Colab Notebooks/Yolo/Data/images/test/cast_ok_0_9843.jpeg: 640x640 1 ok, 7.5ms\n",
            "image 51/129 /content/gdrive/MyDrive/Colab Notebooks/Yolo/Data/images/test/cast_ok_0_9850.jpeg: 640x640 1 ok, 7.2ms\n",
            "image 52/129 /content/gdrive/MyDrive/Colab Notebooks/Yolo/Data/images/test/cast_ok_0_9959.jpeg: 640x640 1 ok, 8.2ms\n",
            "image 53/129 /content/gdrive/MyDrive/Colab Notebooks/Yolo/Data/images/test/cast_ok_0_9966.jpeg: 640x640 1 ok, 7.7ms\n",
            "image 54/129 /content/gdrive/MyDrive/Colab Notebooks/Yolo/Data/images/test/cast_ok_0_9990.jpeg: 640x640 1 ok, 7.8ms\n",
            "image 55/129 /content/gdrive/MyDrive/Colab Notebooks/Yolo/Data/images/test/median_cast_def_0_314.jpeg: 640x640 (no detections), 7.1ms\n",
            "image 56/129 /content/gdrive/MyDrive/Colab Notebooks/Yolo/Data/images/test/median_cast_def_0_315.jpeg: 640x640 1 defect, 11.4ms\n",
            "image 57/129 /content/gdrive/MyDrive/Colab Notebooks/Yolo/Data/images/test/median_cast_def_0_317.jpeg: 640x640 (no detections), 7.5ms\n",
            "image 58/129 /content/gdrive/MyDrive/Colab Notebooks/Yolo/Data/images/test/median_cast_def_0_319.jpeg: 640x640 5 defects, 7.4ms\n",
            "image 59/129 /content/gdrive/MyDrive/Colab Notebooks/Yolo/Data/images/test/median_cast_def_0_320.jpeg: 640x640 8 defects, 7.8ms\n",
            "image 60/129 /content/gdrive/MyDrive/Colab Notebooks/Yolo/Data/images/test/median_cast_def_0_321.jpeg: 640x640 1 defect, 7.6ms\n",
            "image 61/129 /content/gdrive/MyDrive/Colab Notebooks/Yolo/Data/images/test/median_cast_def_0_323.jpeg: 640x640 1 defect, 7.3ms\n",
            "image 62/129 /content/gdrive/MyDrive/Colab Notebooks/Yolo/Data/images/test/median_cast_def_0_324.jpeg: 640x640 8 defects, 7.4ms\n",
            "image 63/129 /content/gdrive/MyDrive/Colab Notebooks/Yolo/Data/images/test/median_cast_def_0_327.jpeg: 640x640 1 defect, 7.5ms\n",
            "image 64/129 /content/gdrive/MyDrive/Colab Notebooks/Yolo/Data/images/test/median_cast_def_0_330.jpeg: 640x640 1 defect, 8.8ms\n",
            "image 65/129 /content/gdrive/MyDrive/Colab Notebooks/Yolo/Data/images/test/median_cast_def_0_331.jpeg: 640x640 2 defects, 7.5ms\n",
            "image 66/129 /content/gdrive/MyDrive/Colab Notebooks/Yolo/Data/images/test/median_cast_def_0_333.jpeg: 640x640 1 defect, 7.4ms\n",
            "image 67/129 /content/gdrive/MyDrive/Colab Notebooks/Yolo/Data/images/test/median_cast_def_0_335.jpeg: 640x640 1 defect, 7.3ms\n",
            "image 68/129 /content/gdrive/MyDrive/Colab Notebooks/Yolo/Data/images/test/median_cast_def_0_337.jpeg: 640x640 3 defects, 7.0ms\n",
            "image 69/129 /content/gdrive/MyDrive/Colab Notebooks/Yolo/Data/images/test/median_cast_def_0_339.jpeg: 640x640 1 defect, 7.1ms\n",
            "image 70/129 /content/gdrive/MyDrive/Colab Notebooks/Yolo/Data/images/test/median_cast_def_0_347.jpeg: 640x640 (no detections), 7.4ms\n",
            "image 71/129 /content/gdrive/MyDrive/Colab Notebooks/Yolo/Data/images/test/median_cast_def_0_348.jpeg: 640x640 2 defects, 7.3ms\n",
            "image 72/129 /content/gdrive/MyDrive/Colab Notebooks/Yolo/Data/images/test/median_cast_def_0_350.jpeg: 640x640 9 defects, 7.4ms\n",
            "image 73/129 /content/gdrive/MyDrive/Colab Notebooks/Yolo/Data/images/test/median_cast_def_0_354.jpeg: 640x640 2 defects, 7.3ms\n",
            "image 74/129 /content/gdrive/MyDrive/Colab Notebooks/Yolo/Data/images/test/median_cast_def_0_355.jpeg: 640x640 6 defects, 8.4ms\n",
            "image 75/129 /content/gdrive/MyDrive/Colab Notebooks/Yolo/Data/images/test/median_cast_def_0_357.jpeg: 640x640 1 ok, 9.4ms\n",
            "image 76/129 /content/gdrive/MyDrive/Colab Notebooks/Yolo/Data/images/test/median_cast_def_0_359.jpeg: 640x640 4 defects, 11.1ms\n",
            "image 77/129 /content/gdrive/MyDrive/Colab Notebooks/Yolo/Data/images/test/median_cast_def_0_360.jpeg: 640x640 8 defects, 7.7ms\n",
            "image 78/129 /content/gdrive/MyDrive/Colab Notebooks/Yolo/Data/images/test/median_cast_def_0_363.jpeg: 640x640 2 defects, 8.3ms\n",
            "image 79/129 /content/gdrive/MyDrive/Colab Notebooks/Yolo/Data/images/test/median_cast_def_0_372.jpeg: 640x640 5 defects, 7.5ms\n",
            "image 80/129 /content/gdrive/MyDrive/Colab Notebooks/Yolo/Data/images/test/poisson_cast_def_0_357.jpeg: 640x640 3 oks, 7.6ms\n",
            "image 81/129 /content/gdrive/MyDrive/Colab Notebooks/Yolo/Data/images/test/poisson_cast_def_0_359.jpeg: 640x640 3 oks, 8.0ms\n",
            "image 82/129 /content/gdrive/MyDrive/Colab Notebooks/Yolo/Data/images/test/poisson_cast_def_0_360.jpeg: 640x640 2 oks, 7.9ms\n",
            "image 83/129 /content/gdrive/MyDrive/Colab Notebooks/Yolo/Data/images/test/poisson_cast_def_0_363.jpeg: 640x640 2 oks, 7.4ms\n",
            "image 84/129 /content/gdrive/MyDrive/Colab Notebooks/Yolo/Data/images/test/poisson_cast_def_0_372.jpeg: 640x640 2 oks, 7.3ms\n",
            "image 85/129 /content/gdrive/MyDrive/Colab Notebooks/Yolo/Data/images/test/poisson_cast_def_0_374.jpeg: 640x640 3 oks, 7.5ms\n",
            "image 86/129 /content/gdrive/MyDrive/Colab Notebooks/Yolo/Data/images/test/poisson_cast_def_0_376.jpeg: 640x640 2 oks, 7.3ms\n",
            "image 87/129 /content/gdrive/MyDrive/Colab Notebooks/Yolo/Data/images/test/poisson_cast_def_0_377.jpeg: 640x640 3 oks, 7.3ms\n",
            "image 88/129 /content/gdrive/MyDrive/Colab Notebooks/Yolo/Data/images/test/poisson_cast_def_0_378.jpeg: 640x640 2 oks, 8.1ms\n",
            "image 89/129 /content/gdrive/MyDrive/Colab Notebooks/Yolo/Data/images/test/poisson_cast_def_0_379.jpeg: 640x640 3 oks, 7.5ms\n",
            "image 90/129 /content/gdrive/MyDrive/Colab Notebooks/Yolo/Data/images/test/poisson_cast_def_0_380.jpeg: 640x640 3 oks, 7.2ms\n",
            "image 91/129 /content/gdrive/MyDrive/Colab Notebooks/Yolo/Data/images/test/poisson_cast_def_0_387.jpeg: 640x640 2 oks, 7.6ms\n",
            "image 92/129 /content/gdrive/MyDrive/Colab Notebooks/Yolo/Data/images/test/poisson_cast_def_0_396.jpeg: 640x640 3 oks, 7.3ms\n",
            "image 93/129 /content/gdrive/MyDrive/Colab Notebooks/Yolo/Data/images/test/poisson_cast_def_0_399.jpeg: 640x640 2 oks, 8.7ms\n",
            "image 94/129 /content/gdrive/MyDrive/Colab Notebooks/Yolo/Data/images/test/poisson_cast_def_0_401.jpeg: 640x640 3 oks, 7.5ms\n",
            "image 95/129 /content/gdrive/MyDrive/Colab Notebooks/Yolo/Data/images/test/poisson_cast_def_0_402.jpeg: 640x640 3 oks, 8.0ms\n",
            "image 96/129 /content/gdrive/MyDrive/Colab Notebooks/Yolo/Data/images/test/poisson_cast_def_0_404.jpeg: 640x640 2 oks, 7.4ms\n",
            "image 97/129 /content/gdrive/MyDrive/Colab Notebooks/Yolo/Data/images/test/poisson_cast_def_0_409.jpeg: 640x640 2 oks, 7.3ms\n",
            "image 98/129 /content/gdrive/MyDrive/Colab Notebooks/Yolo/Data/images/test/poisson_cast_def_0_411.jpeg: 640x640 2 oks, 7.6ms\n",
            "image 99/129 /content/gdrive/MyDrive/Colab Notebooks/Yolo/Data/images/test/poisson_cast_def_0_415.jpeg: 640x640 3 oks, 7.9ms\n",
            "image 100/129 /content/gdrive/MyDrive/Colab Notebooks/Yolo/Data/images/test/poisson_cast_def_0_417.jpeg: 640x640 2 oks, 7.3ms\n",
            "image 101/129 /content/gdrive/MyDrive/Colab Notebooks/Yolo/Data/images/test/poisson_cast_def_0_421.jpeg: 640x640 3 oks, 7.1ms\n",
            "image 102/129 /content/gdrive/MyDrive/Colab Notebooks/Yolo/Data/images/test/poisson_cast_def_0_422.jpeg: 640x640 2 oks, 7.4ms\n",
            "image 103/129 /content/gdrive/MyDrive/Colab Notebooks/Yolo/Data/images/test/poisson_cast_def_0_423.jpeg: 640x640 3 oks, 7.3ms\n",
            "image 104/129 /content/gdrive/MyDrive/Colab Notebooks/Yolo/Data/images/test/poisson_cast_def_0_425.jpeg: 640x640 3 oks, 7.1ms\n",
            "image 105/129 /content/gdrive/MyDrive/Colab Notebooks/Yolo/Data/images/test/salt_pepper_cast_def_0_103.jpeg: 640x640 (no detections), 7.9ms\n",
            "image 106/129 /content/gdrive/MyDrive/Colab Notebooks/Yolo/Data/images/test/salt_pepper_cast_def_0_105.jpeg: 640x640 (no detections), 7.5ms\n",
            "image 107/129 /content/gdrive/MyDrive/Colab Notebooks/Yolo/Data/images/test/salt_pepper_cast_def_0_107.jpeg: 640x640 (no detections), 7.5ms\n",
            "image 108/129 /content/gdrive/MyDrive/Colab Notebooks/Yolo/Data/images/test/salt_pepper_cast_def_0_109.jpeg: 640x640 (no detections), 7.5ms\n",
            "image 109/129 /content/gdrive/MyDrive/Colab Notebooks/Yolo/Data/images/test/salt_pepper_cast_def_0_110.jpeg: 640x640 (no detections), 7.5ms\n",
            "image 110/129 /content/gdrive/MyDrive/Colab Notebooks/Yolo/Data/images/test/salt_pepper_cast_def_0_116.jpeg: 640x640 (no detections), 7.1ms\n",
            "image 111/129 /content/gdrive/MyDrive/Colab Notebooks/Yolo/Data/images/test/salt_pepper_cast_def_0_120.jpeg: 640x640 (no detections), 7.0ms\n",
            "image 112/129 /content/gdrive/MyDrive/Colab Notebooks/Yolo/Data/images/test/salt_pepper_cast_def_0_122.jpeg: 640x640 (no detections), 7.1ms\n",
            "image 113/129 /content/gdrive/MyDrive/Colab Notebooks/Yolo/Data/images/test/salt_pepper_cast_def_0_126.jpeg: 640x640 1 ok, 7.1ms\n",
            "image 114/129 /content/gdrive/MyDrive/Colab Notebooks/Yolo/Data/images/test/salt_pepper_cast_def_0_130.jpeg: 640x640 (no detections), 7.1ms\n",
            "image 115/129 /content/gdrive/MyDrive/Colab Notebooks/Yolo/Data/images/test/salt_pepper_cast_def_0_131.jpeg: 640x640 (no detections), 6.9ms\n",
            "image 116/129 /content/gdrive/MyDrive/Colab Notebooks/Yolo/Data/images/test/salt_pepper_cast_def_0_133.jpeg: 640x640 (no detections), 7.1ms\n",
            "image 117/129 /content/gdrive/MyDrive/Colab Notebooks/Yolo/Data/images/test/salt_pepper_cast_def_0_135.jpeg: 640x640 (no detections), 7.0ms\n",
            "image 118/129 /content/gdrive/MyDrive/Colab Notebooks/Yolo/Data/images/test/salt_pepper_cast_def_0_136.jpeg: 640x640 (no detections), 7.1ms\n",
            "image 119/129 /content/gdrive/MyDrive/Colab Notebooks/Yolo/Data/images/test/salt_pepper_cast_def_0_148.jpeg: 640x640 (no detections), 7.0ms\n",
            "image 120/129 /content/gdrive/MyDrive/Colab Notebooks/Yolo/Data/images/test/salt_pepper_cast_def_0_163.jpeg: 640x640 (no detections), 7.1ms\n",
            "image 121/129 /content/gdrive/MyDrive/Colab Notebooks/Yolo/Data/images/test/salt_pepper_cast_def_0_175.jpeg: 640x640 (no detections), 7.2ms\n",
            "image 122/129 /content/gdrive/MyDrive/Colab Notebooks/Yolo/Data/images/test/salt_pepper_cast_def_0_186.jpeg: 640x640 (no detections), 7.2ms\n",
            "image 123/129 /content/gdrive/MyDrive/Colab Notebooks/Yolo/Data/images/test/salt_pepper_cast_def_0_191.jpeg: 640x640 (no detections), 7.7ms\n",
            "image 124/129 /content/gdrive/MyDrive/Colab Notebooks/Yolo/Data/images/test/salt_pepper_cast_def_0_91.jpeg: 640x640 (no detections), 7.3ms\n",
            "image 125/129 /content/gdrive/MyDrive/Colab Notebooks/Yolo/Data/images/test/salt_pepper_cast_def_0_92.jpeg: 640x640 (no detections), 7.1ms\n",
            "image 126/129 /content/gdrive/MyDrive/Colab Notebooks/Yolo/Data/images/test/salt_pepper_cast_def_0_95.jpeg: 640x640 (no detections), 7.2ms\n",
            "image 127/129 /content/gdrive/MyDrive/Colab Notebooks/Yolo/Data/images/test/salt_pepper_cast_def_0_97.jpeg: 640x640 (no detections), 7.3ms\n",
            "image 128/129 /content/gdrive/MyDrive/Colab Notebooks/Yolo/Data/images/test/salt_pepper_cast_def_0_98.jpeg: 640x640 (no detections), 7.1ms\n",
            "image 129/129 /content/gdrive/MyDrive/Colab Notebooks/Yolo/Data/images/test/salt_pepper_cast_def_0_99.jpeg: 640x640 1 defect, 7.3ms\n",
            "Speed: 2.6ms preprocess, 7.6ms inference, 1.2ms postprocess per image at shape (1, 3, 640, 640)\n",
            "Results saved to \u001b[1mruns/detect/train73\u001b[0m\n",
            "Labels and coordinates for image cast_def_0_9520.jpeg saved to /content/gdrive/MyDrive/Colab Notebooks/Yolo/Data/labels/test/cast_def_0_9520.txt\n",
            "Labels and coordinates for image cast_def_0_9613.jpeg saved to /content/gdrive/MyDrive/Colab Notebooks/Yolo/Data/labels/test/cast_def_0_9613.txt\n",
            "Labels and coordinates for image cast_def_0_9637.jpeg saved to /content/gdrive/MyDrive/Colab Notebooks/Yolo/Data/labels/test/cast_def_0_9637.txt\n",
            "Labels and coordinates for image cast_def_0_9640.jpeg saved to /content/gdrive/MyDrive/Colab Notebooks/Yolo/Data/labels/test/cast_def_0_9640.txt\n",
            "Labels and coordinates for image cast_def_0_9643.jpeg saved to /content/gdrive/MyDrive/Colab Notebooks/Yolo/Data/labels/test/cast_def_0_9643.txt\n",
            "Labels and coordinates for image cast_def_0_9644.jpeg saved to /content/gdrive/MyDrive/Colab Notebooks/Yolo/Data/labels/test/cast_def_0_9644.txt\n",
            "Labels and coordinates for image cast_def_0_966.jpeg saved to /content/gdrive/MyDrive/Colab Notebooks/Yolo/Data/labels/test/cast_def_0_966.txt\n",
            "Labels and coordinates for image cast_def_0_9669.jpeg saved to /content/gdrive/MyDrive/Colab Notebooks/Yolo/Data/labels/test/cast_def_0_9669.txt\n",
            "Labels and coordinates for image cast_def_0_9683.jpeg saved to /content/gdrive/MyDrive/Colab Notebooks/Yolo/Data/labels/test/cast_def_0_9683.txt\n",
            "Labels and coordinates for image cast_def_0_9687.jpeg saved to /content/gdrive/MyDrive/Colab Notebooks/Yolo/Data/labels/test/cast_def_0_9687.txt\n",
            "Labels and coordinates for image cast_def_0_9737.jpeg saved to /content/gdrive/MyDrive/Colab Notebooks/Yolo/Data/labels/test/cast_def_0_9737.txt\n",
            "Labels and coordinates for image cast_def_0_9750.jpeg saved to /content/gdrive/MyDrive/Colab Notebooks/Yolo/Data/labels/test/cast_def_0_9750.txt\n",
            "Labels and coordinates for image cast_def_0_9755.jpeg saved to /content/gdrive/MyDrive/Colab Notebooks/Yolo/Data/labels/test/cast_def_0_9755.txt\n",
            "Labels and coordinates for image cast_def_0_976.jpeg saved to /content/gdrive/MyDrive/Colab Notebooks/Yolo/Data/labels/test/cast_def_0_976.txt\n",
            "Labels and coordinates for image cast_def_0_9780.jpeg saved to /content/gdrive/MyDrive/Colab Notebooks/Yolo/Data/labels/test/cast_def_0_9780.txt\n",
            "Labels and coordinates for image cast_def_0_9817.jpeg saved to /content/gdrive/MyDrive/Colab Notebooks/Yolo/Data/labels/test/cast_def_0_9817.txt\n",
            "Labels and coordinates for image cast_def_0_9836.jpeg saved to /content/gdrive/MyDrive/Colab Notebooks/Yolo/Data/labels/test/cast_def_0_9836.txt\n",
            "Labels and coordinates for image cast_def_0_9854.jpeg saved to /content/gdrive/MyDrive/Colab Notebooks/Yolo/Data/labels/test/cast_def_0_9854.txt\n",
            "Labels and coordinates for image cast_def_0_9857.jpeg saved to /content/gdrive/MyDrive/Colab Notebooks/Yolo/Data/labels/test/cast_def_0_9857.txt\n",
            "Labels and coordinates for image cast_def_0_9872.jpeg saved to /content/gdrive/MyDrive/Colab Notebooks/Yolo/Data/labels/test/cast_def_0_9872.txt\n",
            "Labels and coordinates for image cast_def_0_9873.jpeg saved to /content/gdrive/MyDrive/Colab Notebooks/Yolo/Data/labels/test/cast_def_0_9873.txt\n",
            "Labels and coordinates for image cast_def_0_9877.jpeg saved to /content/gdrive/MyDrive/Colab Notebooks/Yolo/Data/labels/test/cast_def_0_9877.txt\n",
            "Labels and coordinates for image cast_def_0_9879.jpeg saved to /content/gdrive/MyDrive/Colab Notebooks/Yolo/Data/labels/test/cast_def_0_9879.txt\n",
            "Labels and coordinates for image cast_def_0_994.jpeg saved to /content/gdrive/MyDrive/Colab Notebooks/Yolo/Data/labels/test/cast_def_0_994.txt\n",
            "Labels and coordinates for image cast_def_0_9963.jpeg saved to /content/gdrive/MyDrive/Colab Notebooks/Yolo/Data/labels/test/cast_def_0_9963.txt\n",
            "Labels and coordinates for image cast_def_0_9980.jpeg saved to /content/gdrive/MyDrive/Colab Notebooks/Yolo/Data/labels/test/cast_def_0_9980.txt\n",
            "Labels and coordinates for image cast_def_0_9995.jpeg saved to /content/gdrive/MyDrive/Colab Notebooks/Yolo/Data/labels/test/cast_def_0_9995.txt\n",
            "Labels and coordinates for image cast_ok_0_9270.jpeg saved to /content/gdrive/MyDrive/Colab Notebooks/Yolo/Data/labels/test/cast_ok_0_9270.txt\n",
            "Labels and coordinates for image cast_ok_0_9277.jpeg saved to /content/gdrive/MyDrive/Colab Notebooks/Yolo/Data/labels/test/cast_ok_0_9277.txt\n",
            "Labels and coordinates for image cast_ok_0_93.jpeg saved to /content/gdrive/MyDrive/Colab Notebooks/Yolo/Data/labels/test/cast_ok_0_93.txt\n",
            "Labels and coordinates for image cast_ok_0_9341.jpeg saved to /content/gdrive/MyDrive/Colab Notebooks/Yolo/Data/labels/test/cast_ok_0_9341.txt\n",
            "Labels and coordinates for image cast_ok_0_9360.jpeg saved to /content/gdrive/MyDrive/Colab Notebooks/Yolo/Data/labels/test/cast_ok_0_9360.txt\n",
            "Labels and coordinates for image cast_ok_0_9366.jpeg saved to /content/gdrive/MyDrive/Colab Notebooks/Yolo/Data/labels/test/cast_ok_0_9366.txt\n",
            "Labels and coordinates for image cast_ok_0_9367.jpeg saved to /content/gdrive/MyDrive/Colab Notebooks/Yolo/Data/labels/test/cast_ok_0_9367.txt\n",
            "Labels and coordinates for image cast_ok_0_9389.jpeg saved to /content/gdrive/MyDrive/Colab Notebooks/Yolo/Data/labels/test/cast_ok_0_9389.txt\n",
            "Labels and coordinates for image cast_ok_0_9411.jpeg saved to /content/gdrive/MyDrive/Colab Notebooks/Yolo/Data/labels/test/cast_ok_0_9411.txt\n",
            "Labels and coordinates for image cast_ok_0_9464.jpeg saved to /content/gdrive/MyDrive/Colab Notebooks/Yolo/Data/labels/test/cast_ok_0_9464.txt\n",
            "Labels and coordinates for image cast_ok_0_9494.jpeg saved to /content/gdrive/MyDrive/Colab Notebooks/Yolo/Data/labels/test/cast_ok_0_9494.txt\n",
            "Labels and coordinates for image cast_ok_0_9516.jpeg saved to /content/gdrive/MyDrive/Colab Notebooks/Yolo/Data/labels/test/cast_ok_0_9516.txt\n",
            "Labels and coordinates for image cast_ok_0_9584.jpeg saved to /content/gdrive/MyDrive/Colab Notebooks/Yolo/Data/labels/test/cast_ok_0_9584.txt\n",
            "Labels and coordinates for image cast_ok_0_9634.jpeg saved to /content/gdrive/MyDrive/Colab Notebooks/Yolo/Data/labels/test/cast_ok_0_9634.txt\n",
            "Labels and coordinates for image cast_ok_0_9667.jpeg saved to /content/gdrive/MyDrive/Colab Notebooks/Yolo/Data/labels/test/cast_ok_0_9667.txt\n",
            "Labels and coordinates for image cast_ok_0_9732.jpeg saved to /content/gdrive/MyDrive/Colab Notebooks/Yolo/Data/labels/test/cast_ok_0_9732.txt\n",
            "Labels and coordinates for image cast_ok_0_9734.jpeg saved to /content/gdrive/MyDrive/Colab Notebooks/Yolo/Data/labels/test/cast_ok_0_9734.txt\n",
            "Labels and coordinates for image cast_ok_0_9741.jpeg saved to /content/gdrive/MyDrive/Colab Notebooks/Yolo/Data/labels/test/cast_ok_0_9741.txt\n",
            "Labels and coordinates for image cast_ok_0_9771.jpeg saved to /content/gdrive/MyDrive/Colab Notebooks/Yolo/Data/labels/test/cast_ok_0_9771.txt\n",
            "Labels and coordinates for image cast_ok_0_9791.jpeg saved to /content/gdrive/MyDrive/Colab Notebooks/Yolo/Data/labels/test/cast_ok_0_9791.txt\n",
            "Labels and coordinates for image cast_ok_0_9818.jpeg saved to /content/gdrive/MyDrive/Colab Notebooks/Yolo/Data/labels/test/cast_ok_0_9818.txt\n",
            "Labels and coordinates for image cast_ok_0_9840.jpeg saved to /content/gdrive/MyDrive/Colab Notebooks/Yolo/Data/labels/test/cast_ok_0_9840.txt\n",
            "Labels and coordinates for image cast_ok_0_9843.jpeg saved to /content/gdrive/MyDrive/Colab Notebooks/Yolo/Data/labels/test/cast_ok_0_9843.txt\n",
            "Labels and coordinates for image cast_ok_0_9850.jpeg saved to /content/gdrive/MyDrive/Colab Notebooks/Yolo/Data/labels/test/cast_ok_0_9850.txt\n",
            "Labels and coordinates for image cast_ok_0_9959.jpeg saved to /content/gdrive/MyDrive/Colab Notebooks/Yolo/Data/labels/test/cast_ok_0_9959.txt\n",
            "Labels and coordinates for image cast_ok_0_9966.jpeg saved to /content/gdrive/MyDrive/Colab Notebooks/Yolo/Data/labels/test/cast_ok_0_9966.txt\n",
            "Labels and coordinates for image cast_ok_0_9990.jpeg saved to /content/gdrive/MyDrive/Colab Notebooks/Yolo/Data/labels/test/cast_ok_0_9990.txt\n",
            "Labels and coordinates for image median_cast_def_0_314.jpeg saved to /content/gdrive/MyDrive/Colab Notebooks/Yolo/Data/labels/test/median_cast_def_0_314.txt\n",
            "Labels and coordinates for image median_cast_def_0_315.jpeg saved to /content/gdrive/MyDrive/Colab Notebooks/Yolo/Data/labels/test/median_cast_def_0_315.txt\n",
            "Labels and coordinates for image median_cast_def_0_317.jpeg saved to /content/gdrive/MyDrive/Colab Notebooks/Yolo/Data/labels/test/median_cast_def_0_317.txt\n",
            "Labels and coordinates for image median_cast_def_0_319.jpeg saved to /content/gdrive/MyDrive/Colab Notebooks/Yolo/Data/labels/test/median_cast_def_0_319.txt\n",
            "Labels and coordinates for image median_cast_def_0_320.jpeg saved to /content/gdrive/MyDrive/Colab Notebooks/Yolo/Data/labels/test/median_cast_def_0_320.txt\n",
            "Labels and coordinates for image median_cast_def_0_321.jpeg saved to /content/gdrive/MyDrive/Colab Notebooks/Yolo/Data/labels/test/median_cast_def_0_321.txt\n",
            "Labels and coordinates for image median_cast_def_0_323.jpeg saved to /content/gdrive/MyDrive/Colab Notebooks/Yolo/Data/labels/test/median_cast_def_0_323.txt\n",
            "Labels and coordinates for image median_cast_def_0_324.jpeg saved to /content/gdrive/MyDrive/Colab Notebooks/Yolo/Data/labels/test/median_cast_def_0_324.txt\n",
            "Labels and coordinates for image median_cast_def_0_327.jpeg saved to /content/gdrive/MyDrive/Colab Notebooks/Yolo/Data/labels/test/median_cast_def_0_327.txt\n",
            "Labels and coordinates for image median_cast_def_0_330.jpeg saved to /content/gdrive/MyDrive/Colab Notebooks/Yolo/Data/labels/test/median_cast_def_0_330.txt\n",
            "Labels and coordinates for image median_cast_def_0_331.jpeg saved to /content/gdrive/MyDrive/Colab Notebooks/Yolo/Data/labels/test/median_cast_def_0_331.txt\n",
            "Labels and coordinates for image median_cast_def_0_333.jpeg saved to /content/gdrive/MyDrive/Colab Notebooks/Yolo/Data/labels/test/median_cast_def_0_333.txt\n",
            "Labels and coordinates for image median_cast_def_0_335.jpeg saved to /content/gdrive/MyDrive/Colab Notebooks/Yolo/Data/labels/test/median_cast_def_0_335.txt\n",
            "Labels and coordinates for image median_cast_def_0_337.jpeg saved to /content/gdrive/MyDrive/Colab Notebooks/Yolo/Data/labels/test/median_cast_def_0_337.txt\n",
            "Labels and coordinates for image median_cast_def_0_339.jpeg saved to /content/gdrive/MyDrive/Colab Notebooks/Yolo/Data/labels/test/median_cast_def_0_339.txt\n",
            "Labels and coordinates for image median_cast_def_0_347.jpeg saved to /content/gdrive/MyDrive/Colab Notebooks/Yolo/Data/labels/test/median_cast_def_0_347.txt\n",
            "Labels and coordinates for image median_cast_def_0_348.jpeg saved to /content/gdrive/MyDrive/Colab Notebooks/Yolo/Data/labels/test/median_cast_def_0_348.txt\n",
            "Labels and coordinates for image median_cast_def_0_350.jpeg saved to /content/gdrive/MyDrive/Colab Notebooks/Yolo/Data/labels/test/median_cast_def_0_350.txt\n",
            "Labels and coordinates for image median_cast_def_0_354.jpeg saved to /content/gdrive/MyDrive/Colab Notebooks/Yolo/Data/labels/test/median_cast_def_0_354.txt\n",
            "Labels and coordinates for image median_cast_def_0_355.jpeg saved to /content/gdrive/MyDrive/Colab Notebooks/Yolo/Data/labels/test/median_cast_def_0_355.txt\n",
            "Labels and coordinates for image median_cast_def_0_357.jpeg saved to /content/gdrive/MyDrive/Colab Notebooks/Yolo/Data/labels/test/median_cast_def_0_357.txt\n",
            "Labels and coordinates for image median_cast_def_0_359.jpeg saved to /content/gdrive/MyDrive/Colab Notebooks/Yolo/Data/labels/test/median_cast_def_0_359.txt\n",
            "Labels and coordinates for image median_cast_def_0_360.jpeg saved to /content/gdrive/MyDrive/Colab Notebooks/Yolo/Data/labels/test/median_cast_def_0_360.txt\n",
            "Labels and coordinates for image median_cast_def_0_363.jpeg saved to /content/gdrive/MyDrive/Colab Notebooks/Yolo/Data/labels/test/median_cast_def_0_363.txt\n",
            "Labels and coordinates for image median_cast_def_0_372.jpeg saved to /content/gdrive/MyDrive/Colab Notebooks/Yolo/Data/labels/test/median_cast_def_0_372.txt\n",
            "Labels and coordinates for image poisson_cast_def_0_357.jpeg saved to /content/gdrive/MyDrive/Colab Notebooks/Yolo/Data/labels/test/poisson_cast_def_0_357.txt\n",
            "Labels and coordinates for image poisson_cast_def_0_359.jpeg saved to /content/gdrive/MyDrive/Colab Notebooks/Yolo/Data/labels/test/poisson_cast_def_0_359.txt\n",
            "Labels and coordinates for image poisson_cast_def_0_360.jpeg saved to /content/gdrive/MyDrive/Colab Notebooks/Yolo/Data/labels/test/poisson_cast_def_0_360.txt\n",
            "Labels and coordinates for image poisson_cast_def_0_363.jpeg saved to /content/gdrive/MyDrive/Colab Notebooks/Yolo/Data/labels/test/poisson_cast_def_0_363.txt\n",
            "Labels and coordinates for image poisson_cast_def_0_372.jpeg saved to /content/gdrive/MyDrive/Colab Notebooks/Yolo/Data/labels/test/poisson_cast_def_0_372.txt\n",
            "Labels and coordinates for image poisson_cast_def_0_374.jpeg saved to /content/gdrive/MyDrive/Colab Notebooks/Yolo/Data/labels/test/poisson_cast_def_0_374.txt\n",
            "Labels and coordinates for image poisson_cast_def_0_376.jpeg saved to /content/gdrive/MyDrive/Colab Notebooks/Yolo/Data/labels/test/poisson_cast_def_0_376.txt\n",
            "Labels and coordinates for image poisson_cast_def_0_377.jpeg saved to /content/gdrive/MyDrive/Colab Notebooks/Yolo/Data/labels/test/poisson_cast_def_0_377.txt\n",
            "Labels and coordinates for image poisson_cast_def_0_378.jpeg saved to /content/gdrive/MyDrive/Colab Notebooks/Yolo/Data/labels/test/poisson_cast_def_0_378.txt\n",
            "Labels and coordinates for image poisson_cast_def_0_379.jpeg saved to /content/gdrive/MyDrive/Colab Notebooks/Yolo/Data/labels/test/poisson_cast_def_0_379.txt\n",
            "Labels and coordinates for image poisson_cast_def_0_380.jpeg saved to /content/gdrive/MyDrive/Colab Notebooks/Yolo/Data/labels/test/poisson_cast_def_0_380.txt\n",
            "Labels and coordinates for image poisson_cast_def_0_387.jpeg saved to /content/gdrive/MyDrive/Colab Notebooks/Yolo/Data/labels/test/poisson_cast_def_0_387.txt\n",
            "Labels and coordinates for image poisson_cast_def_0_396.jpeg saved to /content/gdrive/MyDrive/Colab Notebooks/Yolo/Data/labels/test/poisson_cast_def_0_396.txt\n",
            "Labels and coordinates for image poisson_cast_def_0_399.jpeg saved to /content/gdrive/MyDrive/Colab Notebooks/Yolo/Data/labels/test/poisson_cast_def_0_399.txt\n",
            "Labels and coordinates for image poisson_cast_def_0_401.jpeg saved to /content/gdrive/MyDrive/Colab Notebooks/Yolo/Data/labels/test/poisson_cast_def_0_401.txt\n",
            "Labels and coordinates for image poisson_cast_def_0_402.jpeg saved to /content/gdrive/MyDrive/Colab Notebooks/Yolo/Data/labels/test/poisson_cast_def_0_402.txt\n",
            "Labels and coordinates for image poisson_cast_def_0_404.jpeg saved to /content/gdrive/MyDrive/Colab Notebooks/Yolo/Data/labels/test/poisson_cast_def_0_404.txt\n",
            "Labels and coordinates for image poisson_cast_def_0_409.jpeg saved to /content/gdrive/MyDrive/Colab Notebooks/Yolo/Data/labels/test/poisson_cast_def_0_409.txt\n",
            "Labels and coordinates for image poisson_cast_def_0_411.jpeg saved to /content/gdrive/MyDrive/Colab Notebooks/Yolo/Data/labels/test/poisson_cast_def_0_411.txt\n",
            "Labels and coordinates for image poisson_cast_def_0_415.jpeg saved to /content/gdrive/MyDrive/Colab Notebooks/Yolo/Data/labels/test/poisson_cast_def_0_415.txt\n",
            "Labels and coordinates for image poisson_cast_def_0_417.jpeg saved to /content/gdrive/MyDrive/Colab Notebooks/Yolo/Data/labels/test/poisson_cast_def_0_417.txt\n",
            "Labels and coordinates for image poisson_cast_def_0_421.jpeg saved to /content/gdrive/MyDrive/Colab Notebooks/Yolo/Data/labels/test/poisson_cast_def_0_421.txt\n",
            "Labels and coordinates for image poisson_cast_def_0_422.jpeg saved to /content/gdrive/MyDrive/Colab Notebooks/Yolo/Data/labels/test/poisson_cast_def_0_422.txt\n",
            "Labels and coordinates for image poisson_cast_def_0_423.jpeg saved to /content/gdrive/MyDrive/Colab Notebooks/Yolo/Data/labels/test/poisson_cast_def_0_423.txt\n",
            "Labels and coordinates for image poisson_cast_def_0_425.jpeg saved to /content/gdrive/MyDrive/Colab Notebooks/Yolo/Data/labels/test/poisson_cast_def_0_425.txt\n",
            "Labels and coordinates for image salt_pepper_cast_def_0_103.jpeg saved to /content/gdrive/MyDrive/Colab Notebooks/Yolo/Data/labels/test/salt_pepper_cast_def_0_103.txt\n",
            "Labels and coordinates for image salt_pepper_cast_def_0_105.jpeg saved to /content/gdrive/MyDrive/Colab Notebooks/Yolo/Data/labels/test/salt_pepper_cast_def_0_105.txt\n",
            "Labels and coordinates for image salt_pepper_cast_def_0_107.jpeg saved to /content/gdrive/MyDrive/Colab Notebooks/Yolo/Data/labels/test/salt_pepper_cast_def_0_107.txt\n",
            "Labels and coordinates for image salt_pepper_cast_def_0_109.jpeg saved to /content/gdrive/MyDrive/Colab Notebooks/Yolo/Data/labels/test/salt_pepper_cast_def_0_109.txt\n",
            "Labels and coordinates for image salt_pepper_cast_def_0_110.jpeg saved to /content/gdrive/MyDrive/Colab Notebooks/Yolo/Data/labels/test/salt_pepper_cast_def_0_110.txt\n",
            "Labels and coordinates for image salt_pepper_cast_def_0_116.jpeg saved to /content/gdrive/MyDrive/Colab Notebooks/Yolo/Data/labels/test/salt_pepper_cast_def_0_116.txt\n",
            "Labels and coordinates for image salt_pepper_cast_def_0_120.jpeg saved to /content/gdrive/MyDrive/Colab Notebooks/Yolo/Data/labels/test/salt_pepper_cast_def_0_120.txt\n",
            "Labels and coordinates for image salt_pepper_cast_def_0_122.jpeg saved to /content/gdrive/MyDrive/Colab Notebooks/Yolo/Data/labels/test/salt_pepper_cast_def_0_122.txt\n",
            "Labels and coordinates for image salt_pepper_cast_def_0_126.jpeg saved to /content/gdrive/MyDrive/Colab Notebooks/Yolo/Data/labels/test/salt_pepper_cast_def_0_126.txt\n",
            "Labels and coordinates for image salt_pepper_cast_def_0_130.jpeg saved to /content/gdrive/MyDrive/Colab Notebooks/Yolo/Data/labels/test/salt_pepper_cast_def_0_130.txt\n",
            "Labels and coordinates for image salt_pepper_cast_def_0_131.jpeg saved to /content/gdrive/MyDrive/Colab Notebooks/Yolo/Data/labels/test/salt_pepper_cast_def_0_131.txt\n",
            "Labels and coordinates for image salt_pepper_cast_def_0_133.jpeg saved to /content/gdrive/MyDrive/Colab Notebooks/Yolo/Data/labels/test/salt_pepper_cast_def_0_133.txt\n",
            "Labels and coordinates for image salt_pepper_cast_def_0_135.jpeg saved to /content/gdrive/MyDrive/Colab Notebooks/Yolo/Data/labels/test/salt_pepper_cast_def_0_135.txt\n",
            "Labels and coordinates for image salt_pepper_cast_def_0_136.jpeg saved to /content/gdrive/MyDrive/Colab Notebooks/Yolo/Data/labels/test/salt_pepper_cast_def_0_136.txt\n",
            "Labels and coordinates for image salt_pepper_cast_def_0_148.jpeg saved to /content/gdrive/MyDrive/Colab Notebooks/Yolo/Data/labels/test/salt_pepper_cast_def_0_148.txt\n",
            "Labels and coordinates for image salt_pepper_cast_def_0_163.jpeg saved to /content/gdrive/MyDrive/Colab Notebooks/Yolo/Data/labels/test/salt_pepper_cast_def_0_163.txt\n",
            "Labels and coordinates for image salt_pepper_cast_def_0_175.jpeg saved to /content/gdrive/MyDrive/Colab Notebooks/Yolo/Data/labels/test/salt_pepper_cast_def_0_175.txt\n",
            "Labels and coordinates for image salt_pepper_cast_def_0_186.jpeg saved to /content/gdrive/MyDrive/Colab Notebooks/Yolo/Data/labels/test/salt_pepper_cast_def_0_186.txt\n",
            "Labels and coordinates for image salt_pepper_cast_def_0_191.jpeg saved to /content/gdrive/MyDrive/Colab Notebooks/Yolo/Data/labels/test/salt_pepper_cast_def_0_191.txt\n",
            "Labels and coordinates for image salt_pepper_cast_def_0_91.jpeg saved to /content/gdrive/MyDrive/Colab Notebooks/Yolo/Data/labels/test/salt_pepper_cast_def_0_91.txt\n",
            "Labels and coordinates for image salt_pepper_cast_def_0_92.jpeg saved to /content/gdrive/MyDrive/Colab Notebooks/Yolo/Data/labels/test/salt_pepper_cast_def_0_92.txt\n",
            "Labels and coordinates for image salt_pepper_cast_def_0_95.jpeg saved to /content/gdrive/MyDrive/Colab Notebooks/Yolo/Data/labels/test/salt_pepper_cast_def_0_95.txt\n",
            "Labels and coordinates for image salt_pepper_cast_def_0_97.jpeg saved to /content/gdrive/MyDrive/Colab Notebooks/Yolo/Data/labels/test/salt_pepper_cast_def_0_97.txt\n",
            "Labels and coordinates for image salt_pepper_cast_def_0_98.jpeg saved to /content/gdrive/MyDrive/Colab Notebooks/Yolo/Data/labels/test/salt_pepper_cast_def_0_98.txt\n",
            "Labels and coordinates for image salt_pepper_cast_def_0_99.jpeg saved to /content/gdrive/MyDrive/Colab Notebooks/Yolo/Data/labels/test/salt_pepper_cast_def_0_99.txt\n"
          ]
        }
      ]
    },
    {
      "cell_type": "markdown",
      "source": [
        "Correlate and creating unrecognisable labels for the images which didn't received a label"
      ],
      "metadata": {
        "id": "De4R1wdCJbJ-"
      }
    },
    {
      "cell_type": "code",
      "source": [
        "test_img = '/content/gdrive/MyDrive/Colab Notebooks/Yolo/Data/images/test'\n",
        "test_label = '/content/gdrive/MyDrive/Colab Notebooks/Yolo/Data/labels/test'\n",
        "\n",
        "\n",
        "for image_name in os.listdir(test_img):\n",
        "        # Create a label file with the same name as the image\n",
        "        label_name = os.path.splitext(image_name)[0] + \".txt\"\n",
        "        label_path = os.path.join(test_label, label_name)\n",
        "\n",
        "        # Only create the label file if it doesn't already exist\n",
        "        if os.stat(label_path).st_size == 0:\n",
        "            with open(label_path, \"w\") as label_file:\n",
        "                label_file.write(f\"unrecognisable\\n\")\n",
        "                print(\"Created label file at:\", label_path)"
      ],
      "metadata": {
        "id": "KM2VRBWQYWLy",
        "colab": {
          "base_uri": "https://localhost:8080/"
        },
        "outputId": "4c1592f0-751f-44ac-9e9a-f8118b2bcc9c"
      },
      "execution_count": null,
      "outputs": [
        {
          "output_type": "stream",
          "name": "stdout",
          "text": [
            "Created label file at: /content/gdrive/MyDrive/Colab Notebooks/Yolo/Data/labels/test/cast_def_0_9737.txt\n",
            "Created label file at: /content/gdrive/MyDrive/Colab Notebooks/Yolo/Data/labels/test/cast_def_0_966.txt\n",
            "Created label file at: /content/gdrive/MyDrive/Colab Notebooks/Yolo/Data/labels/test/cast_def_0_9640.txt\n",
            "Created label file at: /content/gdrive/MyDrive/Colab Notebooks/Yolo/Data/labels/test/cast_ok_0_9389.txt\n",
            "Created label file at: /content/gdrive/MyDrive/Colab Notebooks/Yolo/Data/labels/test/cast_ok_0_9516.txt\n",
            "Created label file at: /content/gdrive/MyDrive/Colab Notebooks/Yolo/Data/labels/test/cast_ok_0_9732.txt\n",
            "Created label file at: /content/gdrive/MyDrive/Colab Notebooks/Yolo/Data/labels/test/cast_ok_0_93.txt\n",
            "Created label file at: /content/gdrive/MyDrive/Colab Notebooks/Yolo/Data/labels/test/salt_pepper_cast_def_0_130.txt\n",
            "Created label file at: /content/gdrive/MyDrive/Colab Notebooks/Yolo/Data/labels/test/salt_pepper_cast_def_0_131.txt\n",
            "Created label file at: /content/gdrive/MyDrive/Colab Notebooks/Yolo/Data/labels/test/salt_pepper_cast_def_0_133.txt\n",
            "Created label file at: /content/gdrive/MyDrive/Colab Notebooks/Yolo/Data/labels/test/salt_pepper_cast_def_0_135.txt\n",
            "Created label file at: /content/gdrive/MyDrive/Colab Notebooks/Yolo/Data/labels/test/salt_pepper_cast_def_0_136.txt\n",
            "Created label file at: /content/gdrive/MyDrive/Colab Notebooks/Yolo/Data/labels/test/salt_pepper_cast_def_0_148.txt\n",
            "Created label file at: /content/gdrive/MyDrive/Colab Notebooks/Yolo/Data/labels/test/salt_pepper_cast_def_0_163.txt\n",
            "Created label file at: /content/gdrive/MyDrive/Colab Notebooks/Yolo/Data/labels/test/salt_pepper_cast_def_0_175.txt\n",
            "Created label file at: /content/gdrive/MyDrive/Colab Notebooks/Yolo/Data/labels/test/salt_pepper_cast_def_0_186.txt\n",
            "Created label file at: /content/gdrive/MyDrive/Colab Notebooks/Yolo/Data/labels/test/salt_pepper_cast_def_0_191.txt\n",
            "Created label file at: /content/gdrive/MyDrive/Colab Notebooks/Yolo/Data/labels/test/salt_pepper_cast_def_0_91.txt\n",
            "Created label file at: /content/gdrive/MyDrive/Colab Notebooks/Yolo/Data/labels/test/salt_pepper_cast_def_0_92.txt\n",
            "Created label file at: /content/gdrive/MyDrive/Colab Notebooks/Yolo/Data/labels/test/salt_pepper_cast_def_0_95.txt\n",
            "Created label file at: /content/gdrive/MyDrive/Colab Notebooks/Yolo/Data/labels/test/salt_pepper_cast_def_0_97.txt\n",
            "Created label file at: /content/gdrive/MyDrive/Colab Notebooks/Yolo/Data/labels/test/salt_pepper_cast_def_0_98.txt\n",
            "Created label file at: /content/gdrive/MyDrive/Colab Notebooks/Yolo/Data/labels/test/salt_pepper_cast_def_0_103.txt\n",
            "Created label file at: /content/gdrive/MyDrive/Colab Notebooks/Yolo/Data/labels/test/salt_pepper_cast_def_0_105.txt\n",
            "Created label file at: /content/gdrive/MyDrive/Colab Notebooks/Yolo/Data/labels/test/salt_pepper_cast_def_0_107.txt\n",
            "Created label file at: /content/gdrive/MyDrive/Colab Notebooks/Yolo/Data/labels/test/salt_pepper_cast_def_0_109.txt\n",
            "Created label file at: /content/gdrive/MyDrive/Colab Notebooks/Yolo/Data/labels/test/salt_pepper_cast_def_0_110.txt\n",
            "Created label file at: /content/gdrive/MyDrive/Colab Notebooks/Yolo/Data/labels/test/salt_pepper_cast_def_0_116.txt\n",
            "Created label file at: /content/gdrive/MyDrive/Colab Notebooks/Yolo/Data/labels/test/salt_pepper_cast_def_0_120.txt\n",
            "Created label file at: /content/gdrive/MyDrive/Colab Notebooks/Yolo/Data/labels/test/salt_pepper_cast_def_0_122.txt\n",
            "Created label file at: /content/gdrive/MyDrive/Colab Notebooks/Yolo/Data/labels/test/median_cast_def_0_317.txt\n",
            "Created label file at: /content/gdrive/MyDrive/Colab Notebooks/Yolo/Data/labels/test/median_cast_def_0_314.txt\n",
            "Created label file at: /content/gdrive/MyDrive/Colab Notebooks/Yolo/Data/labels/test/median_cast_def_0_347.txt\n"
          ]
        }
      ]
    },
    {
      "cell_type": "markdown",
      "metadata": {
        "id": "ioIgUkYp68nD"
      },
      "source": [
        "Cropping and dividing the images according to the labels"
      ]
    },
    {
      "cell_type": "code",
      "source": [
        "import os\n",
        "import shutil\n",
        "from glob import glob\n",
        "import cv2\n",
        "\n",
        "# Paths\n",
        "test_label_dir = '/content/gdrive/MyDrive/Colab Notebooks/Yolo/Data/labels/test'\n",
        "test_images_dir = '/content/gdrive/MyDrive/Colab Notebooks/Yolo/Data/images/test'\n",
        "defect_folder = '/content/gdrive/MyDrive/Colab Notebooks/Yolo/Data/images/classification/defect'\n",
        "ok_folder = '/content/gdrive/MyDrive/Colab Notebooks/Yolo/Data/images/classification/ok'\n",
        "unrecognisable_folder = '/content/gdrive/MyDrive/Colab Notebooks/Yolo/Data/images/classification/unrecognisable'\n",
        "\n",
        "# Desired dimensions for resizing\n",
        "desired_width = 128\n",
        "desired_height = 128\n",
        "\n",
        "# Create folders if they don't exist\n",
        "os.makedirs(defect_folder, exist_ok=True)\n",
        "os.makedirs(ok_folder, exist_ok=True)\n",
        "os.makedirs(unrecognisable_folder, exist_ok=True)\n",
        "\n",
        "image_files = sorted(glob(os.path.join(test_images_dir, '*')))\n",
        "\n",
        "# Division and Cropping of images\n",
        "for img_path in image_files:\n",
        "    # Extract image name\n",
        "    image_name = os.path.basename(img_path)\n",
        "\n",
        "    # Corresponding label file\n",
        "    label_name = os.path.splitext(image_name)[0] + \".txt\"\n",
        "    label_path = os.path.join(test_label_dir, label_name)\n",
        "\n",
        "    # Check if the label file exists\n",
        "    if os.path.exists(label_path):\n",
        "        # Read the label file content\n",
        "        with open(label_path, \"r\") as label_file:\n",
        "            label_content = label_file.readlines()\n",
        "\n",
        "        # If the label contains only \"unrecognisable\", copy the entire image\n",
        "        if len(label_content) == 1 and label_content[0].strip() == \"unrecognisable\":\n",
        "            output_image_path = os.path.join(unrecognisable_folder, image_name)\n",
        "            shutil.copy(img_path, output_image_path)\n",
        "            print(f\"Copied entire image {image_name} to {output_image_path} because it is 'unrecognisable'.\")\n",
        "            continue  # Skip further processing for this image\n",
        "\n",
        "        # Load the image\n",
        "        image = cv2.imread(img_path)\n",
        "        img_height, img_width, _ = image.shape\n",
        "\n",
        "        # Process each line in the label file\n",
        "        for line_num, line in enumerate(label_content):\n",
        "            parts = line.strip().split()\n",
        "\n",
        "            # Ensure there are enough parts in the line to represent a bounding box\n",
        "            if len(parts) >= 5:\n",
        "                label_type = parts[0]  # The label (e.g., \"defect\", \"ok\", \"unrecognisable\")\n",
        "                x_center, y_center, width, height = map(float, parts[1:5])\n",
        "\n",
        "                # Convert YOLO format (relative coordinates) to actual image coordinates\n",
        "                x_center *= img_width\n",
        "                y_center *= img_height\n",
        "                width *= img_width\n",
        "                height *= img_height\n",
        "\n",
        "                x_min = max(0, int(x_center - (width / 2)))\n",
        "                y_min = max(0, int(y_center - (height / 2)))\n",
        "                x_max = min(img_width, int(x_center + (width / 2)))\n",
        "                y_max = min(img_height, int(y_center + (height / 2)))\n",
        "\n",
        "                # Ensure the box has a positive area before cropping\n",
        "                if x_max > x_min and y_max > y_min:\n",
        "                    cropped_img = image[y_min:y_max, x_min:x_max]\n",
        "\n",
        "                    if cropped_img.size > 0:\n",
        "                        # Resize the cropped image to the desired dimensions\n",
        "                        resized_img = cv2.resize(cropped_img, (desired_width, desired_height))\n",
        "\n",
        "                        # Determine the destination folder based on the label\n",
        "                        if label_type == \"defect\":\n",
        "                            output_folder = defect_folder\n",
        "                        elif label_type == \"ok\":\n",
        "                            output_folder = ok_folder\n",
        "                        else:\n",
        "                            output_folder = None\n",
        "\n",
        "                        if output_folder:\n",
        "                            # Save the resized image with a unique name to avoid overwriting\n",
        "                            output_image_name = f\"{os.path.splitext(image_name)[0]}_crop_{label_type}_{line_num}.jpg\"\n",
        "                            output_image_path = os.path.join(output_folder, output_image_name)\n",
        "                            cv2.imwrite(output_image_path, resized_img)\n",
        "                            print(f\"Cropped and resized {image_name} and saved to {output_image_path}.\")\n",
        "                    else:\n",
        "                        print(f\"Skipping empty crop for {image_name} at line {line_num}.\")\n",
        "                else:\n",
        "                    print(f\"Invalid box size for {image_name} at line {line_num}. Skipping.\")\n",
        "            else:\n",
        "                print(f\"Skipping invalid line in label file: {line}\")\n",
        "    else:\n",
        "        print(f\"Label file {label_name} does not exist.\")\n"
      ],
      "metadata": {
        "colab": {
          "base_uri": "https://localhost:8080/"
        },
        "id": "Mz3lcIS_cuQ-",
        "outputId": "e0599442-6301-4131-e679-2ba5d3991db0"
      },
      "execution_count": null,
      "outputs": [
        {
          "output_type": "stream",
          "name": "stdout",
          "text": [
            "Cropped and resized cast_def_0_9520.jpeg and saved to /content/gdrive/MyDrive/Colab Notebooks/Yolo/Data/images/classification/defect/cast_def_0_9520_crop_defect_0.jpg.\n",
            "Cropped and resized cast_def_0_9520.jpeg and saved to /content/gdrive/MyDrive/Colab Notebooks/Yolo/Data/images/classification/defect/cast_def_0_9520_crop_defect_1.jpg.\n",
            "Cropped and resized cast_def_0_9613.jpeg and saved to /content/gdrive/MyDrive/Colab Notebooks/Yolo/Data/images/classification/defect/cast_def_0_9613_crop_defect_0.jpg.\n",
            "Cropped and resized cast_def_0_9637.jpeg and saved to /content/gdrive/MyDrive/Colab Notebooks/Yolo/Data/images/classification/defect/cast_def_0_9637_crop_defect_0.jpg.\n",
            "Copied entire image cast_def_0_9640.jpeg to /content/gdrive/MyDrive/Colab Notebooks/Yolo/Data/images/classification/unrecognisable/cast_def_0_9640.jpeg because it is 'unrecognisable'.\n",
            "Cropped and resized cast_def_0_9643.jpeg and saved to /content/gdrive/MyDrive/Colab Notebooks/Yolo/Data/images/classification/defect/cast_def_0_9643_crop_defect_0.jpg.\n",
            "Cropped and resized cast_def_0_9644.jpeg and saved to /content/gdrive/MyDrive/Colab Notebooks/Yolo/Data/images/classification/defect/cast_def_0_9644_crop_defect_0.jpg.\n",
            "Cropped and resized cast_def_0_9644.jpeg and saved to /content/gdrive/MyDrive/Colab Notebooks/Yolo/Data/images/classification/defect/cast_def_0_9644_crop_defect_1.jpg.\n",
            "Cropped and resized cast_def_0_9644.jpeg and saved to /content/gdrive/MyDrive/Colab Notebooks/Yolo/Data/images/classification/defect/cast_def_0_9644_crop_defect_2.jpg.\n",
            "Cropped and resized cast_def_0_9644.jpeg and saved to /content/gdrive/MyDrive/Colab Notebooks/Yolo/Data/images/classification/defect/cast_def_0_9644_crop_defect_3.jpg.\n",
            "Cropped and resized cast_def_0_9644.jpeg and saved to /content/gdrive/MyDrive/Colab Notebooks/Yolo/Data/images/classification/defect/cast_def_0_9644_crop_defect_4.jpg.\n",
            "Cropped and resized cast_def_0_9644.jpeg and saved to /content/gdrive/MyDrive/Colab Notebooks/Yolo/Data/images/classification/defect/cast_def_0_9644_crop_defect_5.jpg.\n",
            "Cropped and resized cast_def_0_9644.jpeg and saved to /content/gdrive/MyDrive/Colab Notebooks/Yolo/Data/images/classification/defect/cast_def_0_9644_crop_defect_6.jpg.\n",
            "Copied entire image cast_def_0_966.jpeg to /content/gdrive/MyDrive/Colab Notebooks/Yolo/Data/images/classification/unrecognisable/cast_def_0_966.jpeg because it is 'unrecognisable'.\n",
            "Cropped and resized cast_def_0_9669.jpeg and saved to /content/gdrive/MyDrive/Colab Notebooks/Yolo/Data/images/classification/defect/cast_def_0_9669_crop_defect_0.jpg.\n",
            "Cropped and resized cast_def_0_9669.jpeg and saved to /content/gdrive/MyDrive/Colab Notebooks/Yolo/Data/images/classification/defect/cast_def_0_9669_crop_defect_1.jpg.\n",
            "Cropped and resized cast_def_0_9669.jpeg and saved to /content/gdrive/MyDrive/Colab Notebooks/Yolo/Data/images/classification/defect/cast_def_0_9669_crop_defect_2.jpg.\n",
            "Cropped and resized cast_def_0_9669.jpeg and saved to /content/gdrive/MyDrive/Colab Notebooks/Yolo/Data/images/classification/defect/cast_def_0_9669_crop_defect_3.jpg.\n",
            "Cropped and resized cast_def_0_9669.jpeg and saved to /content/gdrive/MyDrive/Colab Notebooks/Yolo/Data/images/classification/defect/cast_def_0_9669_crop_defect_4.jpg.\n",
            "Cropped and resized cast_def_0_9669.jpeg and saved to /content/gdrive/MyDrive/Colab Notebooks/Yolo/Data/images/classification/defect/cast_def_0_9669_crop_defect_5.jpg.\n",
            "Cropped and resized cast_def_0_9669.jpeg and saved to /content/gdrive/MyDrive/Colab Notebooks/Yolo/Data/images/classification/defect/cast_def_0_9669_crop_defect_6.jpg.\n",
            "Cropped and resized cast_def_0_9669.jpeg and saved to /content/gdrive/MyDrive/Colab Notebooks/Yolo/Data/images/classification/defect/cast_def_0_9669_crop_defect_7.jpg.\n",
            "Cropped and resized cast_def_0_9683.jpeg and saved to /content/gdrive/MyDrive/Colab Notebooks/Yolo/Data/images/classification/defect/cast_def_0_9683_crop_defect_0.jpg.\n",
            "Cropped and resized cast_def_0_9683.jpeg and saved to /content/gdrive/MyDrive/Colab Notebooks/Yolo/Data/images/classification/defect/cast_def_0_9683_crop_defect_1.jpg.\n",
            "Cropped and resized cast_def_0_9683.jpeg and saved to /content/gdrive/MyDrive/Colab Notebooks/Yolo/Data/images/classification/defect/cast_def_0_9683_crop_defect_2.jpg.\n",
            "Cropped and resized cast_def_0_9683.jpeg and saved to /content/gdrive/MyDrive/Colab Notebooks/Yolo/Data/images/classification/defect/cast_def_0_9683_crop_defect_3.jpg.\n",
            "Cropped and resized cast_def_0_9683.jpeg and saved to /content/gdrive/MyDrive/Colab Notebooks/Yolo/Data/images/classification/defect/cast_def_0_9683_crop_defect_4.jpg.\n",
            "Cropped and resized cast_def_0_9683.jpeg and saved to /content/gdrive/MyDrive/Colab Notebooks/Yolo/Data/images/classification/defect/cast_def_0_9683_crop_defect_5.jpg.\n",
            "Cropped and resized cast_def_0_9683.jpeg and saved to /content/gdrive/MyDrive/Colab Notebooks/Yolo/Data/images/classification/defect/cast_def_0_9683_crop_defect_6.jpg.\n",
            "Cropped and resized cast_def_0_9683.jpeg and saved to /content/gdrive/MyDrive/Colab Notebooks/Yolo/Data/images/classification/defect/cast_def_0_9683_crop_defect_7.jpg.\n",
            "Cropped and resized cast_def_0_9687.jpeg and saved to /content/gdrive/MyDrive/Colab Notebooks/Yolo/Data/images/classification/defect/cast_def_0_9687_crop_defect_0.jpg.\n",
            "Cropped and resized cast_def_0_9687.jpeg and saved to /content/gdrive/MyDrive/Colab Notebooks/Yolo/Data/images/classification/defect/cast_def_0_9687_crop_defect_1.jpg.\n",
            "Copied entire image cast_def_0_9737.jpeg to /content/gdrive/MyDrive/Colab Notebooks/Yolo/Data/images/classification/unrecognisable/cast_def_0_9737.jpeg because it is 'unrecognisable'.\n",
            "Cropped and resized cast_def_0_9750.jpeg and saved to /content/gdrive/MyDrive/Colab Notebooks/Yolo/Data/images/classification/ok/cast_def_0_9750_crop_ok_0.jpg.\n",
            "Cropped and resized cast_def_0_9750.jpeg and saved to /content/gdrive/MyDrive/Colab Notebooks/Yolo/Data/images/classification/defect/cast_def_0_9750_crop_defect_1.jpg.\n",
            "Cropped and resized cast_def_0_9755.jpeg and saved to /content/gdrive/MyDrive/Colab Notebooks/Yolo/Data/images/classification/defect/cast_def_0_9755_crop_defect_0.jpg.\n",
            "Cropped and resized cast_def_0_976.jpeg and saved to /content/gdrive/MyDrive/Colab Notebooks/Yolo/Data/images/classification/defect/cast_def_0_976_crop_defect_0.jpg.\n",
            "Cropped and resized cast_def_0_976.jpeg and saved to /content/gdrive/MyDrive/Colab Notebooks/Yolo/Data/images/classification/defect/cast_def_0_976_crop_defect_1.jpg.\n",
            "Cropped and resized cast_def_0_976.jpeg and saved to /content/gdrive/MyDrive/Colab Notebooks/Yolo/Data/images/classification/defect/cast_def_0_976_crop_defect_2.jpg.\n",
            "Cropped and resized cast_def_0_9780.jpeg and saved to /content/gdrive/MyDrive/Colab Notebooks/Yolo/Data/images/classification/defect/cast_def_0_9780_crop_defect_0.jpg.\n",
            "Cropped and resized cast_def_0_9780.jpeg and saved to /content/gdrive/MyDrive/Colab Notebooks/Yolo/Data/images/classification/defect/cast_def_0_9780_crop_defect_1.jpg.\n",
            "Cropped and resized cast_def_0_9780.jpeg and saved to /content/gdrive/MyDrive/Colab Notebooks/Yolo/Data/images/classification/defect/cast_def_0_9780_crop_defect_2.jpg.\n",
            "Cropped and resized cast_def_0_9780.jpeg and saved to /content/gdrive/MyDrive/Colab Notebooks/Yolo/Data/images/classification/defect/cast_def_0_9780_crop_defect_3.jpg.\n",
            "Cropped and resized cast_def_0_9780.jpeg and saved to /content/gdrive/MyDrive/Colab Notebooks/Yolo/Data/images/classification/defect/cast_def_0_9780_crop_defect_4.jpg.\n",
            "Cropped and resized cast_def_0_9780.jpeg and saved to /content/gdrive/MyDrive/Colab Notebooks/Yolo/Data/images/classification/defect/cast_def_0_9780_crop_defect_5.jpg.\n",
            "Cropped and resized cast_def_0_9780.jpeg and saved to /content/gdrive/MyDrive/Colab Notebooks/Yolo/Data/images/classification/defect/cast_def_0_9780_crop_defect_6.jpg.\n",
            "Cropped and resized cast_def_0_9780.jpeg and saved to /content/gdrive/MyDrive/Colab Notebooks/Yolo/Data/images/classification/defect/cast_def_0_9780_crop_defect_7.jpg.\n",
            "Cropped and resized cast_def_0_9780.jpeg and saved to /content/gdrive/MyDrive/Colab Notebooks/Yolo/Data/images/classification/defect/cast_def_0_9780_crop_defect_8.jpg.\n",
            "Cropped and resized cast_def_0_9780.jpeg and saved to /content/gdrive/MyDrive/Colab Notebooks/Yolo/Data/images/classification/defect/cast_def_0_9780_crop_defect_9.jpg.\n",
            "Cropped and resized cast_def_0_9817.jpeg and saved to /content/gdrive/MyDrive/Colab Notebooks/Yolo/Data/images/classification/defect/cast_def_0_9817_crop_defect_0.jpg.\n",
            "Cropped and resized cast_def_0_9817.jpeg and saved to /content/gdrive/MyDrive/Colab Notebooks/Yolo/Data/images/classification/defect/cast_def_0_9817_crop_defect_1.jpg.\n",
            "Cropped and resized cast_def_0_9817.jpeg and saved to /content/gdrive/MyDrive/Colab Notebooks/Yolo/Data/images/classification/defect/cast_def_0_9817_crop_defect_2.jpg.\n",
            "Cropped and resized cast_def_0_9817.jpeg and saved to /content/gdrive/MyDrive/Colab Notebooks/Yolo/Data/images/classification/defect/cast_def_0_9817_crop_defect_3.jpg.\n",
            "Cropped and resized cast_def_0_9817.jpeg and saved to /content/gdrive/MyDrive/Colab Notebooks/Yolo/Data/images/classification/defect/cast_def_0_9817_crop_defect_4.jpg.\n",
            "Cropped and resized cast_def_0_9817.jpeg and saved to /content/gdrive/MyDrive/Colab Notebooks/Yolo/Data/images/classification/defect/cast_def_0_9817_crop_defect_5.jpg.\n",
            "Cropped and resized cast_def_0_9817.jpeg and saved to /content/gdrive/MyDrive/Colab Notebooks/Yolo/Data/images/classification/defect/cast_def_0_9817_crop_defect_6.jpg.\n",
            "Cropped and resized cast_def_0_9817.jpeg and saved to /content/gdrive/MyDrive/Colab Notebooks/Yolo/Data/images/classification/defect/cast_def_0_9817_crop_defect_7.jpg.\n",
            "Cropped and resized cast_def_0_9817.jpeg and saved to /content/gdrive/MyDrive/Colab Notebooks/Yolo/Data/images/classification/defect/cast_def_0_9817_crop_defect_8.jpg.\n",
            "Cropped and resized cast_def_0_9817.jpeg and saved to /content/gdrive/MyDrive/Colab Notebooks/Yolo/Data/images/classification/defect/cast_def_0_9817_crop_defect_9.jpg.\n",
            "Cropped and resized cast_def_0_9817.jpeg and saved to /content/gdrive/MyDrive/Colab Notebooks/Yolo/Data/images/classification/defect/cast_def_0_9817_crop_defect_10.jpg.\n",
            "Cropped and resized cast_def_0_9817.jpeg and saved to /content/gdrive/MyDrive/Colab Notebooks/Yolo/Data/images/classification/defect/cast_def_0_9817_crop_defect_11.jpg.\n",
            "Cropped and resized cast_def_0_9817.jpeg and saved to /content/gdrive/MyDrive/Colab Notebooks/Yolo/Data/images/classification/defect/cast_def_0_9817_crop_defect_12.jpg.\n",
            "Cropped and resized cast_def_0_9817.jpeg and saved to /content/gdrive/MyDrive/Colab Notebooks/Yolo/Data/images/classification/defect/cast_def_0_9817_crop_defect_13.jpg.\n",
            "Cropped and resized cast_def_0_9836.jpeg and saved to /content/gdrive/MyDrive/Colab Notebooks/Yolo/Data/images/classification/defect/cast_def_0_9836_crop_defect_0.jpg.\n",
            "Cropped and resized cast_def_0_9836.jpeg and saved to /content/gdrive/MyDrive/Colab Notebooks/Yolo/Data/images/classification/defect/cast_def_0_9836_crop_defect_1.jpg.\n",
            "Cropped and resized cast_def_0_9836.jpeg and saved to /content/gdrive/MyDrive/Colab Notebooks/Yolo/Data/images/classification/defect/cast_def_0_9836_crop_defect_2.jpg.\n",
            "Cropped and resized cast_def_0_9836.jpeg and saved to /content/gdrive/MyDrive/Colab Notebooks/Yolo/Data/images/classification/defect/cast_def_0_9836_crop_defect_3.jpg.\n",
            "Cropped and resized cast_def_0_9836.jpeg and saved to /content/gdrive/MyDrive/Colab Notebooks/Yolo/Data/images/classification/defect/cast_def_0_9836_crop_defect_4.jpg.\n",
            "Cropped and resized cast_def_0_9854.jpeg and saved to /content/gdrive/MyDrive/Colab Notebooks/Yolo/Data/images/classification/defect/cast_def_0_9854_crop_defect_0.jpg.\n",
            "Cropped and resized cast_def_0_9857.jpeg and saved to /content/gdrive/MyDrive/Colab Notebooks/Yolo/Data/images/classification/defect/cast_def_0_9857_crop_defect_0.jpg.\n",
            "Cropped and resized cast_def_0_9872.jpeg and saved to /content/gdrive/MyDrive/Colab Notebooks/Yolo/Data/images/classification/defect/cast_def_0_9872_crop_defect_0.jpg.\n",
            "Cropped and resized cast_def_0_9873.jpeg and saved to /content/gdrive/MyDrive/Colab Notebooks/Yolo/Data/images/classification/ok/cast_def_0_9873_crop_ok_0.jpg.\n",
            "Cropped and resized cast_def_0_9873.jpeg and saved to /content/gdrive/MyDrive/Colab Notebooks/Yolo/Data/images/classification/defect/cast_def_0_9873_crop_defect_1.jpg.\n",
            "Cropped and resized cast_def_0_9877.jpeg and saved to /content/gdrive/MyDrive/Colab Notebooks/Yolo/Data/images/classification/defect/cast_def_0_9877_crop_defect_0.jpg.\n",
            "Cropped and resized cast_def_0_9879.jpeg and saved to /content/gdrive/MyDrive/Colab Notebooks/Yolo/Data/images/classification/defect/cast_def_0_9879_crop_defect_0.jpg.\n",
            "Cropped and resized cast_def_0_994.jpeg and saved to /content/gdrive/MyDrive/Colab Notebooks/Yolo/Data/images/classification/defect/cast_def_0_994_crop_defect_0.jpg.\n",
            "Cropped and resized cast_def_0_994.jpeg and saved to /content/gdrive/MyDrive/Colab Notebooks/Yolo/Data/images/classification/defect/cast_def_0_994_crop_defect_1.jpg.\n",
            "Cropped and resized cast_def_0_994.jpeg and saved to /content/gdrive/MyDrive/Colab Notebooks/Yolo/Data/images/classification/defect/cast_def_0_994_crop_defect_2.jpg.\n",
            "Cropped and resized cast_def_0_994.jpeg and saved to /content/gdrive/MyDrive/Colab Notebooks/Yolo/Data/images/classification/defect/cast_def_0_994_crop_defect_3.jpg.\n",
            "Cropped and resized cast_def_0_994.jpeg and saved to /content/gdrive/MyDrive/Colab Notebooks/Yolo/Data/images/classification/defect/cast_def_0_994_crop_defect_4.jpg.\n",
            "Cropped and resized cast_def_0_994.jpeg and saved to /content/gdrive/MyDrive/Colab Notebooks/Yolo/Data/images/classification/defect/cast_def_0_994_crop_defect_5.jpg.\n",
            "Cropped and resized cast_def_0_994.jpeg and saved to /content/gdrive/MyDrive/Colab Notebooks/Yolo/Data/images/classification/defect/cast_def_0_994_crop_defect_6.jpg.\n",
            "Cropped and resized cast_def_0_994.jpeg and saved to /content/gdrive/MyDrive/Colab Notebooks/Yolo/Data/images/classification/defect/cast_def_0_994_crop_defect_7.jpg.\n",
            "Cropped and resized cast_def_0_994.jpeg and saved to /content/gdrive/MyDrive/Colab Notebooks/Yolo/Data/images/classification/defect/cast_def_0_994_crop_defect_8.jpg.\n",
            "Cropped and resized cast_def_0_9963.jpeg and saved to /content/gdrive/MyDrive/Colab Notebooks/Yolo/Data/images/classification/defect/cast_def_0_9963_crop_defect_0.jpg.\n",
            "Cropped and resized cast_def_0_9980.jpeg and saved to /content/gdrive/MyDrive/Colab Notebooks/Yolo/Data/images/classification/defect/cast_def_0_9980_crop_defect_0.jpg.\n",
            "Cropped and resized cast_def_0_9980.jpeg and saved to /content/gdrive/MyDrive/Colab Notebooks/Yolo/Data/images/classification/defect/cast_def_0_9980_crop_defect_1.jpg.\n",
            "Cropped and resized cast_def_0_9980.jpeg and saved to /content/gdrive/MyDrive/Colab Notebooks/Yolo/Data/images/classification/defect/cast_def_0_9980_crop_defect_2.jpg.\n",
            "Cropped and resized cast_def_0_9980.jpeg and saved to /content/gdrive/MyDrive/Colab Notebooks/Yolo/Data/images/classification/defect/cast_def_0_9980_crop_defect_3.jpg.\n",
            "Cropped and resized cast_def_0_9980.jpeg and saved to /content/gdrive/MyDrive/Colab Notebooks/Yolo/Data/images/classification/defect/cast_def_0_9980_crop_defect_4.jpg.\n",
            "Cropped and resized cast_def_0_9980.jpeg and saved to /content/gdrive/MyDrive/Colab Notebooks/Yolo/Data/images/classification/defect/cast_def_0_9980_crop_defect_5.jpg.\n",
            "Cropped and resized cast_def_0_9995.jpeg and saved to /content/gdrive/MyDrive/Colab Notebooks/Yolo/Data/images/classification/defect/cast_def_0_9995_crop_defect_0.jpg.\n",
            "Cropped and resized cast_ok_0_9270.jpeg and saved to /content/gdrive/MyDrive/Colab Notebooks/Yolo/Data/images/classification/ok/cast_ok_0_9270_crop_ok_0.jpg.\n",
            "Cropped and resized cast_ok_0_9277.jpeg and saved to /content/gdrive/MyDrive/Colab Notebooks/Yolo/Data/images/classification/ok/cast_ok_0_9277_crop_ok_0.jpg.\n",
            "Copied entire image cast_ok_0_93.jpeg to /content/gdrive/MyDrive/Colab Notebooks/Yolo/Data/images/classification/unrecognisable/cast_ok_0_93.jpeg because it is 'unrecognisable'.\n",
            "Cropped and resized cast_ok_0_9341.jpeg and saved to /content/gdrive/MyDrive/Colab Notebooks/Yolo/Data/images/classification/ok/cast_ok_0_9341_crop_ok_0.jpg.\n",
            "Cropped and resized cast_ok_0_9360.jpeg and saved to /content/gdrive/MyDrive/Colab Notebooks/Yolo/Data/images/classification/ok/cast_ok_0_9360_crop_ok_0.jpg.\n",
            "Cropped and resized cast_ok_0_9366.jpeg and saved to /content/gdrive/MyDrive/Colab Notebooks/Yolo/Data/images/classification/ok/cast_ok_0_9366_crop_ok_0.jpg.\n",
            "Cropped and resized cast_ok_0_9367.jpeg and saved to /content/gdrive/MyDrive/Colab Notebooks/Yolo/Data/images/classification/ok/cast_ok_0_9367_crop_ok_0.jpg.\n",
            "Copied entire image cast_ok_0_9389.jpeg to /content/gdrive/MyDrive/Colab Notebooks/Yolo/Data/images/classification/unrecognisable/cast_ok_0_9389.jpeg because it is 'unrecognisable'.\n",
            "Cropped and resized cast_ok_0_9411.jpeg and saved to /content/gdrive/MyDrive/Colab Notebooks/Yolo/Data/images/classification/ok/cast_ok_0_9411_crop_ok_0.jpg.\n",
            "Cropped and resized cast_ok_0_9411.jpeg and saved to /content/gdrive/MyDrive/Colab Notebooks/Yolo/Data/images/classification/defect/cast_ok_0_9411_crop_defect_1.jpg.\n",
            "Cropped and resized cast_ok_0_9464.jpeg and saved to /content/gdrive/MyDrive/Colab Notebooks/Yolo/Data/images/classification/ok/cast_ok_0_9464_crop_ok_0.jpg.\n",
            "Cropped and resized cast_ok_0_9494.jpeg and saved to /content/gdrive/MyDrive/Colab Notebooks/Yolo/Data/images/classification/ok/cast_ok_0_9494_crop_ok_0.jpg.\n",
            "Copied entire image cast_ok_0_9516.jpeg to /content/gdrive/MyDrive/Colab Notebooks/Yolo/Data/images/classification/unrecognisable/cast_ok_0_9516.jpeg because it is 'unrecognisable'.\n",
            "Cropped and resized cast_ok_0_9584.jpeg and saved to /content/gdrive/MyDrive/Colab Notebooks/Yolo/Data/images/classification/ok/cast_ok_0_9584_crop_ok_0.jpg.\n",
            "Cropped and resized cast_ok_0_9634.jpeg and saved to /content/gdrive/MyDrive/Colab Notebooks/Yolo/Data/images/classification/ok/cast_ok_0_9634_crop_ok_0.jpg.\n",
            "Cropped and resized cast_ok_0_9667.jpeg and saved to /content/gdrive/MyDrive/Colab Notebooks/Yolo/Data/images/classification/ok/cast_ok_0_9667_crop_ok_0.jpg.\n",
            "Copied entire image cast_ok_0_9732.jpeg to /content/gdrive/MyDrive/Colab Notebooks/Yolo/Data/images/classification/unrecognisable/cast_ok_0_9732.jpeg because it is 'unrecognisable'.\n",
            "Cropped and resized cast_ok_0_9734.jpeg and saved to /content/gdrive/MyDrive/Colab Notebooks/Yolo/Data/images/classification/ok/cast_ok_0_9734_crop_ok_0.jpg.\n",
            "Cropped and resized cast_ok_0_9741.jpeg and saved to /content/gdrive/MyDrive/Colab Notebooks/Yolo/Data/images/classification/ok/cast_ok_0_9741_crop_ok_0.jpg.\n",
            "Cropped and resized cast_ok_0_9771.jpeg and saved to /content/gdrive/MyDrive/Colab Notebooks/Yolo/Data/images/classification/ok/cast_ok_0_9771_crop_ok_0.jpg.\n",
            "Cropped and resized cast_ok_0_9791.jpeg and saved to /content/gdrive/MyDrive/Colab Notebooks/Yolo/Data/images/classification/ok/cast_ok_0_9791_crop_ok_0.jpg.\n",
            "Cropped and resized cast_ok_0_9818.jpeg and saved to /content/gdrive/MyDrive/Colab Notebooks/Yolo/Data/images/classification/ok/cast_ok_0_9818_crop_ok_0.jpg.\n",
            "Cropped and resized cast_ok_0_9840.jpeg and saved to /content/gdrive/MyDrive/Colab Notebooks/Yolo/Data/images/classification/ok/cast_ok_0_9840_crop_ok_0.jpg.\n",
            "Cropped and resized cast_ok_0_9843.jpeg and saved to /content/gdrive/MyDrive/Colab Notebooks/Yolo/Data/images/classification/ok/cast_ok_0_9843_crop_ok_0.jpg.\n",
            "Cropped and resized cast_ok_0_9850.jpeg and saved to /content/gdrive/MyDrive/Colab Notebooks/Yolo/Data/images/classification/ok/cast_ok_0_9850_crop_ok_0.jpg.\n",
            "Cropped and resized cast_ok_0_9959.jpeg and saved to /content/gdrive/MyDrive/Colab Notebooks/Yolo/Data/images/classification/ok/cast_ok_0_9959_crop_ok_0.jpg.\n",
            "Cropped and resized cast_ok_0_9966.jpeg and saved to /content/gdrive/MyDrive/Colab Notebooks/Yolo/Data/images/classification/ok/cast_ok_0_9966_crop_ok_0.jpg.\n",
            "Cropped and resized cast_ok_0_9990.jpeg and saved to /content/gdrive/MyDrive/Colab Notebooks/Yolo/Data/images/classification/ok/cast_ok_0_9990_crop_ok_0.jpg.\n",
            "Copied entire image median_cast_def_0_314.jpeg to /content/gdrive/MyDrive/Colab Notebooks/Yolo/Data/images/classification/unrecognisable/median_cast_def_0_314.jpeg because it is 'unrecognisable'.\n",
            "Cropped and resized median_cast_def_0_315.jpeg and saved to /content/gdrive/MyDrive/Colab Notebooks/Yolo/Data/images/classification/defect/median_cast_def_0_315_crop_defect_0.jpg.\n",
            "Copied entire image median_cast_def_0_317.jpeg to /content/gdrive/MyDrive/Colab Notebooks/Yolo/Data/images/classification/unrecognisable/median_cast_def_0_317.jpeg because it is 'unrecognisable'.\n",
            "Cropped and resized median_cast_def_0_319.jpeg and saved to /content/gdrive/MyDrive/Colab Notebooks/Yolo/Data/images/classification/defect/median_cast_def_0_319_crop_defect_0.jpg.\n",
            "Cropped and resized median_cast_def_0_319.jpeg and saved to /content/gdrive/MyDrive/Colab Notebooks/Yolo/Data/images/classification/defect/median_cast_def_0_319_crop_defect_1.jpg.\n",
            "Cropped and resized median_cast_def_0_319.jpeg and saved to /content/gdrive/MyDrive/Colab Notebooks/Yolo/Data/images/classification/defect/median_cast_def_0_319_crop_defect_2.jpg.\n",
            "Cropped and resized median_cast_def_0_319.jpeg and saved to /content/gdrive/MyDrive/Colab Notebooks/Yolo/Data/images/classification/defect/median_cast_def_0_319_crop_defect_3.jpg.\n",
            "Cropped and resized median_cast_def_0_319.jpeg and saved to /content/gdrive/MyDrive/Colab Notebooks/Yolo/Data/images/classification/defect/median_cast_def_0_319_crop_defect_4.jpg.\n",
            "Cropped and resized median_cast_def_0_320.jpeg and saved to /content/gdrive/MyDrive/Colab Notebooks/Yolo/Data/images/classification/defect/median_cast_def_0_320_crop_defect_0.jpg.\n",
            "Cropped and resized median_cast_def_0_320.jpeg and saved to /content/gdrive/MyDrive/Colab Notebooks/Yolo/Data/images/classification/defect/median_cast_def_0_320_crop_defect_1.jpg.\n",
            "Cropped and resized median_cast_def_0_320.jpeg and saved to /content/gdrive/MyDrive/Colab Notebooks/Yolo/Data/images/classification/defect/median_cast_def_0_320_crop_defect_2.jpg.\n",
            "Cropped and resized median_cast_def_0_320.jpeg and saved to /content/gdrive/MyDrive/Colab Notebooks/Yolo/Data/images/classification/defect/median_cast_def_0_320_crop_defect_3.jpg.\n",
            "Cropped and resized median_cast_def_0_320.jpeg and saved to /content/gdrive/MyDrive/Colab Notebooks/Yolo/Data/images/classification/defect/median_cast_def_0_320_crop_defect_4.jpg.\n",
            "Cropped and resized median_cast_def_0_320.jpeg and saved to /content/gdrive/MyDrive/Colab Notebooks/Yolo/Data/images/classification/defect/median_cast_def_0_320_crop_defect_5.jpg.\n",
            "Cropped and resized median_cast_def_0_320.jpeg and saved to /content/gdrive/MyDrive/Colab Notebooks/Yolo/Data/images/classification/defect/median_cast_def_0_320_crop_defect_6.jpg.\n",
            "Cropped and resized median_cast_def_0_320.jpeg and saved to /content/gdrive/MyDrive/Colab Notebooks/Yolo/Data/images/classification/defect/median_cast_def_0_320_crop_defect_7.jpg.\n",
            "Cropped and resized median_cast_def_0_321.jpeg and saved to /content/gdrive/MyDrive/Colab Notebooks/Yolo/Data/images/classification/defect/median_cast_def_0_321_crop_defect_0.jpg.\n",
            "Cropped and resized median_cast_def_0_323.jpeg and saved to /content/gdrive/MyDrive/Colab Notebooks/Yolo/Data/images/classification/defect/median_cast_def_0_323_crop_defect_0.jpg.\n",
            "Cropped and resized median_cast_def_0_324.jpeg and saved to /content/gdrive/MyDrive/Colab Notebooks/Yolo/Data/images/classification/defect/median_cast_def_0_324_crop_defect_0.jpg.\n",
            "Cropped and resized median_cast_def_0_324.jpeg and saved to /content/gdrive/MyDrive/Colab Notebooks/Yolo/Data/images/classification/defect/median_cast_def_0_324_crop_defect_1.jpg.\n",
            "Cropped and resized median_cast_def_0_324.jpeg and saved to /content/gdrive/MyDrive/Colab Notebooks/Yolo/Data/images/classification/defect/median_cast_def_0_324_crop_defect_2.jpg.\n",
            "Cropped and resized median_cast_def_0_324.jpeg and saved to /content/gdrive/MyDrive/Colab Notebooks/Yolo/Data/images/classification/defect/median_cast_def_0_324_crop_defect_3.jpg.\n",
            "Cropped and resized median_cast_def_0_324.jpeg and saved to /content/gdrive/MyDrive/Colab Notebooks/Yolo/Data/images/classification/defect/median_cast_def_0_324_crop_defect_4.jpg.\n",
            "Cropped and resized median_cast_def_0_324.jpeg and saved to /content/gdrive/MyDrive/Colab Notebooks/Yolo/Data/images/classification/defect/median_cast_def_0_324_crop_defect_5.jpg.\n",
            "Cropped and resized median_cast_def_0_324.jpeg and saved to /content/gdrive/MyDrive/Colab Notebooks/Yolo/Data/images/classification/defect/median_cast_def_0_324_crop_defect_6.jpg.\n",
            "Cropped and resized median_cast_def_0_324.jpeg and saved to /content/gdrive/MyDrive/Colab Notebooks/Yolo/Data/images/classification/defect/median_cast_def_0_324_crop_defect_7.jpg.\n",
            "Cropped and resized median_cast_def_0_327.jpeg and saved to /content/gdrive/MyDrive/Colab Notebooks/Yolo/Data/images/classification/defect/median_cast_def_0_327_crop_defect_0.jpg.\n",
            "Cropped and resized median_cast_def_0_330.jpeg and saved to /content/gdrive/MyDrive/Colab Notebooks/Yolo/Data/images/classification/defect/median_cast_def_0_330_crop_defect_0.jpg.\n",
            "Cropped and resized median_cast_def_0_331.jpeg and saved to /content/gdrive/MyDrive/Colab Notebooks/Yolo/Data/images/classification/defect/median_cast_def_0_331_crop_defect_0.jpg.\n",
            "Cropped and resized median_cast_def_0_331.jpeg and saved to /content/gdrive/MyDrive/Colab Notebooks/Yolo/Data/images/classification/defect/median_cast_def_0_331_crop_defect_1.jpg.\n",
            "Cropped and resized median_cast_def_0_333.jpeg and saved to /content/gdrive/MyDrive/Colab Notebooks/Yolo/Data/images/classification/defect/median_cast_def_0_333_crop_defect_0.jpg.\n",
            "Cropped and resized median_cast_def_0_335.jpeg and saved to /content/gdrive/MyDrive/Colab Notebooks/Yolo/Data/images/classification/defect/median_cast_def_0_335_crop_defect_0.jpg.\n",
            "Cropped and resized median_cast_def_0_337.jpeg and saved to /content/gdrive/MyDrive/Colab Notebooks/Yolo/Data/images/classification/defect/median_cast_def_0_337_crop_defect_0.jpg.\n",
            "Cropped and resized median_cast_def_0_337.jpeg and saved to /content/gdrive/MyDrive/Colab Notebooks/Yolo/Data/images/classification/defect/median_cast_def_0_337_crop_defect_1.jpg.\n",
            "Cropped and resized median_cast_def_0_337.jpeg and saved to /content/gdrive/MyDrive/Colab Notebooks/Yolo/Data/images/classification/defect/median_cast_def_0_337_crop_defect_2.jpg.\n",
            "Cropped and resized median_cast_def_0_339.jpeg and saved to /content/gdrive/MyDrive/Colab Notebooks/Yolo/Data/images/classification/defect/median_cast_def_0_339_crop_defect_0.jpg.\n",
            "Copied entire image median_cast_def_0_347.jpeg to /content/gdrive/MyDrive/Colab Notebooks/Yolo/Data/images/classification/unrecognisable/median_cast_def_0_347.jpeg because it is 'unrecognisable'.\n",
            "Cropped and resized median_cast_def_0_348.jpeg and saved to /content/gdrive/MyDrive/Colab Notebooks/Yolo/Data/images/classification/defect/median_cast_def_0_348_crop_defect_0.jpg.\n",
            "Cropped and resized median_cast_def_0_348.jpeg and saved to /content/gdrive/MyDrive/Colab Notebooks/Yolo/Data/images/classification/defect/median_cast_def_0_348_crop_defect_1.jpg.\n",
            "Cropped and resized median_cast_def_0_350.jpeg and saved to /content/gdrive/MyDrive/Colab Notebooks/Yolo/Data/images/classification/defect/median_cast_def_0_350_crop_defect_0.jpg.\n",
            "Cropped and resized median_cast_def_0_350.jpeg and saved to /content/gdrive/MyDrive/Colab Notebooks/Yolo/Data/images/classification/defect/median_cast_def_0_350_crop_defect_1.jpg.\n",
            "Cropped and resized median_cast_def_0_350.jpeg and saved to /content/gdrive/MyDrive/Colab Notebooks/Yolo/Data/images/classification/defect/median_cast_def_0_350_crop_defect_2.jpg.\n",
            "Cropped and resized median_cast_def_0_350.jpeg and saved to /content/gdrive/MyDrive/Colab Notebooks/Yolo/Data/images/classification/defect/median_cast_def_0_350_crop_defect_3.jpg.\n",
            "Cropped and resized median_cast_def_0_350.jpeg and saved to /content/gdrive/MyDrive/Colab Notebooks/Yolo/Data/images/classification/defect/median_cast_def_0_350_crop_defect_4.jpg.\n",
            "Cropped and resized median_cast_def_0_350.jpeg and saved to /content/gdrive/MyDrive/Colab Notebooks/Yolo/Data/images/classification/defect/median_cast_def_0_350_crop_defect_5.jpg.\n",
            "Cropped and resized median_cast_def_0_350.jpeg and saved to /content/gdrive/MyDrive/Colab Notebooks/Yolo/Data/images/classification/defect/median_cast_def_0_350_crop_defect_6.jpg.\n",
            "Cropped and resized median_cast_def_0_350.jpeg and saved to /content/gdrive/MyDrive/Colab Notebooks/Yolo/Data/images/classification/defect/median_cast_def_0_350_crop_defect_7.jpg.\n",
            "Cropped and resized median_cast_def_0_350.jpeg and saved to /content/gdrive/MyDrive/Colab Notebooks/Yolo/Data/images/classification/defect/median_cast_def_0_350_crop_defect_8.jpg.\n",
            "Cropped and resized median_cast_def_0_354.jpeg and saved to /content/gdrive/MyDrive/Colab Notebooks/Yolo/Data/images/classification/defect/median_cast_def_0_354_crop_defect_0.jpg.\n",
            "Cropped and resized median_cast_def_0_354.jpeg and saved to /content/gdrive/MyDrive/Colab Notebooks/Yolo/Data/images/classification/defect/median_cast_def_0_354_crop_defect_1.jpg.\n",
            "Cropped and resized median_cast_def_0_355.jpeg and saved to /content/gdrive/MyDrive/Colab Notebooks/Yolo/Data/images/classification/defect/median_cast_def_0_355_crop_defect_0.jpg.\n",
            "Cropped and resized median_cast_def_0_355.jpeg and saved to /content/gdrive/MyDrive/Colab Notebooks/Yolo/Data/images/classification/defect/median_cast_def_0_355_crop_defect_1.jpg.\n",
            "Cropped and resized median_cast_def_0_355.jpeg and saved to /content/gdrive/MyDrive/Colab Notebooks/Yolo/Data/images/classification/defect/median_cast_def_0_355_crop_defect_2.jpg.\n",
            "Cropped and resized median_cast_def_0_355.jpeg and saved to /content/gdrive/MyDrive/Colab Notebooks/Yolo/Data/images/classification/defect/median_cast_def_0_355_crop_defect_3.jpg.\n",
            "Cropped and resized median_cast_def_0_355.jpeg and saved to /content/gdrive/MyDrive/Colab Notebooks/Yolo/Data/images/classification/defect/median_cast_def_0_355_crop_defect_4.jpg.\n",
            "Cropped and resized median_cast_def_0_355.jpeg and saved to /content/gdrive/MyDrive/Colab Notebooks/Yolo/Data/images/classification/defect/median_cast_def_0_355_crop_defect_5.jpg.\n",
            "Cropped and resized median_cast_def_0_357.jpeg and saved to /content/gdrive/MyDrive/Colab Notebooks/Yolo/Data/images/classification/ok/median_cast_def_0_357_crop_ok_0.jpg.\n",
            "Cropped and resized median_cast_def_0_359.jpeg and saved to /content/gdrive/MyDrive/Colab Notebooks/Yolo/Data/images/classification/defect/median_cast_def_0_359_crop_defect_0.jpg.\n",
            "Cropped and resized median_cast_def_0_359.jpeg and saved to /content/gdrive/MyDrive/Colab Notebooks/Yolo/Data/images/classification/defect/median_cast_def_0_359_crop_defect_1.jpg.\n",
            "Cropped and resized median_cast_def_0_359.jpeg and saved to /content/gdrive/MyDrive/Colab Notebooks/Yolo/Data/images/classification/defect/median_cast_def_0_359_crop_defect_2.jpg.\n",
            "Cropped and resized median_cast_def_0_359.jpeg and saved to /content/gdrive/MyDrive/Colab Notebooks/Yolo/Data/images/classification/defect/median_cast_def_0_359_crop_defect_3.jpg.\n",
            "Cropped and resized median_cast_def_0_360.jpeg and saved to /content/gdrive/MyDrive/Colab Notebooks/Yolo/Data/images/classification/defect/median_cast_def_0_360_crop_defect_0.jpg.\n",
            "Cropped and resized median_cast_def_0_360.jpeg and saved to /content/gdrive/MyDrive/Colab Notebooks/Yolo/Data/images/classification/defect/median_cast_def_0_360_crop_defect_1.jpg.\n",
            "Cropped and resized median_cast_def_0_360.jpeg and saved to /content/gdrive/MyDrive/Colab Notebooks/Yolo/Data/images/classification/defect/median_cast_def_0_360_crop_defect_2.jpg.\n",
            "Cropped and resized median_cast_def_0_360.jpeg and saved to /content/gdrive/MyDrive/Colab Notebooks/Yolo/Data/images/classification/defect/median_cast_def_0_360_crop_defect_3.jpg.\n",
            "Cropped and resized median_cast_def_0_360.jpeg and saved to /content/gdrive/MyDrive/Colab Notebooks/Yolo/Data/images/classification/defect/median_cast_def_0_360_crop_defect_4.jpg.\n",
            "Cropped and resized median_cast_def_0_360.jpeg and saved to /content/gdrive/MyDrive/Colab Notebooks/Yolo/Data/images/classification/defect/median_cast_def_0_360_crop_defect_5.jpg.\n",
            "Cropped and resized median_cast_def_0_360.jpeg and saved to /content/gdrive/MyDrive/Colab Notebooks/Yolo/Data/images/classification/defect/median_cast_def_0_360_crop_defect_6.jpg.\n",
            "Cropped and resized median_cast_def_0_360.jpeg and saved to /content/gdrive/MyDrive/Colab Notebooks/Yolo/Data/images/classification/defect/median_cast_def_0_360_crop_defect_7.jpg.\n",
            "Cropped and resized median_cast_def_0_363.jpeg and saved to /content/gdrive/MyDrive/Colab Notebooks/Yolo/Data/images/classification/defect/median_cast_def_0_363_crop_defect_0.jpg.\n",
            "Cropped and resized median_cast_def_0_363.jpeg and saved to /content/gdrive/MyDrive/Colab Notebooks/Yolo/Data/images/classification/defect/median_cast_def_0_363_crop_defect_1.jpg.\n",
            "Cropped and resized median_cast_def_0_372.jpeg and saved to /content/gdrive/MyDrive/Colab Notebooks/Yolo/Data/images/classification/defect/median_cast_def_0_372_crop_defect_0.jpg.\n",
            "Cropped and resized median_cast_def_0_372.jpeg and saved to /content/gdrive/MyDrive/Colab Notebooks/Yolo/Data/images/classification/defect/median_cast_def_0_372_crop_defect_1.jpg.\n",
            "Cropped and resized median_cast_def_0_372.jpeg and saved to /content/gdrive/MyDrive/Colab Notebooks/Yolo/Data/images/classification/defect/median_cast_def_0_372_crop_defect_2.jpg.\n",
            "Cropped and resized median_cast_def_0_372.jpeg and saved to /content/gdrive/MyDrive/Colab Notebooks/Yolo/Data/images/classification/defect/median_cast_def_0_372_crop_defect_3.jpg.\n",
            "Cropped and resized median_cast_def_0_372.jpeg and saved to /content/gdrive/MyDrive/Colab Notebooks/Yolo/Data/images/classification/defect/median_cast_def_0_372_crop_defect_4.jpg.\n",
            "Cropped and resized poisson_cast_def_0_357.jpeg and saved to /content/gdrive/MyDrive/Colab Notebooks/Yolo/Data/images/classification/ok/poisson_cast_def_0_357_crop_ok_0.jpg.\n",
            "Cropped and resized poisson_cast_def_0_357.jpeg and saved to /content/gdrive/MyDrive/Colab Notebooks/Yolo/Data/images/classification/ok/poisson_cast_def_0_357_crop_ok_1.jpg.\n",
            "Cropped and resized poisson_cast_def_0_357.jpeg and saved to /content/gdrive/MyDrive/Colab Notebooks/Yolo/Data/images/classification/ok/poisson_cast_def_0_357_crop_ok_2.jpg.\n",
            "Cropped and resized poisson_cast_def_0_359.jpeg and saved to /content/gdrive/MyDrive/Colab Notebooks/Yolo/Data/images/classification/ok/poisson_cast_def_0_359_crop_ok_0.jpg.\n",
            "Cropped and resized poisson_cast_def_0_359.jpeg and saved to /content/gdrive/MyDrive/Colab Notebooks/Yolo/Data/images/classification/ok/poisson_cast_def_0_359_crop_ok_1.jpg.\n",
            "Cropped and resized poisson_cast_def_0_359.jpeg and saved to /content/gdrive/MyDrive/Colab Notebooks/Yolo/Data/images/classification/ok/poisson_cast_def_0_359_crop_ok_2.jpg.\n",
            "Cropped and resized poisson_cast_def_0_360.jpeg and saved to /content/gdrive/MyDrive/Colab Notebooks/Yolo/Data/images/classification/ok/poisson_cast_def_0_360_crop_ok_0.jpg.\n",
            "Cropped and resized poisson_cast_def_0_360.jpeg and saved to /content/gdrive/MyDrive/Colab Notebooks/Yolo/Data/images/classification/ok/poisson_cast_def_0_360_crop_ok_1.jpg.\n",
            "Cropped and resized poisson_cast_def_0_363.jpeg and saved to /content/gdrive/MyDrive/Colab Notebooks/Yolo/Data/images/classification/ok/poisson_cast_def_0_363_crop_ok_0.jpg.\n",
            "Cropped and resized poisson_cast_def_0_363.jpeg and saved to /content/gdrive/MyDrive/Colab Notebooks/Yolo/Data/images/classification/ok/poisson_cast_def_0_363_crop_ok_1.jpg.\n",
            "Cropped and resized poisson_cast_def_0_372.jpeg and saved to /content/gdrive/MyDrive/Colab Notebooks/Yolo/Data/images/classification/ok/poisson_cast_def_0_372_crop_ok_0.jpg.\n",
            "Cropped and resized poisson_cast_def_0_372.jpeg and saved to /content/gdrive/MyDrive/Colab Notebooks/Yolo/Data/images/classification/ok/poisson_cast_def_0_372_crop_ok_1.jpg.\n",
            "Cropped and resized poisson_cast_def_0_374.jpeg and saved to /content/gdrive/MyDrive/Colab Notebooks/Yolo/Data/images/classification/ok/poisson_cast_def_0_374_crop_ok_0.jpg.\n",
            "Cropped and resized poisson_cast_def_0_374.jpeg and saved to /content/gdrive/MyDrive/Colab Notebooks/Yolo/Data/images/classification/ok/poisson_cast_def_0_374_crop_ok_1.jpg.\n",
            "Cropped and resized poisson_cast_def_0_374.jpeg and saved to /content/gdrive/MyDrive/Colab Notebooks/Yolo/Data/images/classification/ok/poisson_cast_def_0_374_crop_ok_2.jpg.\n",
            "Cropped and resized poisson_cast_def_0_376.jpeg and saved to /content/gdrive/MyDrive/Colab Notebooks/Yolo/Data/images/classification/ok/poisson_cast_def_0_376_crop_ok_0.jpg.\n",
            "Cropped and resized poisson_cast_def_0_376.jpeg and saved to /content/gdrive/MyDrive/Colab Notebooks/Yolo/Data/images/classification/ok/poisson_cast_def_0_376_crop_ok_1.jpg.\n",
            "Cropped and resized poisson_cast_def_0_377.jpeg and saved to /content/gdrive/MyDrive/Colab Notebooks/Yolo/Data/images/classification/ok/poisson_cast_def_0_377_crop_ok_0.jpg.\n",
            "Cropped and resized poisson_cast_def_0_377.jpeg and saved to /content/gdrive/MyDrive/Colab Notebooks/Yolo/Data/images/classification/ok/poisson_cast_def_0_377_crop_ok_1.jpg.\n",
            "Cropped and resized poisson_cast_def_0_377.jpeg and saved to /content/gdrive/MyDrive/Colab Notebooks/Yolo/Data/images/classification/ok/poisson_cast_def_0_377_crop_ok_2.jpg.\n",
            "Cropped and resized poisson_cast_def_0_378.jpeg and saved to /content/gdrive/MyDrive/Colab Notebooks/Yolo/Data/images/classification/ok/poisson_cast_def_0_378_crop_ok_0.jpg.\n",
            "Cropped and resized poisson_cast_def_0_378.jpeg and saved to /content/gdrive/MyDrive/Colab Notebooks/Yolo/Data/images/classification/ok/poisson_cast_def_0_378_crop_ok_1.jpg.\n",
            "Cropped and resized poisson_cast_def_0_379.jpeg and saved to /content/gdrive/MyDrive/Colab Notebooks/Yolo/Data/images/classification/ok/poisson_cast_def_0_379_crop_ok_0.jpg.\n",
            "Cropped and resized poisson_cast_def_0_379.jpeg and saved to /content/gdrive/MyDrive/Colab Notebooks/Yolo/Data/images/classification/ok/poisson_cast_def_0_379_crop_ok_1.jpg.\n",
            "Cropped and resized poisson_cast_def_0_379.jpeg and saved to /content/gdrive/MyDrive/Colab Notebooks/Yolo/Data/images/classification/ok/poisson_cast_def_0_379_crop_ok_2.jpg.\n",
            "Cropped and resized poisson_cast_def_0_380.jpeg and saved to /content/gdrive/MyDrive/Colab Notebooks/Yolo/Data/images/classification/ok/poisson_cast_def_0_380_crop_ok_0.jpg.\n",
            "Cropped and resized poisson_cast_def_0_380.jpeg and saved to /content/gdrive/MyDrive/Colab Notebooks/Yolo/Data/images/classification/ok/poisson_cast_def_0_380_crop_ok_1.jpg.\n",
            "Cropped and resized poisson_cast_def_0_380.jpeg and saved to /content/gdrive/MyDrive/Colab Notebooks/Yolo/Data/images/classification/ok/poisson_cast_def_0_380_crop_ok_2.jpg.\n",
            "Cropped and resized poisson_cast_def_0_387.jpeg and saved to /content/gdrive/MyDrive/Colab Notebooks/Yolo/Data/images/classification/ok/poisson_cast_def_0_387_crop_ok_0.jpg.\n",
            "Cropped and resized poisson_cast_def_0_387.jpeg and saved to /content/gdrive/MyDrive/Colab Notebooks/Yolo/Data/images/classification/ok/poisson_cast_def_0_387_crop_ok_1.jpg.\n",
            "Cropped and resized poisson_cast_def_0_396.jpeg and saved to /content/gdrive/MyDrive/Colab Notebooks/Yolo/Data/images/classification/ok/poisson_cast_def_0_396_crop_ok_0.jpg.\n",
            "Cropped and resized poisson_cast_def_0_396.jpeg and saved to /content/gdrive/MyDrive/Colab Notebooks/Yolo/Data/images/classification/ok/poisson_cast_def_0_396_crop_ok_1.jpg.\n",
            "Cropped and resized poisson_cast_def_0_396.jpeg and saved to /content/gdrive/MyDrive/Colab Notebooks/Yolo/Data/images/classification/ok/poisson_cast_def_0_396_crop_ok_2.jpg.\n",
            "Cropped and resized poisson_cast_def_0_399.jpeg and saved to /content/gdrive/MyDrive/Colab Notebooks/Yolo/Data/images/classification/ok/poisson_cast_def_0_399_crop_ok_0.jpg.\n",
            "Cropped and resized poisson_cast_def_0_399.jpeg and saved to /content/gdrive/MyDrive/Colab Notebooks/Yolo/Data/images/classification/ok/poisson_cast_def_0_399_crop_ok_1.jpg.\n",
            "Cropped and resized poisson_cast_def_0_401.jpeg and saved to /content/gdrive/MyDrive/Colab Notebooks/Yolo/Data/images/classification/ok/poisson_cast_def_0_401_crop_ok_0.jpg.\n",
            "Cropped and resized poisson_cast_def_0_401.jpeg and saved to /content/gdrive/MyDrive/Colab Notebooks/Yolo/Data/images/classification/ok/poisson_cast_def_0_401_crop_ok_1.jpg.\n",
            "Cropped and resized poisson_cast_def_0_401.jpeg and saved to /content/gdrive/MyDrive/Colab Notebooks/Yolo/Data/images/classification/ok/poisson_cast_def_0_401_crop_ok_2.jpg.\n",
            "Cropped and resized poisson_cast_def_0_402.jpeg and saved to /content/gdrive/MyDrive/Colab Notebooks/Yolo/Data/images/classification/ok/poisson_cast_def_0_402_crop_ok_0.jpg.\n",
            "Cropped and resized poisson_cast_def_0_402.jpeg and saved to /content/gdrive/MyDrive/Colab Notebooks/Yolo/Data/images/classification/ok/poisson_cast_def_0_402_crop_ok_1.jpg.\n",
            "Cropped and resized poisson_cast_def_0_402.jpeg and saved to /content/gdrive/MyDrive/Colab Notebooks/Yolo/Data/images/classification/ok/poisson_cast_def_0_402_crop_ok_2.jpg.\n",
            "Cropped and resized poisson_cast_def_0_404.jpeg and saved to /content/gdrive/MyDrive/Colab Notebooks/Yolo/Data/images/classification/ok/poisson_cast_def_0_404_crop_ok_0.jpg.\n",
            "Cropped and resized poisson_cast_def_0_404.jpeg and saved to /content/gdrive/MyDrive/Colab Notebooks/Yolo/Data/images/classification/ok/poisson_cast_def_0_404_crop_ok_1.jpg.\n",
            "Cropped and resized poisson_cast_def_0_409.jpeg and saved to /content/gdrive/MyDrive/Colab Notebooks/Yolo/Data/images/classification/ok/poisson_cast_def_0_409_crop_ok_0.jpg.\n",
            "Cropped and resized poisson_cast_def_0_409.jpeg and saved to /content/gdrive/MyDrive/Colab Notebooks/Yolo/Data/images/classification/ok/poisson_cast_def_0_409_crop_ok_1.jpg.\n",
            "Cropped and resized poisson_cast_def_0_411.jpeg and saved to /content/gdrive/MyDrive/Colab Notebooks/Yolo/Data/images/classification/ok/poisson_cast_def_0_411_crop_ok_0.jpg.\n",
            "Cropped and resized poisson_cast_def_0_411.jpeg and saved to /content/gdrive/MyDrive/Colab Notebooks/Yolo/Data/images/classification/ok/poisson_cast_def_0_411_crop_ok_1.jpg.\n",
            "Cropped and resized poisson_cast_def_0_415.jpeg and saved to /content/gdrive/MyDrive/Colab Notebooks/Yolo/Data/images/classification/ok/poisson_cast_def_0_415_crop_ok_0.jpg.\n",
            "Cropped and resized poisson_cast_def_0_415.jpeg and saved to /content/gdrive/MyDrive/Colab Notebooks/Yolo/Data/images/classification/ok/poisson_cast_def_0_415_crop_ok_1.jpg.\n",
            "Cropped and resized poisson_cast_def_0_415.jpeg and saved to /content/gdrive/MyDrive/Colab Notebooks/Yolo/Data/images/classification/ok/poisson_cast_def_0_415_crop_ok_2.jpg.\n",
            "Cropped and resized poisson_cast_def_0_417.jpeg and saved to /content/gdrive/MyDrive/Colab Notebooks/Yolo/Data/images/classification/ok/poisson_cast_def_0_417_crop_ok_0.jpg.\n",
            "Cropped and resized poisson_cast_def_0_417.jpeg and saved to /content/gdrive/MyDrive/Colab Notebooks/Yolo/Data/images/classification/ok/poisson_cast_def_0_417_crop_ok_1.jpg.\n",
            "Cropped and resized poisson_cast_def_0_421.jpeg and saved to /content/gdrive/MyDrive/Colab Notebooks/Yolo/Data/images/classification/ok/poisson_cast_def_0_421_crop_ok_0.jpg.\n",
            "Cropped and resized poisson_cast_def_0_421.jpeg and saved to /content/gdrive/MyDrive/Colab Notebooks/Yolo/Data/images/classification/ok/poisson_cast_def_0_421_crop_ok_1.jpg.\n",
            "Cropped and resized poisson_cast_def_0_421.jpeg and saved to /content/gdrive/MyDrive/Colab Notebooks/Yolo/Data/images/classification/ok/poisson_cast_def_0_421_crop_ok_2.jpg.\n",
            "Cropped and resized poisson_cast_def_0_422.jpeg and saved to /content/gdrive/MyDrive/Colab Notebooks/Yolo/Data/images/classification/ok/poisson_cast_def_0_422_crop_ok_0.jpg.\n",
            "Cropped and resized poisson_cast_def_0_422.jpeg and saved to /content/gdrive/MyDrive/Colab Notebooks/Yolo/Data/images/classification/ok/poisson_cast_def_0_422_crop_ok_1.jpg.\n",
            "Cropped and resized poisson_cast_def_0_423.jpeg and saved to /content/gdrive/MyDrive/Colab Notebooks/Yolo/Data/images/classification/ok/poisson_cast_def_0_423_crop_ok_0.jpg.\n",
            "Cropped and resized poisson_cast_def_0_423.jpeg and saved to /content/gdrive/MyDrive/Colab Notebooks/Yolo/Data/images/classification/ok/poisson_cast_def_0_423_crop_ok_1.jpg.\n",
            "Cropped and resized poisson_cast_def_0_423.jpeg and saved to /content/gdrive/MyDrive/Colab Notebooks/Yolo/Data/images/classification/ok/poisson_cast_def_0_423_crop_ok_2.jpg.\n",
            "Cropped and resized poisson_cast_def_0_425.jpeg and saved to /content/gdrive/MyDrive/Colab Notebooks/Yolo/Data/images/classification/ok/poisson_cast_def_0_425_crop_ok_0.jpg.\n",
            "Cropped and resized poisson_cast_def_0_425.jpeg and saved to /content/gdrive/MyDrive/Colab Notebooks/Yolo/Data/images/classification/ok/poisson_cast_def_0_425_crop_ok_1.jpg.\n",
            "Cropped and resized poisson_cast_def_0_425.jpeg and saved to /content/gdrive/MyDrive/Colab Notebooks/Yolo/Data/images/classification/ok/poisson_cast_def_0_425_crop_ok_2.jpg.\n",
            "Copied entire image salt_pepper_cast_def_0_103.jpeg to /content/gdrive/MyDrive/Colab Notebooks/Yolo/Data/images/classification/unrecognisable/salt_pepper_cast_def_0_103.jpeg because it is 'unrecognisable'.\n",
            "Copied entire image salt_pepper_cast_def_0_105.jpeg to /content/gdrive/MyDrive/Colab Notebooks/Yolo/Data/images/classification/unrecognisable/salt_pepper_cast_def_0_105.jpeg because it is 'unrecognisable'.\n",
            "Copied entire image salt_pepper_cast_def_0_107.jpeg to /content/gdrive/MyDrive/Colab Notebooks/Yolo/Data/images/classification/unrecognisable/salt_pepper_cast_def_0_107.jpeg because it is 'unrecognisable'.\n",
            "Copied entire image salt_pepper_cast_def_0_109.jpeg to /content/gdrive/MyDrive/Colab Notebooks/Yolo/Data/images/classification/unrecognisable/salt_pepper_cast_def_0_109.jpeg because it is 'unrecognisable'.\n",
            "Copied entire image salt_pepper_cast_def_0_110.jpeg to /content/gdrive/MyDrive/Colab Notebooks/Yolo/Data/images/classification/unrecognisable/salt_pepper_cast_def_0_110.jpeg because it is 'unrecognisable'.\n",
            "Copied entire image salt_pepper_cast_def_0_116.jpeg to /content/gdrive/MyDrive/Colab Notebooks/Yolo/Data/images/classification/unrecognisable/salt_pepper_cast_def_0_116.jpeg because it is 'unrecognisable'.\n",
            "Copied entire image salt_pepper_cast_def_0_120.jpeg to /content/gdrive/MyDrive/Colab Notebooks/Yolo/Data/images/classification/unrecognisable/salt_pepper_cast_def_0_120.jpeg because it is 'unrecognisable'.\n",
            "Copied entire image salt_pepper_cast_def_0_122.jpeg to /content/gdrive/MyDrive/Colab Notebooks/Yolo/Data/images/classification/unrecognisable/salt_pepper_cast_def_0_122.jpeg because it is 'unrecognisable'.\n",
            "Cropped and resized salt_pepper_cast_def_0_126.jpeg and saved to /content/gdrive/MyDrive/Colab Notebooks/Yolo/Data/images/classification/ok/salt_pepper_cast_def_0_126_crop_ok_0.jpg.\n",
            "Copied entire image salt_pepper_cast_def_0_130.jpeg to /content/gdrive/MyDrive/Colab Notebooks/Yolo/Data/images/classification/unrecognisable/salt_pepper_cast_def_0_130.jpeg because it is 'unrecognisable'.\n",
            "Copied entire image salt_pepper_cast_def_0_131.jpeg to /content/gdrive/MyDrive/Colab Notebooks/Yolo/Data/images/classification/unrecognisable/salt_pepper_cast_def_0_131.jpeg because it is 'unrecognisable'.\n",
            "Copied entire image salt_pepper_cast_def_0_133.jpeg to /content/gdrive/MyDrive/Colab Notebooks/Yolo/Data/images/classification/unrecognisable/salt_pepper_cast_def_0_133.jpeg because it is 'unrecognisable'.\n",
            "Copied entire image salt_pepper_cast_def_0_135.jpeg to /content/gdrive/MyDrive/Colab Notebooks/Yolo/Data/images/classification/unrecognisable/salt_pepper_cast_def_0_135.jpeg because it is 'unrecognisable'.\n",
            "Copied entire image salt_pepper_cast_def_0_136.jpeg to /content/gdrive/MyDrive/Colab Notebooks/Yolo/Data/images/classification/unrecognisable/salt_pepper_cast_def_0_136.jpeg because it is 'unrecognisable'.\n",
            "Copied entire image salt_pepper_cast_def_0_148.jpeg to /content/gdrive/MyDrive/Colab Notebooks/Yolo/Data/images/classification/unrecognisable/salt_pepper_cast_def_0_148.jpeg because it is 'unrecognisable'.\n",
            "Copied entire image salt_pepper_cast_def_0_163.jpeg to /content/gdrive/MyDrive/Colab Notebooks/Yolo/Data/images/classification/unrecognisable/salt_pepper_cast_def_0_163.jpeg because it is 'unrecognisable'.\n",
            "Copied entire image salt_pepper_cast_def_0_175.jpeg to /content/gdrive/MyDrive/Colab Notebooks/Yolo/Data/images/classification/unrecognisable/salt_pepper_cast_def_0_175.jpeg because it is 'unrecognisable'.\n",
            "Copied entire image salt_pepper_cast_def_0_186.jpeg to /content/gdrive/MyDrive/Colab Notebooks/Yolo/Data/images/classification/unrecognisable/salt_pepper_cast_def_0_186.jpeg because it is 'unrecognisable'.\n",
            "Copied entire image salt_pepper_cast_def_0_191.jpeg to /content/gdrive/MyDrive/Colab Notebooks/Yolo/Data/images/classification/unrecognisable/salt_pepper_cast_def_0_191.jpeg because it is 'unrecognisable'.\n",
            "Copied entire image salt_pepper_cast_def_0_91.jpeg to /content/gdrive/MyDrive/Colab Notebooks/Yolo/Data/images/classification/unrecognisable/salt_pepper_cast_def_0_91.jpeg because it is 'unrecognisable'.\n",
            "Copied entire image salt_pepper_cast_def_0_92.jpeg to /content/gdrive/MyDrive/Colab Notebooks/Yolo/Data/images/classification/unrecognisable/salt_pepper_cast_def_0_92.jpeg because it is 'unrecognisable'.\n",
            "Copied entire image salt_pepper_cast_def_0_95.jpeg to /content/gdrive/MyDrive/Colab Notebooks/Yolo/Data/images/classification/unrecognisable/salt_pepper_cast_def_0_95.jpeg because it is 'unrecognisable'.\n",
            "Copied entire image salt_pepper_cast_def_0_97.jpeg to /content/gdrive/MyDrive/Colab Notebooks/Yolo/Data/images/classification/unrecognisable/salt_pepper_cast_def_0_97.jpeg because it is 'unrecognisable'.\n",
            "Copied entire image salt_pepper_cast_def_0_98.jpeg to /content/gdrive/MyDrive/Colab Notebooks/Yolo/Data/images/classification/unrecognisable/salt_pepper_cast_def_0_98.jpeg because it is 'unrecognisable'.\n",
            "Cropped and resized salt_pepper_cast_def_0_99.jpeg and saved to /content/gdrive/MyDrive/Colab Notebooks/Yolo/Data/images/classification/defect/salt_pepper_cast_def_0_99_crop_defect_0.jpg.\n"
          ]
        }
      ]
    },
    {
      "cell_type": "markdown",
      "source": [
        "# CNN defect classification"
      ],
      "metadata": {
        "id": "agKxtwSb4Rcf"
      }
    },
    {
      "cell_type": "markdown",
      "source": [
        "Checking the label file"
      ],
      "metadata": {
        "id": "_4OA9CAMiJDq"
      }
    },
    {
      "cell_type": "code",
      "source": [
        "data = pd.read_csv('/content/gdrive/MyDrive/Colab Notebooks/Yolo/CNN/train.csv')\n",
        "data.head()"
      ],
      "metadata": {
        "colab": {
          "base_uri": "https://localhost:8080/",
          "height": 313
        },
        "id": "Wk3KnZsJoeHY",
        "outputId": "ef5c6ef2-7252-40a4-9201-bd3cb3e7085b"
      },
      "execution_count": null,
      "outputs": [
        {
          "output_type": "execute_result",
          "data": {
            "text/plain": [
              "             filename  file_size file_attributes  region_count  region_id  \\\n",
              "0  cast_def_0_97.jpeg      10185              {}             9          0   \n",
              "1  cast_def_0_97.jpeg      10185              {}             9          1   \n",
              "2  cast_def_0_97.jpeg      10185              {}             9          2   \n",
              "3  cast_def_0_97.jpeg      10185              {}             9          3   \n",
              "4  cast_def_0_97.jpeg      10185              {}             9          4   \n",
              "\n",
              "                             region_shape_attributes      region_attributes  \n",
              "0  {\"name\":\"polyline\",\"all_points_x\":[115,119,125...  {\"defect\":\"scratch \"}  \n",
              "1  {\"name\":\"polyline\",\"all_points_x\":[61,51,51,58...  {\"defect\":\"overflow\"}  \n",
              "2  {\"name\":\"polyline\",\"all_points_x\":[60,72,83,10...  {\"defect\":\"overflow\"}  \n",
              "3  {\"name\":\"polyline\",\"all_points_x\":[231,235,246...  {\"defect\":\"overflow\"}  \n",
              "4  {\"name\":\"polyline\",\"all_points_x\":[245,259,261...  {\"defect\":\"overflow\"}  "
            ],
            "text/html": [
              "\n",
              "  <div id=\"df-0a34a06b-8675-462a-8299-5315c20ba9ea\" class=\"colab-df-container\">\n",
              "    <div>\n",
              "<style scoped>\n",
              "    .dataframe tbody tr th:only-of-type {\n",
              "        vertical-align: middle;\n",
              "    }\n",
              "\n",
              "    .dataframe tbody tr th {\n",
              "        vertical-align: top;\n",
              "    }\n",
              "\n",
              "    .dataframe thead th {\n",
              "        text-align: right;\n",
              "    }\n",
              "</style>\n",
              "<table border=\"1\" class=\"dataframe\">\n",
              "  <thead>\n",
              "    <tr style=\"text-align: right;\">\n",
              "      <th></th>\n",
              "      <th>filename</th>\n",
              "      <th>file_size</th>\n",
              "      <th>file_attributes</th>\n",
              "      <th>region_count</th>\n",
              "      <th>region_id</th>\n",
              "      <th>region_shape_attributes</th>\n",
              "      <th>region_attributes</th>\n",
              "    </tr>\n",
              "  </thead>\n",
              "  <tbody>\n",
              "    <tr>\n",
              "      <th>0</th>\n",
              "      <td>cast_def_0_97.jpeg</td>\n",
              "      <td>10185</td>\n",
              "      <td>{}</td>\n",
              "      <td>9</td>\n",
              "      <td>0</td>\n",
              "      <td>{\"name\":\"polyline\",\"all_points_x\":[115,119,125...</td>\n",
              "      <td>{\"defect\":\"scratch \"}</td>\n",
              "    </tr>\n",
              "    <tr>\n",
              "      <th>1</th>\n",
              "      <td>cast_def_0_97.jpeg</td>\n",
              "      <td>10185</td>\n",
              "      <td>{}</td>\n",
              "      <td>9</td>\n",
              "      <td>1</td>\n",
              "      <td>{\"name\":\"polyline\",\"all_points_x\":[61,51,51,58...</td>\n",
              "      <td>{\"defect\":\"overflow\"}</td>\n",
              "    </tr>\n",
              "    <tr>\n",
              "      <th>2</th>\n",
              "      <td>cast_def_0_97.jpeg</td>\n",
              "      <td>10185</td>\n",
              "      <td>{}</td>\n",
              "      <td>9</td>\n",
              "      <td>2</td>\n",
              "      <td>{\"name\":\"polyline\",\"all_points_x\":[60,72,83,10...</td>\n",
              "      <td>{\"defect\":\"overflow\"}</td>\n",
              "    </tr>\n",
              "    <tr>\n",
              "      <th>3</th>\n",
              "      <td>cast_def_0_97.jpeg</td>\n",
              "      <td>10185</td>\n",
              "      <td>{}</td>\n",
              "      <td>9</td>\n",
              "      <td>3</td>\n",
              "      <td>{\"name\":\"polyline\",\"all_points_x\":[231,235,246...</td>\n",
              "      <td>{\"defect\":\"overflow\"}</td>\n",
              "    </tr>\n",
              "    <tr>\n",
              "      <th>4</th>\n",
              "      <td>cast_def_0_97.jpeg</td>\n",
              "      <td>10185</td>\n",
              "      <td>{}</td>\n",
              "      <td>9</td>\n",
              "      <td>4</td>\n",
              "      <td>{\"name\":\"polyline\",\"all_points_x\":[245,259,261...</td>\n",
              "      <td>{\"defect\":\"overflow\"}</td>\n",
              "    </tr>\n",
              "  </tbody>\n",
              "</table>\n",
              "</div>\n",
              "    <div class=\"colab-df-buttons\">\n",
              "\n",
              "  <div class=\"colab-df-container\">\n",
              "    <button class=\"colab-df-convert\" onclick=\"convertToInteractive('df-0a34a06b-8675-462a-8299-5315c20ba9ea')\"\n",
              "            title=\"Convert this dataframe to an interactive table.\"\n",
              "            style=\"display:none;\">\n",
              "\n",
              "  <svg xmlns=\"http://www.w3.org/2000/svg\" height=\"24px\" viewBox=\"0 -960 960 960\">\n",
              "    <path d=\"M120-120v-720h720v720H120Zm60-500h600v-160H180v160Zm220 220h160v-160H400v160Zm0 220h160v-160H400v160ZM180-400h160v-160H180v160Zm440 0h160v-160H620v160ZM180-180h160v-160H180v160Zm440 0h160v-160H620v160Z\"/>\n",
              "  </svg>\n",
              "    </button>\n",
              "\n",
              "  <style>\n",
              "    .colab-df-container {\n",
              "      display:flex;\n",
              "      gap: 12px;\n",
              "    }\n",
              "\n",
              "    .colab-df-convert {\n",
              "      background-color: #E8F0FE;\n",
              "      border: none;\n",
              "      border-radius: 50%;\n",
              "      cursor: pointer;\n",
              "      display: none;\n",
              "      fill: #1967D2;\n",
              "      height: 32px;\n",
              "      padding: 0 0 0 0;\n",
              "      width: 32px;\n",
              "    }\n",
              "\n",
              "    .colab-df-convert:hover {\n",
              "      background-color: #E2EBFA;\n",
              "      box-shadow: 0px 1px 2px rgba(60, 64, 67, 0.3), 0px 1px 3px 1px rgba(60, 64, 67, 0.15);\n",
              "      fill: #174EA6;\n",
              "    }\n",
              "\n",
              "    .colab-df-buttons div {\n",
              "      margin-bottom: 4px;\n",
              "    }\n",
              "\n",
              "    [theme=dark] .colab-df-convert {\n",
              "      background-color: #3B4455;\n",
              "      fill: #D2E3FC;\n",
              "    }\n",
              "\n",
              "    [theme=dark] .colab-df-convert:hover {\n",
              "      background-color: #434B5C;\n",
              "      box-shadow: 0px 1px 3px 1px rgba(0, 0, 0, 0.15);\n",
              "      filter: drop-shadow(0px 1px 2px rgba(0, 0, 0, 0.3));\n",
              "      fill: #FFFFFF;\n",
              "    }\n",
              "  </style>\n",
              "\n",
              "    <script>\n",
              "      const buttonEl =\n",
              "        document.querySelector('#df-0a34a06b-8675-462a-8299-5315c20ba9ea button.colab-df-convert');\n",
              "      buttonEl.style.display =\n",
              "        google.colab.kernel.accessAllowed ? 'block' : 'none';\n",
              "\n",
              "      async function convertToInteractive(key) {\n",
              "        const element = document.querySelector('#df-0a34a06b-8675-462a-8299-5315c20ba9ea');\n",
              "        const dataTable =\n",
              "          await google.colab.kernel.invokeFunction('convertToInteractive',\n",
              "                                                    [key], {});\n",
              "        if (!dataTable) return;\n",
              "\n",
              "        const docLinkHtml = 'Like what you see? Visit the ' +\n",
              "          '<a target=\"_blank\" href=https://colab.research.google.com/notebooks/data_table.ipynb>data table notebook</a>'\n",
              "          + ' to learn more about interactive tables.';\n",
              "        element.innerHTML = '';\n",
              "        dataTable['output_type'] = 'display_data';\n",
              "        await google.colab.output.renderOutput(dataTable, element);\n",
              "        const docLink = document.createElement('div');\n",
              "        docLink.innerHTML = docLinkHtml;\n",
              "        element.appendChild(docLink);\n",
              "      }\n",
              "    </script>\n",
              "  </div>\n",
              "\n",
              "\n",
              "<div id=\"df-6796d4ad-242c-4704-959c-4d28215ba7ee\">\n",
              "  <button class=\"colab-df-quickchart\" onclick=\"quickchart('df-6796d4ad-242c-4704-959c-4d28215ba7ee')\"\n",
              "            title=\"Suggest charts\"\n",
              "            style=\"display:none;\">\n",
              "\n",
              "<svg xmlns=\"http://www.w3.org/2000/svg\" height=\"24px\"viewBox=\"0 0 24 24\"\n",
              "     width=\"24px\">\n",
              "    <g>\n",
              "        <path d=\"M19 3H5c-1.1 0-2 .9-2 2v14c0 1.1.9 2 2 2h14c1.1 0 2-.9 2-2V5c0-1.1-.9-2-2-2zM9 17H7v-7h2v7zm4 0h-2V7h2v10zm4 0h-2v-4h2v4z\"/>\n",
              "    </g>\n",
              "</svg>\n",
              "  </button>\n",
              "\n",
              "<style>\n",
              "  .colab-df-quickchart {\n",
              "      --bg-color: #E8F0FE;\n",
              "      --fill-color: #1967D2;\n",
              "      --hover-bg-color: #E2EBFA;\n",
              "      --hover-fill-color: #174EA6;\n",
              "      --disabled-fill-color: #AAA;\n",
              "      --disabled-bg-color: #DDD;\n",
              "  }\n",
              "\n",
              "  [theme=dark] .colab-df-quickchart {\n",
              "      --bg-color: #3B4455;\n",
              "      --fill-color: #D2E3FC;\n",
              "      --hover-bg-color: #434B5C;\n",
              "      --hover-fill-color: #FFFFFF;\n",
              "      --disabled-bg-color: #3B4455;\n",
              "      --disabled-fill-color: #666;\n",
              "  }\n",
              "\n",
              "  .colab-df-quickchart {\n",
              "    background-color: var(--bg-color);\n",
              "    border: none;\n",
              "    border-radius: 50%;\n",
              "    cursor: pointer;\n",
              "    display: none;\n",
              "    fill: var(--fill-color);\n",
              "    height: 32px;\n",
              "    padding: 0;\n",
              "    width: 32px;\n",
              "  }\n",
              "\n",
              "  .colab-df-quickchart:hover {\n",
              "    background-color: var(--hover-bg-color);\n",
              "    box-shadow: 0 1px 2px rgba(60, 64, 67, 0.3), 0 1px 3px 1px rgba(60, 64, 67, 0.15);\n",
              "    fill: var(--button-hover-fill-color);\n",
              "  }\n",
              "\n",
              "  .colab-df-quickchart-complete:disabled,\n",
              "  .colab-df-quickchart-complete:disabled:hover {\n",
              "    background-color: var(--disabled-bg-color);\n",
              "    fill: var(--disabled-fill-color);\n",
              "    box-shadow: none;\n",
              "  }\n",
              "\n",
              "  .colab-df-spinner {\n",
              "    border: 2px solid var(--fill-color);\n",
              "    border-color: transparent;\n",
              "    border-bottom-color: var(--fill-color);\n",
              "    animation:\n",
              "      spin 1s steps(1) infinite;\n",
              "  }\n",
              "\n",
              "  @keyframes spin {\n",
              "    0% {\n",
              "      border-color: transparent;\n",
              "      border-bottom-color: var(--fill-color);\n",
              "      border-left-color: var(--fill-color);\n",
              "    }\n",
              "    20% {\n",
              "      border-color: transparent;\n",
              "      border-left-color: var(--fill-color);\n",
              "      border-top-color: var(--fill-color);\n",
              "    }\n",
              "    30% {\n",
              "      border-color: transparent;\n",
              "      border-left-color: var(--fill-color);\n",
              "      border-top-color: var(--fill-color);\n",
              "      border-right-color: var(--fill-color);\n",
              "    }\n",
              "    40% {\n",
              "      border-color: transparent;\n",
              "      border-right-color: var(--fill-color);\n",
              "      border-top-color: var(--fill-color);\n",
              "    }\n",
              "    60% {\n",
              "      border-color: transparent;\n",
              "      border-right-color: var(--fill-color);\n",
              "    }\n",
              "    80% {\n",
              "      border-color: transparent;\n",
              "      border-right-color: var(--fill-color);\n",
              "      border-bottom-color: var(--fill-color);\n",
              "    }\n",
              "    90% {\n",
              "      border-color: transparent;\n",
              "      border-bottom-color: var(--fill-color);\n",
              "    }\n",
              "  }\n",
              "</style>\n",
              "\n",
              "  <script>\n",
              "    async function quickchart(key) {\n",
              "      const quickchartButtonEl =\n",
              "        document.querySelector('#' + key + ' button');\n",
              "      quickchartButtonEl.disabled = true;  // To prevent multiple clicks.\n",
              "      quickchartButtonEl.classList.add('colab-df-spinner');\n",
              "      try {\n",
              "        const charts = await google.colab.kernel.invokeFunction(\n",
              "            'suggestCharts', [key], {});\n",
              "      } catch (error) {\n",
              "        console.error('Error during call to suggestCharts:', error);\n",
              "      }\n",
              "      quickchartButtonEl.classList.remove('colab-df-spinner');\n",
              "      quickchartButtonEl.classList.add('colab-df-quickchart-complete');\n",
              "    }\n",
              "    (() => {\n",
              "      let quickchartButtonEl =\n",
              "        document.querySelector('#df-6796d4ad-242c-4704-959c-4d28215ba7ee button');\n",
              "      quickchartButtonEl.style.display =\n",
              "        google.colab.kernel.accessAllowed ? 'block' : 'none';\n",
              "    })();\n",
              "  </script>\n",
              "</div>\n",
              "\n",
              "    </div>\n",
              "  </div>\n"
            ],
            "application/vnd.google.colaboratory.intrinsic+json": {
              "type": "dataframe",
              "variable_name": "data",
              "summary": "{\n  \"name\": \"data\",\n  \"rows\": 1278,\n  \"fields\": [\n    {\n      \"column\": \"filename\",\n      \"properties\": {\n        \"dtype\": \"string\",\n        \"num_unique_values\": 640,\n        \"samples\": [\n          \"median_cast_ok_0_426.jpeg\",\n          \"median_cast_def_0_2711.jpeg\",\n          \"median_cast_def_0_2781.jpeg\"\n        ],\n        \"semantic_type\": \"\",\n        \"description\": \"\"\n      }\n    },\n    {\n      \"column\": \"file_size\",\n      \"properties\": {\n        \"dtype\": \"number\",\n        \"std\": 39588,\n        \"min\": 8273,\n        \"max\": 114815,\n        \"num_unique_values\": 612,\n        \"samples\": [\n          11217,\n          10327,\n          10039\n        ],\n        \"semantic_type\": \"\",\n        \"description\": \"\"\n      }\n    },\n    {\n      \"column\": \"file_attributes\",\n      \"properties\": {\n        \"dtype\": \"category\",\n        \"num_unique_values\": 1,\n        \"samples\": [\n          \"{}\"\n        ],\n        \"semantic_type\": \"\",\n        \"description\": \"\"\n      }\n    },\n    {\n      \"column\": \"region_count\",\n      \"properties\": {\n        \"dtype\": \"number\",\n        \"std\": 2,\n        \"min\": 0,\n        \"max\": 12,\n        \"num_unique_values\": 13,\n        \"samples\": [\n          10\n        ],\n        \"semantic_type\": \"\",\n        \"description\": \"\"\n      }\n    },\n    {\n      \"column\": \"region_id\",\n      \"properties\": {\n        \"dtype\": \"number\",\n        \"std\": 2,\n        \"min\": 0,\n        \"max\": 11,\n        \"num_unique_values\": 12,\n        \"samples\": [\n          10\n        ],\n        \"semantic_type\": \"\",\n        \"description\": \"\"\n      }\n    },\n    {\n      \"column\": \"region_shape_attributes\",\n      \"properties\": {\n        \"dtype\": \"string\",\n        \"num_unique_values\": 1268,\n        \"samples\": [\n          \"{\\\"name\\\":\\\"circle\\\",\\\"cx\\\":147,\\\"cy\\\":146,\\\"r\\\":131}\"\n        ],\n        \"semantic_type\": \"\",\n        \"description\": \"\"\n      }\n    },\n    {\n      \"column\": \"region_attributes\",\n      \"properties\": {\n        \"dtype\": \"category\",\n        \"num_unique_values\": 6,\n        \"samples\": [\n          \"{\\\"defect\\\":\\\"scratch \\\"}\"\n        ],\n        \"semantic_type\": \"\",\n        \"description\": \"\"\n      }\n    }\n  ]\n}"
            }
          },
          "metadata": {},
          "execution_count": 29
        }
      ]
    },
    {
      "cell_type": "code",
      "source": [
        "from keras.models import Sequential\n",
        "from keras.layers import Conv2D\n",
        "from keras.layers import MaxPooling2D\n",
        "from keras.layers import Dense\n",
        "from keras.layers import Flatten\n",
        "from keras.layers import Dropout\n",
        "from keras.layers import Rescaling\n",
        "from keras.optimizers import SGD\n",
        "import pandas as pd\n",
        "import numpy as np\n",
        "import json\n",
        "from tensorflow.keras.preprocessing.image import ImageDataGenerator\n",
        "from keras.utils import to_categorical\n",
        "from keras.preprocessing.image import img_to_array, load_img\n",
        "import os  # Import os for file path operations\n",
        "import shutil\n",
        "from keras.utils import Sequence\n",
        "from sklearn.preprocessing import MultiLabelBinarizer\n",
        "from keras.preprocessing.image import img_to_array, load_img\n",
        "from sklearn.utils.class_weight import compute_class_weight\n",
        "\n",
        "\n",
        "coordinates_column = \"region_shape_attributes\"\n",
        "defect_type_column = \"region_attributes\"\n",
        "\n",
        "# Function to clean and parse the JSON data\n",
        "def clean_and_parse_json(val, row_index, column_name):\n",
        "    try:\n",
        "        val = val.strip()\n",
        "\n",
        "        # Handle potential empty strings\n",
        "        if val == \"\" or pd.isna(val):\n",
        "            return {}\n",
        "\n",
        "        return json.loads(val)\n",
        "    except json.JSONDecodeError as e:\n",
        "        print(f\"Error decoding JSON in row {row_index}, column {column_name}: {e}\")\n",
        "        print(f\"Value: {val}\")\n",
        "        return {}\n",
        "\n",
        "# Function to process the row attributes\n",
        "def process_row_attributes(row):\n",
        "    return clean_and_parse_json(row[defect_type_column], row.name, defect_type_column)\n",
        "\n",
        "# Function to extract labels\n",
        "def labels_extraction(csv_file_path,target_defects):\n",
        "    data = pd.read_csv(csv_file_path)\n",
        "    data.head()\n",
        "\n",
        "    target_defects = ['hole', 'scratch', 'overflow', 'unrecognisable']\n",
        "\n",
        "    # Apply cleaning and JSON parsing\n",
        "    data['shape_attributes'] = data.apply(process_row_attributes, axis=1)\n",
        "    data['attributes'] = data.apply(process_row_attributes, axis=1)\n",
        "\n",
        "    # Filter defect types\n",
        "    data['defect_types'] = data['attributes'].apply(lambda x: [v for k, v in x.items() if v in target_defects])\n",
        "\n",
        "    mlb = MultiLabelBinarizer(classes=target_defects)\n",
        "    multi_labels = mlb.fit_transform(data['defect_types'])\n",
        "    data['multi_hot_labels'] = multi_labels.tolist()\n",
        "\n",
        "    return data, mlb\n",
        "\n",
        "# Custom data generator for multi-label classification\n",
        "class MultiLabelDataGenerator(Sequence):\n",
        "    def __init__(self, image_paths, labels, batch_size, target_size):\n",
        "        self.image_paths = image_paths\n",
        "        self.labels = labels\n",
        "        self.batch_size = batch_size\n",
        "        self.target_size = target_size\n",
        "\n",
        "    def __len__(self):\n",
        "        return int(np.ceil(len(self.image_paths) / self.batch_size))\n",
        "\n",
        "    def __getitem__(self, index):\n",
        "        batch_paths = self.image_paths[index * self.batch_size:(index + 1) * self.batch_size]\n",
        "        batch_labels = self.labels[index * self.batch_size:(index + 1) * self.batch_size]\n",
        "\n",
        "        images = []\n",
        "        for img_path in batch_paths:\n",
        "            img = load_img(img_path, target_size=self.target_size)\n",
        "            img = img_to_array(img) / 255.0\n",
        "            images.append(img)\n",
        "\n",
        "        return np.array(images), np.array(batch_labels)\n",
        "\n",
        "# Load and process data\n",
        "target_defects = ['hole', 'scratch', 'overflow', 'unrecognisable']\n",
        "data_train, mlb = labels_extraction('/content/gdrive/MyDrive/Colab Notebooks/Yolo/CNN/train.csv', target_defects)\n",
        "data_val, _ = labels_extraction('/content/gdrive/MyDrive/Colab Notebooks/Yolo/CNN/val.csv', target_defects)\n",
        "\n",
        "# Paths to images\n",
        "image_dir_train = '/content/gdrive/MyDrive/Colab Notebooks/Yolo/CNN/images/train'\n",
        "image_dir_val = '/content/gdrive/MyDrive/Colab Notebooks/Yolo/CNN/images/val'\n",
        "\n",
        "# Create a list of image paths and corresponding multi-hot labels\n",
        "image_paths_train = data_train['filename'].apply(lambda x: os.path.join(image_dir_train, x)).tolist()\n",
        "multi_labels_train = np.array(data_train['multi_hot_labels'].tolist())\n",
        "\n",
        "image_paths_val = data_val['filename'].apply(lambda x: os.path.join(image_dir_val, x)).tolist()\n",
        "multi_labels_val = np.array(data_val['multi_hot_labels'].tolist())\n",
        "\n",
        "# Create data generators\n",
        "train_generator = MultiLabelDataGenerator(image_paths_train, multi_labels_train, batch_size=32, target_size=(224, 224))\n",
        "val_generator = MultiLabelDataGenerator(image_paths_val, multi_labels_val, batch_size=32, target_size=(224, 224))\n"
      ],
      "metadata": {
        "id": "UKpbMredhYU_"
      },
      "execution_count": null,
      "outputs": []
    },
    {
      "cell_type": "code",
      "source": [
        "import numpy as np\n",
        "import pandas as pd\n",
        "from sklearn.preprocessing import MultiLabelBinarizer\n",
        "\n",
        "# Assuming data_train and target_defects are correctly defined as in your previous code\n",
        "\n",
        "# Ensure multi_labels_train is a 2D NumPy array with consistent shape\n",
        "multi_labels_train = np.array(data_train['multi_hot_labels'].tolist())\n",
        "\n",
        "# Check if all lists in multi_labels_train have the same length\n",
        "lengths = [len(label_list) for label_list in multi_labels_train]\n",
        "if len(set(lengths)) != 1:\n",
        "    raise ValueError(\"Multi-hot labels have inconsistent lengths.\")\n",
        "\n",
        "# Flatten the multi-hot labels and count occurrences of each label\n",
        "label_sums = np.sum(multi_labels_train, axis=0)  # Count occurrences of each label\n",
        "\n",
        "# Create a DataFrame to easily manipulate and sort\n",
        "label_counts = pd.DataFrame({\n",
        "    'label': target_defects,\n",
        "    'count': label_sums\n",
        "})\n",
        "\n",
        "# Find the most common and least common labels\n",
        "most_common_label = label_counts.loc[label_counts['count'].idxmax()]\n",
        "least_common_label = label_counts.loc[label_counts['count'].idxmin()]\n",
        "\n",
        "print(f\"Most common label: {most_common_label['label']} with count {most_common_label['count']}\")\n",
        "print(f\"Least common label: {least_common_label['label']} with count {least_common_label['count']}\")\n",
        "\n",
        "# Initialize class weights dictionary\n",
        "class_weights = {}\n",
        "\n",
        "# Define weights\n",
        "weight_most_common = 1.25  # Weight for the most common label\n",
        "weight_least_common = 1.25  # Weight for the least common label\n",
        "weight_other = 0.8333333333333334         # Weight for other labels\n",
        "\n",
        "for label in target_defects:\n",
        "    if label == most_common_label['label']:\n",
        "        class_weights[label] = weight_most_common\n",
        "    elif label == least_common_label['label']:\n",
        "        class_weights[label] = weight_least_common\n",
        "    else:\n",
        "        class_weights[label] = weight_other\n",
        "\n",
        "print(\"Class weights:\", class_weights)\n"
      ],
      "metadata": {
        "colab": {
          "base_uri": "https://localhost:8080/"
        },
        "id": "wU-uQ7ln8nKY",
        "outputId": "0fb96177-0dfe-4ac7-8e6f-0df67d695e59"
      },
      "execution_count": null,
      "outputs": [
        {
          "output_type": "stream",
          "name": "stdout",
          "text": [
            "Most common label: overflow with count 627\n",
            "Least common label: scratch with count 131\n",
            "Class weights: {'hole': 0.8333333333333334, 'scratch': 1.25, 'overflow': 1.25, 'unrecognisable': 0.8333333333333334}\n"
          ]
        }
      ]
    },
    {
      "cell_type": "markdown",
      "source": [
        "CNN model"
      ],
      "metadata": {
        "id": "pKNiJD8Q29oO"
      }
    },
    {
      "cell_type": "code",
      "source": [
        "from tensorflow.keras import layers, models, regularizers\n",
        "from tensorflow.keras.applications import VGG16\n",
        "from tensorflow.keras.optimizers import SGD\n",
        "import matplotlib.pyplot as plt\n",
        "import tensorflow as tf\n",
        "from tensorflow.keras.metrics import Precision, Recall\n",
        "from tensorflow.keras import backend as K\n",
        "\n",
        "class F1Score(tf.keras.metrics.Metric):\n",
        "    def __init__(self, name='f1_score', dtype=None):\n",
        "        # Initialize the parent class\n",
        "        tf.keras.metrics.Metric.__init__(self, name=name, dtype=dtype)\n",
        "        # Initialize Precision and Recall metrics\n",
        "        self.precision_metric = Precision()\n",
        "        self.recall_metric = Recall()\n",
        "\n",
        "    def update_state(self, y_true, y_pred, sample_weight=None):\n",
        "        # Update the Precision and Recall metrics\n",
        "        self.precision_metric.update_state(y_true, y_pred)\n",
        "        self.recall_metric.update_state(y_true, y_pred)\n",
        "\n",
        "    def result(self):\n",
        "        # Calculate Precision and Recall\n",
        "        precision = self.precision_metric.result()\n",
        "        recall = self.recall_metric.result()\n",
        "        # Calculate F1 Score\n",
        "        return 2 * (precision * recall) / (precision + recall + K.epsilon())\n",
        "\n",
        "    def reset_states(self):\n",
        "        # Reset the Precision and Recall metrics\n",
        "        self.precision_metric.reset_states()\n",
        "        self.recall_metric.reset_states()\n",
        "\n",
        "# Example model setup and training\n",
        "from tensorflow.keras import layers, models\n",
        "from tensorflow.keras.applications import VGG16\n",
        "from tensorflow.keras.optimizers import SGD\n",
        "import matplotlib.pyplot as plt\n",
        "\n",
        "def create_finetuned_cnn_model(input_shape, num_classes):\n",
        "    base_model = VGG16(weights='imagenet', include_top=False, input_shape=input_shape)\n",
        "    for layer in base_model.layers:\n",
        "        layer.trainable = True  # Unfreeze all layers for fine-tuning\n",
        "\n",
        "    model = models.Sequential()\n",
        "    model.add(base_model)\n",
        "    model.add(layers.Flatten())\n",
        "    model.add(layers.Dense(256, activation='relu' , kernel_regularizer=regularizers.l2(0.01)))\n",
        "    model.add(layers.Dropout(0.5))\n",
        "    model.add(layers.Dense(num_classes, activation='sigmoid'))\n",
        "\n",
        "    return model\n",
        "\n",
        "input_shape = (224, 224, 3)\n",
        "num_classes = len(target_defects)\n",
        "model = create_finetuned_cnn_model(input_shape, num_classes)\n",
        "\n",
        "# Compile the model with a lower learning rate for fine-tuning\n",
        "model.compile(optimizer=SGD(learning_rate=0.0001, momentum=0.93),\n",
        "              loss='binary_crossentropy',\n",
        "              metrics=['accuracy', Precision(name='precision'), Recall(name='recall'), F1Score()])\n",
        "\n",
        "# Train the model with class weights\n",
        "history = model.fit(\n",
        "    train_generator,\n",
        "    validation_data=val_generator,\n",
        "    epochs=45,\n",
        "    class_weight = class_weights\n",
        ")\n",
        "\n",
        "# Evaluate on the validation set\n",
        "val_loss, val_accuracy, val_precision, val_recall, val_f1 = model.evaluate(val_generator)\n",
        "print(f'Validation Loss: {val_loss}')\n",
        "print(f'Validation Accuracy: {val_accuracy}')\n",
        "print(f'Validation Precision: {val_precision}')\n",
        "print(f'Validation Recall: {val_recall}')\n",
        "print(f'Validation F1-score: {val_f1}')\n",
        "\n",
        "# Model summary\n",
        "model.summary()\n",
        "model.save('defect_detection_VGG16.h5')\n",
        "\n",
        "# Plot training, validation accuracy/loss/recall/precision/f1-score\n",
        "plt.figure(figsize=(12, 4))\n",
        "plt.subplot(1, 2, 1)\n",
        "plt.plot(history.history['accuracy'])\n",
        "plt.plot(history.history['val_accuracy'])\n",
        "plt.title('Model Accuracy')\n",
        "plt.xlabel('Epoch')\n",
        "plt.ylabel('Accuracy')\n",
        "plt.legend(['Train', 'Validation'])\n",
        "\n",
        "plt.subplot(1, 2, 2)\n",
        "plt.plot(history.history['loss'])\n",
        "plt.plot(history.history['val_loss'])\n",
        "plt.title('Model Loss')\n",
        "plt.xlabel('Epoch')\n",
        "plt.ylabel('Loss')\n",
        "plt.legend(['Train', 'Validation'])\n",
        "plt.show()\n",
        "\n",
        "plt.figure(figsize=(12, 4))\n",
        "plt.subplot(1, 3, 1)\n",
        "plt.plot(history.history['precision'])\n",
        "plt.plot(history.history['val_precision'])\n",
        "plt.title('Precision')\n",
        "plt.xlabel('Epoch')\n",
        "plt.ylabel('Precision')\n",
        "plt.legend(['Train', 'Validation'])\n",
        "\n",
        "plt.subplot(1, 3, 2)\n",
        "plt.plot(history.history['recall'])\n",
        "plt.plot(history.history['val_recall'])\n",
        "plt.title('Recall')\n",
        "plt.xlabel('Epoch')\n",
        "plt.ylabel('Recall')\n",
        "plt.legend(['Train', 'Validation'])\n",
        "\n",
        "plt.subplot(1, 3, 3)\n",
        "plt.plot(history.history['f1_score'])\n",
        "plt.plot(history.history['val_f1_score'])\n",
        "plt.title('F1-score')\n",
        "plt.xlabel('Epoch')\n",
        "plt.ylabel('F1-score')\n",
        "plt.legend(['Train', 'Validation'])\n",
        "\n",
        "plt.tight_layout()\n",
        "plt.show()\n"
      ],
      "metadata": {
        "id": "QtNcyZ0_iRYL",
        "colab": {
          "base_uri": "https://localhost:8080/",
          "height": 1000
        },
        "outputId": "4bcd5402-a363-4ec6-da78-ffd7d6546f4a"
      },
      "execution_count": null,
      "outputs": [
        {
          "output_type": "stream",
          "name": "stdout",
          "text": [
            "Epoch 1/45\n",
            "\u001b[1m48/48\u001b[0m \u001b[32m━━━━━━━━━━━━━━━━━━━━\u001b[0m\u001b[37m\u001b[0m \u001b[1m17s\u001b[0m 219ms/step - accuracy: 0.3745 - f1_score: 0.3178 - loss: 5.6848 - precision: 0.3529 - recall: 0.3001 - val_accuracy: 0.4239 - val_f1_score: 0.0800 - val_loss: 5.5620 - val_precision: 0.3721 - val_recall: 0.0448\n",
            "Epoch 2/45\n",
            "\u001b[1m48/48\u001b[0m \u001b[32m━━━━━━━━━━━━━━━━━━━━\u001b[0m\u001b[37m\u001b[0m \u001b[1m6s\u001b[0m 120ms/step - accuracy: 0.4600 - f1_score: 0.3164 - loss: 5.5739 - precision: 0.5037 - recall: 0.2327 - val_accuracy: 0.3234 - val_f1_score: 0.3368 - val_loss: 5.5767 - val_precision: 0.4429 - val_recall: 0.2717\n",
            "Epoch 3/45\n",
            "\u001b[1m48/48\u001b[0m \u001b[32m━━━━━━━━━━━━━━━━━━━━\u001b[0m\u001b[37m\u001b[0m \u001b[1m7s\u001b[0m 121ms/step - accuracy: 0.4257 - f1_score: 0.2877 - loss: 5.5701 - precision: 0.4951 - recall: 0.2068 - val_accuracy: 0.5571 - val_f1_score: 0.2779 - val_loss: 5.4991 - val_precision: 0.7439 - val_recall: 0.1709\n",
            "Epoch 4/45\n",
            "\u001b[1m48/48\u001b[0m \u001b[32m━━━━━━━━━━━━━━━━━━━━\u001b[0m\u001b[37m\u001b[0m \u001b[1m7s\u001b[0m 122ms/step - accuracy: 0.4923 - f1_score: 0.3004 - loss: 5.5165 - precision: 0.5956 - recall: 0.2020 - val_accuracy: 0.5734 - val_f1_score: 0.3269 - val_loss: 5.4723 - val_precision: 0.7037 - val_recall: 0.2129\n",
            "Epoch 5/45\n",
            "\u001b[1m48/48\u001b[0m \u001b[32m━━━━━━━━━━━━━━━━━━━━\u001b[0m\u001b[37m\u001b[0m \u001b[1m7s\u001b[0m 124ms/step - accuracy: 0.5331 - f1_score: 0.4011 - loss: 5.4888 - precision: 0.6492 - recall: 0.2934 - val_accuracy: 0.5543 - val_f1_score: 0.3936 - val_loss: 5.4514 - val_precision: 0.6950 - val_recall: 0.2745\n",
            "Epoch 6/45\n",
            "\u001b[1m48/48\u001b[0m \u001b[32m━━━━━━━━━━━━━━━━━━━━\u001b[0m\u001b[37m\u001b[0m \u001b[1m7s\u001b[0m 129ms/step - accuracy: 0.4843 - f1_score: 0.3987 - loss: 5.4875 - precision: 0.6533 - recall: 0.2892 - val_accuracy: 0.5897 - val_f1_score: 0.4262 - val_loss: 5.4552 - val_precision: 0.7939 - val_recall: 0.2913\n",
            "Epoch 7/45\n",
            "\u001b[1m48/48\u001b[0m \u001b[32m━━━━━━━━━━━━━━━━━━━━\u001b[0m\u001b[37m\u001b[0m \u001b[1m7s\u001b[0m 127ms/step - accuracy: 0.6188 - f1_score: 0.5398 - loss: 5.4391 - precision: 0.7085 - recall: 0.4364 - val_accuracy: 0.5462 - val_f1_score: 0.5374 - val_loss: 5.4146 - val_precision: 0.6840 - val_recall: 0.4426\n",
            "Epoch 8/45\n",
            "\u001b[1m48/48\u001b[0m \u001b[32m━━━━━━━━━━━━━━━━━━━━\u001b[0m\u001b[37m\u001b[0m \u001b[1m7s\u001b[0m 123ms/step - accuracy: 0.5623 - f1_score: 0.4898 - loss: 5.4252 - precision: 0.7164 - recall: 0.3734 - val_accuracy: 0.5598 - val_f1_score: 0.5284 - val_loss: 5.3832 - val_precision: 0.7198 - val_recall: 0.4174\n",
            "Epoch 9/45\n",
            "\u001b[1m48/48\u001b[0m \u001b[32m━━━━━━━━━━━━━━━━━━━━\u001b[0m\u001b[37m\u001b[0m \u001b[1m7s\u001b[0m 123ms/step - accuracy: 0.5792 - f1_score: 0.5243 - loss: 5.3969 - precision: 0.6685 - recall: 0.4315 - val_accuracy: 0.6522 - val_f1_score: 0.5168 - val_loss: 5.3733 - val_precision: 0.7019 - val_recall: 0.4090\n",
            "Epoch 10/45\n",
            "\u001b[1m48/48\u001b[0m \u001b[32m━━━━━━━━━━━━━━━━━━━━\u001b[0m\u001b[37m\u001b[0m \u001b[1m7s\u001b[0m 124ms/step - accuracy: 0.5571 - f1_score: 0.5262 - loss: 5.3906 - precision: 0.6625 - recall: 0.4370 - val_accuracy: 0.5924 - val_f1_score: 0.4859 - val_loss: 5.3390 - val_precision: 0.6540 - val_recall: 0.3866\n",
            "Epoch 11/45\n",
            "\u001b[1m48/48\u001b[0m \u001b[32m━━━━━━━━━━━━━━━━━━━━\u001b[0m\u001b[37m\u001b[0m \u001b[1m7s\u001b[0m 124ms/step - accuracy: 0.6193 - f1_score: 0.5542 - loss: 5.3349 - precision: 0.6977 - recall: 0.4600 - val_accuracy: 0.5978 - val_f1_score: 0.5498 - val_loss: 5.3132 - val_precision: 0.7111 - val_recall: 0.4482\n",
            "Epoch 12/45\n",
            "\u001b[1m48/48\u001b[0m \u001b[32m━━━━━━━━━━━━━━━━━━━━\u001b[0m\u001b[37m\u001b[0m \u001b[1m7s\u001b[0m 126ms/step - accuracy: 0.6297 - f1_score: 0.6037 - loss: 5.2997 - precision: 0.7284 - recall: 0.5161 - val_accuracy: 0.6223 - val_f1_score: 0.5104 - val_loss: 5.3051 - val_precision: 0.6712 - val_recall: 0.4118\n",
            "Epoch 13/45\n",
            "\u001b[1m48/48\u001b[0m \u001b[32m━━━━━━━━━━━━━━━━━━━━\u001b[0m\u001b[37m\u001b[0m \u001b[1m6s\u001b[0m 118ms/step - accuracy: 0.6319 - f1_score: 0.5960 - loss: 5.2926 - precision: 0.7118 - recall: 0.5136 - val_accuracy: 0.5462 - val_f1_score: 0.5151 - val_loss: 5.2882 - val_precision: 0.6390 - val_recall: 0.4314\n",
            "Epoch 14/45\n",
            "\u001b[1m48/48\u001b[0m \u001b[32m━━━━━━━━━━━━━━━━━━━━\u001b[0m\u001b[37m\u001b[0m \u001b[1m7s\u001b[0m 121ms/step - accuracy: 0.7044 - f1_score: 0.6607 - loss: 5.2467 - precision: 0.7739 - recall: 0.5777 - val_accuracy: 0.7065 - val_f1_score: 0.6386 - val_loss: 5.2578 - val_precision: 0.7193 - val_recall: 0.5742\n",
            "Epoch 15/45\n",
            "\u001b[1m48/48\u001b[0m \u001b[32m━━━━━━━━━━━━━━━━━━━━\u001b[0m\u001b[37m\u001b[0m \u001b[1m7s\u001b[0m 124ms/step - accuracy: 0.6886 - f1_score: 0.6734 - loss: 5.2363 - precision: 0.7517 - recall: 0.6107 - val_accuracy: 0.6929 - val_f1_score: 0.5709 - val_loss: 5.2281 - val_precision: 0.7325 - val_recall: 0.4678\n",
            "Epoch 16/45\n",
            "\u001b[1m48/48\u001b[0m \u001b[32m━━━━━━━━━━━━━━━━━━━━\u001b[0m\u001b[37m\u001b[0m \u001b[1m7s\u001b[0m 122ms/step - accuracy: 0.7336 - f1_score: 0.6903 - loss: 5.2078 - precision: 0.7786 - recall: 0.6203 - val_accuracy: 0.6875 - val_f1_score: 0.6226 - val_loss: 5.2271 - val_precision: 0.7338 - val_recall: 0.5406\n",
            "Epoch 17/45\n",
            "\u001b[1m48/48\u001b[0m \u001b[32m━━━━━━━━━━━━━━━━━━━━\u001b[0m\u001b[37m\u001b[0m \u001b[1m7s\u001b[0m 121ms/step - accuracy: 0.7035 - f1_score: 0.6656 - loss: 5.2156 - precision: 0.7781 - recall: 0.5820 - val_accuracy: 0.6603 - val_f1_score: 0.6455 - val_loss: 5.2105 - val_precision: 0.7030 - val_recall: 0.5966\n",
            "Epoch 18/45\n",
            "\u001b[1m48/48\u001b[0m \u001b[32m━━━━━━━━━━━━━━━━━━━━\u001b[0m\u001b[37m\u001b[0m \u001b[1m7s\u001b[0m 123ms/step - accuracy: 0.7262 - f1_score: 0.7004 - loss: 5.1775 - precision: 0.7630 - recall: 0.6479 - val_accuracy: 0.6766 - val_f1_score: 0.6017 - val_loss: 5.2075 - val_precision: 0.7339 - val_recall: 0.5098\n",
            "Epoch 19/45\n",
            "\u001b[1m48/48\u001b[0m \u001b[32m━━━━━━━━━━━━━━━━━━━━\u001b[0m\u001b[37m\u001b[0m \u001b[1m6s\u001b[0m 120ms/step - accuracy: 0.6973 - f1_score: 0.6296 - loss: 5.1859 - precision: 0.7082 - recall: 0.5676 - val_accuracy: 0.6658 - val_f1_score: 0.5710 - val_loss: 5.1696 - val_precision: 0.6948 - val_recall: 0.4846\n",
            "Epoch 20/45\n",
            "\u001b[1m48/48\u001b[0m \u001b[32m━━━━━━━━━━━━━━━━━━━━\u001b[0m\u001b[37m\u001b[0m \u001b[1m7s\u001b[0m 121ms/step - accuracy: 0.6507 - f1_score: 0.6052 - loss: 5.1981 - precision: 0.6972 - recall: 0.5352 - val_accuracy: 0.7038 - val_f1_score: 0.6615 - val_loss: 5.1523 - val_precision: 0.7465 - val_recall: 0.5938\n",
            "Epoch 21/45\n",
            "\u001b[1m48/48\u001b[0m \u001b[32m━━━━━━━━━━━━━━━━━━━━\u001b[0m\u001b[37m\u001b[0m \u001b[1m7s\u001b[0m 125ms/step - accuracy: 0.7274 - f1_score: 0.7176 - loss: 5.1203 - precision: 0.7792 - recall: 0.6651 - val_accuracy: 0.6576 - val_f1_score: 0.6285 - val_loss: 5.1739 - val_precision: 0.7024 - val_recall: 0.5686\n",
            "Epoch 22/45\n",
            "\u001b[1m48/48\u001b[0m \u001b[32m━━━━━━━━━━━━━━━━━━━━\u001b[0m\u001b[37m\u001b[0m \u001b[1m7s\u001b[0m 123ms/step - accuracy: 0.7040 - f1_score: 0.6760 - loss: 5.1250 - precision: 0.7252 - recall: 0.6332 - val_accuracy: 0.7255 - val_f1_score: 0.6729 - val_loss: 5.1106 - val_precision: 0.7624 - val_recall: 0.6022\n",
            "Epoch 23/45\n",
            "\u001b[1m48/48\u001b[0m \u001b[32m━━━━━━━━━━━━━━━━━━━━\u001b[0m\u001b[37m\u001b[0m \u001b[1m7s\u001b[0m 119ms/step - accuracy: 0.7247 - f1_score: 0.7132 - loss: 5.0897 - precision: 0.7727 - recall: 0.6626 - val_accuracy: 0.6766 - val_f1_score: 0.6182 - val_loss: 5.1107 - val_precision: 0.6897 - val_recall: 0.5602\n",
            "Epoch 24/45\n",
            "\u001b[1m48/48\u001b[0m \u001b[32m━━━━━━━━━━━━━━━━━━━━\u001b[0m\u001b[37m\u001b[0m \u001b[1m7s\u001b[0m 119ms/step - accuracy: 0.7384 - f1_score: 0.7162 - loss: 5.0744 - precision: 0.7581 - recall: 0.6799 - val_accuracy: 0.7228 - val_f1_score: 0.6798 - val_loss: 5.1000 - val_precision: 0.7377 - val_recall: 0.6303\n",
            "Epoch 25/45\n",
            "\u001b[1m48/48\u001b[0m \u001b[32m━━━━━━━━━━━━━━━━━━━━\u001b[0m\u001b[37m\u001b[0m \u001b[1m7s\u001b[0m 123ms/step - accuracy: 0.7550 - f1_score: 0.7274 - loss: 5.0609 - precision: 0.7949 - recall: 0.6707 - val_accuracy: 0.6984 - val_f1_score: 0.6242 - val_loss: 5.0656 - val_precision: 0.7232 - val_recall: 0.5490\n",
            "Epoch 26/45\n",
            "\u001b[1m48/48\u001b[0m \u001b[32m━━━━━━━━━━━━━━━━━━━━\u001b[0m\u001b[37m\u001b[0m \u001b[1m7s\u001b[0m 119ms/step - accuracy: 0.6787 - f1_score: 0.6233 - loss: 5.0853 - precision: 0.7093 - recall: 0.5582 - val_accuracy: 0.7255 - val_f1_score: 0.6892 - val_loss: 5.0549 - val_precision: 0.7645 - val_recall: 0.6275\n",
            "Epoch 27/45\n",
            "\u001b[1m48/48\u001b[0m \u001b[32m━━━━━━━━━━━━━━━━━━━━\u001b[0m\u001b[37m\u001b[0m \u001b[1m7s\u001b[0m 124ms/step - accuracy: 0.7380 - f1_score: 0.7069 - loss: 5.0337 - precision: 0.7594 - recall: 0.6613 - val_accuracy: 0.7038 - val_f1_score: 0.7101 - val_loss: 5.0377 - val_precision: 0.7524 - val_recall: 0.6723\n",
            "Epoch 28/45\n",
            "\u001b[1m48/48\u001b[0m \u001b[32m━━━━━━━━━━━━━━━━━━━━\u001b[0m\u001b[37m\u001b[0m \u001b[1m7s\u001b[0m 119ms/step - accuracy: 0.7912 - f1_score: 0.7625 - loss: 4.9886 - precision: 0.7995 - recall: 0.7291 - val_accuracy: 0.6984 - val_f1_score: 0.6796 - val_loss: 5.0497 - val_precision: 0.7261 - val_recall: 0.6387\n",
            "Epoch 29/45\n",
            "\u001b[1m48/48\u001b[0m \u001b[32m━━━━━━━━━━━━━━━━━━━━\u001b[0m\u001b[37m\u001b[0m \u001b[1m7s\u001b[0m 121ms/step - accuracy: 0.7372 - f1_score: 0.7128 - loss: 4.9982 - precision: 0.7584 - recall: 0.6726 - val_accuracy: 0.7283 - val_f1_score: 0.6862 - val_loss: 5.0163 - val_precision: 0.7611 - val_recall: 0.6246\n",
            "Epoch 30/45\n",
            "\u001b[1m48/48\u001b[0m \u001b[32m━━━━━━━━━━━━━━━━━━━━\u001b[0m\u001b[37m\u001b[0m \u001b[1m7s\u001b[0m 126ms/step - accuracy: 0.7862 - f1_score: 0.7621 - loss: 4.9609 - precision: 0.8159 - recall: 0.7154 - val_accuracy: 0.7147 - val_f1_score: 0.7059 - val_loss: 5.0058 - val_precision: 0.7647 - val_recall: 0.6555\n",
            "Epoch 31/45\n",
            "\u001b[1m48/48\u001b[0m \u001b[32m━━━━━━━━━━━━━━━━━━━━\u001b[0m\u001b[37m\u001b[0m \u001b[1m7s\u001b[0m 128ms/step - accuracy: 0.7757 - f1_score: 0.7707 - loss: 4.9435 - precision: 0.8162 - recall: 0.7301 - val_accuracy: 0.7283 - val_f1_score: 0.7045 - val_loss: 4.9787 - val_precision: 0.7540 - val_recall: 0.6611\n",
            "Epoch 32/45\n",
            "\u001b[1m48/48\u001b[0m \u001b[32m━━━━━━━━━━━━━━━━━━━━\u001b[0m\u001b[37m\u001b[0m \u001b[1m7s\u001b[0m 122ms/step - accuracy: 0.7839 - f1_score: 0.7594 - loss: 4.9326 - precision: 0.7932 - recall: 0.7286 - val_accuracy: 0.6739 - val_f1_score: 0.6278 - val_loss: 5.0345 - val_precision: 0.6731 - val_recall: 0.5882\n",
            "Epoch 33/45\n",
            "\u001b[1m48/48\u001b[0m \u001b[32m━━━━━━━━━━━━━━━━━━━━\u001b[0m\u001b[37m\u001b[0m \u001b[1m7s\u001b[0m 124ms/step - accuracy: 0.7449 - f1_score: 0.7373 - loss: 4.9439 - precision: 0.7893 - recall: 0.6919 - val_accuracy: 0.7174 - val_f1_score: 0.6988 - val_loss: 4.9550 - val_precision: 0.7557 - val_recall: 0.6499\n",
            "Epoch 34/45\n",
            "\u001b[1m48/48\u001b[0m \u001b[32m━━━━━━━━━━━━━━━━━━━━\u001b[0m\u001b[37m\u001b[0m \u001b[1m7s\u001b[0m 122ms/step - accuracy: 0.8135 - f1_score: 0.8123 - loss: 4.8649 - precision: 0.8439 - recall: 0.7831 - val_accuracy: 0.7120 - val_f1_score: 0.6921 - val_loss: 4.9491 - val_precision: 0.7592 - val_recall: 0.6359\n",
            "Epoch 35/45\n",
            "\u001b[1m48/48\u001b[0m \u001b[32m━━━━━━━━━━━━━━━━━━━━\u001b[0m\u001b[37m\u001b[0m \u001b[1m7s\u001b[0m 122ms/step - accuracy: 0.7619 - f1_score: 0.7469 - loss: 4.9101 - precision: 0.7815 - recall: 0.7156 - val_accuracy: 0.6658 - val_f1_score: 0.6336 - val_loss: 4.9718 - val_precision: 0.7388 - val_recall: 0.5546\n",
            "Epoch 36/45\n",
            "\u001b[1m48/48\u001b[0m \u001b[32m━━━━━━━━━━━━━━━━━━━━\u001b[0m\u001b[37m\u001b[0m \u001b[1m7s\u001b[0m 120ms/step - accuracy: 0.7529 - f1_score: 0.7349 - loss: 4.8991 - precision: 0.7905 - recall: 0.6870 - val_accuracy: 0.7255 - val_f1_score: 0.7214 - val_loss: 4.9082 - val_precision: 0.7569 - val_recall: 0.6891\n",
            "Epoch 37/45\n",
            "\u001b[1m48/48\u001b[0m \u001b[32m━━━━━━━━━━━━━━━━━━━━\u001b[0m\u001b[37m\u001b[0m \u001b[1m7s\u001b[0m 120ms/step - accuracy: 0.7984 - f1_score: 0.7865 - loss: 4.8474 - precision: 0.8182 - recall: 0.7576 - val_accuracy: 0.7391 - val_f1_score: 0.7141 - val_loss: 4.8881 - val_precision: 0.7966 - val_recall: 0.6471\n",
            "Epoch 38/45\n",
            "\u001b[1m48/48\u001b[0m \u001b[32m━━━━━━━━━━━━━━━━━━━━\u001b[0m\u001b[37m\u001b[0m \u001b[1m7s\u001b[0m 122ms/step - accuracy: 0.8058 - f1_score: 0.7775 - loss: 4.8392 - precision: 0.8219 - recall: 0.7381 - val_accuracy: 0.7255 - val_f1_score: 0.7147 - val_loss: 4.8866 - val_precision: 0.7523 - val_recall: 0.6807\n",
            "Epoch 39/45\n",
            "\u001b[1m48/48\u001b[0m \u001b[32m━━━━━━━━━━━━━━━━━━━━\u001b[0m\u001b[37m\u001b[0m \u001b[1m7s\u001b[0m 121ms/step - accuracy: 0.7909 - f1_score: 0.7844 - loss: 4.8208 - precision: 0.8129 - recall: 0.7582 - val_accuracy: 0.6929 - val_f1_score: 0.6765 - val_loss: 4.9027 - val_precision: 0.7121 - val_recall: 0.6443\n",
            "Epoch 40/45\n",
            "\u001b[1m48/48\u001b[0m \u001b[32m━━━━━━━━━━━━━━━━━━━━\u001b[0m\u001b[37m\u001b[0m \u001b[1m7s\u001b[0m 124ms/step - accuracy: 0.7954 - f1_score: 0.7838 - loss: 4.8030 - precision: 0.8205 - recall: 0.7505 - val_accuracy: 0.7065 - val_f1_score: 0.7009 - val_loss: 4.8961 - val_precision: 0.7354 - val_recall: 0.6695\n",
            "Epoch 41/45\n",
            "\u001b[1m48/48\u001b[0m \u001b[32m━━━━━━━━━━━━━━━━━━━━\u001b[0m\u001b[37m\u001b[0m \u001b[1m7s\u001b[0m 126ms/step - accuracy: 0.8402 - f1_score: 0.8265 - loss: 4.7648 - precision: 0.8521 - recall: 0.8025 - val_accuracy: 0.7092 - val_f1_score: 0.6827 - val_loss: 4.8698 - val_precision: 0.7370 - val_recall: 0.6359\n",
            "Epoch 42/45\n",
            "\u001b[1m48/48\u001b[0m \u001b[32m━━━━━━━━━━━━━━━━━━━━\u001b[0m\u001b[37m\u001b[0m \u001b[1m7s\u001b[0m 124ms/step - accuracy: 0.8196 - f1_score: 0.7889 - loss: 4.7794 - precision: 0.8302 - recall: 0.7519 - val_accuracy: 0.7337 - val_f1_score: 0.7061 - val_loss: 4.8399 - val_precision: 0.7690 - val_recall: 0.6527\n",
            "Epoch 43/45\n",
            "\u001b[1m48/48\u001b[0m \u001b[32m━━━━━━━━━━━━━━━━━━━━\u001b[0m\u001b[37m\u001b[0m \u001b[1m7s\u001b[0m 124ms/step - accuracy: 0.8279 - f1_score: 0.8137 - loss: 4.7477 - precision: 0.8410 - recall: 0.7883 - val_accuracy: 0.7120 - val_f1_score: 0.6997 - val_loss: 4.8140 - val_precision: 0.7540 - val_recall: 0.6527\n",
            "Epoch 44/45\n",
            "\u001b[1m48/48\u001b[0m \u001b[32m━━━━━━━━━━━━━━━━━━━━\u001b[0m\u001b[37m\u001b[0m \u001b[1m7s\u001b[0m 127ms/step - accuracy: 0.7966 - f1_score: 0.7858 - loss: 4.7457 - precision: 0.8127 - recall: 0.7608 - val_accuracy: 0.7120 - val_f1_score: 0.6934 - val_loss: 4.8304 - val_precision: 0.7705 - val_recall: 0.6303\n",
            "Epoch 45/45\n",
            "\u001b[1m48/48\u001b[0m \u001b[32m━━━━━━━━━━━━━━━━━━━━\u001b[0m\u001b[37m\u001b[0m \u001b[1m7s\u001b[0m 121ms/step - accuracy: 0.7746 - f1_score: 0.7571 - loss: 4.7548 - precision: 0.8045 - recall: 0.7154 - val_accuracy: 0.7663 - val_f1_score: 0.7292 - val_loss: 4.7775 - val_precision: 0.7928 - val_recall: 0.6751\n",
            "\u001b[1m12/12\u001b[0m \u001b[32m━━━━━━━━━━━━━━━━━━━━\u001b[0m\u001b[37m\u001b[0m \u001b[1m1s\u001b[0m 101ms/step - accuracy: 0.7359 - f1_score: 0.7105 - loss: 4.8032 - precision: 0.7888 - recall: 0.6468\n",
            "Validation Loss: 4.777507781982422\n",
            "Validation Accuracy: 0.7663043737411499\n",
            "Validation Precision: 0.7927631735801697\n",
            "Validation Recall: 0.67507004737854\n",
            "Validation F1-score: 0.7291980981826782\n"
          ]
        },
        {
          "output_type": "display_data",
          "data": {
            "text/plain": [
              "\u001b[1mModel: \"sequential_12\"\u001b[0m\n"
            ],
            "text/html": [
              "<pre style=\"white-space:pre;overflow-x:auto;line-height:normal;font-family:Menlo,'DejaVu Sans Mono',consolas,'Courier New',monospace\"><span style=\"font-weight: bold\">Model: \"sequential_12\"</span>\n",
              "</pre>\n"
            ]
          },
          "metadata": {}
        },
        {
          "output_type": "display_data",
          "data": {
            "text/plain": [
              "┏━━━━━━━━━━━━━━━━━━━━━━━━━━━━━━━━━━━━━━┳━━━━━━━━━━━━━━━━━━━━━━━━━━━━━┳━━━━━━━━━━━━━━━━━┓\n",
              "┃\u001b[1m \u001b[0m\u001b[1mLayer (type)                        \u001b[0m\u001b[1m \u001b[0m┃\u001b[1m \u001b[0m\u001b[1mOutput Shape               \u001b[0m\u001b[1m \u001b[0m┃\u001b[1m \u001b[0m\u001b[1m        Param #\u001b[0m\u001b[1m \u001b[0m┃\n",
              "┡━━━━━━━━━━━━━━━━━━━━━━━━━━━━━━━━━━━━━━╇━━━━━━━━━━━━━━━━━━━━━━━━━━━━━╇━━━━━━━━━━━━━━━━━┩\n",
              "│ vgg16 (\u001b[38;5;33mFunctional\u001b[0m)                   │ (\u001b[38;5;45mNone\u001b[0m, \u001b[38;5;34m7\u001b[0m, \u001b[38;5;34m7\u001b[0m, \u001b[38;5;34m512\u001b[0m)           │      \u001b[38;5;34m14,714,688\u001b[0m │\n",
              "├──────────────────────────────────────┼─────────────────────────────┼─────────────────┤\n",
              "│ flatten_12 (\u001b[38;5;33mFlatten\u001b[0m)                 │ (\u001b[38;5;45mNone\u001b[0m, \u001b[38;5;34m25088\u001b[0m)               │               \u001b[38;5;34m0\u001b[0m │\n",
              "├──────────────────────────────────────┼─────────────────────────────┼─────────────────┤\n",
              "│ dense_24 (\u001b[38;5;33mDense\u001b[0m)                     │ (\u001b[38;5;45mNone\u001b[0m, \u001b[38;5;34m256\u001b[0m)                 │       \u001b[38;5;34m6,422,784\u001b[0m │\n",
              "├──────────────────────────────────────┼─────────────────────────────┼─────────────────┤\n",
              "│ dropout_12 (\u001b[38;5;33mDropout\u001b[0m)                 │ (\u001b[38;5;45mNone\u001b[0m, \u001b[38;5;34m256\u001b[0m)                 │               \u001b[38;5;34m0\u001b[0m │\n",
              "├──────────────────────────────────────┼─────────────────────────────┼─────────────────┤\n",
              "│ dense_25 (\u001b[38;5;33mDense\u001b[0m)                     │ (\u001b[38;5;45mNone\u001b[0m, \u001b[38;5;34m4\u001b[0m)                   │           \u001b[38;5;34m1,028\u001b[0m │\n",
              "└──────────────────────────────────────┴─────────────────────────────┴─────────────────┘\n"
            ],
            "text/html": [
              "<pre style=\"white-space:pre;overflow-x:auto;line-height:normal;font-family:Menlo,'DejaVu Sans Mono',consolas,'Courier New',monospace\">┏━━━━━━━━━━━━━━━━━━━━━━━━━━━━━━━━━━━━━━┳━━━━━━━━━━━━━━━━━━━━━━━━━━━━━┳━━━━━━━━━━━━━━━━━┓\n",
              "┃<span style=\"font-weight: bold\"> Layer (type)                         </span>┃<span style=\"font-weight: bold\"> Output Shape                </span>┃<span style=\"font-weight: bold\">         Param # </span>┃\n",
              "┡━━━━━━━━━━━━━━━━━━━━━━━━━━━━━━━━━━━━━━╇━━━━━━━━━━━━━━━━━━━━━━━━━━━━━╇━━━━━━━━━━━━━━━━━┩\n",
              "│ vgg16 (<span style=\"color: #0087ff; text-decoration-color: #0087ff\">Functional</span>)                   │ (<span style=\"color: #00d7ff; text-decoration-color: #00d7ff\">None</span>, <span style=\"color: #00af00; text-decoration-color: #00af00\">7</span>, <span style=\"color: #00af00; text-decoration-color: #00af00\">7</span>, <span style=\"color: #00af00; text-decoration-color: #00af00\">512</span>)           │      <span style=\"color: #00af00; text-decoration-color: #00af00\">14,714,688</span> │\n",
              "├──────────────────────────────────────┼─────────────────────────────┼─────────────────┤\n",
              "│ flatten_12 (<span style=\"color: #0087ff; text-decoration-color: #0087ff\">Flatten</span>)                 │ (<span style=\"color: #00d7ff; text-decoration-color: #00d7ff\">None</span>, <span style=\"color: #00af00; text-decoration-color: #00af00\">25088</span>)               │               <span style=\"color: #00af00; text-decoration-color: #00af00\">0</span> │\n",
              "├──────────────────────────────────────┼─────────────────────────────┼─────────────────┤\n",
              "│ dense_24 (<span style=\"color: #0087ff; text-decoration-color: #0087ff\">Dense</span>)                     │ (<span style=\"color: #00d7ff; text-decoration-color: #00d7ff\">None</span>, <span style=\"color: #00af00; text-decoration-color: #00af00\">256</span>)                 │       <span style=\"color: #00af00; text-decoration-color: #00af00\">6,422,784</span> │\n",
              "├──────────────────────────────────────┼─────────────────────────────┼─────────────────┤\n",
              "│ dropout_12 (<span style=\"color: #0087ff; text-decoration-color: #0087ff\">Dropout</span>)                 │ (<span style=\"color: #00d7ff; text-decoration-color: #00d7ff\">None</span>, <span style=\"color: #00af00; text-decoration-color: #00af00\">256</span>)                 │               <span style=\"color: #00af00; text-decoration-color: #00af00\">0</span> │\n",
              "├──────────────────────────────────────┼─────────────────────────────┼─────────────────┤\n",
              "│ dense_25 (<span style=\"color: #0087ff; text-decoration-color: #0087ff\">Dense</span>)                     │ (<span style=\"color: #00d7ff; text-decoration-color: #00d7ff\">None</span>, <span style=\"color: #00af00; text-decoration-color: #00af00\">4</span>)                   │           <span style=\"color: #00af00; text-decoration-color: #00af00\">1,028</span> │\n",
              "└──────────────────────────────────────┴─────────────────────────────┴─────────────────┘\n",
              "</pre>\n"
            ]
          },
          "metadata": {}
        },
        {
          "output_type": "display_data",
          "data": {
            "text/plain": [
              "\u001b[1m Total params: \u001b[0m\u001b[38;5;34m42,277,002\u001b[0m (161.27 MB)\n"
            ],
            "text/html": [
              "<pre style=\"white-space:pre;overflow-x:auto;line-height:normal;font-family:Menlo,'DejaVu Sans Mono',consolas,'Courier New',monospace\"><span style=\"font-weight: bold\"> Total params: </span><span style=\"color: #00af00; text-decoration-color: #00af00\">42,277,002</span> (161.27 MB)\n",
              "</pre>\n"
            ]
          },
          "metadata": {}
        },
        {
          "output_type": "display_data",
          "data": {
            "text/plain": [
              "\u001b[1m Trainable params: \u001b[0m\u001b[38;5;34m21,138,500\u001b[0m (80.64 MB)\n"
            ],
            "text/html": [
              "<pre style=\"white-space:pre;overflow-x:auto;line-height:normal;font-family:Menlo,'DejaVu Sans Mono',consolas,'Courier New',monospace\"><span style=\"font-weight: bold\"> Trainable params: </span><span style=\"color: #00af00; text-decoration-color: #00af00\">21,138,500</span> (80.64 MB)\n",
              "</pre>\n"
            ]
          },
          "metadata": {}
        },
        {
          "output_type": "display_data",
          "data": {
            "text/plain": [
              "\u001b[1m Non-trainable params: \u001b[0m\u001b[38;5;34m0\u001b[0m (0.00 B)\n"
            ],
            "text/html": [
              "<pre style=\"white-space:pre;overflow-x:auto;line-height:normal;font-family:Menlo,'DejaVu Sans Mono',consolas,'Courier New',monospace\"><span style=\"font-weight: bold\"> Non-trainable params: </span><span style=\"color: #00af00; text-decoration-color: #00af00\">0</span> (0.00 B)\n",
              "</pre>\n"
            ]
          },
          "metadata": {}
        },
        {
          "output_type": "display_data",
          "data": {
            "text/plain": [
              "\u001b[1m Optimizer params: \u001b[0m\u001b[38;5;34m21,138,502\u001b[0m (80.64 MB)\n"
            ],
            "text/html": [
              "<pre style=\"white-space:pre;overflow-x:auto;line-height:normal;font-family:Menlo,'DejaVu Sans Mono',consolas,'Courier New',monospace\"><span style=\"font-weight: bold\"> Optimizer params: </span><span style=\"color: #00af00; text-decoration-color: #00af00\">21,138,502</span> (80.64 MB)\n",
              "</pre>\n"
            ]
          },
          "metadata": {}
        },
        {
          "output_type": "stream",
          "name": "stderr",
          "text": [
            "WARNING:absl:You are saving your model as an HDF5 file via `model.save()` or `keras.saving.save_model(model)`. This file format is considered legacy. We recommend using instead the native Keras format, e.g. `model.save('my_model.keras')` or `keras.saving.save_model(model, 'my_model.keras')`. \n"
          ]
        },
        {
          "output_type": "display_data",
          "data": {
            "text/plain": [
              "<Figure size 1200x400 with 2 Axes>"
            ],
            "image/png": "[encoded data removed]"
          },
          "metadata": {}
        },
        {
          "output_type": "display_data",
          "data": {
            "text/plain": [
              "<Figure size 1200x400 with 3 Axes>"
            ],
            "image/png": "[encoded data removed]"
          },
          "metadata": {}
        }
      ]
    },
    {
      "cell_type": "markdown",
      "source": [
        "Analysing an image of our choice"
      ],
      "metadata": {
        "id": "MdAcblBpjZNK"
      }
    },
    {
      "cell_type": "code",
      "source": [
        "from tensorflow.keras.preprocessing.image import load_img, img_to_array\n",
        "import numpy as np\n",
        "import matplotlib.pyplot as plt\n",
        "\n",
        "def predict_defects_on_image(model, img_path, class_labels, threshold=0.5):\n",
        "    # Load and preprocess the image\n",
        "    img = load_img(img_path, target_size=(224, 224))  # Resize to match model input size\n",
        "    img_array = img_to_array(img) / 255.0  # Normalize pixel values\n",
        "    img_array = np.expand_dims(img_array, axis=0)  # Add batch dimension\n",
        "\n",
        "    # Model prediction (multi-label)\n",
        "    predictions = model.predict(img_array)[0]\n",
        "\n",
        "    # Apply threshold to determine which defects are present and count occurrences\n",
        "    present_defects = {label: (prob, 1) for label, prob in zip(class_labels, predictions) if prob >= threshold}\n",
        "\n",
        "    return present_defects, img\n",
        "\n",
        "# Example usage\n",
        "class_labels = ['hole', 'scratch', 'overflow', 'unrecognisable']  # Your defect labels\n",
        "image_path = '/content/gdrive/MyDrive/Colab Notebooks/Yolo/Data/images/classification/defect/cast_def_0_9520.jpeg'\n",
        "\n",
        "# Get the predictions and the loaded image\n",
        "predicted_defects, img = predict_defects_on_image(model, image_path, class_labels)\n",
        "\n",
        "# Display results\n",
        "if predicted_defects:\n",
        "    print(f\"Defects detected: {len(predicted_defects)}\")\n",
        "    for defect, (probability, count) in predicted_defects.items():\n",
        "        print(f\"{defect}: {probability:.2f} ({count} occurrence{'s' if count > 1 else ''})\")\n",
        "else:\n",
        "    print(\"No defects detected.\")\n",
        "\n",
        "# Display the image\n",
        "plt.figure(figsize=(6, 6))\n",
        "plt.imshow(img)\n",
        "plt.axis('off')  # Hide the axis\n",
        "plt.show()\n"
      ],
      "metadata": {
        "id": "iwwDNseGtP5H",
        "outputId": "48f65714-1569-4093-f51e-ea6b49fd9a33",
        "colab": {
          "base_uri": "https://localhost:8080/",
          "height": 551
        }
      },
      "execution_count": null,
      "outputs": [
        {
          "output_type": "stream",
          "name": "stdout",
          "text": [
            "\u001b[1m1/1\u001b[0m \u001b[32m━━━━━━━━━━━━━━━━━━━━\u001b[0m\u001b[37m\u001b[0m \u001b[1m0s\u001b[0m 381ms/step\n",
            "Defects detected: 1\n",
            "hole: 0.75 (1 occurrence)\n"
          ]
        },
        {
          "output_type": "display_data",
          "data": {
            "text/plain": [
              "<Figure size 600x600 with 1 Axes>"
            ],
            "image/png": "[encoded data removed]"
          },
          "metadata": {}
        }
      ]
    },
    {
      "cell_type": "markdown",
      "source": [
        "Analysing all the test images\n",
        "\n",
        "\n",
        "\n"
      ],
      "metadata": {
        "id": "xbDs4N5yjcoV"
      }
    },
    {
      "cell_type": "code",
      "source": [
        "import os\n",
        "from tensorflow.keras.preprocessing.image import load_img, img_to_array\n",
        "import numpy as np\n",
        "import json\n",
        "\n",
        "def predict_defects_on_image(model, img_path, class_labels, threshold=0.5):\n",
        "    # Load and preprocess the image\n",
        "    img = load_img(img_path, target_size=(224, 224))  # Resize to match model input size\n",
        "    img_array = img_to_array(img) / 255.0  # Normalize pixel values\n",
        "    img_array = np.expand_dims(img_array, axis=0)  # Add batch dimension\n",
        "\n",
        "    # Model prediction (multi-label)\n",
        "    predictions = model.predict(img_array)[0]\n",
        "\n",
        "    # Apply threshold to determine which defects are present and count occurrences\n",
        "    present_defects = {label: (float(prob), 1) for label, prob in zip(class_labels, predictions) if prob >= threshold}\n",
        "\n",
        "    return present_defects\n",
        "\n",
        "# Function to process an entire folder of images\n",
        "def predict_defects_in_folder(model, folder_path, class_labels, threshold=0.5):\n",
        "    results = {}\n",
        "    defect_count = {label: 0 for label in class_labels}  # Initialize the defect count dictionary\n",
        "\n",
        "    for filename in os.listdir(folder_path):\n",
        "        if filename.lower().endswith(('.png', '.jpg', '.jpeg')):  # Filter for image files\n",
        "            img_path = os.path.join(folder_path, filename)\n",
        "            predicted_defects = predict_defects_on_image(model, img_path, class_labels, threshold)\n",
        "\n",
        "            # Store the results for each image\n",
        "            results[filename] = predicted_defects\n",
        "\n",
        "            # Count occurrences of each defect\n",
        "            if predicted_defects:\n",
        "                print(f\"\\nDefects detected in {filename}: {len(predicted_defects)}\")\n",
        "                for defect, (probability, count) in predicted_defects.items():\n",
        "                    print(f\"{defect}: {probability:.2f} ({count} occurrence{'s' if count > 1 else ''})\")\n",
        "                    defect_count[defect] += count  # Increment defect count\n",
        "            else:\n",
        "                print(f\"\\nNo defects detected in {filename}.\")\n",
        "\n",
        "    return results, defect_count\n",
        "\n",
        "# Example usage\n",
        "class_labels = ['hole', 'scratch', 'overflow', 'unrecognisable']  # Your defect labels\n",
        "folder_path = '/content/gdrive/MyDrive/Colab Notebooks/Yolo/Data/images/classification/defect'  # Path to the folder with images\n",
        "predictions, total_defect_count = predict_defects_in_folder(model, folder_path, class_labels)\n",
        "\n",
        "# Optional: Save the results to a file\n",
        "with open('defect_predictions.json', 'w') as f:\n",
        "    json.dump(predictions, f, indent=4)\n",
        "\n",
        "# Print the total defect count across all images\n",
        "print(\"\\nTotal defect occurrences across all images:\")\n",
        "for defect, count in total_defect_count.items():\n",
        "    print(f\"{defect}: {count} occurrence{'s' if count > 1 else ''}\")\n"
      ],
      "metadata": {
        "colab": {
          "base_uri": "https://localhost:8080/"
        },
        "id": "1PEStGmAkFK4",
        "outputId": "6ebc8e34-98d0-4bbd-f3f9-38a4ba97cc3d"
      },
      "execution_count": null,
      "outputs": [
        {
          "output_type": "stream",
          "name": "stdout",
          "text": [
            "\u001b[1m1/1\u001b[0m \u001b[32m━━━━━━━━━━━━━━━━━━━━\u001b[0m\u001b[37m\u001b[0m \u001b[1m0s\u001b[0m 20ms/step\n",
            "\n",
            "Defects detected in cast_def_0_9683_crop_defect_8.jpg: 1\n",
            "overflow: 0.81 (1 occurrence)\n",
            "\u001b[1m1/1\u001b[0m \u001b[32m━━━━━━━━━━━━━━━━━━━━\u001b[0m\u001b[37m\u001b[0m \u001b[1m0s\u001b[0m 19ms/step\n",
            "\n",
            "Defects detected in cast_def_0_9683_crop_defect_9.jpg: 1\n",
            "overflow: 0.71 (1 occurrence)\n",
            "\u001b[1m1/1\u001b[0m \u001b[32m━━━━━━━━━━━━━━━━━━━━\u001b[0m\u001b[37m\u001b[0m \u001b[1m0s\u001b[0m 21ms/step\n",
            "\n",
            "Defects detected in cast_def_0_9737_crop_defect_1.jpg: 1\n",
            "overflow: 0.64 (1 occurrence)\n",
            "\u001b[1m1/1\u001b[0m \u001b[32m━━━━━━━━━━━━━━━━━━━━\u001b[0m\u001b[37m\u001b[0m \u001b[1m0s\u001b[0m 20ms/step\n",
            "\n",
            "Defects detected in cast_def_0_9836_crop_defect_5.jpg: 1\n",
            "overflow: 0.67 (1 occurrence)\n",
            "\u001b[1m1/1\u001b[0m \u001b[32m━━━━━━━━━━━━━━━━━━━━\u001b[0m\u001b[37m\u001b[0m \u001b[1m0s\u001b[0m 21ms/step\n",
            "\n",
            "Defects detected in cast_def_0_9836_crop_defect_6.jpg: 1\n",
            "overflow: 0.70 (1 occurrence)\n",
            "\u001b[1m1/1\u001b[0m \u001b[32m━━━━━━━━━━━━━━━━━━━━\u001b[0m\u001b[37m\u001b[0m \u001b[1m0s\u001b[0m 20ms/step\n",
            "\n",
            "Defects detected in cast_def_0_9857_crop_defect_1.jpg: 1\n",
            "overflow: 0.69 (1 occurrence)\n",
            "\u001b[1m1/1\u001b[0m \u001b[32m━━━━━━━━━━━━━━━━━━━━\u001b[0m\u001b[37m\u001b[0m \u001b[1m0s\u001b[0m 21ms/step\n",
            "\n",
            "Defects detected in cast_def_0_9877_crop_defect_1.jpg: 1\n",
            "overflow: 0.68 (1 occurrence)\n",
            "\u001b[1m1/1\u001b[0m \u001b[32m━━━━━━━━━━━━━━━━━━━━\u001b[0m\u001b[37m\u001b[0m \u001b[1m0s\u001b[0m 22ms/step\n",
            "\n",
            "Defects detected in cast_def_0_9879_crop_defect_1.jpg: 1\n",
            "overflow: 0.65 (1 occurrence)\n",
            "\u001b[1m1/1\u001b[0m \u001b[32m━━━━━━━━━━━━━━━━━━━━\u001b[0m\u001b[37m\u001b[0m \u001b[1m0s\u001b[0m 21ms/step\n",
            "\n",
            "Defects detected in cast_def_0_9980_crop_defect_6.jpg: 1\n",
            "overflow: 0.61 (1 occurrence)\n",
            "\u001b[1m1/1\u001b[0m \u001b[32m━━━━━━━━━━━━━━━━━━━━\u001b[0m\u001b[37m\u001b[0m \u001b[1m0s\u001b[0m 20ms/step\n",
            "\n",
            "Defects detected in cast_ok_0_9366_crop_defect_1.jpg: 1\n",
            "overflow: 0.53 (1 occurrence)\n",
            "\u001b[1m1/1\u001b[0m \u001b[32m━━━━━━━━━━━━━━━━━━━━\u001b[0m\u001b[37m\u001b[0m \u001b[1m0s\u001b[0m 20ms/step\n",
            "\n",
            "Defects detected in median_cast_def_0_319_crop_defect_5.jpg: 1\n",
            "overflow: 0.62 (1 occurrence)\n",
            "\u001b[1m1/1\u001b[0m \u001b[32m━━━━━━━━━━━━━━━━━━━━\u001b[0m\u001b[37m\u001b[0m \u001b[1m0s\u001b[0m 20ms/step\n",
            "\n",
            "Defects detected in median_cast_def_0_320_crop_defect_8.jpg: 1\n",
            "overflow: 0.68 (1 occurrence)\n",
            "\u001b[1m1/1\u001b[0m \u001b[32m━━━━━━━━━━━━━━━━━━━━\u001b[0m\u001b[37m\u001b[0m \u001b[1m0s\u001b[0m 19ms/step\n",
            "\n",
            "Defects detected in median_cast_def_0_324_crop_defect_8.jpg: 1\n",
            "overflow: 0.68 (1 occurrence)\n",
            "\u001b[1m1/1\u001b[0m \u001b[32m━━━━━━━━━━━━━━━━━━━━\u001b[0m\u001b[37m\u001b[0m \u001b[1m0s\u001b[0m 20ms/step\n",
            "\n",
            "Defects detected in median_cast_def_0_324_crop_defect_9.jpg: 1\n",
            "overflow: 0.73 (1 occurrence)\n",
            "\u001b[1m1/1\u001b[0m \u001b[32m━━━━━━━━━━━━━━━━━━━━\u001b[0m\u001b[37m\u001b[0m \u001b[1m0s\u001b[0m 20ms/step\n",
            "\n",
            "Defects detected in median_cast_def_0_327_crop_defect_1.jpg: 1\n",
            "overflow: 0.65 (1 occurrence)\n",
            "\u001b[1m1/1\u001b[0m \u001b[32m━━━━━━━━━━━━━━━━━━━━\u001b[0m\u001b[37m\u001b[0m \u001b[1m0s\u001b[0m 20ms/step\n",
            "\n",
            "Defects detected in median_cast_def_0_331_crop_defect_2.jpg: 1\n",
            "overflow: 0.64 (1 occurrence)\n",
            "\u001b[1m1/1\u001b[0m \u001b[32m━━━━━━━━━━━━━━━━━━━━\u001b[0m\u001b[37m\u001b[0m \u001b[1m0s\u001b[0m 22ms/step\n",
            "\n",
            "Defects detected in median_cast_def_0_335_crop_defect_1.jpg: 1\n",
            "overflow: 0.66 (1 occurrence)\n",
            "\u001b[1m1/1\u001b[0m \u001b[32m━━━━━━━━━━━━━━━━━━━━\u001b[0m\u001b[37m\u001b[0m \u001b[1m0s\u001b[0m 22ms/step\n",
            "\n",
            "Defects detected in median_cast_def_0_335_crop_defect_2.jpg: 1\n",
            "overflow: 0.69 (1 occurrence)\n",
            "\u001b[1m1/1\u001b[0m \u001b[32m━━━━━━━━━━━━━━━━━━━━\u001b[0m\u001b[37m\u001b[0m \u001b[1m0s\u001b[0m 21ms/step\n",
            "\n",
            "Defects detected in median_cast_def_0_337_crop_defect_3.jpg: 1\n",
            "overflow: 0.68 (1 occurrence)\n",
            "\u001b[1m1/1\u001b[0m \u001b[32m━━━━━━━━━━━━━━━━━━━━\u001b[0m\u001b[37m\u001b[0m \u001b[1m0s\u001b[0m 22ms/step\n",
            "\n",
            "Defects detected in median_cast_def_0_337_crop_defect_4.jpg: 1\n",
            "overflow: 0.71 (1 occurrence)\n",
            "\u001b[1m1/1\u001b[0m \u001b[32m━━━━━━━━━━━━━━━━━━━━\u001b[0m\u001b[37m\u001b[0m \u001b[1m0s\u001b[0m 20ms/step\n",
            "\n",
            "Defects detected in median_cast_def_0_337_crop_defect_5.jpg: 1\n",
            "overflow: 0.70 (1 occurrence)\n",
            "\u001b[1m1/1\u001b[0m \u001b[32m━━━━━━━━━━━━━━━━━━━━\u001b[0m\u001b[37m\u001b[0m \u001b[1m0s\u001b[0m 20ms/step\n",
            "\n",
            "Defects detected in median_cast_def_0_350_crop_defect_9.jpg: 1\n",
            "overflow: 0.68 (1 occurrence)\n",
            "\u001b[1m1/1\u001b[0m \u001b[32m━━━━━━━━━━━━━━━━━━━━\u001b[0m\u001b[37m\u001b[0m \u001b[1m0s\u001b[0m 19ms/step\n",
            "\n",
            "Defects detected in median_cast_def_0_354_crop_defect_2.jpg: 1\n",
            "overflow: 0.69 (1 occurrence)\n",
            "\u001b[1m1/1\u001b[0m \u001b[32m━━━━━━━━━━━━━━━━━━━━\u001b[0m\u001b[37m\u001b[0m \u001b[1m0s\u001b[0m 20ms/step\n",
            "\n",
            "Defects detected in median_cast_def_0_354_crop_defect_3.jpg: 1\n",
            "overflow: 0.64 (1 occurrence)\n",
            "\u001b[1m1/1\u001b[0m \u001b[32m━━━━━━━━━━━━━━━━━━━━\u001b[0m\u001b[37m\u001b[0m \u001b[1m0s\u001b[0m 21ms/step\n",
            "\n",
            "Defects detected in median_cast_def_0_355_crop_defect_6.jpg: 1\n",
            "overflow: 0.65 (1 occurrence)\n",
            "\u001b[1m1/1\u001b[0m \u001b[32m━━━━━━━━━━━━━━━━━━━━\u001b[0m\u001b[37m\u001b[0m \u001b[1m0s\u001b[0m 21ms/step\n",
            "\n",
            "Defects detected in median_cast_def_0_355_crop_defect_7.jpg: 1\n",
            "overflow: 0.67 (1 occurrence)\n",
            "\u001b[1m1/1\u001b[0m \u001b[32m━━━━━━━━━━━━━━━━━━━━\u001b[0m\u001b[37m\u001b[0m \u001b[1m0s\u001b[0m 20ms/step\n",
            "\n",
            "Defects detected in median_cast_def_0_363_crop_defect_2.jpg: 1\n",
            "overflow: 0.68 (1 occurrence)\n",
            "\u001b[1m1/1\u001b[0m \u001b[32m━━━━━━━━━━━━━━━━━━━━\u001b[0m\u001b[37m\u001b[0m \u001b[1m0s\u001b[0m 19ms/step\n",
            "\n",
            "Defects detected in median_cast_def_0_372_crop_defect_5.jpg: 1\n",
            "overflow: 0.69 (1 occurrence)\n",
            "\u001b[1m1/1\u001b[0m \u001b[32m━━━━━━━━━━━━━━━━━━━━\u001b[0m\u001b[37m\u001b[0m \u001b[1m0s\u001b[0m 20ms/step\n",
            "\n",
            "Defects detected in salt_pepper_cast_def_0_95_crop_defect_0.jpg: 1\n",
            "overflow: 0.92 (1 occurrence)\n",
            "\u001b[1m1/1\u001b[0m \u001b[32m━━━━━━━━━━━━━━━━━━━━\u001b[0m\u001b[37m\u001b[0m \u001b[1m0s\u001b[0m 20ms/step\n",
            "\n",
            "Defects detected in cast_def_0_9613.jpeg: 1\n",
            "hole: 0.73 (1 occurrence)\n",
            "\u001b[1m1/1\u001b[0m \u001b[32m━━━━━━━━━━━━━━━━━━━━\u001b[0m\u001b[37m\u001b[0m \u001b[1m0s\u001b[0m 21ms/step\n",
            "\n",
            "Defects detected in cast_ok_0_9366.jpeg: 1\n",
            "unrecognisable: 0.63 (1 occurrence)\n",
            "\u001b[1m1/1\u001b[0m \u001b[32m━━━━━━━━━━━━━━━━━━━━\u001b[0m\u001b[37m\u001b[0m \u001b[1m0s\u001b[0m 20ms/step\n",
            "\n",
            "Defects detected in cast_def_0_9640.jpeg: 1\n",
            "unrecognisable: 0.65 (1 occurrence)\n",
            "\u001b[1m1/1\u001b[0m \u001b[32m━━━━━━━━━━━━━━━━━━━━\u001b[0m\u001b[37m\u001b[0m \u001b[1m0s\u001b[0m 22ms/step\n",
            "\n",
            "Defects detected in cast_def_0_9520.jpeg: 1\n",
            "hole: 0.75 (1 occurrence)\n",
            "\u001b[1m1/1\u001b[0m \u001b[32m━━━━━━━━━━━━━━━━━━━━\u001b[0m\u001b[37m\u001b[0m \u001b[1m0s\u001b[0m 23ms/step\n",
            "\n",
            "Defects detected in cast_def_0_9637.jpeg: 1\n",
            "hole: 0.57 (1 occurrence)\n",
            "\u001b[1m1/1\u001b[0m \u001b[32m━━━━━━━━━━━━━━━━━━━━\u001b[0m\u001b[37m\u001b[0m \u001b[1m0s\u001b[0m 22ms/step\n",
            "\n",
            "No defects detected in cast_def_0_9643.jpeg.\n",
            "\u001b[1m1/1\u001b[0m \u001b[32m━━━━━━━━━━━━━━━━━━━━\u001b[0m\u001b[37m\u001b[0m \u001b[1m0s\u001b[0m 21ms/step\n",
            "\n",
            "No defects detected in cast_def_0_9644.jpeg.\n",
            "\u001b[1m1/1\u001b[0m \u001b[32m━━━━━━━━━━━━━━━━━━━━\u001b[0m\u001b[37m\u001b[0m \u001b[1m0s\u001b[0m 21ms/step\n",
            "\n",
            "Defects detected in cast_def_0_9669.jpeg: 1\n",
            "overflow: 0.90 (1 occurrence)\n",
            "\u001b[1m1/1\u001b[0m \u001b[32m━━━━━━━━━━━━━━━━━━━━\u001b[0m\u001b[37m\u001b[0m \u001b[1m0s\u001b[0m 22ms/step\n",
            "\n",
            "Defects detected in cast_def_0_9683.jpeg: 1\n",
            "overflow: 0.73 (1 occurrence)\n",
            "\u001b[1m1/1\u001b[0m \u001b[32m━━━━━━━━━━━━━━━━━━━━\u001b[0m\u001b[37m\u001b[0m \u001b[1m0s\u001b[0m 22ms/step\n",
            "\n",
            "No defects detected in cast_def_0_9687.jpeg.\n",
            "\u001b[1m1/1\u001b[0m \u001b[32m━━━━━━━━━━━━━━━━━━━━\u001b[0m\u001b[37m\u001b[0m \u001b[1m0s\u001b[0m 21ms/step\n",
            "\n",
            "Defects detected in cast_def_0_9750.jpeg: 2\n",
            "hole: 0.55 (1 occurrence)\n",
            "unrecognisable: 0.64 (1 occurrence)\n",
            "\u001b[1m1/1\u001b[0m \u001b[32m━━━━━━━━━━━━━━━━━━━━\u001b[0m\u001b[37m\u001b[0m \u001b[1m0s\u001b[0m 23ms/step\n",
            "\n",
            "Defects detected in cast_def_0_9737.jpeg: 1\n",
            "unrecognisable: 0.58 (1 occurrence)\n",
            "\u001b[1m1/1\u001b[0m \u001b[32m━━━━━━━━━━━━━━━━━━━━\u001b[0m\u001b[37m\u001b[0m \u001b[1m0s\u001b[0m 28ms/step\n",
            "\n",
            "Defects detected in cast_def_0_9755.jpeg: 1\n",
            "unrecognisable: 0.63 (1 occurrence)\n",
            "\u001b[1m1/1\u001b[0m \u001b[32m━━━━━━━━━━━━━━━━━━━━\u001b[0m\u001b[37m\u001b[0m \u001b[1m0s\u001b[0m 21ms/step\n",
            "\n",
            "Defects detected in cast_ok_0_93.jpeg: 1\n",
            "unrecognisable: 0.81 (1 occurrence)\n",
            "\u001b[1m1/1\u001b[0m \u001b[32m━━━━━━━━━━━━━━━━━━━━\u001b[0m\u001b[37m\u001b[0m \u001b[1m0s\u001b[0m 23ms/step\n",
            "\n",
            "Defects detected in cast_def_0_976.jpeg: 1\n",
            "hole: 0.73 (1 occurrence)\n",
            "\u001b[1m1/1\u001b[0m \u001b[32m━━━━━━━━━━━━━━━━━━━━\u001b[0m\u001b[37m\u001b[0m \u001b[1m0s\u001b[0m 20ms/step\n",
            "\n",
            "Defects detected in cast_def_0_9780.jpeg: 1\n",
            "overflow: 0.81 (1 occurrence)\n",
            "\u001b[1m1/1\u001b[0m \u001b[32m━━━━━━━━━━━━━━━━━━━━\u001b[0m\u001b[37m\u001b[0m \u001b[1m0s\u001b[0m 21ms/step\n",
            "\n",
            "Defects detected in cast_def_0_9817.jpeg: 1\n",
            "overflow: 0.96 (1 occurrence)\n",
            "\u001b[1m1/1\u001b[0m \u001b[32m━━━━━━━━━━━━━━━━━━━━\u001b[0m\u001b[37m\u001b[0m \u001b[1m0s\u001b[0m 22ms/step\n",
            "\n",
            "Defects detected in cast_def_0_9836.jpeg: 1\n",
            "overflow: 0.54 (1 occurrence)\n",
            "\u001b[1m1/1\u001b[0m \u001b[32m━━━━━━━━━━━━━━━━━━━━\u001b[0m\u001b[37m\u001b[0m \u001b[1m0s\u001b[0m 23ms/step\n",
            "\n",
            "Defects detected in cast_ok_0_9494.jpeg: 1\n",
            "unrecognisable: 0.91 (1 occurrence)\n",
            "\u001b[1m1/1\u001b[0m \u001b[32m━━━━━━━━━━━━━━━━━━━━\u001b[0m\u001b[37m\u001b[0m \u001b[1m0s\u001b[0m 21ms/step\n",
            "\n",
            "Defects detected in cast_def_0_9854.jpeg: 2\n",
            "hole: 0.55 (1 occurrence)\n",
            "unrecognisable: 0.61 (1 occurrence)\n",
            "\u001b[1m1/1\u001b[0m \u001b[32m━━━━━━━━━━━━━━━━━━━━\u001b[0m\u001b[37m\u001b[0m \u001b[1m0s\u001b[0m 21ms/step\n",
            "\n",
            "Defects detected in cast_def_0_9872.jpeg: 1\n",
            "unrecognisable: 0.81 (1 occurrence)\n",
            "\u001b[1m1/1\u001b[0m \u001b[32m━━━━━━━━━━━━━━━━━━━━\u001b[0m\u001b[37m\u001b[0m \u001b[1m0s\u001b[0m 20ms/step\n",
            "\n",
            "Defects detected in cast_def_0_9873.jpeg: 1\n",
            "unrecognisable: 0.82 (1 occurrence)\n",
            "\u001b[1m1/1\u001b[0m \u001b[32m━━━━━━━━━━━━━━━━━━━━\u001b[0m\u001b[37m\u001b[0m \u001b[1m0s\u001b[0m 20ms/step\n",
            "\n",
            "Defects detected in cast_def_0_9980.jpeg: 1\n",
            "overflow: 0.93 (1 occurrence)\n",
            "\u001b[1m1/1\u001b[0m \u001b[32m━━━━━━━━━━━━━━━━━━━━\u001b[0m\u001b[37m\u001b[0m \u001b[1m0s\u001b[0m 24ms/step\n",
            "\n",
            "Defects detected in cast_def_0_9857.jpeg: 1\n",
            "unrecognisable: 0.79 (1 occurrence)\n",
            "\u001b[1m1/1\u001b[0m \u001b[32m━━━━━━━━━━━━━━━━━━━━\u001b[0m\u001b[37m\u001b[0m \u001b[1m0s\u001b[0m 21ms/step\n",
            "\n",
            "Defects detected in cast_def_0_9995.jpeg: 1\n",
            "hole: 0.58 (1 occurrence)\n",
            "\u001b[1m1/1\u001b[0m \u001b[32m━━━━━━━━━━━━━━━━━━━━\u001b[0m\u001b[37m\u001b[0m \u001b[1m0s\u001b[0m 21ms/step\n",
            "\n",
            "Defects detected in cast_def_0_9879.jpeg: 2\n",
            "hole: 0.51 (1 occurrence)\n",
            "unrecognisable: 0.77 (1 occurrence)\n",
            "\u001b[1m1/1\u001b[0m \u001b[32m━━━━━━━━━━━━━━━━━━━━\u001b[0m\u001b[37m\u001b[0m \u001b[1m0s\u001b[0m 22ms/step\n",
            "\n",
            "No defects detected in cast_def_0_9877.jpeg.\n",
            "\u001b[1m1/1\u001b[0m \u001b[32m━━━━━━━━━━━━━━━━━━━━\u001b[0m\u001b[37m\u001b[0m \u001b[1m0s\u001b[0m 22ms/step\n",
            "\n",
            "Defects detected in cast_def_0_994.jpeg: 1\n",
            "overflow: 0.90 (1 occurrence)\n",
            "\u001b[1m1/1\u001b[0m \u001b[32m━━━━━━━━━━━━━━━━━━━━\u001b[0m\u001b[37m\u001b[0m \u001b[1m0s\u001b[0m 21ms/step\n",
            "\n",
            "Defects detected in cast_ok_0_9411.jpeg: 1\n",
            "unrecognisable: 0.90 (1 occurrence)\n",
            "\u001b[1m1/1\u001b[0m \u001b[32m━━━━━━━━━━━━━━━━━━━━\u001b[0m\u001b[37m\u001b[0m \u001b[1m0s\u001b[0m 22ms/step\n",
            "\n",
            "Defects detected in median_cast_def_0_317.jpeg: 1\n",
            "unrecognisable: 0.57 (1 occurrence)\n",
            "\u001b[1m1/1\u001b[0m \u001b[32m━━━━━━━━━━━━━━━━━━━━\u001b[0m\u001b[37m\u001b[0m \u001b[1m0s\u001b[0m 24ms/step\n",
            "\n",
            "Defects detected in median_cast_def_0_333.jpeg: 1\n",
            "hole: 0.60 (1 occurrence)\n",
            "\u001b[1m1/1\u001b[0m \u001b[32m━━━━━━━━━━━━━━━━━━━━\u001b[0m\u001b[37m\u001b[0m \u001b[1m0s\u001b[0m 23ms/step\n",
            "\n",
            "Defects detected in median_cast_def_0_347.jpeg: 1\n",
            "hole: 0.70 (1 occurrence)\n",
            "\u001b[1m1/1\u001b[0m \u001b[32m━━━━━━━━━━━━━━━━━━━━\u001b[0m\u001b[37m\u001b[0m \u001b[1m0s\u001b[0m 23ms/step\n",
            "\n",
            "Defects detected in salt_pepper_cast_def_0_105.jpeg: 1\n",
            "hole: 0.58 (1 occurrence)\n",
            "\u001b[1m1/1\u001b[0m \u001b[32m━━━━━━━━━━━━━━━━━━━━\u001b[0m\u001b[37m\u001b[0m \u001b[1m0s\u001b[0m 27ms/step\n",
            "\n",
            "Defects detected in salt_pepper_cast_def_0_109.jpeg: 2\n",
            "hole: 0.50 (1 occurrence)\n",
            "unrecognisable: 0.58 (1 occurrence)\n",
            "\u001b[1m1/1\u001b[0m \u001b[32m━━━━━━━━━━━━━━━━━━━━\u001b[0m\u001b[37m\u001b[0m \u001b[1m0s\u001b[0m 21ms/step\n",
            "\n",
            "Defects detected in salt_pepper_cast_def_0_136.jpeg: 1\n",
            "overflow: 0.78 (1 occurrence)\n",
            "\u001b[1m1/1\u001b[0m \u001b[32m━━━━━━━━━━━━━━━━━━━━\u001b[0m\u001b[37m\u001b[0m \u001b[1m0s\u001b[0m 22ms/step\n",
            "\n",
            "Defects detected in salt_pepper_cast_def_0_186.jpeg: 1\n",
            "hole: 0.50 (1 occurrence)\n",
            "\u001b[1m1/1\u001b[0m \u001b[32m━━━━━━━━━━━━━━━━━━━━\u001b[0m\u001b[37m\u001b[0m \u001b[1m0s\u001b[0m 22ms/step\n",
            "\n",
            "No defects detected in salt_pepper_cast_def_0_92.jpeg.\n",
            "\u001b[1m1/1\u001b[0m \u001b[32m━━━━━━━━━━━━━━━━━━━━\u001b[0m\u001b[37m\u001b[0m \u001b[1m0s\u001b[0m 21ms/step\n",
            "\n",
            "No defects detected in median_cast_def_0_321.jpeg.\n",
            "\u001b[1m1/1\u001b[0m \u001b[32m━━━━━━━━━━━━━━━━━━━━\u001b[0m\u001b[37m\u001b[0m \u001b[1m0s\u001b[0m 23ms/step\n",
            "\n",
            "Defects detected in median_cast_def_0_320.jpeg: 1\n",
            "overflow: 0.87 (1 occurrence)\n",
            "\u001b[1m1/1\u001b[0m \u001b[32m━━━━━━━━━━━━━━━━━━━━\u001b[0m\u001b[37m\u001b[0m \u001b[1m0s\u001b[0m 22ms/step\n",
            "\n",
            "Defects detected in median_cast_def_0_319.jpeg: 1\n",
            "overflow: 0.79 (1 occurrence)\n",
            "\u001b[1m1/1\u001b[0m \u001b[32m━━━━━━━━━━━━━━━━━━━━\u001b[0m\u001b[37m\u001b[0m \u001b[1m0s\u001b[0m 20ms/step\n",
            "\n",
            "Defects detected in median_cast_def_0_323.jpeg: 1\n",
            "hole: 0.58 (1 occurrence)\n",
            "\u001b[1m1/1\u001b[0m \u001b[32m━━━━━━━━━━━━━━━━━━━━\u001b[0m\u001b[37m\u001b[0m \u001b[1m0s\u001b[0m 21ms/step\n",
            "\n",
            "Defects detected in median_cast_def_0_324.jpeg: 1\n",
            "overflow: 0.93 (1 occurrence)\n",
            "\u001b[1m1/1\u001b[0m \u001b[32m━━━━━━━━━━━━━━━━━━━━\u001b[0m\u001b[37m\u001b[0m \u001b[1m0s\u001b[0m 21ms/step\n",
            "\n",
            "Defects detected in median_cast_def_0_327.jpeg: 1\n",
            "hole: 0.59 (1 occurrence)\n",
            "\u001b[1m1/1\u001b[0m \u001b[32m━━━━━━━━━━━━━━━━━━━━\u001b[0m\u001b[37m\u001b[0m \u001b[1m0s\u001b[0m 22ms/step\n",
            "\n",
            "Defects detected in median_cast_def_0_315.jpeg: 1\n",
            "hole: 0.74 (1 occurrence)\n",
            "\u001b[1m1/1\u001b[0m \u001b[32m━━━━━━━━━━━━━━━━━━━━\u001b[0m\u001b[37m\u001b[0m \u001b[1m0s\u001b[0m 22ms/step\n",
            "\n",
            "No defects detected in median_cast_def_0_330.jpeg.\n",
            "\u001b[1m1/1\u001b[0m \u001b[32m━━━━━━━━━━━━━━━━━━━━\u001b[0m\u001b[37m\u001b[0m \u001b[1m0s\u001b[0m 21ms/step\n",
            "\n",
            "No defects detected in median_cast_def_0_335.jpeg.\n",
            "\u001b[1m1/1\u001b[0m \u001b[32m━━━━━━━━━━━━━━━━━━━━\u001b[0m\u001b[37m\u001b[0m \u001b[1m0s\u001b[0m 21ms/step\n",
            "\n",
            "Defects detected in median_cast_def_0_348.jpeg: 1\n",
            "hole: 0.55 (1 occurrence)\n",
            "\u001b[1m1/1\u001b[0m \u001b[32m━━━━━━━━━━━━━━━━━━━━\u001b[0m\u001b[37m\u001b[0m \u001b[1m0s\u001b[0m 22ms/step\n",
            "\n",
            "Defects detected in median_cast_def_0_339.jpeg: 1\n",
            "hole: 0.66 (1 occurrence)\n",
            "\u001b[1m1/1\u001b[0m \u001b[32m━━━━━━━━━━━━━━━━━━━━\u001b[0m\u001b[37m\u001b[0m \u001b[1m0s\u001b[0m 22ms/step\n",
            "\n",
            "No defects detected in median_cast_def_0_355.jpeg.\n",
            "\u001b[1m1/1\u001b[0m \u001b[32m━━━━━━━━━━━━━━━━━━━━\u001b[0m\u001b[37m\u001b[0m \u001b[1m0s\u001b[0m 22ms/step\n",
            "\n",
            "No defects detected in median_cast_def_0_337.jpeg.\n",
            "\u001b[1m1/1\u001b[0m \u001b[32m━━━━━━━━━━━━━━━━━━━━\u001b[0m\u001b[37m\u001b[0m \u001b[1m0s\u001b[0m 22ms/step\n",
            "\n",
            "Defects detected in median_cast_def_0_354.jpeg: 1\n",
            "hole: 0.72 (1 occurrence)\n",
            "\u001b[1m1/1\u001b[0m \u001b[32m━━━━━━━━━━━━━━━━━━━━\u001b[0m\u001b[37m\u001b[0m \u001b[1m0s\u001b[0m 22ms/step\n",
            "\n",
            "Defects detected in median_cast_def_0_350.jpeg: 1\n",
            "overflow: 0.53 (1 occurrence)\n",
            "\u001b[1m1/1\u001b[0m \u001b[32m━━━━━━━━━━━━━━━━━━━━\u001b[0m\u001b[37m\u001b[0m \u001b[1m0s\u001b[0m 21ms/step\n",
            "\n",
            "Defects detected in median_cast_def_0_331.jpeg: 1\n",
            "overflow: 0.63 (1 occurrence)\n",
            "\u001b[1m1/1\u001b[0m \u001b[32m━━━━━━━━━━━━━━━━━━━━\u001b[0m\u001b[37m\u001b[0m \u001b[1m0s\u001b[0m 21ms/step\n",
            "\n",
            "Defects detected in median_cast_def_0_359.jpeg: 1\n",
            "overflow: 0.63 (1 occurrence)\n",
            "\u001b[1m1/1\u001b[0m \u001b[32m━━━━━━━━━━━━━━━━━━━━\u001b[0m\u001b[37m\u001b[0m \u001b[1m0s\u001b[0m 21ms/step\n",
            "\n",
            "No defects detected in median_cast_def_0_363.jpeg.\n",
            "\u001b[1m1/1\u001b[0m \u001b[32m━━━━━━━━━━━━━━━━━━━━\u001b[0m\u001b[37m\u001b[0m \u001b[1m0s\u001b[0m 20ms/step\n",
            "\n",
            "No defects detected in median_cast_def_0_360.jpeg.\n",
            "\u001b[1m1/1\u001b[0m \u001b[32m━━━━━━━━━━━━━━━━━━━━\u001b[0m\u001b[37m\u001b[0m \u001b[1m0s\u001b[0m 22ms/step\n",
            "\n",
            "No defects detected in salt_pepper_cast_def_0_95.jpeg.\n",
            "\u001b[1m1/1\u001b[0m \u001b[32m━━━━━━━━━━━━━━━━━━━━\u001b[0m\u001b[37m\u001b[0m \u001b[1m0s\u001b[0m 21ms/step\n",
            "\n",
            "Defects detected in median_cast_def_0_372.jpeg: 1\n",
            "overflow: 0.62 (1 occurrence)\n",
            "\u001b[1m1/1\u001b[0m \u001b[32m━━━━━━━━━━━━━━━━━━━━\u001b[0m\u001b[37m\u001b[0m \u001b[1m0s\u001b[0m 20ms/step\n",
            "\n",
            "Defects detected in cast_def_0_9669_crop_defect_7.jpg: 1\n",
            "overflow: 0.74 (1 occurrence)\n",
            "\u001b[1m1/1\u001b[0m \u001b[32m━━━━━━━━━━━━━━━━━━━━\u001b[0m\u001b[37m\u001b[0m \u001b[1m0s\u001b[0m 22ms/step\n",
            "\n",
            "Defects detected in cast_def_0_976_crop_defect_2.jpg: 1\n",
            "overflow: 0.60 (1 occurrence)\n",
            "\u001b[1m1/1\u001b[0m \u001b[32m━━━━━━━━━━━━━━━━━━━━\u001b[0m\u001b[37m\u001b[0m \u001b[1m0s\u001b[0m 22ms/step\n",
            "\n",
            "Defects detected in cast_def_0_9780_crop_defect_6.jpg: 1\n",
            "overflow: 0.88 (1 occurrence)\n",
            "\u001b[1m1/1\u001b[0m \u001b[32m━━━━━━━━━━━━━━━━━━━━\u001b[0m\u001b[37m\u001b[0m \u001b[1m0s\u001b[0m 23ms/step\n",
            "\n",
            "Defects detected in cast_def_0_9780_crop_defect_7.jpg: 1\n",
            "overflow: 0.64 (1 occurrence)\n",
            "\u001b[1m1/1\u001b[0m \u001b[32m━━━━━━━━━━━━━━━━━━━━\u001b[0m\u001b[37m\u001b[0m \u001b[1m0s\u001b[0m 23ms/step\n",
            "\n",
            "Defects detected in cast_def_0_9780_crop_defect_8.jpg: 1\n",
            "overflow: 0.68 (1 occurrence)\n",
            "\u001b[1m1/1\u001b[0m \u001b[32m━━━━━━━━━━━━━━━━━━━━\u001b[0m\u001b[37m\u001b[0m \u001b[1m0s\u001b[0m 21ms/step\n",
            "\n",
            "Defects detected in cast_def_0_9780_crop_defect_9.jpg: 1\n",
            "overflow: 0.73 (1 occurrence)\n",
            "\u001b[1m1/1\u001b[0m \u001b[32m━━━━━━━━━━━━━━━━━━━━\u001b[0m\u001b[37m\u001b[0m \u001b[1m0s\u001b[0m 23ms/step\n",
            "\n",
            "Defects detected in cast_def_0_9817_crop_defect_8.jpg: 1\n",
            "overflow: 0.66 (1 occurrence)\n",
            "\u001b[1m1/1\u001b[0m \u001b[32m━━━━━━━━━━━━━━━━━━━━\u001b[0m\u001b[37m\u001b[0m \u001b[1m0s\u001b[0m 21ms/step\n",
            "\n",
            "Defects detected in cast_def_0_9817_crop_defect_9.jpg: 1\n",
            "overflow: 0.64 (1 occurrence)\n",
            "\u001b[1m1/1\u001b[0m \u001b[32m━━━━━━━━━━━━━━━━━━━━\u001b[0m\u001b[37m\u001b[0m \u001b[1m0s\u001b[0m 21ms/step\n",
            "\n",
            "Defects detected in cast_def_0_9817_crop_defect_10.jpg: 1\n",
            "overflow: 0.67 (1 occurrence)\n",
            "\u001b[1m1/1\u001b[0m \u001b[32m━━━━━━━━━━━━━━━━━━━━\u001b[0m\u001b[37m\u001b[0m \u001b[1m0s\u001b[0m 22ms/step\n",
            "\n",
            "Defects detected in cast_def_0_9817_crop_defect_11.jpg: 1\n",
            "overflow: 0.71 (1 occurrence)\n",
            "\u001b[1m1/1\u001b[0m \u001b[32m━━━━━━━━━━━━━━━━━━━━\u001b[0m\u001b[37m\u001b[0m \u001b[1m0s\u001b[0m 26ms/step\n",
            "\n",
            "Defects detected in cast_def_0_9817_crop_defect_12.jpg: 1\n",
            "overflow: 0.70 (1 occurrence)\n",
            "\u001b[1m1/1\u001b[0m \u001b[32m━━━━━━━━━━━━━━━━━━━━\u001b[0m\u001b[37m\u001b[0m \u001b[1m0s\u001b[0m 20ms/step\n",
            "\n",
            "Defects detected in cast_def_0_9817_crop_defect_13.jpg: 1\n",
            "overflow: 0.77 (1 occurrence)\n",
            "\u001b[1m1/1\u001b[0m \u001b[32m━━━━━━━━━━━━━━━━━━━━\u001b[0m\u001b[37m\u001b[0m \u001b[1m0s\u001b[0m 21ms/step\n",
            "\n",
            "Defects detected in cast_def_0_9857_crop_defect_0.jpg: 1\n",
            "overflow: 0.67 (1 occurrence)\n",
            "\u001b[1m1/1\u001b[0m \u001b[32m━━━━━━━━━━━━━━━━━━━━\u001b[0m\u001b[37m\u001b[0m \u001b[1m0s\u001b[0m 21ms/step\n",
            "\n",
            "Defects detected in cast_def_0_9877_crop_defect_0.jpg: 1\n",
            "overflow: 0.69 (1 occurrence)\n",
            "\u001b[1m1/1\u001b[0m \u001b[32m━━━━━━━━━━━━━━━━━━━━\u001b[0m\u001b[37m\u001b[0m \u001b[1m0s\u001b[0m 21ms/step\n",
            "\n",
            "Defects detected in cast_def_0_9879_crop_defect_0.jpg: 1\n",
            "overflow: 0.67 (1 occurrence)\n",
            "\u001b[1m1/1\u001b[0m \u001b[32m━━━━━━━━━━━━━━━━━━━━\u001b[0m\u001b[37m\u001b[0m \u001b[1m0s\u001b[0m 22ms/step\n",
            "\n",
            "Defects detected in cast_def_0_994_crop_defect_8.jpg: 1\n",
            "overflow: 0.61 (1 occurrence)\n",
            "\u001b[1m1/1\u001b[0m \u001b[32m━━━━━━━━━━━━━━━━━━━━\u001b[0m\u001b[37m\u001b[0m \u001b[1m0s\u001b[0m 21ms/step\n",
            "\n",
            "Defects detected in cast_def_0_9963_crop_defect_0.jpg: 1\n",
            "overflow: 0.55 (1 occurrence)\n",
            "\u001b[1m1/1\u001b[0m \u001b[32m━━━━━━━━━━━━━━━━━━━━\u001b[0m\u001b[37m\u001b[0m \u001b[1m0s\u001b[0m 23ms/step\n",
            "\n",
            "Defects detected in median_cast_def_0_333_crop_defect_0.jpg: 1\n",
            "overflow: 0.69 (1 occurrence)\n",
            "\u001b[1m1/1\u001b[0m \u001b[32m━━━━━━━━━━━━━━━━━━━━\u001b[0m\u001b[37m\u001b[0m \u001b[1m0s\u001b[0m 28ms/step\n",
            "\n",
            "Defects detected in median_cast_def_0_348_crop_defect_1.jpg: 1\n",
            "overflow: 0.63 (1 occurrence)\n",
            "\u001b[1m1/1\u001b[0m \u001b[32m━━━━━━━━━━━━━━━━━━━━\u001b[0m\u001b[37m\u001b[0m \u001b[1m0s\u001b[0m 21ms/step\n",
            "\n",
            "Defects detected in median_cast_def_0_360_crop_defect_6.jpg: 1\n",
            "overflow: 0.68 (1 occurrence)\n",
            "\u001b[1m1/1\u001b[0m \u001b[32m━━━━━━━━━━━━━━━━━━━━\u001b[0m\u001b[37m\u001b[0m \u001b[1m0s\u001b[0m 21ms/step\n",
            "\n",
            "Defects detected in median_cast_def_0_360_crop_defect_7.jpg: 1\n",
            "overflow: 0.68 (1 occurrence)\n",
            "\u001b[1m1/1\u001b[0m \u001b[32m━━━━━━━━━━━━━━━━━━━━\u001b[0m\u001b[37m\u001b[0m \u001b[1m0s\u001b[0m 21ms/step\n",
            "\n",
            "Defects detected in cast_def_0_9613_crop_defect_0.jpg: 1\n",
            "overflow: 0.67 (1 occurrence)\n",
            "\u001b[1m1/1\u001b[0m \u001b[32m━━━━━━━━━━━━━━━━━━━━\u001b[0m\u001b[37m\u001b[0m \u001b[1m0s\u001b[0m 22ms/step\n",
            "\n",
            "Defects detected in cast_def_0_9520_crop_defect_1.jpg: 1\n",
            "overflow: 0.65 (1 occurrence)\n",
            "\u001b[1m1/1\u001b[0m \u001b[32m━━━━━━━━━━━━━━━━━━━━\u001b[0m\u001b[37m\u001b[0m \u001b[1m0s\u001b[0m 21ms/step\n",
            "\n",
            "Defects detected in cast_def_0_9637_crop_defect_0.jpg: 1\n",
            "overflow: 0.60 (1 occurrence)\n",
            "\u001b[1m1/1\u001b[0m \u001b[32m━━━━━━━━━━━━━━━━━━━━\u001b[0m\u001b[37m\u001b[0m \u001b[1m0s\u001b[0m 20ms/step\n",
            "\n",
            "Defects detected in cast_def_0_9520_crop_defect_0.jpg: 1\n",
            "overflow: 0.67 (1 occurrence)\n",
            "\u001b[1m1/1\u001b[0m \u001b[32m━━━━━━━━━━━━━━━━━━━━\u001b[0m\u001b[37m\u001b[0m \u001b[1m0s\u001b[0m 27ms/step\n",
            "\n",
            "Defects detected in cast_def_0_9643_crop_defect_0.jpg: 1\n",
            "overflow: 0.67 (1 occurrence)\n",
            "\u001b[1m1/1\u001b[0m \u001b[32m━━━━━━━━━━━━━━━━━━━━\u001b[0m\u001b[37m\u001b[0m \u001b[1m0s\u001b[0m 28ms/step\n",
            "\n",
            "Defects detected in cast_def_0_9644_crop_defect_1.jpg: 1\n",
            "overflow: 0.71 (1 occurrence)\n",
            "\u001b[1m1/1\u001b[0m \u001b[32m━━━━━━━━━━━━━━━━━━━━\u001b[0m\u001b[37m\u001b[0m \u001b[1m0s\u001b[0m 22ms/step\n",
            "\n",
            "Defects detected in cast_def_0_9644_crop_defect_0.jpg: 1\n",
            "overflow: 0.67 (1 occurrence)\n",
            "\u001b[1m1/1\u001b[0m \u001b[32m━━━━━━━━━━━━━━━━━━━━\u001b[0m\u001b[37m\u001b[0m \u001b[1m0s\u001b[0m 21ms/step\n",
            "\n",
            "Defects detected in cast_def_0_9644_crop_defect_2.jpg: 1\n",
            "overflow: 0.67 (1 occurrence)\n",
            "\u001b[1m1/1\u001b[0m \u001b[32m━━━━━━━━━━━━━━━━━━━━\u001b[0m\u001b[37m\u001b[0m \u001b[1m0s\u001b[0m 21ms/step\n",
            "\n",
            "Defects detected in cast_def_0_9644_crop_defect_6.jpg: 1\n",
            "overflow: 0.58 (1 occurrence)\n",
            "\u001b[1m1/1\u001b[0m \u001b[32m━━━━━━━━━━━━━━━━━━━━\u001b[0m\u001b[37m\u001b[0m \u001b[1m0s\u001b[0m 21ms/step\n",
            "\n",
            "Defects detected in cast_def_0_9644_crop_defect_4.jpg: 1\n",
            "overflow: 0.84 (1 occurrence)\n",
            "\u001b[1m1/1\u001b[0m \u001b[32m━━━━━━━━━━━━━━━━━━━━\u001b[0m\u001b[37m\u001b[0m \u001b[1m0s\u001b[0m 23ms/step\n",
            "\n",
            "Defects detected in cast_def_0_9644_crop_defect_5.jpg: 1\n",
            "overflow: 0.66 (1 occurrence)\n",
            "\u001b[1m1/1\u001b[0m \u001b[32m━━━━━━━━━━━━━━━━━━━━\u001b[0m\u001b[37m\u001b[0m \u001b[1m0s\u001b[0m 23ms/step\n",
            "\n",
            "Defects detected in cast_def_0_9644_crop_defect_3.jpg: 1\n",
            "overflow: 0.68 (1 occurrence)\n",
            "\u001b[1m1/1\u001b[0m \u001b[32m━━━━━━━━━━━━━━━━━━━━\u001b[0m\u001b[37m\u001b[0m \u001b[1m0s\u001b[0m 20ms/step\n",
            "\n",
            "Defects detected in cast_def_0_9669_crop_defect_1.jpg: 1\n",
            "overflow: 0.65 (1 occurrence)\n",
            "\u001b[1m1/1\u001b[0m \u001b[32m━━━━━━━━━━━━━━━━━━━━\u001b[0m\u001b[37m\u001b[0m \u001b[1m0s\u001b[0m 20ms/step\n",
            "\n",
            "Defects detected in cast_def_0_9669_crop_defect_0.jpg: 1\n",
            "overflow: 0.57 (1 occurrence)\n",
            "\u001b[1m1/1\u001b[0m \u001b[32m━━━━━━━━━━━━━━━━━━━━\u001b[0m\u001b[37m\u001b[0m \u001b[1m0s\u001b[0m 21ms/step\n",
            "\n",
            "Defects detected in cast_def_0_9669_crop_defect_2.jpg: 1\n",
            "overflow: 0.67 (1 occurrence)\n",
            "\u001b[1m1/1\u001b[0m \u001b[32m━━━━━━━━━━━━━━━━━━━━\u001b[0m\u001b[37m\u001b[0m \u001b[1m0s\u001b[0m 20ms/step\n",
            "\n",
            "Defects detected in cast_def_0_9669_crop_defect_4.jpg: 1\n",
            "overflow: 0.74 (1 occurrence)\n",
            "\u001b[1m1/1\u001b[0m \u001b[32m━━━━━━━━━━━━━━━━━━━━\u001b[0m\u001b[37m\u001b[0m \u001b[1m0s\u001b[0m 21ms/step\n",
            "\n",
            "Defects detected in cast_def_0_9669_crop_defect_3.jpg: 1\n",
            "overflow: 0.82 (1 occurrence)\n",
            "\u001b[1m1/1\u001b[0m \u001b[32m━━━━━━━━━━━━━━━━━━━━\u001b[0m\u001b[37m\u001b[0m \u001b[1m0s\u001b[0m 25ms/step\n",
            "\n",
            "Defects detected in cast_def_0_9683_crop_defect_1.jpg: 1\n",
            "overflow: 0.73 (1 occurrence)\n",
            "\u001b[1m1/1\u001b[0m \u001b[32m━━━━━━━━━━━━━━━━━━━━\u001b[0m\u001b[37m\u001b[0m \u001b[1m0s\u001b[0m 26ms/step\n",
            "\n",
            "Defects detected in cast_def_0_9683_crop_defect_0.jpg: 1\n",
            "overflow: 0.79 (1 occurrence)\n",
            "\u001b[1m1/1\u001b[0m \u001b[32m━━━━━━━━━━━━━━━━━━━━\u001b[0m\u001b[37m\u001b[0m \u001b[1m0s\u001b[0m 22ms/step\n",
            "\n",
            "Defects detected in cast_def_0_9669_crop_defect_5.jpg: 1\n",
            "overflow: 0.80 (1 occurrence)\n",
            "\u001b[1m1/1\u001b[0m \u001b[32m━━━━━━━━━━━━━━━━━━━━\u001b[0m\u001b[37m\u001b[0m \u001b[1m0s\u001b[0m 21ms/step\n",
            "\n",
            "Defects detected in cast_def_0_9669_crop_defect_6.jpg: 1\n",
            "overflow: 0.68 (1 occurrence)\n",
            "\u001b[1m1/1\u001b[0m \u001b[32m━━━━━━━━━━━━━━━━━━━━\u001b[0m\u001b[37m\u001b[0m \u001b[1m0s\u001b[0m 21ms/step\n",
            "\n",
            "Defects detected in cast_def_0_9683_crop_defect_3.jpg: 1\n",
            "overflow: 0.66 (1 occurrence)\n",
            "\u001b[1m1/1\u001b[0m \u001b[32m━━━━━━━━━━━━━━━━━━━━\u001b[0m\u001b[37m\u001b[0m \u001b[1m0s\u001b[0m 21ms/step\n",
            "\n",
            "Defects detected in cast_def_0_9683_crop_defect_2.jpg: 1\n",
            "overflow: 0.71 (1 occurrence)\n",
            "\u001b[1m1/1\u001b[0m \u001b[32m━━━━━━━━━━━━━━━━━━━━\u001b[0m\u001b[37m\u001b[0m \u001b[1m0s\u001b[0m 22ms/step\n",
            "\n",
            "Defects detected in cast_def_0_9683_crop_defect_4.jpg: 1\n",
            "overflow: 0.82 (1 occurrence)\n",
            "\u001b[1m1/1\u001b[0m \u001b[32m━━━━━━━━━━━━━━━━━━━━\u001b[0m\u001b[37m\u001b[0m \u001b[1m0s\u001b[0m 21ms/step\n",
            "\n",
            "Defects detected in cast_def_0_9683_crop_defect_7.jpg: 1\n",
            "overflow: 0.71 (1 occurrence)\n",
            "\u001b[1m1/1\u001b[0m \u001b[32m━━━━━━━━━━━━━━━━━━━━\u001b[0m\u001b[37m\u001b[0m \u001b[1m0s\u001b[0m 22ms/step\n",
            "\n",
            "Defects detected in cast_def_0_9683_crop_defect_6.jpg: 1\n",
            "overflow: 0.78 (1 occurrence)\n",
            "\u001b[1m1/1\u001b[0m \u001b[32m━━━━━━━━━━━━━━━━━━━━\u001b[0m\u001b[37m\u001b[0m \u001b[1m0s\u001b[0m 22ms/step\n",
            "\n",
            "Defects detected in cast_def_0_9683_crop_defect_5.jpg: 1\n",
            "overflow: 0.72 (1 occurrence)\n",
            "\u001b[1m1/1\u001b[0m \u001b[32m━━━━━━━━━━━━━━━━━━━━\u001b[0m\u001b[37m\u001b[0m \u001b[1m0s\u001b[0m 22ms/step\n",
            "\n",
            "Defects detected in cast_def_0_9687_crop_defect_1.jpg: 1\n",
            "overflow: 0.61 (1 occurrence)\n",
            "\u001b[1m1/1\u001b[0m \u001b[32m━━━━━━━━━━━━━━━━━━━━\u001b[0m\u001b[37m\u001b[0m \u001b[1m0s\u001b[0m 23ms/step\n",
            "\n",
            "Defects detected in cast_def_0_9750_crop_defect_1.jpg: 1\n",
            "overflow: 0.63 (1 occurrence)\n",
            "\u001b[1m1/1\u001b[0m \u001b[32m━━━━━━━━━━━━━━━━━━━━\u001b[0m\u001b[37m\u001b[0m \u001b[1m0s\u001b[0m 22ms/step\n",
            "\n",
            "Defects detected in cast_def_0_9687_crop_defect_0.jpg: 1\n",
            "overflow: 0.69 (1 occurrence)\n",
            "\u001b[1m1/1\u001b[0m \u001b[32m━━━━━━━━━━━━━━━━━━━━\u001b[0m\u001b[37m\u001b[0m \u001b[1m0s\u001b[0m 22ms/step\n",
            "\n",
            "Defects detected in cast_def_0_9755_crop_defect_0.jpg: 1\n",
            "overflow: 0.68 (1 occurrence)\n",
            "\u001b[1m1/1\u001b[0m \u001b[32m━━━━━━━━━━━━━━━━━━━━\u001b[0m\u001b[37m\u001b[0m \u001b[1m0s\u001b[0m 22ms/step\n",
            "\n",
            "Defects detected in cast_def_0_976_crop_defect_0.jpg: 1\n",
            "overflow: 0.65 (1 occurrence)\n",
            "\u001b[1m1/1\u001b[0m \u001b[32m━━━━━━━━━━━━━━━━━━━━\u001b[0m\u001b[37m\u001b[0m \u001b[1m0s\u001b[0m 21ms/step\n",
            "\n",
            "Defects detected in cast_def_0_976_crop_defect_1.jpg: 1\n",
            "overflow: 0.60 (1 occurrence)\n",
            "\u001b[1m1/1\u001b[0m \u001b[32m━━━━━━━━━━━━━━━━━━━━\u001b[0m\u001b[37m\u001b[0m \u001b[1m0s\u001b[0m 22ms/step\n",
            "\n",
            "Defects detected in cast_def_0_9780_crop_defect_0.jpg: 1\n",
            "overflow: 0.71 (1 occurrence)\n",
            "\u001b[1m1/1\u001b[0m \u001b[32m━━━━━━━━━━━━━━━━━━━━\u001b[0m\u001b[37m\u001b[0m \u001b[1m0s\u001b[0m 22ms/step\n",
            "\n",
            "Defects detected in cast_def_0_9780_crop_defect_1.jpg: 1\n",
            "overflow: 0.72 (1 occurrence)\n",
            "\u001b[1m1/1\u001b[0m \u001b[32m━━━━━━━━━━━━━━━━━━━━\u001b[0m\u001b[37m\u001b[0m \u001b[1m0s\u001b[0m 20ms/step\n",
            "\n",
            "Defects detected in cast_def_0_9780_crop_defect_2.jpg: 1\n",
            "overflow: 0.70 (1 occurrence)\n",
            "\u001b[1m1/1\u001b[0m \u001b[32m━━━━━━━━━━━━━━━━━━━━\u001b[0m\u001b[37m\u001b[0m \u001b[1m0s\u001b[0m 30ms/step\n",
            "\n",
            "Defects detected in cast_def_0_9780_crop_defect_4.jpg: 1\n",
            "overflow: 0.74 (1 occurrence)\n",
            "\u001b[1m1/1\u001b[0m \u001b[32m━━━━━━━━━━━━━━━━━━━━\u001b[0m\u001b[37m\u001b[0m \u001b[1m0s\u001b[0m 21ms/step\n",
            "\n",
            "Defects detected in cast_def_0_9780_crop_defect_5.jpg: 1\n",
            "overflow: 0.57 (1 occurrence)\n",
            "\u001b[1m1/1\u001b[0m \u001b[32m━━━━━━━━━━━━━━━━━━━━\u001b[0m\u001b[37m\u001b[0m \u001b[1m0s\u001b[0m 21ms/step\n",
            "\n",
            "Defects detected in cast_def_0_9780_crop_defect_3.jpg: 1\n",
            "overflow: 0.89 (1 occurrence)\n",
            "\u001b[1m1/1\u001b[0m \u001b[32m━━━━━━━━━━━━━━━━━━━━\u001b[0m\u001b[37m\u001b[0m \u001b[1m0s\u001b[0m 22ms/step\n",
            "\n",
            "Defects detected in cast_def_0_9817_crop_defect_0.jpg: 1\n",
            "overflow: 0.72 (1 occurrence)\n",
            "\u001b[1m1/1\u001b[0m \u001b[32m━━━━━━━━━━━━━━━━━━━━\u001b[0m\u001b[37m\u001b[0m \u001b[1m0s\u001b[0m 23ms/step\n",
            "\n",
            "Defects detected in cast_def_0_9817_crop_defect_1.jpg: 1\n",
            "overflow: 0.77 (1 occurrence)\n",
            "\u001b[1m1/1\u001b[0m \u001b[32m━━━━━━━━━━━━━━━━━━━━\u001b[0m\u001b[37m\u001b[0m \u001b[1m0s\u001b[0m 22ms/step\n",
            "\n",
            "Defects detected in cast_def_0_9817_crop_defect_2.jpg: 1\n",
            "overflow: 0.81 (1 occurrence)\n",
            "\u001b[1m1/1\u001b[0m \u001b[32m━━━━━━━━━━━━━━━━━━━━\u001b[0m\u001b[37m\u001b[0m \u001b[1m0s\u001b[0m 21ms/step\n",
            "\n",
            "Defects detected in cast_def_0_9817_crop_defect_3.jpg: 1\n",
            "overflow: 0.69 (1 occurrence)\n",
            "\u001b[1m1/1\u001b[0m \u001b[32m━━━━━━━━━━━━━━━━━━━━\u001b[0m\u001b[37m\u001b[0m \u001b[1m0s\u001b[0m 22ms/step\n",
            "\n",
            "Defects detected in cast_def_0_9817_crop_defect_5.jpg: 1\n",
            "overflow: 0.80 (1 occurrence)\n",
            "\u001b[1m1/1\u001b[0m \u001b[32m━━━━━━━━━━━━━━━━━━━━\u001b[0m\u001b[37m\u001b[0m \u001b[1m0s\u001b[0m 21ms/step\n",
            "\n",
            "Defects detected in cast_def_0_9817_crop_defect_4.jpg: 1\n",
            "overflow: 0.73 (1 occurrence)\n",
            "\u001b[1m1/1\u001b[0m \u001b[32m━━━━━━━━━━━━━━━━━━━━\u001b[0m\u001b[37m\u001b[0m \u001b[1m0s\u001b[0m 22ms/step\n",
            "\n",
            "Defects detected in cast_def_0_9817_crop_defect_6.jpg: 1\n",
            "overflow: 0.70 (1 occurrence)\n",
            "\u001b[1m1/1\u001b[0m \u001b[32m━━━━━━━━━━━━━━━━━━━━\u001b[0m\u001b[37m\u001b[0m \u001b[1m0s\u001b[0m 20ms/step\n",
            "\n",
            "Defects detected in cast_def_0_9836_crop_defect_1.jpg: 1\n",
            "overflow: 0.60 (1 occurrence)\n",
            "\u001b[1m1/1\u001b[0m \u001b[32m━━━━━━━━━━━━━━━━━━━━\u001b[0m\u001b[37m\u001b[0m \u001b[1m0s\u001b[0m 20ms/step\n",
            "\n",
            "Defects detected in cast_def_0_9817_crop_defect_7.jpg: 1\n",
            "overflow: 0.71 (1 occurrence)\n",
            "\u001b[1m1/1\u001b[0m \u001b[32m━━━━━━━━━━━━━━━━━━━━\u001b[0m\u001b[37m\u001b[0m \u001b[1m0s\u001b[0m 20ms/step\n",
            "\n",
            "Defects detected in cast_def_0_9836_crop_defect_0.jpg: 1\n",
            "overflow: 0.74 (1 occurrence)\n",
            "\u001b[1m1/1\u001b[0m \u001b[32m━━━━━━━━━━━━━━━━━━━━\u001b[0m\u001b[37m\u001b[0m \u001b[1m0s\u001b[0m 20ms/step\n",
            "\n",
            "Defects detected in cast_def_0_9836_crop_defect_4.jpg: 1\n",
            "overflow: 0.87 (1 occurrence)\n",
            "\u001b[1m1/1\u001b[0m \u001b[32m━━━━━━━━━━━━━━━━━━━━\u001b[0m\u001b[37m\u001b[0m \u001b[1m0s\u001b[0m 20ms/step\n",
            "\n",
            "Defects detected in cast_def_0_9836_crop_defect_2.jpg: 1\n",
            "overflow: 0.64 (1 occurrence)\n",
            "\u001b[1m1/1\u001b[0m \u001b[32m━━━━━━━━━━━━━━━━━━━━\u001b[0m\u001b[37m\u001b[0m \u001b[1m0s\u001b[0m 20ms/step\n",
            "\n",
            "Defects detected in cast_def_0_9836_crop_defect_3.jpg: 1\n",
            "overflow: 0.67 (1 occurrence)\n",
            "\u001b[1m1/1\u001b[0m \u001b[32m━━━━━━━━━━━━━━━━━━━━\u001b[0m\u001b[37m\u001b[0m \u001b[1m0s\u001b[0m 20ms/step\n",
            "\n",
            "Defects detected in cast_def_0_9854_crop_defect_0.jpg: 1\n",
            "overflow: 0.64 (1 occurrence)\n",
            "\u001b[1m1/1\u001b[0m \u001b[32m━━━━━━━━━━━━━━━━━━━━\u001b[0m\u001b[37m\u001b[0m \u001b[1m0s\u001b[0m 21ms/step\n",
            "\n",
            "Defects detected in cast_def_0_9872_crop_defect_0.jpg: 1\n",
            "overflow: 0.66 (1 occurrence)\n",
            "\u001b[1m1/1\u001b[0m \u001b[32m━━━━━━━━━━━━━━━━━━━━\u001b[0m\u001b[37m\u001b[0m \u001b[1m0s\u001b[0m 21ms/step\n",
            "\n",
            "Defects detected in cast_def_0_994_crop_defect_1.jpg: 1\n",
            "overflow: 0.77 (1 occurrence)\n",
            "\u001b[1m1/1\u001b[0m \u001b[32m━━━━━━━━━━━━━━━━━━━━\u001b[0m\u001b[37m\u001b[0m \u001b[1m0s\u001b[0m 22ms/step\n",
            "\n",
            "Defects detected in cast_def_0_994_crop_defect_0.jpg: 1\n",
            "overflow: 0.75 (1 occurrence)\n",
            "\u001b[1m1/1\u001b[0m \u001b[32m━━━━━━━━━━━━━━━━━━━━\u001b[0m\u001b[37m\u001b[0m \u001b[1m0s\u001b[0m 21ms/step\n",
            "\n",
            "Defects detected in cast_def_0_9873_crop_defect_1.jpg: 1\n",
            "overflow: 0.67 (1 occurrence)\n",
            "\u001b[1m1/1\u001b[0m \u001b[32m━━━━━━━━━━━━━━━━━━━━\u001b[0m\u001b[37m\u001b[0m \u001b[1m0s\u001b[0m 20ms/step\n",
            "\n",
            "Defects detected in cast_def_0_994_crop_defect_2.jpg: 1\n",
            "overflow: 0.53 (1 occurrence)\n",
            "\u001b[1m1/1\u001b[0m \u001b[32m━━━━━━━━━━━━━━━━━━━━\u001b[0m\u001b[37m\u001b[0m \u001b[1m0s\u001b[0m 20ms/step\n",
            "\n",
            "Defects detected in cast_def_0_994_crop_defect_3.jpg: 1\n",
            "overflow: 0.76 (1 occurrence)\n",
            "\u001b[1m1/1\u001b[0m \u001b[32m━━━━━━━━━━━━━━━━━━━━\u001b[0m\u001b[37m\u001b[0m \u001b[1m0s\u001b[0m 20ms/step\n",
            "\n",
            "Defects detected in cast_def_0_994_crop_defect_7.jpg: 1\n",
            "overflow: 0.61 (1 occurrence)\n",
            "\u001b[1m1/1\u001b[0m \u001b[32m━━━━━━━━━━━━━━━━━━━━\u001b[0m\u001b[37m\u001b[0m \u001b[1m0s\u001b[0m 20ms/step\n",
            "\n",
            "Defects detected in cast_def_0_994_crop_defect_6.jpg: 1\n",
            "overflow: 0.51 (1 occurrence)\n",
            "\u001b[1m1/1\u001b[0m \u001b[32m━━━━━━━━━━━━━━━━━━━━\u001b[0m\u001b[37m\u001b[0m \u001b[1m0s\u001b[0m 20ms/step\n",
            "\n",
            "Defects detected in cast_def_0_994_crop_defect_5.jpg: 1\n",
            "overflow: 0.75 (1 occurrence)\n",
            "\u001b[1m1/1\u001b[0m \u001b[32m━━━━━━━━━━━━━━━━━━━━\u001b[0m\u001b[37m\u001b[0m \u001b[1m0s\u001b[0m 20ms/step\n",
            "\n",
            "Defects detected in cast_def_0_994_crop_defect_4.jpg: 1\n",
            "overflow: 0.74 (1 occurrence)\n",
            "\u001b[1m1/1\u001b[0m \u001b[32m━━━━━━━━━━━━━━━━━━━━\u001b[0m\u001b[37m\u001b[0m \u001b[1m0s\u001b[0m 20ms/step\n",
            "\n",
            "Defects detected in cast_def_0_9980_crop_defect_2.jpg: 1\n",
            "overflow: 0.63 (1 occurrence)\n",
            "\u001b[1m1/1\u001b[0m \u001b[32m━━━━━━━━━━━━━━━━━━━━\u001b[0m\u001b[37m\u001b[0m \u001b[1m0s\u001b[0m 20ms/step\n",
            "\n",
            "Defects detected in cast_def_0_9980_crop_defect_1.jpg: 1\n",
            "overflow: 0.68 (1 occurrence)\n",
            "\u001b[1m1/1\u001b[0m \u001b[32m━━━━━━━━━━━━━━━━━━━━\u001b[0m\u001b[37m\u001b[0m \u001b[1m0s\u001b[0m 20ms/step\n",
            "\n",
            "Defects detected in cast_def_0_9980_crop_defect_3.jpg: 1\n",
            "overflow: 0.60 (1 occurrence)\n",
            "\u001b[1m1/1\u001b[0m \u001b[32m━━━━━━━━━━━━━━━━━━━━\u001b[0m\u001b[37m\u001b[0m \u001b[1m0s\u001b[0m 20ms/step\n",
            "\n",
            "Defects detected in cast_def_0_9980_crop_defect_0.jpg: 1\n",
            "overflow: 0.86 (1 occurrence)\n",
            "\u001b[1m1/1\u001b[0m \u001b[32m━━━━━━━━━━━━━━━━━━━━\u001b[0m\u001b[37m\u001b[0m \u001b[1m0s\u001b[0m 20ms/step\n",
            "\n",
            "Defects detected in cast_def_0_9980_crop_defect_4.jpg: 1\n",
            "overflow: 0.68 (1 occurrence)\n",
            "\u001b[1m1/1\u001b[0m \u001b[32m━━━━━━━━━━━━━━━━━━━━\u001b[0m\u001b[37m\u001b[0m \u001b[1m0s\u001b[0m 20ms/step\n",
            "\n",
            "Defects detected in cast_def_0_9980_crop_defect_5.jpg: 1\n",
            "overflow: 0.71 (1 occurrence)\n",
            "\u001b[1m1/1\u001b[0m \u001b[32m━━━━━━━━━━━━━━━━━━━━\u001b[0m\u001b[37m\u001b[0m \u001b[1m0s\u001b[0m 20ms/step\n",
            "\n",
            "Defects detected in cast_def_0_9995_crop_defect_0.jpg: 1\n",
            "overflow: 0.68 (1 occurrence)\n",
            "\u001b[1m1/1\u001b[0m \u001b[32m━━━━━━━━━━━━━━━━━━━━\u001b[0m\u001b[37m\u001b[0m \u001b[1m0s\u001b[0m 21ms/step\n",
            "\n",
            "Defects detected in cast_ok_0_9411_crop_defect_1.jpg: 1\n",
            "overflow: 0.65 (1 occurrence)\n",
            "\u001b[1m1/1\u001b[0m \u001b[32m━━━━━━━━━━━━━━━━━━━━\u001b[0m\u001b[37m\u001b[0m \u001b[1m0s\u001b[0m 20ms/step\n",
            "\n",
            "Defects detected in median_cast_def_0_319_crop_defect_0.jpg: 1\n",
            "overflow: 0.78 (1 occurrence)\n",
            "\u001b[1m1/1\u001b[0m \u001b[32m━━━━━━━━━━━━━━━━━━━━\u001b[0m\u001b[37m\u001b[0m \u001b[1m0s\u001b[0m 20ms/step\n",
            "\n",
            "Defects detected in median_cast_def_0_319_crop_defect_2.jpg: 1\n",
            "overflow: 0.70 (1 occurrence)\n",
            "\u001b[1m1/1\u001b[0m \u001b[32m━━━━━━━━━━━━━━━━━━━━\u001b[0m\u001b[37m\u001b[0m \u001b[1m0s\u001b[0m 19ms/step\n",
            "\n",
            "Defects detected in median_cast_def_0_315_crop_defect_0.jpg: 1\n",
            "overflow: 0.62 (1 occurrence)\n",
            "\u001b[1m1/1\u001b[0m \u001b[32m━━━━━━━━━━━━━━━━━━━━\u001b[0m\u001b[37m\u001b[0m \u001b[1m0s\u001b[0m 20ms/step\n",
            "\n",
            "Defects detected in median_cast_def_0_319_crop_defect_1.jpg: 1\n",
            "overflow: 0.69 (1 occurrence)\n",
            "\u001b[1m1/1\u001b[0m \u001b[32m━━━━━━━━━━━━━━━━━━━━\u001b[0m\u001b[37m\u001b[0m \u001b[1m0s\u001b[0m 20ms/step\n",
            "\n",
            "Defects detected in median_cast_def_0_319_crop_defect_3.jpg: 1\n",
            "overflow: 0.59 (1 occurrence)\n",
            "\u001b[1m1/1\u001b[0m \u001b[32m━━━━━━━━━━━━━━━━━━━━\u001b[0m\u001b[37m\u001b[0m \u001b[1m0s\u001b[0m 21ms/step\n",
            "\n",
            "Defects detected in median_cast_def_0_319_crop_defect_4.jpg: 1\n",
            "overflow: 0.66 (1 occurrence)\n",
            "\u001b[1m1/1\u001b[0m \u001b[32m━━━━━━━━━━━━━━━━━━━━\u001b[0m\u001b[37m\u001b[0m \u001b[1m0s\u001b[0m 20ms/step\n",
            "\n",
            "Defects detected in median_cast_def_0_320_crop_defect_1.jpg: 1\n",
            "overflow: 0.69 (1 occurrence)\n",
            "\u001b[1m1/1\u001b[0m \u001b[32m━━━━━━━━━━━━━━━━━━━━\u001b[0m\u001b[37m\u001b[0m \u001b[1m0s\u001b[0m 20ms/step\n",
            "\n",
            "Defects detected in median_cast_def_0_320_crop_defect_0.jpg: 1\n",
            "overflow: 0.74 (1 occurrence)\n",
            "\u001b[1m1/1\u001b[0m \u001b[32m━━━━━━━━━━━━━━━━━━━━\u001b[0m\u001b[37m\u001b[0m \u001b[1m0s\u001b[0m 22ms/step\n",
            "\n",
            "Defects detected in median_cast_def_0_320_crop_defect_2.jpg: 1\n",
            "overflow: 0.81 (1 occurrence)\n",
            "\u001b[1m1/1\u001b[0m \u001b[32m━━━━━━━━━━━━━━━━━━━━\u001b[0m\u001b[37m\u001b[0m \u001b[1m0s\u001b[0m 21ms/step\n",
            "\n",
            "Defects detected in median_cast_def_0_320_crop_defect_3.jpg: 1\n",
            "overflow: 0.70 (1 occurrence)\n",
            "\u001b[1m1/1\u001b[0m \u001b[32m━━━━━━━━━━━━━━━━━━━━\u001b[0m\u001b[37m\u001b[0m \u001b[1m0s\u001b[0m 21ms/step\n",
            "\n",
            "Defects detected in median_cast_def_0_320_crop_defect_6.jpg: 1\n",
            "overflow: 0.67 (1 occurrence)\n",
            "\u001b[1m1/1\u001b[0m \u001b[32m━━━━━━━━━━━━━━━━━━━━\u001b[0m\u001b[37m\u001b[0m \u001b[1m0s\u001b[0m 20ms/step\n",
            "\n",
            "Defects detected in median_cast_def_0_320_crop_defect_5.jpg: 1\n",
            "overflow: 0.68 (1 occurrence)\n",
            "\u001b[1m1/1\u001b[0m \u001b[32m━━━━━━━━━━━━━━━━━━━━\u001b[0m\u001b[37m\u001b[0m \u001b[1m0s\u001b[0m 21ms/step\n",
            "\n",
            "Defects detected in median_cast_def_0_320_crop_defect_4.jpg: 1\n",
            "overflow: 0.64 (1 occurrence)\n",
            "\u001b[1m1/1\u001b[0m \u001b[32m━━━━━━━━━━━━━━━━━━━━\u001b[0m\u001b[37m\u001b[0m \u001b[1m0s\u001b[0m 21ms/step\n",
            "\n",
            "Defects detected in median_cast_def_0_321_crop_defect_0.jpg: 1\n",
            "overflow: 0.74 (1 occurrence)\n",
            "\u001b[1m1/1\u001b[0m \u001b[32m━━━━━━━━━━━━━━━━━━━━\u001b[0m\u001b[37m\u001b[0m \u001b[1m0s\u001b[0m 20ms/step\n",
            "\n",
            "Defects detected in median_cast_def_0_320_crop_defect_7.jpg: 1\n",
            "overflow: 0.72 (1 occurrence)\n",
            "\u001b[1m1/1\u001b[0m \u001b[32m━━━━━━━━━━━━━━━━━━━━\u001b[0m\u001b[37m\u001b[0m \u001b[1m0s\u001b[0m 20ms/step\n",
            "\n",
            "Defects detected in median_cast_def_0_324_crop_defect_1.jpg: 1\n",
            "overflow: 0.59 (1 occurrence)\n",
            "\u001b[1m1/1\u001b[0m \u001b[32m━━━━━━━━━━━━━━━━━━━━\u001b[0m\u001b[37m\u001b[0m \u001b[1m0s\u001b[0m 20ms/step\n",
            "\n",
            "Defects detected in median_cast_def_0_324_crop_defect_0.jpg: 1\n",
            "overflow: 0.71 (1 occurrence)\n",
            "\u001b[1m1/1\u001b[0m \u001b[32m━━━━━━━━━━━━━━━━━━━━\u001b[0m\u001b[37m\u001b[0m \u001b[1m0s\u001b[0m 21ms/step\n",
            "\n",
            "Defects detected in median_cast_def_0_323_crop_defect_0.jpg: 1\n",
            "overflow: 0.67 (1 occurrence)\n",
            "\u001b[1m1/1\u001b[0m \u001b[32m━━━━━━━━━━━━━━━━━━━━\u001b[0m\u001b[37m\u001b[0m \u001b[1m0s\u001b[0m 21ms/step\n",
            "\n",
            "Defects detected in median_cast_def_0_324_crop_defect_4.jpg: 1\n",
            "overflow: 0.74 (1 occurrence)\n",
            "\u001b[1m1/1\u001b[0m \u001b[32m━━━━━━━━━━━━━━━━━━━━\u001b[0m\u001b[37m\u001b[0m \u001b[1m0s\u001b[0m 21ms/step\n",
            "\n",
            "Defects detected in median_cast_def_0_324_crop_defect_2.jpg: 1\n",
            "overflow: 0.74 (1 occurrence)\n",
            "\u001b[1m1/1\u001b[0m \u001b[32m━━━━━━━━━━━━━━━━━━━━\u001b[0m\u001b[37m\u001b[0m \u001b[1m0s\u001b[0m 21ms/step\n",
            "\n",
            "Defects detected in median_cast_def_0_324_crop_defect_3.jpg: 1\n",
            "overflow: 0.70 (1 occurrence)\n",
            "\u001b[1m1/1\u001b[0m \u001b[32m━━━━━━━━━━━━━━━━━━━━\u001b[0m\u001b[37m\u001b[0m \u001b[1m0s\u001b[0m 21ms/step\n",
            "\n",
            "Defects detected in median_cast_def_0_324_crop_defect_5.jpg: 1\n",
            "overflow: 0.68 (1 occurrence)\n",
            "\u001b[1m1/1\u001b[0m \u001b[32m━━━━━━━━━━━━━━━━━━━━\u001b[0m\u001b[37m\u001b[0m \u001b[1m0s\u001b[0m 21ms/step\n",
            "\n",
            "Defects detected in median_cast_def_0_324_crop_defect_7.jpg: 1\n",
            "overflow: 0.79 (1 occurrence)\n",
            "\u001b[1m1/1\u001b[0m \u001b[32m━━━━━━━━━━━━━━━━━━━━\u001b[0m\u001b[37m\u001b[0m \u001b[1m0s\u001b[0m 21ms/step\n",
            "\n",
            "Defects detected in median_cast_def_0_324_crop_defect_6.jpg: 1\n",
            "overflow: 0.66 (1 occurrence)\n",
            "\u001b[1m1/1\u001b[0m \u001b[32m━━━━━━━━━━━━━━━━━━━━\u001b[0m\u001b[37m\u001b[0m \u001b[1m0s\u001b[0m 20ms/step\n",
            "\n",
            "Defects detected in median_cast_def_0_330_crop_defect_0.jpg: 1\n",
            "overflow: 0.69 (1 occurrence)\n",
            "\u001b[1m1/1\u001b[0m \u001b[32m━━━━━━━━━━━━━━━━━━━━\u001b[0m\u001b[37m\u001b[0m \u001b[1m0s\u001b[0m 20ms/step\n",
            "\n",
            "Defects detected in median_cast_def_0_327_crop_defect_0.jpg: 1\n",
            "overflow: 0.64 (1 occurrence)\n",
            "\u001b[1m1/1\u001b[0m \u001b[32m━━━━━━━━━━━━━━━━━━━━\u001b[0m\u001b[37m\u001b[0m \u001b[1m0s\u001b[0m 20ms/step\n",
            "\n",
            "Defects detected in median_cast_def_0_331_crop_defect_1.jpg: 1\n",
            "overflow: 0.67 (1 occurrence)\n",
            "\u001b[1m1/1\u001b[0m \u001b[32m━━━━━━━━━━━━━━━━━━━━\u001b[0m\u001b[37m\u001b[0m \u001b[1m0s\u001b[0m 20ms/step\n",
            "\n",
            "Defects detected in median_cast_def_0_331_crop_defect_0.jpg: 1\n",
            "overflow: 0.65 (1 occurrence)\n",
            "\u001b[1m1/1\u001b[0m \u001b[32m━━━━━━━━━━━━━━━━━━━━\u001b[0m\u001b[37m\u001b[0m \u001b[1m0s\u001b[0m 20ms/step\n",
            "\n",
            "Defects detected in median_cast_def_0_337_crop_defect_0.jpg: 1\n",
            "overflow: 0.66 (1 occurrence)\n",
            "\u001b[1m1/1\u001b[0m \u001b[32m━━━━━━━━━━━━━━━━━━━━\u001b[0m\u001b[37m\u001b[0m \u001b[1m0s\u001b[0m 21ms/step\n",
            "\n",
            "Defects detected in median_cast_def_0_335_crop_defect_0.jpg: 1\n",
            "overflow: 0.64 (1 occurrence)\n",
            "\u001b[1m1/1\u001b[0m \u001b[32m━━━━━━━━━━━━━━━━━━━━\u001b[0m\u001b[37m\u001b[0m \u001b[1m0s\u001b[0m 25ms/step\n",
            "\n",
            "Defects detected in median_cast_def_0_337_crop_defect_1.jpg: 1\n",
            "overflow: 0.72 (1 occurrence)\n",
            "\u001b[1m1/1\u001b[0m \u001b[32m━━━━━━━━━━━━━━━━━━━━\u001b[0m\u001b[37m\u001b[0m \u001b[1m0s\u001b[0m 22ms/step\n",
            "\n",
            "Defects detected in median_cast_def_0_337_crop_defect_2.jpg: 1\n",
            "overflow: 0.68 (1 occurrence)\n",
            "\u001b[1m1/1\u001b[0m \u001b[32m━━━━━━━━━━━━━━━━━━━━\u001b[0m\u001b[37m\u001b[0m \u001b[1m0s\u001b[0m 22ms/step\n",
            "\n",
            "Defects detected in median_cast_def_0_348_crop_defect_0.jpg: 1\n",
            "overflow: 0.63 (1 occurrence)\n",
            "\u001b[1m1/1\u001b[0m \u001b[32m━━━━━━━━━━━━━━━━━━━━\u001b[0m\u001b[37m\u001b[0m \u001b[1m0s\u001b[0m 23ms/step\n",
            "\n",
            "Defects detected in median_cast_def_0_339_crop_defect_0.jpg: 1\n",
            "overflow: 0.66 (1 occurrence)\n",
            "\u001b[1m1/1\u001b[0m \u001b[32m━━━━━━━━━━━━━━━━━━━━\u001b[0m\u001b[37m\u001b[0m \u001b[1m0s\u001b[0m 22ms/step\n",
            "\n",
            "Defects detected in salt_pepper_cast_def_0_99_crop_defect_0.jpg: 1\n",
            "overflow: 0.66 (1 occurrence)\n",
            "\u001b[1m1/1\u001b[0m \u001b[32m━━━━━━━━━━━━━━━━━━━━\u001b[0m\u001b[37m\u001b[0m \u001b[1m0s\u001b[0m 21ms/step\n",
            "\n",
            "Defects detected in median_cast_def_0_350_crop_defect_3.jpg: 1\n",
            "overflow: 0.66 (1 occurrence)\n",
            "\u001b[1m1/1\u001b[0m \u001b[32m━━━━━━━━━━━━━━━━━━━━\u001b[0m\u001b[37m\u001b[0m \u001b[1m0s\u001b[0m 22ms/step\n",
            "\n",
            "Defects detected in median_cast_def_0_350_crop_defect_0.jpg: 1\n",
            "overflow: 0.69 (1 occurrence)\n",
            "\u001b[1m1/1\u001b[0m \u001b[32m━━━━━━━━━━━━━━━━━━━━\u001b[0m\u001b[37m\u001b[0m \u001b[1m0s\u001b[0m 21ms/step\n",
            "\n",
            "Defects detected in median_cast_def_0_350_crop_defect_1.jpg: 1\n",
            "overflow: 0.63 (1 occurrence)\n",
            "\u001b[1m1/1\u001b[0m \u001b[32m━━━━━━━━━━━━━━━━━━━━\u001b[0m\u001b[37m\u001b[0m \u001b[1m0s\u001b[0m 21ms/step\n",
            "\n",
            "Defects detected in median_cast_def_0_350_crop_defect_2.jpg: 1\n",
            "overflow: 0.73 (1 occurrence)\n",
            "\u001b[1m1/1\u001b[0m \u001b[32m━━━━━━━━━━━━━━━━━━━━\u001b[0m\u001b[37m\u001b[0m \u001b[1m0s\u001b[0m 20ms/step\n",
            "\n",
            "Defects detected in median_cast_def_0_350_crop_defect_5.jpg: 1\n",
            "overflow: 0.69 (1 occurrence)\n",
            "\u001b[1m1/1\u001b[0m \u001b[32m━━━━━━━━━━━━━━━━━━━━\u001b[0m\u001b[37m\u001b[0m \u001b[1m0s\u001b[0m 20ms/step\n",
            "\n",
            "Defects detected in median_cast_def_0_350_crop_defect_4.jpg: 1\n",
            "overflow: 0.64 (1 occurrence)\n",
            "\u001b[1m1/1\u001b[0m \u001b[32m━━━━━━━━━━━━━━━━━━━━\u001b[0m\u001b[37m\u001b[0m \u001b[1m0s\u001b[0m 22ms/step\n",
            "\n",
            "Defects detected in median_cast_def_0_350_crop_defect_6.jpg: 1\n",
            "overflow: 0.71 (1 occurrence)\n",
            "\u001b[1m1/1\u001b[0m \u001b[32m━━━━━━━━━━━━━━━━━━━━\u001b[0m\u001b[37m\u001b[0m \u001b[1m0s\u001b[0m 23ms/step\n",
            "\n",
            "Defects detected in median_cast_def_0_350_crop_defect_8.jpg: 1\n",
            "overflow: 0.70 (1 occurrence)\n",
            "\u001b[1m1/1\u001b[0m \u001b[32m━━━━━━━━━━━━━━━━━━━━\u001b[0m\u001b[37m\u001b[0m \u001b[1m0s\u001b[0m 22ms/step\n",
            "\n",
            "Defects detected in median_cast_def_0_350_crop_defect_7.jpg: 1\n",
            "overflow: 0.72 (1 occurrence)\n",
            "\u001b[1m1/1\u001b[0m \u001b[32m━━━━━━━━━━━━━━━━━━━━\u001b[0m\u001b[37m\u001b[0m \u001b[1m0s\u001b[0m 23ms/step\n",
            "\n",
            "Defects detected in median_cast_def_0_354_crop_defect_0.jpg: 1\n",
            "overflow: 0.70 (1 occurrence)\n",
            "\u001b[1m1/1\u001b[0m \u001b[32m━━━━━━━━━━━━━━━━━━━━\u001b[0m\u001b[37m\u001b[0m \u001b[1m0s\u001b[0m 20ms/step\n",
            "\n",
            "Defects detected in median_cast_def_0_354_crop_defect_1.jpg: 1\n",
            "overflow: 0.61 (1 occurrence)\n",
            "\u001b[1m1/1\u001b[0m \u001b[32m━━━━━━━━━━━━━━━━━━━━\u001b[0m\u001b[37m\u001b[0m \u001b[1m0s\u001b[0m 20ms/step\n",
            "\n",
            "Defects detected in median_cast_def_0_355_crop_defect_0.jpg: 1\n",
            "overflow: 0.63 (1 occurrence)\n",
            "\u001b[1m1/1\u001b[0m \u001b[32m━━━━━━━━━━━━━━━━━━━━\u001b[0m\u001b[37m\u001b[0m \u001b[1m0s\u001b[0m 20ms/step\n",
            "\n",
            "Defects detected in median_cast_def_0_355_crop_defect_1.jpg: 1\n",
            "overflow: 0.66 (1 occurrence)\n",
            "\u001b[1m1/1\u001b[0m \u001b[32m━━━━━━━━━━━━━━━━━━━━\u001b[0m\u001b[37m\u001b[0m \u001b[1m0s\u001b[0m 20ms/step\n",
            "\n",
            "Defects detected in median_cast_def_0_355_crop_defect_2.jpg: 1\n",
            "overflow: 0.71 (1 occurrence)\n",
            "\u001b[1m1/1\u001b[0m \u001b[32m━━━━━━━━━━━━━━━━━━━━\u001b[0m\u001b[37m\u001b[0m \u001b[1m0s\u001b[0m 20ms/step\n",
            "\n",
            "Defects detected in median_cast_def_0_355_crop_defect_3.jpg: 1\n",
            "overflow: 0.72 (1 occurrence)\n",
            "\u001b[1m1/1\u001b[0m \u001b[32m━━━━━━━━━━━━━━━━━━━━\u001b[0m\u001b[37m\u001b[0m \u001b[1m0s\u001b[0m 20ms/step\n",
            "\n",
            "Defects detected in median_cast_def_0_355_crop_defect_4.jpg: 1\n",
            "overflow: 0.63 (1 occurrence)\n",
            "\u001b[1m1/1\u001b[0m \u001b[32m━━━━━━━━━━━━━━━━━━━━\u001b[0m\u001b[37m\u001b[0m \u001b[1m0s\u001b[0m 20ms/step\n",
            "\n",
            "Defects detected in median_cast_def_0_355_crop_defect_5.jpg: 1\n",
            "overflow: 0.67 (1 occurrence)\n",
            "\u001b[1m1/1\u001b[0m \u001b[32m━━━━━━━━━━━━━━━━━━━━\u001b[0m\u001b[37m\u001b[0m \u001b[1m0s\u001b[0m 20ms/step\n",
            "\n",
            "Defects detected in median_cast_def_0_359_crop_defect_0.jpg: 1\n",
            "overflow: 0.58 (1 occurrence)\n",
            "\u001b[1m1/1\u001b[0m \u001b[32m━━━━━━━━━━━━━━━━━━━━\u001b[0m\u001b[37m\u001b[0m \u001b[1m0s\u001b[0m 22ms/step\n",
            "\n",
            "Defects detected in median_cast_def_0_359_crop_defect_1.jpg: 1\n",
            "overflow: 0.68 (1 occurrence)\n",
            "\u001b[1m1/1\u001b[0m \u001b[32m━━━━━━━━━━━━━━━━━━━━\u001b[0m\u001b[37m\u001b[0m \u001b[1m0s\u001b[0m 22ms/step\n",
            "\n",
            "Defects detected in median_cast_def_0_359_crop_defect_2.jpg: 1\n",
            "overflow: 0.64 (1 occurrence)\n",
            "\u001b[1m1/1\u001b[0m \u001b[32m━━━━━━━━━━━━━━━━━━━━\u001b[0m\u001b[37m\u001b[0m \u001b[1m0s\u001b[0m 22ms/step\n",
            "\n",
            "Defects detected in median_cast_def_0_359_crop_defect_3.jpg: 1\n",
            "overflow: 0.64 (1 occurrence)\n",
            "\u001b[1m1/1\u001b[0m \u001b[32m━━━━━━━━━━━━━━━━━━━━\u001b[0m\u001b[37m\u001b[0m \u001b[1m0s\u001b[0m 21ms/step\n",
            "\n",
            "Defects detected in median_cast_def_0_360_crop_defect_0.jpg: 1\n",
            "overflow: 0.64 (1 occurrence)\n",
            "\u001b[1m1/1\u001b[0m \u001b[32m━━━━━━━━━━━━━━━━━━━━\u001b[0m\u001b[37m\u001b[0m \u001b[1m0s\u001b[0m 21ms/step\n",
            "\n",
            "Defects detected in median_cast_def_0_360_crop_defect_2.jpg: 1\n",
            "overflow: 0.68 (1 occurrence)\n",
            "\u001b[1m1/1\u001b[0m \u001b[32m━━━━━━━━━━━━━━━━━━━━\u001b[0m\u001b[37m\u001b[0m \u001b[1m0s\u001b[0m 20ms/step\n",
            "\n",
            "Defects detected in median_cast_def_0_360_crop_defect_1.jpg: 1\n",
            "overflow: 0.65 (1 occurrence)\n",
            "\u001b[1m1/1\u001b[0m \u001b[32m━━━━━━━━━━━━━━━━━━━━\u001b[0m\u001b[37m\u001b[0m \u001b[1m0s\u001b[0m 21ms/step\n",
            "\n",
            "Defects detected in median_cast_def_0_360_crop_defect_3.jpg: 1\n",
            "overflow: 0.70 (1 occurrence)\n",
            "\u001b[1m1/1\u001b[0m \u001b[32m━━━━━━━━━━━━━━━━━━━━\u001b[0m\u001b[37m\u001b[0m \u001b[1m0s\u001b[0m 22ms/step\n",
            "\n",
            "Defects detected in median_cast_def_0_360_crop_defect_4.jpg: 1\n",
            "overflow: 0.69 (1 occurrence)\n",
            "\u001b[1m1/1\u001b[0m \u001b[32m━━━━━━━━━━━━━━━━━━━━\u001b[0m\u001b[37m\u001b[0m \u001b[1m0s\u001b[0m 21ms/step\n",
            "\n",
            "Defects detected in median_cast_def_0_360_crop_defect_5.jpg: 1\n",
            "overflow: 0.68 (1 occurrence)\n",
            "\u001b[1m1/1\u001b[0m \u001b[32m━━━━━━━━━━━━━━━━━━━━\u001b[0m\u001b[37m\u001b[0m \u001b[1m0s\u001b[0m 20ms/step\n",
            "\n",
            "Defects detected in median_cast_def_0_363_crop_defect_1.jpg: 1\n",
            "overflow: 0.66 (1 occurrence)\n",
            "\u001b[1m1/1\u001b[0m \u001b[32m━━━━━━━━━━━━━━━━━━━━\u001b[0m\u001b[37m\u001b[0m \u001b[1m0s\u001b[0m 20ms/step\n",
            "\n",
            "Defects detected in median_cast_def_0_363_crop_defect_0.jpg: 1\n",
            "overflow: 0.63 (1 occurrence)\n",
            "\u001b[1m1/1\u001b[0m \u001b[32m━━━━━━━━━━━━━━━━━━━━\u001b[0m\u001b[37m\u001b[0m \u001b[1m0s\u001b[0m 20ms/step\n",
            "\n",
            "Defects detected in median_cast_def_0_372_crop_defect_0.jpg: 1\n",
            "overflow: 0.83 (1 occurrence)\n",
            "\u001b[1m1/1\u001b[0m \u001b[32m━━━━━━━━━━━━━━━━━━━━\u001b[0m\u001b[37m\u001b[0m \u001b[1m0s\u001b[0m 21ms/step\n",
            "\n",
            "Defects detected in median_cast_def_0_372_crop_defect_1.jpg: 1\n",
            "overflow: 0.71 (1 occurrence)\n",
            "\u001b[1m1/1\u001b[0m \u001b[32m━━━━━━━━━━━━━━━━━━━━\u001b[0m\u001b[37m\u001b[0m \u001b[1m0s\u001b[0m 21ms/step\n",
            "\n",
            "Defects detected in median_cast_def_0_372_crop_defect_3.jpg: 1\n",
            "overflow: 0.74 (1 occurrence)\n",
            "\u001b[1m1/1\u001b[0m \u001b[32m━━━━━━━━━━━━━━━━━━━━\u001b[0m\u001b[37m\u001b[0m \u001b[1m0s\u001b[0m 20ms/step\n",
            "\n",
            "Defects detected in median_cast_def_0_372_crop_defect_2.jpg: 1\n",
            "overflow: 0.72 (1 occurrence)\n",
            "\u001b[1m1/1\u001b[0m \u001b[32m━━━━━━━━━━━━━━━━━━━━\u001b[0m\u001b[37m\u001b[0m \u001b[1m0s\u001b[0m 21ms/step\n",
            "\n",
            "Defects detected in median_cast_def_0_372_crop_defect_4.jpg: 1\n",
            "overflow: 0.71 (1 occurrence)\n",
            "\n",
            "Total defect occurrences across all images:\n",
            "hole: 19 occurrences\n",
            "scratch: 0 occurrence\n",
            "overflow: 205 occurrences\n",
            "unrecognisable: 15 occurrences\n"
          ]
        }
      ]
    }
  ],
  "metadata": {
    "accelerator": "GPU",
    "colab": {
      "gpuType": "A100",
      "machine_shape": "hm",
      "provenance": [],
      "authorship_tag": "ABX9TyM1GzN4JADJ1grPgop9AI+w",
      "include_colab_link": true
    },
    "kernelspec": {
      "display_name": "Python 3",
      "name": "python3"
    },
    "language_info": {
      "name": "python"
    }
  },
  "nbformat": 4,
  "nbformat_minor": 0
}